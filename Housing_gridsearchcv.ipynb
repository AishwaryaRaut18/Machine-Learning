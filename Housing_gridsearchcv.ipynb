{
 "cells": [
  {
   "cell_type": "code",
   "execution_count": 1,
   "id": "079d33df",
   "metadata": {},
   "outputs": [
    {
     "name": "stdout",
     "output_type": "stream",
     "text": [
      "16062.353478213787\n",
      "11498.88443167992\n",
      "0.6089127142126807\n",
      "{'alpha': 7.347755102040817}\n",
      "0.6422681230516075\n"
     ]
    },
    {
     "data": {
      "text/plain": [
       "Ridge(alpha=7.347755102040817)"
      ]
     },
     "execution_count": 1,
     "metadata": {},
     "output_type": "execute_result"
    }
   ],
   "source": [
    "import pandas as pd\n",
    "import numpy as np\n",
    "\n",
    "df = pd.read_csv(\"C:/Users/User/Desktop/cdac advance modules/pml lecture/class  practice/program_dataset/Housing.csv\")\n",
    "dum_df = pd.get_dummies(df, drop_first=True)\n",
    "\n",
    "from sklearn.model_selection import train_test_split \n",
    "from sklearn.linear_model import Ridge\n",
    "\n",
    "X = dum_df.iloc[:,1:]\n",
    "y = dum_df.iloc[:,0]\n",
    "\n",
    "# Create training and test sets\n",
    "X_train, X_test, y_train, y_test = train_test_split(X, y, test_size = 0.3, \n",
    "                                                    random_state=2021)\n",
    "\n",
    "clf = Ridge(alpha=2.5)\n",
    "clf.fit(X_train, y_train) \n",
    "y_pred = clf.predict(X_test)\n",
    "\n",
    "from sklearn.metrics import mean_squared_error,mean_absolute_error,r2_score\n",
    "print(mean_squared_error(y_test, y_pred) ** 0.5)\n",
    "print(mean_absolute_error(y_test, y_pred))\n",
    "print(r2_score(y_test, y_pred))\n",
    "\n",
    "######################################################################################\n",
    "parameters = dict(alpha=np.array([0.01,0.02,0.003,0.4,0.004,\n",
    "                                  1.233,2.345]))\n",
    "# OR\n",
    "parameters = dict(alpha=np.linspace(0.001,40))\n",
    "\n",
    "from sklearn.model_selection import GridSearchCV\n",
    "clf = Ridge()\n",
    "from sklearn.model_selection import KFold\n",
    "kfold = KFold(n_splits=5, random_state=2021,shuffle=True)\n",
    "cv = GridSearchCV(clf, param_grid=parameters,\n",
    "                  cv=kfold,scoring='r2')\n",
    "\n",
    "cv.fit(X,y)\n",
    "\n",
    "df_cv = pd.DataFrame(cv.cv_results_)\n",
    "\n",
    "# Best Parameters\n",
    "print(cv.best_params_)\n",
    "\n",
    "print(cv.best_score_)\n",
    "\n",
    "cv.best_estimator_\n"
   ]
  },
  {
   "cell_type": "code",
   "execution_count": null,
   "id": "0326ffcc",
   "metadata": {},
   "outputs": [],
   "source": []
  }
 ],
 "metadata": {
  "kernelspec": {
   "display_name": "Python 3",
   "language": "python",
   "name": "python3"
  },
  "language_info": {
   "codemirror_mode": {
    "name": "ipython",
    "version": 3
   },
   "file_extension": ".py",
   "mimetype": "text/x-python",
   "name": "python",
   "nbconvert_exporter": "python",
   "pygments_lexer": "ipython3",
   "version": "3.8.8"
  }
 },
 "nbformat": 4,
 "nbformat_minor": 5
}
