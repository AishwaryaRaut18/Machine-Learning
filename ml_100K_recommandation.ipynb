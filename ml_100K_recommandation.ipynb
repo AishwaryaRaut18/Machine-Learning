{
 "cells": [
  {
   "cell_type": "code",
   "execution_count": 8,
   "id": "54dfab8a",
   "metadata": {},
   "outputs": [],
   "source": [
    "import pandas as pd\n",
    "import numpy as np\n",
    "import surprise\n",
    "import os\n",
    "\n",
    "ratings = pd.read_csv(\"C:/Users/User/Desktop/cdac advance modules/pml lecture/class  practice/program_dataset/u.data\",sep='\\t',\n",
    "                      names = ['uid','iid','rating'])"
   ]
  },
  {
   "cell_type": "code",
   "execution_count": 9,
   "id": "80ec6373",
   "metadata": {},
   "outputs": [
    {
     "data": {
      "text/html": [
       "<div>\n",
       "<style scoped>\n",
       "    .dataframe tbody tr th:only-of-type {\n",
       "        vertical-align: middle;\n",
       "    }\n",
       "\n",
       "    .dataframe tbody tr th {\n",
       "        vertical-align: top;\n",
       "    }\n",
       "\n",
       "    .dataframe thead th {\n",
       "        text-align: right;\n",
       "    }\n",
       "</style>\n",
       "<table border=\"1\" class=\"dataframe\">\n",
       "  <thead>\n",
       "    <tr style=\"text-align: right;\">\n",
       "      <th></th>\n",
       "      <th>uid</th>\n",
       "      <th>iid</th>\n",
       "      <th>rating</th>\n",
       "    </tr>\n",
       "  </thead>\n",
       "  <tbody>\n",
       "    <tr>\n",
       "      <th>196</th>\n",
       "      <td>242</td>\n",
       "      <td>3</td>\n",
       "      <td>881250949</td>\n",
       "    </tr>\n",
       "    <tr>\n",
       "      <th>186</th>\n",
       "      <td>302</td>\n",
       "      <td>3</td>\n",
       "      <td>891717742</td>\n",
       "    </tr>\n",
       "    <tr>\n",
       "      <th>22</th>\n",
       "      <td>377</td>\n",
       "      <td>1</td>\n",
       "      <td>878887116</td>\n",
       "    </tr>\n",
       "    <tr>\n",
       "      <th>244</th>\n",
       "      <td>51</td>\n",
       "      <td>2</td>\n",
       "      <td>880606923</td>\n",
       "    </tr>\n",
       "    <tr>\n",
       "      <th>166</th>\n",
       "      <td>346</td>\n",
       "      <td>1</td>\n",
       "      <td>886397596</td>\n",
       "    </tr>\n",
       "  </tbody>\n",
       "</table>\n",
       "</div>"
      ],
      "text/plain": [
       "     uid  iid     rating\n",
       "196  242    3  881250949\n",
       "186  302    3  891717742\n",
       "22   377    1  878887116\n",
       "244   51    2  880606923\n",
       "166  346    1  886397596"
      ]
     },
     "execution_count": 9,
     "metadata": {},
     "output_type": "execute_result"
    }
   ],
   "source": [
    "ratings.head()"
   ]
  },
  {
   "cell_type": "code",
   "execution_count": 3,
   "id": "a5e6e658",
   "metadata": {},
   "outputs": [
    {
     "name": "stdout",
     "output_type": "stream",
     "text": [
      "Ratings range between 0.5 and 4.0\n"
     ]
    }
   ],
   "source": [
    "\n",
    "lowest_rating = ratings['rating'].min()\n",
    "highest_rating = ratings['rating'].max()\n",
    "\n",
    "print(\"Ratings range between {0} and {1}\".format(lowest_rating,highest_rating))"
   ]
  },
  {
   "cell_type": "code",
   "execution_count": 4,
   "id": "001831ab",
   "metadata": {},
   "outputs": [],
   "source": [
    "reader = surprise.Reader(rating_scale = (lowest_rating,highest_rating))\n",
    "data = surprise.Dataset.load_from_df(ratings,reader)"
   ]
  },
  {
   "cell_type": "code",
   "execution_count": 5,
   "id": "50b906f7",
   "metadata": {},
   "outputs": [],
   "source": [
    "similarity_options = {'name': 'cosine', 'user_based': True}"
   ]
  },
  {
   "cell_type": "code",
   "execution_count": 6,
   "id": "6ecf11d0",
   "metadata": {},
   "outputs": [
    {
     "name": "stdout",
     "output_type": "stream",
     "text": [
      "Computing the cosine similarity matrix...\n",
      "Done computing similarity matrix.\n"
     ]
    }
   ],
   "source": [
    "# Default k = 40\n",
    "algo = surprise.KNNBasic(sim_options = similarity_options)\n",
    "output = algo.fit(data.build_full_trainset())"
   ]
  },
  {
   "cell_type": "code",
   "execution_count": 7,
   "id": "bf3ccc2f",
   "metadata": {},
   "outputs": [
    {
     "name": "stdout",
     "output_type": "stream",
     "text": [
      "3.0028030537791928\n"
     ]
    }
   ],
   "source": [
    "pred = algo.predict(uid='50',iid='6')\n",
    "score = pred.est\n",
    "print(score)"
   ]
  },
  {
   "cell_type": "code",
   "execution_count": 9,
   "id": "75e9b2d9",
   "metadata": {},
   "outputs": [],
   "source": [
    "iids = ratings['iid'].unique()"
   ]
  },
  {
   "cell_type": "code",
   "execution_count": 10,
   "id": "aa7653f8",
   "metadata": {},
   "outputs": [
    {
     "name": "stdout",
     "output_type": "stream",
     "text": [
      "List of iid that uid=50 has rated:\n",
      "864      8\n",
      "865    211\n",
      "866      3\n",
      "867      2\n",
      "868    219\n",
      "869    234\n",
      "870     12\n",
      "871    254\n",
      "872    250\n",
      "873    207\n",
      "874     11\n",
      "875    253\n",
      "876    236\n",
      "877     84\n",
      "878     10\n",
      "879      7\n",
      "880    233\n",
      "881     13\n",
      "882      1\n",
      "883      5\n",
      "884      6\n",
      "885    252\n",
      "886    241\n",
      "887    216\n",
      "888    257\n",
      "889    206\n",
      "890      4\n",
      "891    217\n",
      "892      9\n",
      "893    215\n",
      "894    213\n",
      "895     17\n",
      "896    255\n",
      "897    220\n",
      "898    121\n",
      "899    245\n",
      "900    239\n",
      "901    251\n",
      "902    235\n",
      "Name: iid, dtype: int64\n"
     ]
    }
   ],
   "source": [
    "iids50 = ratings.loc[ratings['uid'] == 50 ,'iid']\n",
    "print(\"List of iid that uid={0} has rated:\".format(50))\n",
    "print(iids50)"
   ]
  },
  {
   "cell_type": "code",
   "execution_count": 11,
   "id": "beb7780c",
   "metadata": {},
   "outputs": [
    {
     "name": "stdout",
     "output_type": "stream",
     "text": [
      "List of iid which uid=50 did not rate(in all 2032) :\n",
      "[  14   15   16 ... 2069 2070 2071]\n"
     ]
    }
   ],
   "source": [
    "iids_to_predict = np.setdiff1d(iids,iids50)\n",
    "print(\"List of iid which uid={0} did not rate(in all {1}) :\".format(50,len(iids_to_predict)))\n",
    "print(iids_to_predict)"
   ]
  },
  {
   "cell_type": "code",
   "execution_count": 12,
   "id": "cb8e395f",
   "metadata": {},
   "outputs": [
    {
     "data": {
      "text/plain": [
       "Prediction(uid=50, iid=20, r_ui=0.0, est=2.502007451844843, details={'actual_k': 7, 'was_impossible': False})"
      ]
     },
     "execution_count": 12,
     "metadata": {},
     "output_type": "execute_result"
    }
   ],
   "source": [
    "### ratings arbitrarily set to 0\n",
    "testset = [[50,iid,0.] for iid in iids_to_predict]\n",
    "predictions = algo.test(testset)\n",
    "predictions[5]"
   ]
  },
  {
   "cell_type": "code",
   "execution_count": 13,
   "id": "ca2e000a",
   "metadata": {},
   "outputs": [],
   "source": [
    "pred_ratings = np.array([pred.est for pred in predictions])"
   ]
  },
  {
   "cell_type": "code",
   "execution_count": 14,
   "id": "ec3e41bb",
   "metadata": {},
   "outputs": [],
   "source": [
    "# Finding the index of maximum predicted rating\n",
    "i_max = pred_ratings.argmax()"
   ]
  },
  {
   "cell_type": "code",
   "execution_count": 15,
   "id": "2667bc90",
   "metadata": {},
   "outputs": [
    {
     "name": "stdout",
     "output_type": "stream",
     "text": [
      "Top item to be recommended for user 50 is 35 with predicted rating as 4.0\n"
     ]
    }
   ],
   "source": [
    "# Recommending the item with maximum predicted rating\n",
    "iid_recommend_most = iids_to_predict[i_max] \n",
    "print(\"Top item to be recommended for user {0} is {1} with predicted rating as {2}\".format(50,iid_recommend_most,pred_ratings[i_max]))"
   ]
  },
  {
   "cell_type": "code",
   "execution_count": 16,
   "id": "19b018a0",
   "metadata": {},
   "outputs": [
    {
     "name": "stdout",
     "output_type": "stream",
     "text": [
      "[ 35  54  68  97 107 111 118 136 162 228]\n"
     ]
    }
   ],
   "source": [
    "# Getting top 10 items to be recommended for uid = 50\n",
    "import heapq\n",
    "i_sorted_10 = heapq.nlargest(10, \n",
    "                             range(len(pred_ratings)), \n",
    "                             pred_ratings.take)\n",
    "top_10_items = iids_to_predict[i_sorted_10]\n",
    "print(top_10_items)"
   ]
  },
  {
   "cell_type": "code",
   "execution_count": 17,
   "id": "9a4ea5f0",
   "metadata": {},
   "outputs": [],
   "source": [
    "############ Tuning ############\n",
    "\n",
    "from surprise.model_selection import GridSearchCV\n",
    "param_grid = {'k': np.arange(10,60,5)}"
   ]
  },
  {
   "cell_type": "code",
   "execution_count": 18,
   "id": "c2054eff",
   "metadata": {},
   "outputs": [],
   "source": [
    "from surprise.model_selection.split import KFold\n",
    "kfold = KFold(n_splits=5, random_state=2021, shuffle=True)\n",
    "gs = GridSearchCV(surprise.KNNBasic, param_grid, \n",
    "                  measures=['rmse', 'mae'], cv=kfold)"
   ]
  },
  {
   "cell_type": "code",
   "execution_count": null,
   "id": "f2a76b0d",
   "metadata": {},
   "outputs": [
    {
     "name": "stdout",
     "output_type": "stream",
     "text": [
      "Computing the msd similarity matrix...\n",
      "Done computing similarity matrix.\n",
      "Computing the msd similarity matrix...\n",
      "Done computing similarity matrix.\n",
      "Computing the msd similarity matrix...\n",
      "Done computing similarity matrix.\n",
      "Computing the msd similarity matrix...\n",
      "Done computing similarity matrix.\n"
     ]
    }
   ],
   "source": [
    "gs.fit(data)"
   ]
  },
  {
   "cell_type": "code",
   "execution_count": null,
   "id": "66cf7b07",
   "metadata": {},
   "outputs": [],
   "source": [
    "# best RMSE score\n",
    "print(gs.best_score['rmse'])"
   ]
  },
  {
   "cell_type": "code",
   "execution_count": null,
   "id": "57676b05",
   "metadata": {},
   "outputs": [],
   "source": [
    "# combination of parameters that gave the best RMSE score\n",
    "print(gs.best_params['rmse'])"
   ]
  },
  {
   "cell_type": "code",
   "execution_count": null,
   "id": "2d0c2591",
   "metadata": {},
   "outputs": [],
   "source": [
    "# We can now use the algorithm that yields the best rmse:\n",
    "algo = gs.best_estimator['rmse']"
   ]
  },
  {
   "cell_type": "code",
   "execution_count": null,
   "id": "d746ac99",
   "metadata": {},
   "outputs": [],
   "source": [
    "algo.fit(data.build_full_trainset())"
   ]
  },
  {
   "cell_type": "code",
   "execution_count": null,
   "id": "5902d39d",
   "metadata": {},
   "outputs": [],
   "source": [
    "######################################\n",
    "\n",
    "pred = algo.predict(uid='66',iid='207')\n",
    "score = pred.est\n",
    "print(score)"
   ]
  },
  {
   "cell_type": "code",
   "execution_count": null,
   "id": "7a5ce865",
   "metadata": {},
   "outputs": [],
   "source": [
    "iids = ratings['iid'].unique()\n",
    "iids50 = ratings.loc[ratings['uid'] == 66 ,'iid']\n",
    "print(\"List of iid that uid={0} has rated:\".format(66))\n",
    "print(iids50)"
   ]
  },
  {
   "cell_type": "code",
   "execution_count": null,
   "id": "42b065d7",
   "metadata": {},
   "outputs": [],
   "source": [
    "iids_to_predict = np.setdiff1d(iids,iids50)\n",
    "print(\"List of iid which uid={0} did not rate(in all {1}) :\".format(66,len(iids_to_predict)))\n",
    "print(iids_to_predict)"
   ]
  },
  {
   "cell_type": "code",
   "execution_count": null,
   "id": "1fb6ae25",
   "metadata": {},
   "outputs": [],
   "source": [
    "### ratings arbitrarily set to 0\n",
    "testset = [[66,iid,0.] for iid in iids_to_predict]\n",
    "predictions = algo.test(testset)\n",
    "predictions[5]"
   ]
  },
  {
   "cell_type": "code",
   "execution_count": null,
   "id": "3fa97d2d",
   "metadata": {},
   "outputs": [],
   "source": [
    "pred_ratings = np.array([pred.est for pred in predictions])"
   ]
  },
  {
   "cell_type": "code",
   "execution_count": null,
   "id": "df18121e",
   "metadata": {},
   "outputs": [],
   "source": [
    "# Finding the index of maximum predicted rating\n",
    "i_max = pred_ratings.argmax()"
   ]
  },
  {
   "cell_type": "code",
   "execution_count": null,
   "id": "267bee35",
   "metadata": {},
   "outputs": [],
   "source": [
    "# Recommending the item with maximum predicted rating\n",
    "iid_recommend_most = iids_to_predict[i_max] \n",
    "print(\"Top item to be recommended for user {0} is {1} with predicted rating as {2}\".format(50,iid_recommend_most,pred_ratings[i_max]))"
   ]
  },
  {
   "cell_type": "code",
   "execution_count": null,
   "id": "9cfa7fe1",
   "metadata": {},
   "outputs": [],
   "source": [
    "# Getting top 10 items to be recommended for uid = 50\n",
    "import heapq\n",
    "i_sorted_10 = heapq.nlargest(10, range(len(pred_ratings)), pred_ratings.take)\n",
    "top_10_items = iids_to_predict[i_sorted_10]\n",
    "print(top_10_items)"
   ]
  }
 ],
 "metadata": {
  "kernelspec": {
   "display_name": "Python 3",
   "language": "python",
   "name": "python3"
  },
  "language_info": {
   "codemirror_mode": {
    "name": "ipython",
    "version": 3
   },
   "file_extension": ".py",
   "mimetype": "text/x-python",
   "name": "python",
   "nbconvert_exporter": "python",
   "pygments_lexer": "ipython3",
   "version": "3.8.8"
  }
 },
 "nbformat": 4,
 "nbformat_minor": 5
}
