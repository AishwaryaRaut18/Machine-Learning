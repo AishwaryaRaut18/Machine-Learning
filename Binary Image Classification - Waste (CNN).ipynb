{
 "cells": [
  {
   "cell_type": "markdown",
   "metadata": {},
   "source": [
    "Dataset is from the link: https://www.kaggle.com/techsash/waste-classification-data"
   ]
  },
  {
   "cell_type": "code",
   "execution_count": 1,
   "metadata": {},
   "outputs": [],
   "source": [
    "import numpy as np\n",
    "%matplotlib inline\n",
    "import matplotlib.image as mpimg\n",
    "import matplotlib.pyplot as plt\n",
    "import tensorflow as tf"
   ]
  },
  {
   "cell_type": "markdown",
   "metadata": {},
   "source": [
    "Let us view some of the images of **Messy** type"
   ]
  },
  {
   "cell_type": "markdown",
   "metadata": {},
   "source": [
    "plt.figure(figsize=(12, 5))\n",
    "sp = plt.subplot(2, 5, 1)\n",
    "sp.axis('Off')\n",
    "img = mpimg.imread(\"C:/Users/User/Desktop/cdac advance modules/pml lecture/class  practice/images/train/messy/0.jpg\")\n",
    "plt.imshow(img)\n",
    "sp = plt.subplot(2, 5, 2)\n",
    "sp.axis('Off')\n",
    "img = mpimg.imread(\"C:/Users/User/Desktop/cdac advance modules/pml lecture/class  practice/images/train/messy/1.jpg\")\n",
    "plt.imshow(img)\n",
    "sp = plt.subplot(2, 5, 3)\n",
    "sp.axis('Off')\n",
    "img = mpimg.imread(\"C:/Users/User/Desktop/cdac advance modules/pml lecture/class  practice/images/train/messy/2.jpg\")\n",
    "plt.imshow(img)\n",
    "sp = plt.subplot(2, 5, 4)\n",
    "sp.axis('Off')\n",
    "img = mpimg.imread(\"C:/Users/User/Desktop/cdac advance modules/pml lecture/class  practice/images/train/messy/3.jpg\")\n",
    "plt.imshow(img)\n",
    "sp = plt.subplot(2, 5, 5)\n",
    "sp.axis('Off')\n",
    "img = mpimg.imread(\"C:/Users/User/Desktop/cdac advance modules/pml lecture/class  practice/images/train/messy/4.jpg\")\n",
    "plt.imshow(img)\n",
    "sp = plt.subplot(2, 5, 6)\n",
    "sp.axis('Off')\n",
    "img = mpimg.imread(\"C:/Users/User/Desktop/cdac advance modules/pml lecture/class  practice/images/train/messy/5.jpg\")\n",
    "plt.imshow(img)\n",
    "sp = plt.subplot(2, 5, 7)\n",
    "sp.axis('Off')\n",
    "img = mpimg.imread(\"C:/Users/User/Desktop/cdac advance modules/pml lecture/class  practice/images/train/messy/6.jpg\")\n",
    "plt.imshow(img)\n",
    "sp = plt.subplot(2, 5, 8)\n",
    "sp.axis('Off')\n",
    "img = mpimg.imread(\"C:/Users/User/Desktop/cdac advance modules/pml lecture/class  practice/images/train/messy/7.jpg\")\n",
    "plt.imshow(img)\n",
    "sp = plt.subplot(2, 5, 9)\n",
    "sp.axis('Off')\n",
    "img = mpimg.imread(\"C:/Users/User/Desktop/cdac advance modules/pml lecture/class  practice/images/train/messy/8.jpg\")\n",
    "plt.imshow(img)\n",
    "sp = plt.subplot(2, 5, 10)\n",
    "sp.axis('Off')\n",
    "img = mpimg.imread(\"C:/Users/User/Desktop/cdac advance modules/pml lecture/class  practice/images/train/messy/9.jpg\")\n",
    "plt.imshow(img)\n"
   ]
  },
  {
   "cell_type": "markdown",
   "metadata": {},
   "source": [
    "Let us now view some images of **Recycle** type"
   ]
  },
  {
   "cell_type": "markdown",
   "metadata": {},
   "source": [
    "plt.figure(figsize=(12, 5))\n",
    "sp = plt.subplot(2, 5, 1)\n",
    "sp.axis('Off')\n",
    "img = mpimg.imread(\"F:/Kaggle/Datasets/waste-classification-data/DATASET/TRAIN/R/R_20.jpg\")\n",
    "plt.imshow(img)\n",
    "sp = plt.subplot(2, 5, 2)\n",
    "sp.axis('Off')\n",
    "img = mpimg.imread(\"F:/Kaggle/Datasets/waste-classification-data/DATASET/TRAIN/R/R_25.jpg\")\n",
    "plt.imshow(img)\n",
    "sp = plt.subplot(2, 5, 3)\n",
    "sp.axis('Off')\n",
    "img = mpimg.imread(\"F:/Kaggle/Datasets/waste-classification-data/DATASET/TRAIN/R/R_800.jpg\")\n",
    "plt.imshow(img)\n",
    "sp = plt.subplot(2, 5, 4)\n",
    "sp.axis('Off')\n",
    "img = mpimg.imread(\"F:/Kaggle/Datasets/waste-classification-data/DATASET/TRAIN/R/R_1004.jpg\")\n",
    "plt.imshow(img)\n",
    "sp = plt.subplot(2, 5, 5)\n",
    "sp.axis('Off')\n",
    "img = mpimg.imread(\"F:/Kaggle/Datasets/waste-classification-data/DATASET/TRAIN/R/R_1658.jpg\")\n",
    "plt.imshow(img)\n",
    "sp = plt.subplot(2, 5, 6)\n",
    "sp.axis('Off')\n",
    "img = mpimg.imread(\"F:/Kaggle/Datasets/waste-classification-data/DATASET/TRAIN/R/R_6783.jpg\")\n",
    "plt.imshow(img)\n",
    "sp = plt.subplot(2, 5, 7)\n",
    "sp.axis('Off')\n",
    "img = mpimg.imread(\"F:/Kaggle/Datasets/waste-classification-data/DATASET/TRAIN/R/R_1783.jpg\")\n",
    "plt.imshow(img)\n",
    "sp = plt.subplot(2, 5, 8)\n",
    "sp.axis('Off')\n",
    "img = mpimg.imread(\"F:/Kaggle/Datasets/waste-classification-data/DATASET/TRAIN/R/R_8589.jpg\")\n",
    "plt.imshow(img)\n",
    "sp = plt.subplot(2, 5, 9)\n",
    "sp.axis('Off')\n",
    "img = mpimg.imread(\"F:/Kaggle/Datasets/waste-classification-data/DATASET/TRAIN/R/R_9000.jpg\")\n",
    "plt.imshow(img)\n",
    "sp = plt.subplot(2, 5, 10)\n",
    "sp.axis('Off')\n",
    "img = mpimg.imread(\"F:/Kaggle/Datasets/waste-classification-data/DATASET/TRAIN/R/R_5000.jpg\")\n",
    "plt.imshow(img)"
   ]
  },
  {
   "cell_type": "code",
   "execution_count": 3,
   "metadata": {},
   "outputs": [
    {
     "name": "stdout",
     "output_type": "stream",
     "text": [
      "2.5.0\n"
     ]
    }
   ],
   "source": [
    "print(tf.__version__)"
   ]
  },
  {
   "cell_type": "markdown",
   "metadata": {},
   "source": [
    "Setting the data directory"
   ]
  },
  {
   "cell_type": "code",
   "execution_count": 4,
   "metadata": {},
   "outputs": [
    {
     "name": "stdout",
     "output_type": "stream",
     "text": [
      "Found 192 images belonging to 2 classes.\n",
      "Found 20 images belonging to 2 classes.\n"
     ]
    }
   ],
   "source": [
    "train_dir = \"C:/Users/User/Desktop/cdac advance modules/pml lecture/class  practice/images/train\"\n",
    "validation_dir = \"C:/Users/User/Desktop/cdac advance modules/pml lecture/class  practice/images/val\"\n",
    "from tensorflow.keras.preprocessing.image import ImageDataGenerator\n",
    "\n",
    "# All images will be rescaled by 1./255.\n",
    "train_datagen = ImageDataGenerator( rescale = 1.0/255. )\n",
    "test_datagen  = ImageDataGenerator( rescale = 1.0/255. )\n",
    "\n",
    "# --------------------\n",
    "# Flow training images in batches of 20 using train_datagen generator\n",
    "# --------------------\n",
    "train_generator = train_datagen.flow_from_directory(train_dir,\n",
    "                                                    batch_size=20,\n",
    "                                                    class_mode='binary',\n",
    "                                                    target_size=(150, 150))     \n",
    "# --------------------\n",
    "# Flow validation images in batches of 20 using test_datagen generator\n",
    "# --------------------\n",
    "validation_generator =  test_datagen.flow_from_directory(validation_dir,\n",
    "                                                         batch_size=20,\n",
    "                                                         class_mode  = 'binary',\n",
    "                                                         target_size = (150, 150))"
   ]
  },
  {
   "cell_type": "markdown",
   "metadata": {},
   "source": [
    "Formation of CNN"
   ]
  },
  {
   "cell_type": "code",
   "execution_count": 5,
   "metadata": {},
   "outputs": [],
   "source": [
    "model = tf.keras.models.Sequential([\n",
    "    # Note the input shape is the desired size of the image 150x150 with 3 bytes color\n",
    "    tf.keras.layers.Conv2D(16, (3,3), activation='relu', input_shape=(150, 150, 3)),\n",
    "    tf.keras.layers.MaxPooling2D(2,2),\n",
    "    tf.keras.layers.Conv2D(32, (3,3), activation='relu'),\n",
    "    tf.keras.layers.MaxPooling2D(2,2), \n",
    "    tf.keras.layers.Conv2D(64, (3,3), activation='relu'), \n",
    "    tf.keras.layers.MaxPooling2D(2,2),\n",
    "    # Flatten the results to feed into a DNN\n",
    "    tf.keras.layers.Flatten(), \n",
    "    # 512 neuron hidden layer\n",
    "    tf.keras.layers.Dense(512, activation='relu'), \n",
    "    tf.keras.layers.Dropout(0.1),\n",
    "    tf.keras.layers.Dense(200, activation='relu'),\n",
    "    tf.keras.layers.Dropout(0.2),\n",
    "    # Only 1 output neuron. It will contain a value from 0-1 where 0 for 1 class ('Organic') \n",
    "    # and 1 for the other ('Recycled')\n",
    "    tf.keras.layers.Dense(1, activation='sigmoid')  \n",
    "])"
   ]
  },
  {
   "cell_type": "markdown",
   "metadata": {},
   "source": [
    "The following is the model summary of the model:"
   ]
  },
  {
   "cell_type": "code",
   "execution_count": 6,
   "metadata": {},
   "outputs": [
    {
     "name": "stdout",
     "output_type": "stream",
     "text": [
      "Model: \"sequential\"\n",
      "_________________________________________________________________\n",
      "Layer (type)                 Output Shape              Param #   \n",
      "=================================================================\n",
      "conv2d (Conv2D)              (None, 148, 148, 16)      448       \n",
      "_________________________________________________________________\n",
      "max_pooling2d (MaxPooling2D) (None, 74, 74, 16)        0         \n",
      "_________________________________________________________________\n",
      "conv2d_1 (Conv2D)            (None, 72, 72, 32)        4640      \n",
      "_________________________________________________________________\n",
      "max_pooling2d_1 (MaxPooling2 (None, 36, 36, 32)        0         \n",
      "_________________________________________________________________\n",
      "conv2d_2 (Conv2D)            (None, 34, 34, 64)        18496     \n",
      "_________________________________________________________________\n",
      "max_pooling2d_2 (MaxPooling2 (None, 17, 17, 64)        0         \n",
      "_________________________________________________________________\n",
      "flatten (Flatten)            (None, 18496)             0         \n",
      "_________________________________________________________________\n",
      "dense (Dense)                (None, 512)               9470464   \n",
      "_________________________________________________________________\n",
      "dropout (Dropout)            (None, 512)               0         \n",
      "_________________________________________________________________\n",
      "dense_1 (Dense)              (None, 200)               102600    \n",
      "_________________________________________________________________\n",
      "dropout_1 (Dropout)          (None, 200)               0         \n",
      "_________________________________________________________________\n",
      "dense_2 (Dense)              (None, 1)                 201       \n",
      "=================================================================\n",
      "Total params: 9,596,849\n",
      "Trainable params: 9,596,849\n",
      "Non-trainable params: 0\n",
      "_________________________________________________________________\n"
     ]
    }
   ],
   "source": [
    "model.summary()"
   ]
  },
  {
   "cell_type": "code",
   "execution_count": 7,
   "metadata": {},
   "outputs": [
    {
     "data": {
      "image/png": "[encoded data removed]",
      "text/plain": [
       "<IPython.core.display.Image object>"
      ]
     },
     "execution_count": 7,
     "metadata": {},
     "output_type": "execute_result"
    }
   ],
   "source": [
    "from tensorflow import keras\n",
    "keras.utils.plot_model(model, \"my_cnn_model.png\")"
   ]
  },
  {
   "cell_type": "markdown",
   "metadata": {},
   "source": [
    "Specifying the optimizers"
   ]
  },
  {
   "cell_type": "code",
   "execution_count": 8,
   "metadata": {},
   "outputs": [
    {
     "name": "stderr",
     "output_type": "stream",
     "text": [
      "C:\\Users\\User\\anaconda3\\envs\\tf\\lib\\site-packages\\tensorflow\\python\\keras\\optimizer_v2\\optimizer_v2.py:374: UserWarning: The `lr` argument is deprecated, use `learning_rate` instead.\n",
      "  warnings.warn(\n"
     ]
    }
   ],
   "source": [
    "from tensorflow.keras.optimizers import RMSprop\n",
    "from tensorflow.keras.callbacks import EarlyStopping\n",
    "monitor = EarlyStopping(monitor='val_loss', min_delta=1e-3, patience=5, \n",
    "                        verbose=1, mode='auto',restore_best_weights=True)\n",
    "model.compile(optimizer=RMSprop(lr=0.001),\n",
    "              loss='binary_crossentropy',\n",
    "              metrics = ['acc'])"
   ]
  },
  {
   "cell_type": "markdown",
   "metadata": {},
   "source": [
    "Fitting the model"
   ]
  },
  {
   "cell_type": "code",
   "execution_count": 14,
   "metadata": {
    "scrolled": true
   },
   "outputs": [
    {
     "name": "stdout",
     "output_type": "stream",
     "text": [
      "Epoch 1/20\n",
      "10/10 [==============================] - 2s 225ms/step - loss: 0.0190 - acc: 0.9948 - val_loss: 0.8085 - val_acc: 0.7000\n",
      "Epoch 2/20\n",
      "10/10 [==============================] - 2s 237ms/step - loss: 0.1305 - acc: 0.9479 - val_loss: 0.8111 - val_acc: 0.7000\n",
      "Epoch 3/20\n",
      "10/10 [==============================] - 2s 216ms/step - loss: 0.0435 - acc: 0.9844 - val_loss: 1.3691 - val_acc: 0.6500\n",
      "Epoch 4/20\n",
      "10/10 [==============================] - 2s 245ms/step - loss: 0.0041 - acc: 1.0000 - val_loss: 1.6265 - val_acc: 0.7000\n",
      "Epoch 5/20\n",
      "10/10 [==============================] - 2s 227ms/step - loss: 9.9489e-04 - acc: 1.0000 - val_loss: 1.4684 - val_acc: 0.6500\n",
      "Epoch 6/20\n",
      "10/10 [==============================] - 2s 238ms/step - loss: 1.7902e-04 - acc: 1.0000 - val_loss: 1.5493 - val_acc: 0.6000\n",
      "Epoch 7/20\n",
      "10/10 [==============================] - 2s 228ms/step - loss: 1.5693e-04 - acc: 1.0000 - val_loss: 1.6513 - val_acc: 0.6000\n",
      "Epoch 8/20\n",
      "10/10 [==============================] - 2s 234ms/step - loss: 4.8672e-05 - acc: 1.0000 - val_loss: 1.7384 - val_acc: 0.6000\n",
      "Epoch 9/20\n",
      "10/10 [==============================] - 3s 237ms/step - loss: 0.7078 - acc: 0.9531 - val_loss: 2.7087 - val_acc: 0.5000\n",
      "Epoch 10/20\n",
      "10/10 [==============================] - 2s 224ms/step - loss: 0.1628 - acc: 0.9635 - val_loss: 0.9484 - val_acc: 0.6500\n",
      "Epoch 11/20\n",
      "10/10 [==============================] - 3s 242ms/step - loss: 0.0040 - acc: 1.0000 - val_loss: 1.0413 - val_acc: 0.7500\n",
      "Epoch 12/20\n",
      "10/10 [==============================] - 2s 227ms/step - loss: 9.0614e-04 - acc: 1.0000 - val_loss: 1.1028 - val_acc: 0.6500\n",
      "Epoch 13/20\n",
      "10/10 [==============================] - 2s 238ms/step - loss: 5.8341e-04 - acc: 1.0000 - val_loss: 1.1753 - val_acc: 0.7000\n",
      "Epoch 14/20\n",
      "10/10 [==============================] - 2s 226ms/step - loss: 5.6268e-04 - acc: 1.0000 - val_loss: 1.2345 - val_acc: 0.7500\n",
      "Epoch 15/20\n",
      "10/10 [==============================] - 2s 227ms/step - loss: 1.8644e-04 - acc: 1.0000 - val_loss: 1.3035 - val_acc: 0.6500\n",
      "Epoch 16/20\n",
      "10/10 [==============================] - 3s 232ms/step - loss: 8.3960e-05 - acc: 1.0000 - val_loss: 1.3828 - val_acc: 0.7000\n",
      "Epoch 17/20\n",
      "10/10 [==============================] - 2s 226ms/step - loss: 3.7176e-05 - acc: 1.0000 - val_loss: 1.5075 - val_acc: 0.7500\n",
      "Epoch 18/20\n",
      "10/10 [==============================] - 3s 243ms/step - loss: 4.3825e-05 - acc: 1.0000 - val_loss: 1.6568 - val_acc: 0.6500\n",
      "Epoch 19/20\n",
      "10/10 [==============================] - 2s 231ms/step - loss: 2.7421e-05 - acc: 1.0000 - val_loss: 1.5172 - val_acc: 0.7000\n",
      "Epoch 20/20\n",
      "10/10 [==============================] - 2s 240ms/step - loss: 4.2120e-06 - acc: 1.0000 - val_loss: 1.6274 - val_acc: 0.7000\n"
     ]
    }
   ],
   "source": [
    "history = model.fit(train_generator,\n",
    "                              validation_data=validation_generator,\n",
    "                              epochs=20\n",
    "                              )"
   ]
  },
  {
   "cell_type": "markdown",
   "metadata": {},
   "source": [
    "Hence, we see that sufficient accuracy has been met at 5th epoch. However, anyone can run this model by increasing number of epoches or any other parameters."
   ]
  },
  {
   "cell_type": "code",
   "execution_count": 15,
   "metadata": {},
   "outputs": [
    {
     "name": "stdout",
     "output_type": "stream",
     "text": [
      "Found 10 images belonging to 1 classes.\n"
     ]
    }
   ],
   "source": [
    "test2_datagen  = ImageDataGenerator( rescale = 1.0/255. )\n",
    "test_dir = \"C:/Users/User/Desktop/cdac advance modules/pml lecture/class  practice/images/test\"\n",
    "test_generator =  test2_datagen.flow_from_directory(test_dir,\n",
    "                                                    batch_size=6,\n",
    "                                                    class_mode  = None,\n",
    "                                                    target_size = (150, 150),\n",
    "                                                    shuffle=False)"
   ]
  },
  {
   "cell_type": "code",
   "execution_count": 16,
   "metadata": {},
   "outputs": [
    {
     "data": {
      "text/plain": [
       "['C', 'C', 'M', 'M', 'M', 'M', 'C', 'M', 'M', 'C']"
      ]
     },
     "execution_count": 16,
     "metadata": {},
     "output_type": "execute_result"
    }
   ],
   "source": [
    "y_prob = model.predict_generator(test_generator,callbacks=[monitor])\n",
    "y_pred = [\"M\" if probs > 0.5 else \"C\" for probs in y_prob]\n",
    "y_pred"
   ]
  },
  {
   "cell_type": "code",
   "execution_count": 12,
   "metadata": {},
   "outputs": [
    {
     "data": {
      "text/plain": [
       "array([[0.08883595],\n",
       "       [0.02105051],\n",
       "       [0.6606106 ],\n",
       "       [0.99117243],\n",
       "       [0.55745506],\n",
       "       [0.6934085 ],\n",
       "       [0.01152578],\n",
       "       [0.795941  ],\n",
       "       [0.77157223],\n",
       "       [0.00844604]], dtype=float32)"
      ]
     },
     "execution_count": 12,
     "metadata": {},
     "output_type": "execute_result"
    }
   ],
   "source": [
    "y_prob"
   ]
  },
  {
   "cell_type": "code",
   "execution_count": null,
   "metadata": {},
   "outputs": [],
   "source": []
  }
 ],
 "metadata": {
  "kernelspec": {
   "display_name": "Python 3",
   "language": "python",
   "name": "python3"
  },
  "language_info": {
   "codemirror_mode": {
    "name": "ipython",
    "version": 3
   },
   "file_extension": ".py",
   "mimetype": "text/x-python",
   "name": "python",
   "nbconvert_exporter": "python",
   "pygments_lexer": "ipython3",
   "version": "3.9.6"
  }
 },
 "nbformat": 4,
 "nbformat_minor": 2
}
