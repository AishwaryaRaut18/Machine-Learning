{
 "cells": [
  {
   "cell_type": "code",
   "execution_count": 1,
   "id": "387eac45",
   "metadata": {},
   "outputs": [
    {
     "data": {
      "text/html": [
       "<div>\n",
       "<style scoped>\n",
       "    .dataframe tbody tr th:only-of-type {\n",
       "        vertical-align: middle;\n",
       "    }\n",
       "\n",
       "    .dataframe tbody tr th {\n",
       "        vertical-align: top;\n",
       "    }\n",
       "\n",
       "    .dataframe thead th {\n",
       "        text-align: right;\n",
       "    }\n",
       "</style>\n",
       "<table border=\"1\" class=\"dataframe\">\n",
       "  <thead>\n",
       "    <tr style=\"text-align: right;\">\n",
       "      <th></th>\n",
       "      <th>Cement</th>\n",
       "      <th>Blast</th>\n",
       "      <th>Fly</th>\n",
       "      <th>Water</th>\n",
       "      <th>Superplasticizer</th>\n",
       "      <th>Coarse</th>\n",
       "      <th>Fine</th>\n",
       "      <th>Age</th>\n",
       "      <th>Strength</th>\n",
       "    </tr>\n",
       "  </thead>\n",
       "  <tbody>\n",
       "    <tr>\n",
       "      <th>0</th>\n",
       "      <td>540.0</td>\n",
       "      <td>0.0</td>\n",
       "      <td>0.0</td>\n",
       "      <td>162.0</td>\n",
       "      <td>2.5</td>\n",
       "      <td>1040.0</td>\n",
       "      <td>676.0</td>\n",
       "      <td>28</td>\n",
       "      <td>79.99</td>\n",
       "    </tr>\n",
       "    <tr>\n",
       "      <th>1</th>\n",
       "      <td>540.0</td>\n",
       "      <td>0.0</td>\n",
       "      <td>0.0</td>\n",
       "      <td>162.0</td>\n",
       "      <td>2.5</td>\n",
       "      <td>1055.0</td>\n",
       "      <td>676.0</td>\n",
       "      <td>28</td>\n",
       "      <td>61.89</td>\n",
       "    </tr>\n",
       "    <tr>\n",
       "      <th>2</th>\n",
       "      <td>332.5</td>\n",
       "      <td>142.5</td>\n",
       "      <td>0.0</td>\n",
       "      <td>228.0</td>\n",
       "      <td>0.0</td>\n",
       "      <td>932.0</td>\n",
       "      <td>594.0</td>\n",
       "      <td>270</td>\n",
       "      <td>40.27</td>\n",
       "    </tr>\n",
       "    <tr>\n",
       "      <th>3</th>\n",
       "      <td>332.5</td>\n",
       "      <td>142.5</td>\n",
       "      <td>0.0</td>\n",
       "      <td>228.0</td>\n",
       "      <td>0.0</td>\n",
       "      <td>932.0</td>\n",
       "      <td>594.0</td>\n",
       "      <td>365</td>\n",
       "      <td>41.05</td>\n",
       "    </tr>\n",
       "    <tr>\n",
       "      <th>4</th>\n",
       "      <td>198.6</td>\n",
       "      <td>132.4</td>\n",
       "      <td>0.0</td>\n",
       "      <td>192.0</td>\n",
       "      <td>0.0</td>\n",
       "      <td>978.4</td>\n",
       "      <td>825.5</td>\n",
       "      <td>360</td>\n",
       "      <td>44.30</td>\n",
       "    </tr>\n",
       "    <tr>\n",
       "      <th>...</th>\n",
       "      <td>...</td>\n",
       "      <td>...</td>\n",
       "      <td>...</td>\n",
       "      <td>...</td>\n",
       "      <td>...</td>\n",
       "      <td>...</td>\n",
       "      <td>...</td>\n",
       "      <td>...</td>\n",
       "      <td>...</td>\n",
       "    </tr>\n",
       "    <tr>\n",
       "      <th>1025</th>\n",
       "      <td>276.4</td>\n",
       "      <td>116.0</td>\n",
       "      <td>90.3</td>\n",
       "      <td>179.6</td>\n",
       "      <td>8.9</td>\n",
       "      <td>870.1</td>\n",
       "      <td>768.3</td>\n",
       "      <td>28</td>\n",
       "      <td>44.28</td>\n",
       "    </tr>\n",
       "    <tr>\n",
       "      <th>1026</th>\n",
       "      <td>322.2</td>\n",
       "      <td>0.0</td>\n",
       "      <td>115.6</td>\n",
       "      <td>196.0</td>\n",
       "      <td>10.4</td>\n",
       "      <td>817.9</td>\n",
       "      <td>813.4</td>\n",
       "      <td>28</td>\n",
       "      <td>31.18</td>\n",
       "    </tr>\n",
       "    <tr>\n",
       "      <th>1027</th>\n",
       "      <td>148.5</td>\n",
       "      <td>139.4</td>\n",
       "      <td>108.6</td>\n",
       "      <td>192.7</td>\n",
       "      <td>6.1</td>\n",
       "      <td>892.4</td>\n",
       "      <td>780.0</td>\n",
       "      <td>28</td>\n",
       "      <td>23.70</td>\n",
       "    </tr>\n",
       "    <tr>\n",
       "      <th>1028</th>\n",
       "      <td>159.1</td>\n",
       "      <td>186.7</td>\n",
       "      <td>0.0</td>\n",
       "      <td>175.6</td>\n",
       "      <td>11.3</td>\n",
       "      <td>989.6</td>\n",
       "      <td>788.9</td>\n",
       "      <td>28</td>\n",
       "      <td>32.77</td>\n",
       "    </tr>\n",
       "    <tr>\n",
       "      <th>1029</th>\n",
       "      <td>260.9</td>\n",
       "      <td>100.5</td>\n",
       "      <td>78.3</td>\n",
       "      <td>200.6</td>\n",
       "      <td>8.6</td>\n",
       "      <td>864.5</td>\n",
       "      <td>761.5</td>\n",
       "      <td>28</td>\n",
       "      <td>32.40</td>\n",
       "    </tr>\n",
       "  </tbody>\n",
       "</table>\n",
       "<p>1030 rows × 9 columns</p>\n",
       "</div>"
      ],
      "text/plain": [
       "      Cement  Blast    Fly  Water  Superplasticizer  Coarse   Fine  Age  \\\n",
       "0      540.0    0.0    0.0  162.0               2.5  1040.0  676.0   28   \n",
       "1      540.0    0.0    0.0  162.0               2.5  1055.0  676.0   28   \n",
       "2      332.5  142.5    0.0  228.0               0.0   932.0  594.0  270   \n",
       "3      332.5  142.5    0.0  228.0               0.0   932.0  594.0  365   \n",
       "4      198.6  132.4    0.0  192.0               0.0   978.4  825.5  360   \n",
       "...      ...    ...    ...    ...               ...     ...    ...  ...   \n",
       "1025   276.4  116.0   90.3  179.6               8.9   870.1  768.3   28   \n",
       "1026   322.2    0.0  115.6  196.0              10.4   817.9  813.4   28   \n",
       "1027   148.5  139.4  108.6  192.7               6.1   892.4  780.0   28   \n",
       "1028   159.1  186.7    0.0  175.6              11.3   989.6  788.9   28   \n",
       "1029   260.9  100.5   78.3  200.6               8.6   864.5  761.5   28   \n",
       "\n",
       "      Strength  \n",
       "0        79.99  \n",
       "1        61.89  \n",
       "2        40.27  \n",
       "3        41.05  \n",
       "4        44.30  \n",
       "...        ...  \n",
       "1025     44.28  \n",
       "1026     31.18  \n",
       "1027     23.70  \n",
       "1028     32.77  \n",
       "1029     32.40  \n",
       "\n",
       "[1030 rows x 9 columns]"
      ]
     },
     "execution_count": 1,
     "metadata": {},
     "output_type": "execute_result"
    }
   ],
   "source": [
    "import pandas as pd\n",
    "df = pd.read_csv(\"C:/Users/User/Desktop/cdac advance modules/pml lecture/class  practice/program_dataset/concrete_data.csv\")\n",
    "df"
   ]
  },
  {
   "cell_type": "code",
   "execution_count": 2,
   "id": "6aab3c0d",
   "metadata": {},
   "outputs": [],
   "source": [
    "from sklearn.model_selection import train_test_split \n",
    "from sklearn.ensemble import BaggingRegressor"
   ]
  },
  {
   "cell_type": "code",
   "execution_count": 3,
   "id": "2fc0def9",
   "metadata": {},
   "outputs": [],
   "source": [
    "X = df.iloc[:,:-1]\n",
    "y = df.iloc[:,-1]\n",
    "\n",
    "# Create training and test sets\n",
    "X_train, X_test, y_train, y_test = train_test_split(X, y,test_size = 0.3, \n",
    "                                                    random_state=2018)"
   ]
  },
  {
   "cell_type": "code",
   "execution_count": 4,
   "id": "3e3e7769",
   "metadata": {},
   "outputs": [],
   "source": [
    "\n",
    "# Default: Tree Regressor\n",
    "model_bg_Tree = BaggingRegressor(random_state=2021,oob_score=True,\n",
    "                            max_features = X_train.shape[1],\n",
    "                            n_estimators=15,\n",
    "                            max_samples=X_train.shape[0])\n",
    "\n"
   ]
  },
  {
   "cell_type": "code",
   "execution_count": 5,
   "id": "c32fdf91",
   "metadata": {},
   "outputs": [],
   "source": [
    "# any other model bagging regressor\n",
    "from sklearn.linear_model import LinearRegression\n",
    "\n",
    "lr = LinearRegression()\n",
    "\n",
    "model_bg_linear = BaggingRegressor(base_estimator = lr,\n",
    "                            random_state=2021,oob_score=True,\n",
    "                            max_features = X_train.shape[1],\n",
    "                            n_estimators=15,\n",
    "                            max_samples=X_train.shape[0])\n"
   ]
  },
  {
   "cell_type": "code",
   "execution_count": 6,
   "id": "664c7409",
   "metadata": {},
   "outputs": [],
   "source": [
    "# any other model bagging regressor\n",
    "from sklearn.linear_model import Ridge\n",
    "\n",
    "Ridge = Ridge()\n",
    "\n",
    "model_bg_Ridge = BaggingRegressor(base_estimator = Ridge,\n",
    "                            random_state=2021,oob_score=True,\n",
    "                            max_features = X_train.shape[1],\n",
    "                            n_estimators=15,\n",
    "                            max_samples=X_train.shape[0])\n"
   ]
  },
  {
   "cell_type": "code",
   "execution_count": 7,
   "id": "db635bec",
   "metadata": {},
   "outputs": [],
   "source": [
    "# any other model bagging regressor\n",
    "from sklearn.linear_model import Lasso\n",
    "\n",
    "Lasso = Lasso()\n",
    "\n",
    "model_bg_Lasso = BaggingRegressor(base_estimator = Lasso,\n",
    "                            random_state=2021,oob_score=True,\n",
    "                            max_features = X_train.shape[1],\n",
    "                            n_estimators=15,\n",
    "                            max_samples=X_train.shape[0])\n"
   ]
  },
  {
   "cell_type": "code",
   "execution_count": 8,
   "id": "adfaa0ab",
   "metadata": {},
   "outputs": [
    {
     "name": "stdout",
     "output_type": "stream",
     "text": [
      "Out of Bag Score = 0.8591\n"
     ]
    }
   ],
   "source": [
    "#### building the model ######\n",
    "model_bg_Tree.fit( X_train , y_train )\n",
    "\n",
    "print(\"Out of Bag Score = \" + \"{:.4f}\".format(model_bg_Tree.oob_score_))\n"
   ]
  },
  {
   "cell_type": "code",
   "execution_count": 9,
   "id": "16c3e567",
   "metadata": {},
   "outputs": [
    {
     "name": "stdout",
     "output_type": "stream",
     "text": [
      "Out of Bag Score = 0.5940\n"
     ]
    }
   ],
   "source": [
    "#### building the model ######\n",
    "model_bg_linear.fit( X_train , y_train )\n",
    "\n",
    "print(\"Out of Bag Score = \" + \"{:.4f}\".format(model_bg_linear.oob_score_))\n"
   ]
  },
  {
   "cell_type": "code",
   "execution_count": 10,
   "id": "ec69b47e",
   "metadata": {},
   "outputs": [
    {
     "name": "stdout",
     "output_type": "stream",
     "text": [
      "Out of Bag Score = 0.5940\n"
     ]
    }
   ],
   "source": [
    "#### building the model ######\n",
    "model_bg_Ridge.fit( X_train , y_train )\n",
    "\n",
    "print(\"Out of Bag Score = \" + \"{:.4f}\".format(model_bg_Ridge.oob_score_))\n"
   ]
  },
  {
   "cell_type": "code",
   "execution_count": 11,
   "id": "5a28b4d0",
   "metadata": {},
   "outputs": [
    {
     "name": "stdout",
     "output_type": "stream",
     "text": [
      "Out of Bag Score = 0.5939\n"
     ]
    }
   ],
   "source": [
    "#### building the model ######\n",
    "model_bg_Lasso.fit( X_train , y_train )\n",
    "\n",
    "print(\"Out of Bag Score = \" + \"{:.4f}\".format(model_bg_Lasso.oob_score_))\n"
   ]
  },
  {
   "cell_type": "code",
   "execution_count": 22,
   "id": "1415665e",
   "metadata": {},
   "outputs": [
    {
     "name": "stdout",
     "output_type": "stream",
     "text": [
      "26.125920555295064\n",
      "3.8333241280115073\n",
      "0.9070844876025593\n"
     ]
    }
   ],
   "source": [
    "from sklearn.metrics import roc_curve, roc_auc_score\n",
    "y_pred_Tree = model_bg_Tree.predict(X_test)\n",
    "\n",
    "from sklearn.metrics import mean_squared_error,mean_absolute_error,r2_score\n",
    "print(mean_squared_error(y_test, y_pred_Tree))\n",
    "print(mean_absolute_error(y_test, y_pred_Tree))\n",
    "print(r2_score(y_test, y_pred_Tree))"
   ]
  },
  {
   "cell_type": "code",
   "execution_count": 23,
   "id": "b3412faf",
   "metadata": {},
   "outputs": [
    {
     "name": "stdout",
     "output_type": "stream",
     "text": [
      "106.2515204972051\n",
      "8.146486989156735\n",
      "0.6221218521617184\n"
     ]
    }
   ],
   "source": [
    "y_pred_linear = model_bg_linear.predict(X_test)\n",
    "\n",
    "from sklearn.metrics import mean_squared_error,mean_absolute_error,r2_score\n",
    "print(mean_squared_error(y_test, y_pred_linear))\n",
    "print(mean_absolute_error(y_test, y_pred_linear))\n",
    "print(r2_score(y_test, y_pred_linear))"
   ]
  },
  {
   "cell_type": "code",
   "execution_count": 24,
   "id": "f79fa089",
   "metadata": {},
   "outputs": [
    {
     "name": "stdout",
     "output_type": "stream",
     "text": [
      "106.25158740393066\n",
      "8.146488494209521\n",
      "0.6221216142113398\n"
     ]
    }
   ],
   "source": [
    "y_pred_Ridge = model_bg_Ridge.predict(X_test)\n",
    "\n",
    "from sklearn.metrics import mean_squared_error,mean_absolute_error,r2_score\n",
    "print(mean_squared_error(y_test, y_pred_Ridge))\n",
    "print(mean_absolute_error(y_test, y_pred_Ridge))\n",
    "print(r2_score(y_test, y_pred_Ridge))"
   ]
  },
  {
   "cell_type": "code",
   "execution_count": 25,
   "id": "d629712a",
   "metadata": {},
   "outputs": [
    {
     "name": "stdout",
     "output_type": "stream",
     "text": [
      "106.52091773834988\n",
      "8.158044420093146\n",
      "0.621163754526596\n"
     ]
    }
   ],
   "source": [
    "y_pred_Lasso = model_bg_Lasso.predict(X_test)\n",
    "\n",
    "from sklearn.metrics import mean_squared_error,mean_absolute_error,r2_score\n",
    "print(mean_squared_error(y_test, y_pred_Lasso))\n",
    "print(mean_absolute_error(y_test, y_pred_Lasso))\n",
    "print(r2_score(y_test, y_pred_Lasso))"
   ]
  },
  {
   "cell_type": "code",
   "execution_count": null,
   "id": "3e5d1ce8",
   "metadata": {},
   "outputs": [],
   "source": []
  }
 ],
 "metadata": {
  "kernelspec": {
   "display_name": "Python 3",
   "language": "python",
   "name": "python3"
  },
  "language_info": {
   "codemirror_mode": {
    "name": "ipython",
    "version": 3
   },
   "file_extension": ".py",
   "mimetype": "text/x-python",
   "name": "python",
   "nbconvert_exporter": "python",
   "pygments_lexer": "ipython3",
   "version": "3.8.8"
  }
 },
 "nbformat": 4,
 "nbformat_minor": 5
}
