{
 "cells": [
  {
   "cell_type": "code",
   "execution_count": 1,
   "metadata": {
    "id": "IszFxPyk1zQV"
   },
   "outputs": [],
   "source": [
    "import os\n",
    "os.chdir(r'C:/Users/User/Desktop/cdac advance modules/pml lecture/Datasets')"
   ]
  },
  {
   "cell_type": "markdown",
   "metadata": {
    "id": "avj5-ptQ1zQg"
   },
   "source": [
    "Part 1 - Data Preprocessing"
   ]
  },
  {
   "cell_type": "code",
   "execution_count": null,
   "metadata": {
    "id": "QtYG00il1zQj",
    "outputId": "deaf5da4-d24a-48a9-a41c-94b86539758a"
   },
   "outputs": [
    {
     "data": {
      "text/html": [
       "<div>\n",
       "<style scoped>\n",
       "    .dataframe tbody tr th:only-of-type {\n",
       "        vertical-align: middle;\n",
       "    }\n",
       "\n",
       "    .dataframe tbody tr th {\n",
       "        vertical-align: top;\n",
       "    }\n",
       "\n",
       "    .dataframe thead th {\n",
       "        text-align: right;\n",
       "    }\n",
       "</style>\n",
       "<table border=\"1\" class=\"dataframe\">\n",
       "  <thead>\n",
       "    <tr style=\"text-align: right;\">\n",
       "      <th></th>\n",
       "      <th>Month</th>\n",
       "      <th>GasProd</th>\n",
       "    </tr>\n",
       "  </thead>\n",
       "  <tbody>\n",
       "    <tr>\n",
       "      <th>0</th>\n",
       "      <td>Jan-1956</td>\n",
       "      <td>1709</td>\n",
       "    </tr>\n",
       "    <tr>\n",
       "      <th>1</th>\n",
       "      <td>Feb-1956</td>\n",
       "      <td>1646</td>\n",
       "    </tr>\n",
       "    <tr>\n",
       "      <th>2</th>\n",
       "      <td>Mar-1956</td>\n",
       "      <td>1794</td>\n",
       "    </tr>\n",
       "    <tr>\n",
       "      <th>3</th>\n",
       "      <td>Apr-1956</td>\n",
       "      <td>1878</td>\n",
       "    </tr>\n",
       "    <tr>\n",
       "      <th>4</th>\n",
       "      <td>May-1956</td>\n",
       "      <td>2173</td>\n",
       "    </tr>\n",
       "  </tbody>\n",
       "</table>\n",
       "</div>"
      ],
      "text/plain": [
       "      Month  GasProd\n",
       "0  Jan-1956     1709\n",
       "1  Feb-1956     1646\n",
       "2  Mar-1956     1794\n",
       "3  Apr-1956     1878\n",
       "4  May-1956     2173"
      ]
     },
     "execution_count": 2,
     "metadata": {
      "tags": []
     },
     "output_type": "execute_result"
    }
   ],
   "source": [
    "import numpy as np\n",
    "import matplotlib.pyplot as plt\n",
    "import pandas as pd\n",
    "from sklearn.metrics import mean_squared_error\n",
    "# Importing the training set\n",
    "dataset_ts = pd.read_csv('AusGas.csv')\n",
    "\n",
    "dataset_ts.head()"
   ]
  },
  {
   "cell_type": "code",
   "execution_count": null,
   "metadata": {
    "id": "6bNeNj5K1zQm",
    "outputId": "4eb31e5e-33ed-4db4-ceb7-2579944e9e34"
   },
   "outputs": [
    {
     "data": {
      "text/plain": [
       "(476, 2)"
      ]
     },
     "execution_count": 3,
     "metadata": {
      "tags": []
     },
     "output_type": "execute_result"
    }
   ],
   "source": [
    "dataset_ts.shape"
   ]
  },
  {
   "cell_type": "code",
   "execution_count": null,
   "metadata": {
    "id": "mAPV3uYG1zQp",
    "outputId": "00c75c1c-12e5-4b71-f931-8dd6e35bf3a4",
    "scrolled": true
   },
   "outputs": [
    {
     "data": {
      "text/plain": [
       "(450, 2)"
      ]
     },
     "execution_count": 4,
     "metadata": {
      "tags": []
     },
     "output_type": "execute_result"
    }
   ],
   "source": [
    "dataset_train = dataset_ts.iloc[:450,:]\n",
    "dataset_train.shape"
   ]
  },
  {
   "cell_type": "code",
   "execution_count": null,
   "metadata": {
    "id": "3J3nfB2o1zQr",
    "outputId": "a78eb1ea-2b4d-4123-9836-79cfac7a83f0"
   },
   "outputs": [
    {
     "data": {
      "text/plain": [
       "array([1709, 1646, 1794, 1878, 2173], dtype=int64)"
      ]
     },
     "execution_count": 5,
     "metadata": {
      "tags": []
     },
     "output_type": "execute_result"
    }
   ],
   "source": [
    "training_set = dataset_train.iloc[:, 1].values\n",
    "training_set[:5]"
   ]
  },
  {
   "cell_type": "markdown",
   "metadata": {
    "id": "2fFytTz91zQv"
   },
   "source": [
    "Feature Scaling"
   ]
  },
  {
   "cell_type": "code",
   "execution_count": null,
   "metadata": {
    "id": "kL4kjsBB1zQz"
   },
   "outputs": [],
   "source": [
    "training_set = training_set.reshape(-1,1)\n",
    "from sklearn.preprocessing import MinMaxScaler\n",
    "sc = MinMaxScaler(feature_range = (0, 1))\n",
    "training_set_scaled = sc.fit_transform(training_set)"
   ]
  },
  {
   "cell_type": "code",
   "execution_count": null,
   "metadata": {
    "id": "p1LFP0tx1zQ3",
    "outputId": "465ccb29-4b9e-4985-bd22-e16700ec9f82"
   },
   "outputs": [
    {
     "data": {
      "text/plain": [
       "array([[0.00103697],\n",
       "       [0.        ],\n",
       "       [0.00243605],\n",
       "       [0.00381868],\n",
       "       [0.00867433]])"
      ]
     },
     "execution_count": 7,
     "metadata": {
      "tags": []
     },
     "output_type": "execute_result"
    }
   ],
   "source": [
    "training_set_scaled[:5]"
   ]
  },
  {
   "cell_type": "markdown",
   "metadata": {
    "id": "CoA9MWoZ1zQ8"
   },
   "source": [
    "Creating a data structure with timesteps and 1 output"
   ]
  },
  {
   "cell_type": "code",
   "execution_count": null,
   "metadata": {
    "id": "M9NRhaWz1zQ-"
   },
   "outputs": [],
   "source": [
    "timesteps=50\n",
    "trn_size = dataset_train.shape[0]"
   ]
  },
  {
   "cell_type": "code",
   "execution_count": null,
   "metadata": {
    "id": "1bNUDE4D1zRA"
   },
   "outputs": [],
   "source": [
    "X_train = []\n",
    "y_train = []\n",
    "for i in range(timesteps, trn_size):\n",
    "    X_train.append(training_set_scaled[i-timesteps:i, 0])\n",
    "    y_train.append(training_set_scaled[i, 0])\n",
    "X_train, y_train = np.array(X_train), np.array(y_train)\n"
   ]
  },
  {
   "cell_type": "code",
   "execution_count": null,
   "metadata": {
    "id": "cPIMWP0q1zRB",
    "outputId": "5f26e3fe-bfe8-4e9d-b74f-2c59b15921f5"
   },
   "outputs": [
    {
     "data": {
      "text/plain": [
       "(400, 50)"
      ]
     },
     "execution_count": 10,
     "metadata": {
      "tags": []
     },
     "output_type": "execute_result"
    }
   ],
   "source": [
    "X_train.shape"
   ]
  },
  {
   "cell_type": "code",
   "execution_count": null,
   "metadata": {
    "id": "gFYxLaKv1zRD",
    "outputId": "fa48df4e-b064-406f-ce1d-2d9269ee8723"
   },
   "outputs": [
    {
     "data": {
      "text/plain": [
       "array([[0.00103697, 0.        , 0.00243605, 0.00381868, 0.00867433,\n",
       "        0.01111038, 0.01352997, 0.01267406, 0.00885538, 0.00781842,\n",
       "        0.0052013 , 0.00294631, 0.00172828, 0.00069131, 0.00450999,\n",
       "        0.00485565, 0.01094578, 0.01041907, 0.01632814, 0.01320078,\n",
       "        0.01041907, 0.00850973, 0.00485565, 0.00381868, 0.0020904 ,\n",
       "        0.00069131, 0.002255  , 0.00556342, 0.01060013, 0.01423775,\n",
       "        0.01754617, 0.0144188 , 0.01145604, 0.00903644, 0.00469105,\n",
       "        0.00434539, 0.00138263, 0.00069131, 0.00416433, 0.00572802,\n",
       "        0.01145604, 0.01492906, 0.01754617, 0.01614708, 0.01180169,\n",
       "        0.01094578, 0.00625473, 0.00434539, 0.00190934, 0.00278171]])"
      ]
     },
     "execution_count": 11,
     "metadata": {
      "tags": []
     },
     "output_type": "execute_result"
    }
   ],
   "source": [
    "X_train[:1]"
   ]
  },
  {
   "cell_type": "code",
   "execution_count": null,
   "metadata": {
    "id": "jXMi8eRe1zRF",
    "outputId": "f741d541-2d52-4a75-82ea-7aa443b71323"
   },
   "outputs": [
    {
     "data": {
      "text/plain": [
       "array([0.00590908])"
      ]
     },
     "execution_count": 12,
     "metadata": {
      "tags": []
     },
     "output_type": "execute_result"
    }
   ],
   "source": [
    "y_train[:1]"
   ]
  },
  {
   "cell_type": "code",
   "execution_count": null,
   "metadata": {
    "id": "lIwXCxpc1zRG"
   },
   "outputs": [],
   "source": [
    "# Reshaping\n",
    "X_train = np.reshape(X_train, (X_train.shape[0], X_train.shape[1], 1))"
   ]
  },
  {
   "cell_type": "code",
   "execution_count": null,
   "metadata": {
    "id": "6sB0xsts1zRI",
    "outputId": "832d2457-8418-4f39-c7f3-c7d95e9ab345"
   },
   "outputs": [
    {
     "data": {
      "text/plain": [
       "(400, 50, 1)"
      ]
     },
     "execution_count": 14,
     "metadata": {
      "tags": []
     },
     "output_type": "execute_result"
    }
   ],
   "source": [
    "X_train.shape"
   ]
  },
  {
   "cell_type": "markdown",
   "metadata": {
    "id": "-hvDiWpT1zRL"
   },
   "source": [
    "Part 2 - Building the RNN"
   ]
  },
  {
   "cell_type": "code",
   "execution_count": null,
   "metadata": {
    "id": "9A457xAY1zRL"
   },
   "outputs": [],
   "source": [
    "import tensorflow as tf\n",
    "from tensorflow import keras"
   ]
  },
  {
   "cell_type": "code",
   "execution_count": null,
   "metadata": {
    "id": "Uv98Lo4z1zRM",
    "outputId": "9b275803-4955-4b44-bf68-a43c61315dd9"
   },
   "outputs": [
    {
     "data": {
      "text/plain": [
       "(50, 1)"
      ]
     },
     "execution_count": 16,
     "metadata": {
      "tags": []
     },
     "output_type": "execute_result"
    }
   ],
   "source": [
    "(X_train.shape[1],X_train.shape[2])"
   ]
  },
  {
   "cell_type": "markdown",
   "metadata": {
    "id": "E4nO_cw71zRN"
   },
   "source": [
    "Initialising the RNN"
   ]
  },
  {
   "cell_type": "code",
   "execution_count": null,
   "metadata": {
    "id": "DHu-QlDD1zRO"
   },
   "outputs": [],
   "source": [
    "model = keras.Sequential()\n",
    "\n",
    "# Adding LSTM layers\n",
    "model.add(keras.layers.LSTM(units=100,return_sequences = True, \n",
    "                            input_shape= (X_train.shape[1],X_train.shape[2]) ))\n",
    "model.add(keras.layers.LSTM(units=70,return_sequences = True ))\n",
    "model.add(keras.layers.LSTM(units=50 ))\n",
    "\n",
    "# Adding the output layer\n",
    "model.add(keras.layers.Dense(1))\n",
    "\n",
    "# Compiling the RNN\n",
    "model.compile(optimizer = 'adam', loss = 'mean_squared_error')"
   ]
  },
  {
   "cell_type": "code",
   "execution_count": null,
   "metadata": {
    "id": "YStBvOpl1zRP",
    "outputId": "3f7285d1-f4d2-4648-93d4-a106ab2ec9c8"
   },
   "outputs": [
    {
     "name": "stdout",
     "output_type": "stream",
     "text": [
      "Model: \"sequential\"\n",
      "_________________________________________________________________\n",
      "Layer (type)                 Output Shape              Param #   \n",
      "=================================================================\n",
      "lstm (LSTM)                  (None, 50, 100)           40800     \n",
      "_________________________________________________________________\n",
      "lstm_1 (LSTM)                (None, 50, 70)            47880     \n",
      "_________________________________________________________________\n",
      "lstm_2 (LSTM)                (None, 50)                24200     \n",
      "_________________________________________________________________\n",
      "dense (Dense)                (None, 1)                 51        \n",
      "=================================================================\n",
      "Total params: 112,931\n",
      "Trainable params: 112,931\n",
      "Non-trainable params: 0\n",
      "_________________________________________________________________\n"
     ]
    }
   ],
   "source": [
    "model.summary()"
   ]
  },
  {
   "cell_type": "markdown",
   "metadata": {
    "id": "Mw9kGS381zRQ"
   },
   "source": [
    "Fitting the RNN to the Training set"
   ]
  },
  {
   "cell_type": "code",
   "execution_count": null,
   "metadata": {
    "id": "9TIPEIjR1zRQ",
    "outputId": "8376204f-29b4-4e95-e256-23c7b65b6054"
   },
   "outputs": [
    {
     "name": "stdout",
     "output_type": "stream",
     "text": [
      "Epoch 1/50\n",
      "16/16 [==============================] - 1s 54ms/step - loss: 0.0385\n",
      "Epoch 2/50\n",
      "16/16 [==============================] - 1s 74ms/step - loss: 0.0080\n",
      "Epoch 3/50\n",
      "16/16 [==============================] - 1s 70ms/step - loss: 0.0071\n",
      "Epoch 4/50\n",
      "16/16 [==============================] - 1s 82ms/step - loss: 0.0062\n",
      "Epoch 5/50\n",
      "16/16 [==============================] - 1s 70ms/step - loss: 0.0059\n",
      "Epoch 6/50\n",
      "16/16 [==============================] - 1s 71ms/step - loss: 0.0059\n",
      "Epoch 7/50\n",
      "16/16 [==============================] - 1s 75ms/step - loss: 0.0057\n",
      "Epoch 8/50\n",
      "16/16 [==============================] - 1s 67ms/step - loss: 0.0056\n",
      "Epoch 9/50\n",
      "16/16 [==============================] - 1s 84ms/step - loss: 0.0063\n",
      "Epoch 10/50\n",
      "16/16 [==============================] - 1s 57ms/step - loss: 0.0056\n",
      "Epoch 11/50\n",
      "16/16 [==============================] - 1s 81ms/step - loss: 0.0064\n",
      "Epoch 12/50\n",
      "16/16 [==============================] - 1s 61ms/step - loss: 0.0055\n",
      "Epoch 13/50\n",
      "16/16 [==============================] - 1s 70ms/step - loss: 0.0064\n",
      "Epoch 14/50\n",
      "16/16 [==============================] - 1s 58ms/step - loss: 0.0059\n",
      "Epoch 15/50\n",
      "16/16 [==============================] - 1s 62ms/step - loss: 0.0060\n",
      "Epoch 16/50\n",
      "16/16 [==============================] - 1s 68ms/step - loss: 0.0054\n",
      "Epoch 17/50\n",
      "16/16 [==============================] - 1s 73ms/step - loss: 0.0059\n",
      "Epoch 18/50\n",
      "16/16 [==============================] - 1s 71ms/step - loss: 0.0053\n",
      "Epoch 19/50\n",
      "16/16 [==============================] - 1s 66ms/step - loss: 0.0051\n",
      "Epoch 20/50\n",
      "16/16 [==============================] - 1s 70ms/step - loss: 0.0042\n",
      "Epoch 21/50\n",
      "16/16 [==============================] - 1s 64ms/step - loss: 0.0029\n",
      "Epoch 22/50\n",
      "16/16 [==============================] - 1s 67ms/step - loss: 0.0025\n",
      "Epoch 23/50\n",
      "16/16 [==============================] - 1s 66ms/step - loss: 0.0022\n",
      "Epoch 24/50\n",
      "16/16 [==============================] - 1s 59ms/step - loss: 0.0023\n",
      "Epoch 25/50\n",
      "16/16 [==============================] - 1s 59ms/step - loss: 0.0019\n",
      "Epoch 26/50\n",
      "16/16 [==============================] - 1s 59ms/step - loss: 0.0018\n",
      "Epoch 27/50\n",
      "16/16 [==============================] - 1s 60ms/step - loss: 0.0017\n",
      "Epoch 28/50\n",
      "16/16 [==============================] - 1s 61ms/step - loss: 0.0018\n",
      "Epoch 29/50\n",
      "16/16 [==============================] - 1s 64ms/step - loss: 0.0018\n",
      "Epoch 30/50\n",
      "16/16 [==============================] - 1s 60ms/step - loss: 0.0016\n",
      "Epoch 31/50\n",
      "16/16 [==============================] - 1s 61ms/step - loss: 0.0021\n",
      "Epoch 32/50\n",
      "16/16 [==============================] - 1s 65ms/step - loss: 0.0015\n",
      "Epoch 33/50\n",
      "16/16 [==============================] - 1s 64ms/step - loss: 0.0014\n",
      "Epoch 34/50\n",
      "16/16 [==============================] - 1s 66ms/step - loss: 0.0015\n",
      "Epoch 35/50\n",
      "16/16 [==============================] - 1s 63ms/step - loss: 0.0017\n",
      "Epoch 36/50\n",
      "16/16 [==============================] - 1s 74ms/step - loss: 0.0014\n",
      "Epoch 37/50\n",
      "16/16 [==============================] - 1s 69ms/step - loss: 0.0017\n",
      "Epoch 38/50\n",
      "16/16 [==============================] - 1s 64ms/step - loss: 0.0015\n",
      "Epoch 39/50\n",
      "16/16 [==============================] - 1s 67ms/step - loss: 0.0014\n",
      "Epoch 40/50\n",
      "16/16 [==============================] - 1s 71ms/step - loss: 0.0013\n",
      "Epoch 41/50\n",
      "16/16 [==============================] - 1s 69ms/step - loss: 0.0014\n",
      "Epoch 42/50\n",
      "16/16 [==============================] - 1s 67ms/step - loss: 0.0014\n",
      "Epoch 43/50\n",
      "16/16 [==============================] - 1s 56ms/step - loss: 0.0012\n",
      "Epoch 44/50\n",
      "16/16 [==============================] - 1s 54ms/step - loss: 0.0014\n",
      "Epoch 45/50\n",
      "16/16 [==============================] - 1s 55ms/step - loss: 0.0013\n",
      "Epoch 46/50\n",
      "16/16 [==============================] - 1s 55ms/step - loss: 0.0013: 0s - loss: 0\n",
      "Epoch 47/50\n",
      "16/16 [==============================] - 1s 60ms/step - loss: 0.0013\n",
      "Epoch 48/50\n",
      "16/16 [==============================] - 1s 60ms/step - loss: 0.0012\n",
      "Epoch 49/50\n",
      "16/16 [==============================] - 1s 62ms/step - loss: 0.0012\n",
      "Epoch 50/50\n",
      "16/16 [==============================] - 1s 68ms/step - loss: 0.0015\n"
     ]
    },
    {
     "data": {
      "text/plain": [
       "<tensorflow.python.keras.callbacks.History at 0x1b7ebb52748>"
      ]
     },
     "execution_count": 19,
     "metadata": {
      "tags": []
     },
     "output_type": "execute_result"
    }
   ],
   "source": [
    "model.fit(X_train, y_train, epochs = 50, batch_size = 25)"
   ]
  },
  {
   "cell_type": "markdown",
   "metadata": {
    "id": "U2V6WVVb1zRR"
   },
   "source": [
    "Part 3 - Making the predictions and visualising the results"
   ]
  },
  {
   "cell_type": "code",
   "execution_count": null,
   "metadata": {
    "id": "g3rGK7bn1zRR",
    "outputId": "bd7b766a-d257-473f-8208-e88d1eb88036"
   },
   "outputs": [
    {
     "data": {
      "text/plain": [
       "(26, 2)"
      ]
     },
     "execution_count": 20,
     "metadata": {
      "tags": []
     },
     "output_type": "execute_result"
    }
   ],
   "source": [
    "dataset_test = dataset_ts.iloc[450:,:]\n",
    "dataset_test.shape"
   ]
  },
  {
   "cell_type": "code",
   "execution_count": null,
   "metadata": {
    "id": "k3Nosg7d1zRS",
    "outputId": "cbd65996-c361-4609-858d-1d463f4c362b"
   },
   "outputs": [
    {
     "data": {
      "text/plain": [
       "array([56807, 54634, 51367, 48073, 46251, 43736, 39975, 40478, 46895,\n",
       "       46147, 55011, 57799, 62450, 63896, 57784, 53231, 50354, 38410,\n",
       "       41600, 41471, 46287, 49013, 56624, 61739, 66600, 60054],\n",
       "      dtype=int64)"
      ]
     },
     "execution_count": 21,
     "metadata": {
      "tags": []
     },
     "output_type": "execute_result"
    }
   ],
   "source": [
    "test_set = dataset_test.iloc[:, 1].values\n",
    "test_set"
   ]
  },
  {
   "cell_type": "code",
   "execution_count": null,
   "metadata": {
    "id": "FwZ-NDpX1zRT",
    "outputId": "4a5fe301-f4c5-4bb0-ea62-ef3d76f5138d"
   },
   "outputs": [
    {
     "data": {
      "text/plain": [
       "0       1709\n",
       "1       1646\n",
       "2       1794\n",
       "3       1878\n",
       "4       2173\n",
       "       ...  \n",
       "471    49013\n",
       "472    56624\n",
       "473    61739\n",
       "474    66600\n",
       "475    60054\n",
       "Name: GasProd, Length: 476, dtype: int64"
      ]
     },
     "execution_count": 22,
     "metadata": {
      "tags": []
     },
     "output_type": "execute_result"
    }
   ],
   "source": [
    "dataset_total = pd.concat((dataset_train['GasProd'], dataset_test['GasProd']), axis = 0)\n",
    "dataset_total"
   ]
  },
  {
   "cell_type": "code",
   "execution_count": null,
   "metadata": {
    "id": "vZXuGY461zRU",
    "outputId": "a78f15d4-2a75-4951-b723-8e20fb8d53e9"
   },
   "outputs": [
    {
     "data": {
      "text/plain": [
       "76"
      ]
     },
     "execution_count": 23,
     "metadata": {
      "tags": []
     },
     "output_type": "execute_result"
    }
   ],
   "source": [
    "inputs = dataset_total[len(dataset_total) - len(dataset_test) - timesteps:].values\n",
    "inputs = inputs.reshape(-1,1)\n",
    "len(inputs)"
   ]
  },
  {
   "cell_type": "code",
   "execution_count": null,
   "metadata": {
    "id": "Zk59h0bn1zRV",
    "outputId": "a72ae9fc-71a6-4c03-d4b7-0715b8ecd114"
   },
   "outputs": [
    {
     "data": {
      "text/plain": [
       "(26, 50, 1)"
      ]
     },
     "execution_count": 24,
     "metadata": {
      "tags": []
     },
     "output_type": "execute_result"
    }
   ],
   "source": [
    "inputs = sc.transform(inputs)\n",
    "X_test = []\n",
    "for i in range(timesteps, len(inputs)):\n",
    "    X_test.append(inputs[i-timesteps:i, 0])\n",
    "X_test = np.array(X_test)\n",
    "X_test = np.reshape(X_test, (X_test.shape[0], X_test.shape[1], 1))\n",
    "X_test.shape"
   ]
  },
  {
   "cell_type": "code",
   "execution_count": null,
   "metadata": {
    "id": "SJr4jjfP1zRV",
    "outputId": "83536f4b-a749-4879-aba7-c9c79a172689"
   },
   "outputs": [
    {
     "data": {
      "text/plain": [
       "array([[0.9745933 ],\n",
       "       [0.95209855],\n",
       "       [0.879866  ],\n",
       "       [0.78024197],\n",
       "       [0.671218  ],\n",
       "       [0.5733257 ],\n",
       "       [0.5133057 ],\n",
       "       [0.5040575 ],\n",
       "       [0.54495275],\n",
       "       [0.62787735],\n",
       "       [0.73777896],\n",
       "       [0.85586774],\n",
       "       [0.95130026],\n",
       "       [0.99382657],\n",
       "       [0.97668236],\n",
       "       [0.91620773],\n",
       "       [0.83522856],\n",
       "       [0.75307465],\n",
       "       [0.6930319 ],\n",
       "       [0.6711049 ],\n",
       "       [0.6907506 ],\n",
       "       [0.7467532 ],\n",
       "       [0.8248106 ],\n",
       "       [0.90181774],\n",
       "       [0.94660795],\n",
       "       [0.94255644]], dtype=float32)"
      ]
     },
     "execution_count": 25,
     "metadata": {
      "tags": []
     },
     "output_type": "execute_result"
    }
   ],
   "source": [
    "predicted_values = model.predict(X_test)\n",
    "predicted_values"
   ]
  },
  {
   "cell_type": "code",
   "execution_count": null,
   "metadata": {
    "id": "KpIIokza1zRX",
    "outputId": "98664eed-831f-46e3-e9fe-cd451ad35959"
   },
   "outputs": [
    {
     "data": {
      "text/plain": [
       "(26, 1)"
      ]
     },
     "execution_count": 26,
     "metadata": {
      "tags": []
     },
     "output_type": "execute_result"
    }
   ],
   "source": [
    "predicted_values.shape"
   ]
  },
  {
   "cell_type": "code",
   "execution_count": null,
   "metadata": {
    "id": "x13LmHar1zRY",
    "outputId": "9333f235-df75-4a69-c89a-21cbf0a393d0"
   },
   "outputs": [
    {
     "data": {
      "text/plain": [
       "array([[60856.438],\n",
       "       [59489.797],\n",
       "       [55101.38 ],\n",
       "       [49048.82 ],\n",
       "       [42425.176],\n",
       "       [36477.83 ],\n",
       "       [32831.375],\n",
       "       [32269.512],\n",
       "       [34754.06 ],\n",
       "       [39792.062],\n",
       "       [46469.023],\n",
       "       [53643.39 ],\n",
       "       [59441.297],\n",
       "       [62024.94 ],\n",
       "       [60983.36 ],\n",
       "       [57309.285],\n",
       "       [52389.477],\n",
       "       [47398.297],\n",
       "       [43750.46 ],\n",
       "       [42418.31 ],\n",
       "       [43611.863],\n",
       "       [47014.246],\n",
       "       [51756.547],\n",
       "       [56435.035],\n",
       "       [59156.22 ],\n",
       "       [58910.074]], dtype=float32)"
      ]
     },
     "execution_count": 27,
     "metadata": {
      "tags": []
     },
     "output_type": "execute_result"
    }
   ],
   "source": [
    "predicted_values = sc.inverse_transform(predicted_values)\n",
    "predicted_values"
   ]
  },
  {
   "cell_type": "markdown",
   "metadata": {
    "id": "_TRtQxg01zRY"
   },
   "source": [
    "Visualising the results"
   ]
  },
  {
   "cell_type": "code",
   "execution_count": null,
   "metadata": {
    "id": "WtLmckLe1zRZ"
   },
   "outputs": [],
   "source": [
    "%matplotlib inline"
   ]
  },
  {
   "cell_type": "code",
   "execution_count": null,
   "metadata": {
    "id": "NAi_yv4Y1zRa",
    "outputId": "57f94de6-8459-47f4-d0d1-9c2b9c52095a"
   },
   "outputs": [
    {
     "data": {
      "image/png": "[encoded data removed]",
      "text/plain": [
       "<Figure size 432x288 with 1 Axes>"
      ]
     },
     "metadata": {
      "needs_background": "light",
      "tags": []
     },
     "output_type": "display_data"
    }
   ],
   "source": [
    "plt.plot(test_set, color = 'red', label = 'Real Gas Production')\n",
    "plt.plot(predicted_values, color = 'blue', label = 'Predicted Gas Production')\n",
    "plt.title('Gas Production Prediction')\n",
    "plt.xlabel('Time')\n",
    "plt.ylabel('Gas Production')\n",
    "plt.legend()\n",
    "plt.show()"
   ]
  },
  {
   "cell_type": "markdown",
   "metadata": {
    "id": "YqgjsAZh1zRb"
   },
   "source": [
    "Root Mean Square Error"
   ]
  },
  {
   "cell_type": "code",
   "execution_count": null,
   "metadata": {
    "id": "FiccTXCF1zRc",
    "outputId": "edc3ab0c-4fa3-4656-f0ca-7006a6077c76"
   },
   "outputs": [
    {
     "name": "stdout",
     "output_type": "stream",
     "text": [
      "5435.620609168732\n"
     ]
    }
   ],
   "source": [
    "print(np.sqrt(mean_squared_error(predicted_values,test_set)))"
   ]
  },
  {
   "cell_type": "code",
   "execution_count": null,
   "metadata": {
    "id": "8Dew1EB21zRd"
   },
   "outputs": [],
   "source": []
  }
 ],
 "metadata": {
  "colab": {
   "name": "LSTM with TS - AusGas.ipynb",
   "provenance": [],
   "toc_visible": true
  },
  "kernelspec": {
   "display_name": "Python 3",
   "language": "python",
   "name": "python3"
  },
  "language_info": {
   "codemirror_mode": {
    "name": "ipython",
    "version": 3
   },
   "file_extension": ".py",
   "mimetype": "text/x-python",
   "name": "python",
   "nbconvert_exporter": "python",
   "pygments_lexer": "ipython3",
   "version": "3.9.6"
  }
 },
 "nbformat": 4,
 "nbformat_minor": 1
}
