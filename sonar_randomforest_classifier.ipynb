{
 "cells": [
  {
   "cell_type": "code",
   "execution_count": 13,
   "id": "10dff161",
   "metadata": {},
   "outputs": [],
   "source": [
    "import pandas as pd\n",
    "df = pd.read_csv(\"C:/Users/User/Desktop/cdac advance modules/pml lecture/class  practice/program_dataset/sonar.csv\")"
   ]
  },
  {
   "cell_type": "code",
   "execution_count": 14,
   "id": "d79cfc34",
   "metadata": {},
   "outputs": [],
   "source": [
    "dum_df = pd.get_dummies(df,drop_first=True)"
   ]
  },
  {
   "cell_type": "code",
   "execution_count": 15,
   "id": "0fa53f2c",
   "metadata": {},
   "outputs": [],
   "source": [
    "from sklearn.model_selection import train_test_split \n",
    "from sklearn.metrics import confusion_matrix\n",
    "from sklearn.metrics import classification_report, accuracy_score\n",
    "from sklearn.ensemble import RandomForestClassifier"
   ]
  },
  {
   "cell_type": "code",
   "execution_count": 16,
   "id": "29ea5250",
   "metadata": {},
   "outputs": [],
   "source": [
    "X = dum_df.iloc[:,:-1]\n",
    "y = dum_df.iloc[:,-1]\n",
    "\n",
    "X_train, X_test, y_train, y_test = train_test_split(X, y,test_size = 0.3, \n",
    "                                                    random_state=2018,\n",
    "                                                    stratify=y)"
   ]
  },
  {
   "cell_type": "code",
   "execution_count": 18,
   "id": "ee24ac1f",
   "metadata": {},
   "outputs": [
    {
     "name": "stdout",
     "output_type": "stream",
     "text": [
      "[[31  3]\n",
      " [11 18]]\n",
      "              precision    recall  f1-score   support\n",
      "\n",
      "           0       0.74      0.91      0.82        34\n",
      "           1       0.86      0.62      0.72        29\n",
      "\n",
      "    accuracy                           0.78        63\n",
      "   macro avg       0.80      0.77      0.77        63\n",
      "weighted avg       0.79      0.78      0.77        63\n",
      "\n",
      "0.7777777777777778\n"
     ]
    }
   ],
   "source": [
    "model_rf = RandomForestClassifier(random_state=1211,\n",
    "                                  n_estimators=500,oob_score=True)\n",
    "model_rf.fit( X_train , y_train )\n",
    "y_pred = model_rf.predict(X_test)\n",
    "\n",
    "print(confusion_matrix(y_test, y_pred))\n",
    "print(classification_report(y_test, y_pred))\n",
    "print(accuracy_score(y_test, y_pred))"
   ]
  },
  {
   "cell_type": "code",
   "execution_count": 6,
   "id": "c6f22328",
   "metadata": {},
   "outputs": [
    {
     "data": {
      "image/png": "[encoded data removed]",
      "text/plain": [
       "<Figure size 432x288 with 1 Axes>"
      ]
     },
     "metadata": {
      "needs_background": "light"
     },
     "output_type": "display_data"
    },
    {
     "data": {
      "text/plain": [
       "0.9158215010141988"
      ]
     },
     "execution_count": 6,
     "metadata": {},
     "output_type": "execute_result"
    }
   ],
   "source": [
    "from sklearn.metrics import roc_curve, roc_auc_score\n",
    "\n",
    "# Compute predicted probabilities: y_pred_prob\n",
    "y_pred_prob = model_rf.predict_proba(X_test)[:,1]\n",
    "\n",
    "# Generate ROC curve values: fpr, tpr, thresholds\n",
    "fpr, tpr, thresholds = roc_curve(y_test, y_pred_prob)\n",
    "\n",
    "# Plot ROC curve\n",
    "import matplotlib.pyplot as plt\n",
    "plt.plot([0, 1], [0, 1], 'k--')\n",
    "plt.plot(fpr, tpr)\n",
    "plt.xlabel('False Positive Rate')\n",
    "plt.ylabel('True Positive Rate')\n",
    "plt.title('ROC Curve')\n",
    "plt.show()\n",
    "roc_auc_score(y_test, y_pred_prob)"
   ]
  },
  {
   "cell_type": "code",
   "execution_count": 7,
   "id": "e9d3f395",
   "metadata": {},
   "outputs": [
    {
     "name": "stdout",
     "output_type": "stream",
     "text": [
      "V1 = 0.02167788841054022\n",
      "V2 = 0.006267483363131544\n",
      "V3 = 0.009435383142343523\n",
      "V4 = 0.0266696541855012\n",
      "V5 = 0.026627346145598266\n",
      "V6 = 0.02177846481555865\n",
      "V7 = 0.01254233257470035\n",
      "V8 = 0.009499761176232035\n",
      "V9 = 0.04389208742166096\n",
      "V10 = 0.03749917369739204\n",
      "V11 = 0.07155056330765576\n",
      "V12 = 0.05204679984929999\n",
      "V13 = 0.015961181525258918\n",
      "V14 = 0.011107664654131351\n",
      "V15 = 0.014702239522348488\n",
      "V16 = 0.013255385339894156\n",
      "V17 = 0.01682830458479686\n",
      "V18 = 0.014171816910716646\n",
      "V19 = 0.011462325350363322\n",
      "V20 = 0.01748090678452198\n",
      "V21 = 0.02276918389584142\n",
      "V22 = 0.014277246123370472\n",
      "V23 = 0.01161973321616213\n",
      "V24 = 0.010071344942889022\n",
      "V25 = 0.007835417868338341\n",
      "V26 = 0.008423555335097047\n",
      "V27 = 0.010204407426095284\n",
      "V28 = 0.013135716027824804\n",
      "V29 = 0.00932621147363694\n",
      "V30 = 0.011801820549506419\n",
      "V31 = 0.012396658452057318\n",
      "V32 = 0.013745179930658349\n",
      "V33 = 0.010640985196293452\n",
      "V34 = 0.007707616986959753\n",
      "V35 = 0.008656838739100657\n",
      "V36 = 0.014293343894365635\n",
      "V37 = 0.01623455170100031\n",
      "V38 = 0.00807807208382035\n",
      "V39 = 0.016304617801888556\n",
      "V40 = 0.007688922463414381\n",
      "V41 = 0.007748481337779353\n",
      "V42 = 0.009416527315299699\n",
      "V43 = 0.0155635339313331\n",
      "V44 = 0.020411761922263412\n",
      "V45 = 0.027714848221478985\n",
      "V46 = 0.026780761043992796\n",
      "V47 = 0.022925509885457444\n",
      "V48 = 0.03639930849608389\n",
      "V49 = 0.03100934008571544\n",
      "V50 = 0.013777476458883798\n",
      "V51 = 0.014018510958329898\n",
      "V52 = 0.020665574770538916\n",
      "V53 = 0.006446497978172421\n",
      "V54 = 0.009203582624725813\n",
      "V55 = 0.0053982591609479415\n",
      "V56 = 0.0063902742917527075\n",
      "V57 = 0.006934423636613183\n",
      "V58 = 0.01225825093900377\n",
      "V59 = 0.009620690843892383\n",
      "V60 = 0.007648199227768098\n"
     ]
    },
    {
     "data": {
      "image/png": "[encoded data removed]",
      "text/plain": [
       "<Figure size 432x288 with 1 Axes>"
      ]
     },
     "metadata": {
      "needs_background": "light"
     },
     "output_type": "display_data"
    }
   ],
   "source": [
    "##########################Feature Importance########################\n",
    "for name, importance in zip(X.columns, model_rf.feature_importances_):\n",
    "    print(name, \"=\", importance)\n",
    "\n",
    "import numpy as np    \n",
    "features = X.columns\n",
    "importances = model_rf.feature_importances_\n",
    "indices = np.argsort(importances)\n",
    "\n",
    "plt.title('Feature Importance Plot')\n",
    "plt.barh(range(len(indices)), importances[indices], color='b', align='center')\n",
    "plt.yticks(range(len(indices)), [features[i] for i in indices])\n",
    "plt.xlabel('Relative Importance')\n",
    "plt.show()"
   ]
  },
  {
   "cell_type": "code",
   "execution_count": 8,
   "id": "e57641eb",
   "metadata": {},
   "outputs": [
    {
     "name": "stdout",
     "output_type": "stream",
     "text": [
      "0.7862068965517242\n"
     ]
    }
   ],
   "source": [
    "#####################Out of Bag Error###############################\n",
    "print(model_rf.oob_score_)"
   ]
  },
  {
   "cell_type": "code",
   "execution_count": 9,
   "id": "addd7b07",
   "metadata": {},
   "outputs": [
    {
     "name": "stdout",
     "output_type": "stream",
     "text": [
      "{'max_features': 3}\n",
      "0.9340987102142708\n",
      "RandomForestClassifier(max_features=3, random_state=1211)\n"
     ]
    }
   ],
   "source": [
    "\n",
    "#################### Grid Search CV ################################\n",
    "from sklearn.model_selection import GridSearchCV\n",
    "import numpy as np\n",
    "parameters = {'max_features': np.arange(1,11)}\n",
    "\n",
    "from sklearn.model_selection import StratifiedKFold\n",
    "kfold = StratifiedKFold(n_splits=5, random_state=42,shuffle=True)\n",
    "\n",
    "model_rf = RandomForestClassifier(random_state=1211)\n",
    "cv = GridSearchCV(model_rf, param_grid=parameters,\n",
    "                  cv=kfold,scoring='roc_auc')\n",
    "\n",
    "cv.fit( X , y )\n",
    "\n",
    "results_df = pd.DataFrame(cv.cv_results_  )\n",
    "\n",
    "print(cv.best_params_)\n",
    "\n",
    "print(cv.best_score_)\n",
    "\n",
    "print(cv.best_estimator_)\n",
    "\n",
    "best_model = cv.best_estimator_"
   ]
  },
  {
   "cell_type": "code",
   "execution_count": 10,
   "id": "38cc41d8",
   "metadata": {},
   "outputs": [
    {
     "name": "stdout",
     "output_type": "stream",
     "text": [
      "V1 = 0.01399816898214234\n",
      "V2 = 0.009802063037734506\n",
      "V3 = 0.010400561024864296\n",
      "V4 = 0.019398561852524778\n",
      "V5 = 0.02265752204633743\n",
      "V6 = 0.015885677441872508\n",
      "V7 = 0.008269204985289534\n",
      "V8 = 0.013048589814387722\n",
      "V9 = 0.037685413975213855\n",
      "V10 = 0.03650970347366597\n",
      "V11 = 0.03629490418078456\n",
      "V12 = 0.03855759220481303\n",
      "V13 = 0.03162653187290054\n",
      "V14 = 0.01902288473267737\n",
      "V15 = 0.01249449512249078\n",
      "V16 = 0.01629739906992533\n",
      "V17 = 0.012608114956669598\n",
      "V18 = 0.015819342389418258\n",
      "V19 = 0.014493229764602817\n",
      "V20 = 0.017557123333682687\n",
      "V21 = 0.012764101529751262\n",
      "V22 = 0.015772075677029127\n",
      "V23 = 0.014821762079399291\n",
      "V24 = 0.009784219162417404\n",
      "V25 = 0.008423730373183974\n",
      "V26 = 0.013982292017415817\n",
      "V27 = 0.010434751698186941\n",
      "V28 = 0.01963257124586629\n",
      "V29 = 0.013439882431069018\n",
      "V30 = 0.013651662118461545\n",
      "V31 = 0.022858519407323277\n",
      "V32 = 0.011405324415276053\n",
      "V33 = 0.012329844999138428\n",
      "V34 = 0.014803837994156568\n",
      "V35 = 0.013297714903926937\n",
      "V36 = 0.027690568864342475\n",
      "V37 = 0.02330360225117709\n",
      "V38 = 0.00850375351992979\n",
      "V39 = 0.01421412120156668\n",
      "V40 = 0.0141192266343429\n",
      "V41 = 0.008852047261915717\n",
      "V42 = 0.008784509478983083\n",
      "V43 = 0.018619510034348478\n",
      "V44 = 0.012297742505523889\n",
      "V45 = 0.01998256443953768\n",
      "V46 = 0.023049697010517317\n",
      "V47 = 0.027349610049712203\n",
      "V48 = 0.02577951533314903\n",
      "V49 = 0.014548689576089666\n",
      "V50 = 0.013473711001064453\n",
      "V51 = 0.020239379001138164\n",
      "V52 = 0.024903332488698037\n",
      "V53 = 0.011431335557801658\n",
      "V54 = 0.011557378217574922\n",
      "V55 = 0.012921483292403682\n",
      "V56 = 0.009674203919702317\n",
      "V57 = 0.008416086899288137\n",
      "V58 = 0.008287685863767233\n",
      "V59 = 0.00982485227311804\n",
      "V60 = 0.012346019009707377\n"
     ]
    },
    {
     "data": {
      "image/png": "[encoded data removed]",
      "text/plain": [
       "<Figure size 432x288 with 1 Axes>"
      ]
     },
     "metadata": {
      "needs_background": "light"
     },
     "output_type": "display_data"
    }
   ],
   "source": [
    "##########################Feature Importance########################\n",
    "for name, importance in zip(X.columns, best_model.feature_importances_):\n",
    "    print(name, \"=\", importance)\n",
    "\n",
    "import numpy as np    \n",
    "features = X.columns\n",
    "importances = best_model.feature_importances_\n",
    "indices = np.argsort(importances)\n",
    "\n",
    "plt.title('Feature Importance Plot')\n",
    "plt.barh(range(len(indices)), importances[indices], color='b', align='center')\n",
    "plt.yticks(range(len(indices)), [features[i] for i in indices])\n",
    "plt.xlabel('Feature Importance')\n",
    "plt.show()"
   ]
  },
  {
   "cell_type": "code",
   "execution_count": null,
   "id": "3d807c27",
   "metadata": {},
   "outputs": [],
   "source": []
  }
 ],
 "metadata": {
  "kernelspec": {
   "display_name": "Python 3",
   "language": "python",
   "name": "python3"
  },
  "language_info": {
   "codemirror_mode": {
    "name": "ipython",
    "version": 3
   },
   "file_extension": ".py",
   "mimetype": "text/x-python",
   "name": "python",
   "nbconvert_exporter": "python",
   "pygments_lexer": "ipython3",
   "version": "3.8.8"
  }
 },
 "nbformat": 4,
 "nbformat_minor": 5
}
