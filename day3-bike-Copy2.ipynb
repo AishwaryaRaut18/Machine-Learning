{
 "cells": [
  {
   "cell_type": "code",
   "execution_count": 184,
   "metadata": {},
   "outputs": [],
   "source": [
    "import pandas as pd\n",
    "from sklearn.linear_model import LinearRegression\n",
    "from sklearn.tree import DecisionTreeRegressor"
   ]
  },
  {
   "cell_type": "code",
   "execution_count": 185,
   "metadata": {},
   "outputs": [],
   "source": [
    "df=pd.read_csv(\"C:/Users/User/Desktop/cdac advance modules/pml lecture/class  practice/program_dataset/train.csv\", parse_dates=['datetime'])\n",
    "df1=pd.read_csv(\"C:/Users/User/Desktop/cdac advance modules/pml lecture/class  practice/program_dataset/train.csv\", parse_dates=['datetime'])"
   ]
  },
  {
   "cell_type": "code",
   "execution_count": 186,
   "metadata": {},
   "outputs": [],
   "source": [
    "df['year'] = df['datetime'].dt.year\n",
    "\n",
    "df['month'] = df['datetime'].dt.month\n",
    "\n",
    "df['day'] = df['datetime'].dt.day\n",
    "\n",
    "df['hour'] = df['datetime'].dt.hour\n",
    "\n",
    "df['weekday']=df['datetime'].dt.weekday\n",
    "\n",
    "df1['year'] = df1['datetime'].dt.year\n",
    "\n",
    "df1['month'] = df1['datetime'].dt.month\n",
    "\n",
    "df1['day'] = df1['datetime'].dt.day\n",
    "\n",
    "df1['hour'] = df1['datetime'].dt.hour\n",
    "\n",
    "df1['weekday']=df1['datetime'].dt.weekday"
   ]
  },
  {
   "cell_type": "code",
   "execution_count": 187,
   "metadata": {},
   "outputs": [
    {
     "data": {
      "text/plain": [
       "Index(['datetime', 'season', 'holiday', 'workingday', 'weather', 'temp',\n",
       "       'atemp', 'humidity', 'windspeed', 'casual', 'registered', 'count',\n",
       "       'year', 'month', 'day', 'hour', 'weekday'],\n",
       "      dtype='object')"
      ]
     },
     "execution_count": 187,
     "metadata": {},
     "output_type": "execute_result"
    }
   ],
   "source": [
    "df.columns"
   ]
  },
  {
   "cell_type": "code",
   "execution_count": 188,
   "metadata": {},
   "outputs": [],
   "source": [
    "df.drop(['count','registered','datetime'],axis=1,inplace=True)\n",
    "df1.drop(['count','casual','datetime'],axis=1,inplace=True)"
   ]
  },
  {
   "cell_type": "code",
   "execution_count": 189,
   "metadata": {},
   "outputs": [],
   "source": [
    "X=df.drop('casual',axis=1)\n",
    "X1=df1.drop('registered',axis=1)"
   ]
  },
  {
   "cell_type": "code",
   "execution_count": 190,
   "metadata": {},
   "outputs": [],
   "source": [
    "y=df['casual']\n",
    "y1=df1['registered']"
   ]
  },
  {
   "cell_type": "markdown",
   "metadata": {},
   "source": [
    "model=LinearRegression()\n",
    "model1=LinearRegression()"
   ]
  },
  {
   "cell_type": "code",
   "execution_count": 191,
   "metadata": {},
   "outputs": [],
   "source": [
    "clf = DecisionTreeRegressor(max_depth=9,random_state=2021)\n",
    "clf2 = clf.fit(X, y)\n",
    "clf3 = clf.fit(X1, y1)"
   ]
  },
  {
   "cell_type": "markdown",
   "metadata": {},
   "source": [
    "model.fit(X,y)\n",
    "model1.fit(X1,y1)"
   ]
  },
  {
   "cell_type": "code",
   "execution_count": null,
   "metadata": {},
   "outputs": [],
   "source": []
  },
  {
   "cell_type": "code",
   "execution_count": 192,
   "metadata": {},
   "outputs": [],
   "source": [
    "df2=pd.read_csv(\"test.csv\", parse_dates=['datetime'])\n",
    "df3=pd.read_csv(\"test.csv\", parse_dates=['datetime'])"
   ]
  },
  {
   "cell_type": "code",
   "execution_count": 193,
   "metadata": {},
   "outputs": [],
   "source": [
    "df2['year'] = df2['datetime'].dt.year\n",
    "\n",
    "df2['month'] = df2['datetime'].dt.month\n",
    "\n",
    "df2['day'] = df2['datetime'].dt.day\n",
    "\n",
    "df2['hour'] = df2['datetime'].dt.hour\n",
    "\n",
    "df2['weekday']=df2['datetime'].dt.weekday\n",
    "\n",
    "df3['year'] = df3['datetime'].dt.year\n",
    "\n",
    "df3['month'] = df3['datetime'].dt.month\n",
    "\n",
    "df3['day'] = df3['datetime'].dt.day\n",
    "\n",
    "df3['hour'] = df3['datetime'].dt.hour\n",
    "\n",
    "df3['weekday']=df3['datetime'].dt.weekday"
   ]
  },
  {
   "cell_type": "code",
   "execution_count": 194,
   "metadata": {},
   "outputs": [],
   "source": [
    "df2.drop('datetime',axis=1,inplace=True)\n",
    "df3.drop('datetime',axis=1,inplace=True)"
   ]
  },
  {
   "cell_type": "markdown",
   "metadata": {},
   "source": [
    "y_pre=model.predict(df2)\n",
    "y_pre1=model1.predict(df3)"
   ]
  },
  {
   "cell_type": "code",
   "execution_count": 195,
   "metadata": {},
   "outputs": [],
   "source": [
    "y_pre = clf2.predict(df2)\n",
    "y_pre1 = clf3.predict(df3)"
   ]
  },
  {
   "cell_type": "code",
   "execution_count": 196,
   "metadata": {},
   "outputs": [
    {
     "data": {
      "text/plain": [
       "array([  9.87096774,   4.81355932,   2.55813953, ..., 181.84615385,\n",
       "       138.35185185,  87.59375   ])"
      ]
     },
     "execution_count": 196,
     "metadata": {},
     "output_type": "execute_result"
    }
   ],
   "source": [
    "y_pre"
   ]
  },
  {
   "cell_type": "code",
   "execution_count": 197,
   "metadata": {},
   "outputs": [],
   "source": [
    "y_pre[y_pre<0]=0\n",
    "y_pre1[y_pre1<0]=0"
   ]
  },
  {
   "cell_type": "code",
   "execution_count": 198,
   "metadata": {},
   "outputs": [],
   "source": [
    "testData=pd.read_csv(\"test.csv\")"
   ]
  },
  {
   "cell_type": "code",
   "execution_count": 199,
   "metadata": {},
   "outputs": [],
   "source": [
    "datetime=testData['datetime']"
   ]
  },
  {
   "cell_type": "code",
   "execution_count": 202,
   "metadata": {},
   "outputs": [],
   "source": [
    "count=np.round(y_pre+y_pre1)"
   ]
  },
  {
   "cell_type": "code",
   "execution_count": 203,
   "metadata": {},
   "outputs": [
    {
     "data": {
      "text/plain": [
       "array([ 20.,  10.,   5., ..., 364., 277., 175.])"
      ]
     },
     "execution_count": 203,
     "metadata": {},
     "output_type": "execute_result"
    }
   ],
   "source": [
    "count"
   ]
  },
  {
   "cell_type": "code",
   "execution_count": 204,
   "metadata": {},
   "outputs": [],
   "source": [
    "submit=pd.DataFrame({'datetime':datetime,'count':count})\n",
    "submit.to_csv(\"./submitsum_DT.csv\",index=False)"
   ]
  },
  {
   "cell_type": "code",
   "execution_count": 58,
   "metadata": {},
   "outputs": [],
   "source": [
    "from sklearn.model_selection import train_test_split \n",
    "from sklearn.linear_model import ElasticNet\n",
    "from sklearn.linear_model import Lasso\n",
    "from sklearn.linear_model import Ridge\n",
    "from sklearn.model_selection import KFold\n",
    "from sklearn.model_selection import GridSearchCV"
   ]
  },
  {
   "cell_type": "code",
   "execution_count": 22,
   "metadata": {},
   "outputs": [],
   "source": [
    "from sklearn.metrics import mean_squared_error,mean_absolute_error,r2_score\n"
   ]
  },
  {
   "cell_type": "markdown",
   "metadata": {},
   "source": [
    "# Lasso"
   ]
  },
  {
   "cell_type": "code",
   "execution_count": 23,
   "metadata": {},
   "outputs": [],
   "source": [
    "clf = Lasso()"
   ]
  },
  {
   "cell_type": "code",
   "execution_count": 24,
   "metadata": {},
   "outputs": [],
   "source": [
    "import numpy as np\n",
    "parameters2 = dict(alpha=np.linspace(0.001,40))"
   ]
  },
  {
   "cell_type": "code",
   "execution_count": null,
   "metadata": {},
   "outputs": [],
   "source": []
  },
  {
   "cell_type": "code",
   "execution_count": 25,
   "metadata": {},
   "outputs": [],
   "source": [
    "kfold = KFold(n_splits=5, random_state=2021,shuffle=True)\n",
    "cv = GridSearchCV(clf, param_grid=parameters2,\n",
    "                  cv=kfold,scoring='r2')"
   ]
  },
  {
   "cell_type": "code",
   "execution_count": 26,
   "metadata": {},
   "outputs": [
    {
     "data": {
      "text/plain": [
       "GridSearchCV(cv=KFold(n_splits=5, random_state=2021, shuffle=True),\n",
       "             estimator=Lasso(),\n",
       "             param_grid={'alpha': array([1.00000000e-03, 8.17306122e-01, 1.63361224e+00, 2.44991837e+00,\n",
       "       3.26622449e+00, 4.08253061e+00, 4.89883673e+00, 5.71514286e+00,\n",
       "       6.53144898e+00, 7.34775510e+00, 8.16406122e+00, 8.98036735e+00,\n",
       "       9.79667347e+00, 1.06129796e+01, 1.14292857e+01, 1.22455918e+01,...\n",
       "       1.95923469e+01, 2.04086531e+01, 2.12249592e+01, 2.20412653e+01,\n",
       "       2.28575714e+01, 2.36738776e+01, 2.44901837e+01, 2.53064898e+01,\n",
       "       2.61227959e+01, 2.69391020e+01, 2.77554082e+01, 2.85717143e+01,\n",
       "       2.93880204e+01, 3.02043265e+01, 3.10206327e+01, 3.18369388e+01,\n",
       "       3.26532449e+01, 3.34695510e+01, 3.42858571e+01, 3.51021633e+01,\n",
       "       3.59184694e+01, 3.67347755e+01, 3.75510816e+01, 3.83673878e+01,\n",
       "       3.91836939e+01, 4.00000000e+01])},\n",
       "             scoring='r2')"
      ]
     },
     "execution_count": 26,
     "metadata": {},
     "output_type": "execute_result"
    }
   ],
   "source": [
    "cv.fit(X,y)"
   ]
  },
  {
   "cell_type": "code",
   "execution_count": 27,
   "metadata": {},
   "outputs": [
    {
     "name": "stdout",
     "output_type": "stream",
     "text": [
      "{'alpha': 0.001}\n",
      "0.469933266813187\n",
      "Lasso(alpha=0.001)\n",
      "[ 3.12606110e-01 -1.03212456e+01 -3.53272749e+01  1.75566388e+00\n",
      "  1.28346519e+00  1.31124828e+00 -7.58158025e-01  2.77822612e-02\n",
      "  9.77900342e+00  5.26765354e-01  6.85907458e-02  1.17048850e+00\n",
      "  4.82734027e-01]\n",
      "-19642.891976443323\n"
     ]
    }
   ],
   "source": [
    "print(cv.best_params_)\n",
    "\n",
    "print(cv.best_score_)\n",
    "\n",
    "print(cv.best_estimator_)\n",
    "\n",
    "best_model = cv.best_estimator_\n",
    "print(best_model.coef_)\n",
    "print(best_model.intercept_)"
   ]
  },
  {
   "cell_type": "markdown",
   "metadata": {},
   "source": [
    "# Ridge"
   ]
  },
  {
   "cell_type": "code",
   "execution_count": 28,
   "metadata": {},
   "outputs": [
    {
     "name": "stdout",
     "output_type": "stream",
     "text": [
      "{'alpha': 7.347755102040817}\n",
      "0.46994060738220994\n",
      "Ridge(alpha=7.347755102040817)\n",
      "[ 3.08108129e-01 -9.67783770e+00 -3.49419330e+01  1.75439781e+00\n",
      "  1.27463548e+00  1.31962681e+00 -7.57869865e-01  2.83530330e-02\n",
      "  9.75719229e+00  5.28016906e-01  6.89340764e-02  1.17060846e+00\n",
      "  5.56442935e-01]\n",
      "-19599.56637273353\n"
     ]
    }
   ],
   "source": [
    "clf = Ridge(alpha=2.5)\n",
    "clf.fit(X,y) \n",
    "\n",
    "para=dict(alpha=np.linspace(0.001,40))\n",
    "kfold = KFold(n_splits=5, random_state=2021,shuffle=True)\n",
    "cv = GridSearchCV(clf, param_grid=para,cv=kfold,scoring='r2')\n",
    "cv.fit(X,y)\n",
    "\n",
    "print(cv.best_params_)\n",
    "\n",
    "print(cv.best_score_)\n",
    "\n",
    "print(cv.best_estimator_)\n",
    "best_model = cv.best_estimator_\n",
    "print(best_model.coef_)\n",
    "print(best_model.intercept_)"
   ]
  },
  {
   "cell_type": "markdown",
   "metadata": {},
   "source": [
    "# Elastic_net"
   ]
  },
  {
   "cell_type": "code",
   "execution_count": 29,
   "metadata": {},
   "outputs": [
    {
     "name": "stdout",
     "output_type": "stream",
     "text": [
      "{'alpha': 0.001}\n",
      "0.46993975432715673\n",
      "ElasticNet(alpha=0.001)\n",
      "[ 3.06071302e-01 -9.82371989e+00 -3.50340025e+01  1.75399387e+00\n",
      "  1.27703520e+00  1.31736685e+00 -7.57928709e-01  2.82058821e-02\n",
      "  9.76184844e+00  5.28660107e-01  6.88459927e-02  1.17057952e+00\n",
      "  5.38870866e-01]\n",
      "-19608.799264458863\n"
     ]
    }
   ],
   "source": [
    "clf = ElasticNet(alpha=2.5)\n",
    "clf.fit(X,y) \n",
    "\n",
    "para=dict(alpha=np.linspace(0.001,40))\n",
    "kfold = KFold(n_splits=5, random_state=2021,shuffle=True)\n",
    "cv = GridSearchCV(clf, param_grid=para,cv=kfold,scoring='r2')\n",
    "cv.fit(X,y)\n",
    "\n",
    "print(cv.best_params_)\n",
    "\n",
    "print(cv.best_score_)\n",
    "\n",
    "print(cv.best_estimator_)\n",
    "best_model = cv.best_estimator_\n",
    "print(best_model.coef_)\n",
    "print(best_model.intercept_)"
   ]
  },
  {
   "cell_type": "code",
   "execution_count": null,
   "metadata": {},
   "outputs": [],
   "source": []
  },
  {
   "cell_type": "code",
   "execution_count": null,
   "metadata": {},
   "outputs": [],
   "source": []
  }
 ],
 "metadata": {
  "kernelspec": {
   "display_name": "Python 3",
   "language": "python",
   "name": "python3"
  },
  "language_info": {
   "codemirror_mode": {
    "name": "ipython",
    "version": 3
   },
   "file_extension": ".py",
   "mimetype": "text/x-python",
   "name": "python",
   "nbconvert_exporter": "python",
   "pygments_lexer": "ipython3",
   "version": "3.8.8"
  }
 },
 "nbformat": 4,
 "nbformat_minor": 4
}
