{
 "cells": [
  {
   "cell_type": "code",
   "execution_count": 23,
   "id": "481186e6",
   "metadata": {},
   "outputs": [
    {
     "name": "stdout",
     "output_type": "stream",
     "text": [
      "8.858458368603692\n",
      "6.9157928802589\n",
      "0.6994969672837503\n"
     ]
    }
   ],
   "source": [
    "import numpy as np\n",
    "import pandas as pd\n",
    "\n",
    "df = pd.read_csv(\"C:/Users/User/Desktop/cdac advance modules/pml lecture/class  practice/program_dataset/Concrete_Data.csv\")\n",
    "\n",
    "from sklearn.model_selection import train_test_split \n",
    "from sklearn.neighbors import KNeighborsRegressor\n",
    "\n",
    "X = df.iloc[:,0:8]\n",
    "y = df.iloc[:,8]\n",
    "\n",
    "# Create training and test sets\n",
    "X_train, X_test, y_train, y_test = train_test_split(X, y,test_size = 0.3, \n",
    "                                                    random_state=2021)\n",
    "\n",
    "knn = KNeighborsRegressor(n_neighbors=4)\n",
    "knn.fit( X_train , y_train )\n",
    "y_pred = knn.predict(X_test)\n",
    "\n",
    "from sklearn.metrics import mean_squared_error,mean_absolute_error,r2_score\n",
    "print( np.sqrt( mean_squared_error(y_test, y_pred)))\n",
    "print(mean_absolute_error(y_test, y_pred))\n",
    "print(r2_score(y_test, y_pred))\n"
   ]
  },
  {
   "cell_type": "code",
   "execution_count": null,
   "id": "153e5fa8",
   "metadata": {},
   "outputs": [],
   "source": [
    "1\n",
    "9.55695600547658\n",
    "6.789352750809061\n",
    "0.6502387149599735\n",
    "2\n",
    "9.892621257270786\n",
    "7.2565372168284785\n",
    "0.6252381908143307\n",
    "3\n",
    "9.10809138791835\n",
    "7.158122977346277\n",
    "0.6823218672046494\n",
    "4\n",
    "8.858458368603692\n",
    "6.9157928802589\n",
    "0.6994969672837503\n",
    "5\n",
    "9.309538917736013\n",
    "7.248485436893205\n",
    "0.6681140205901344\n",
    "\n",
    "\n"
   ]
  }
 ],
 "metadata": {
  "kernelspec": {
   "display_name": "Python 3",
   "language": "python",
   "name": "python3"
  },
  "language_info": {
   "codemirror_mode": {
    "name": "ipython",
    "version": 3
   },
   "file_extension": ".py",
   "mimetype": "text/x-python",
   "name": "python",
   "nbconvert_exporter": "python",
   "pygments_lexer": "ipython3",
   "version": "3.8.8"
  }
 },
 "nbformat": 4,
 "nbformat_minor": 5
}
