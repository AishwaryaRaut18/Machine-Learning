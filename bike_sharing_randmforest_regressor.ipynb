{
 "cells": [
  {
   "cell_type": "code",
   "execution_count": 1,
   "id": "d771269e",
   "metadata": {},
   "outputs": [],
   "source": [
    "import pandas as pd"
   ]
  },
  {
   "cell_type": "code",
   "execution_count": 2,
   "id": "f4d6edb5",
   "metadata": {},
   "outputs": [],
   "source": [
    "df=pd.read_csv(\"C:/Users/User/Desktop/cdac advance modules/pml lecture/class  practice/program_dataset/train.csv\", parse_dates=['datetime'])\n",
    "df1=pd.read_csv(\"C:/Users/User/Desktop/cdac advance modules/pml lecture/class  practice/program_dataset/train.csv\", parse_dates=['datetime'])"
   ]
  },
  {
   "cell_type": "code",
   "execution_count": 3,
   "id": "020d693b",
   "metadata": {},
   "outputs": [],
   "source": [
    "df['year'] = df['datetime'].dt.year\n",
    "\n",
    "df['month'] = df['datetime'].dt.month\n",
    "\n",
    "df['day'] = df['datetime'].dt.day\n",
    "\n",
    "df['hour'] = df['datetime'].dt.hour\n",
    "\n",
    "df['weekday']=df['datetime'].dt.weekday\n",
    "\n",
    "df1['year'] = df1['datetime'].dt.year\n",
    "\n",
    "df1['month'] = df1['datetime'].dt.month\n",
    "\n",
    "df1['day'] = df1['datetime'].dt.day\n",
    "\n",
    "df1['hour'] = df1['datetime'].dt.hour\n",
    "\n",
    "df1['weekday']=df1['datetime'].dt.weekday"
   ]
  },
  {
   "cell_type": "code",
   "execution_count": 4,
   "id": "2d032db1",
   "metadata": {},
   "outputs": [],
   "source": [
    "df.drop(['count','registered','datetime'],axis=1,inplace=True)\n",
    "df1.drop(['count','casual','datetime'],axis=1,inplace=True)"
   ]
  },
  {
   "cell_type": "code",
   "execution_count": 5,
   "id": "3b62a87d",
   "metadata": {},
   "outputs": [],
   "source": [
    "X=df.drop('casual',axis=1)\n",
    "X1=df1.drop('registered',axis=1)"
   ]
  },
  {
   "cell_type": "code",
   "execution_count": 6,
   "id": "413afd7a",
   "metadata": {},
   "outputs": [],
   "source": [
    "y=df['casual']\n",
    "y1=df1['registered']"
   ]
  },
  {
   "cell_type": "code",
   "execution_count": 12,
   "id": "98f4c18e",
   "metadata": {},
   "outputs": [],
   "source": [
    "from sklearn.model_selection import train_test_split \n",
    "from sklearn.ensemble import RandomForestRegressor"
   ]
  },
  {
   "cell_type": "code",
   "execution_count": 13,
   "id": "e8829f5f",
   "metadata": {},
   "outputs": [],
   "source": [
    "df2=pd.read_csv(\"test.csv\", parse_dates=['datetime'])"
   ]
  },
  {
   "cell_type": "code",
   "execution_count": 14,
   "id": "c30a3c99",
   "metadata": {},
   "outputs": [],
   "source": [
    "df2['year'] = df2['datetime'].dt.year\n",
    "\n",
    "df2['month'] = df2['datetime'].dt.month\n",
    "\n",
    "df2['day'] = df2['datetime'].dt.day\n",
    "\n",
    "df2['hour'] = df2['datetime'].dt.hour\n",
    "\n",
    "df2['weekday']=df2['datetime'].dt.weekday"
   ]
  },
  {
   "cell_type": "code",
   "execution_count": 15,
   "id": "8c45e8bb",
   "metadata": {},
   "outputs": [],
   "source": [
    "df2.drop('datetime',axis=1,inplace=True)"
   ]
  },
  {
   "cell_type": "markdown",
   "id": "7be8a510",
   "metadata": {},
   "source": [
    "#################### Grid Search CV ################################\n",
    "from sklearn.model_selection import GridSearchCV\n",
    "import numpy as np\n",
    "import matplotlib.pyplot as plt\n",
    "parameters = {'max_features': np.arange(1,11)}\n",
    "\n",
    "from sklearn.model_selection import KFold\n",
    "kfold = KFold(n_splits=5, random_state=2021,shuffle=True)\n",
    "\n",
    "model_rf = RandomForestRegressor(random_state=2021)\n",
    "cv = GridSearchCV(model_rf, param_grid=parameters,\n",
    "                  cv=kfold,scoring='r2')\n",
    "\n",
    "cv.fit( X1 , y1)\n",
    "\n",
    "results_df = pd.DataFrame(cv.cv_results_  )\n",
    "\n",
    "print(cv.best_params_)\n",
    "\n",
    "print(cv.best_score_)\n",
    "\n",
    "print(cv.best_estimator_)\n",
    "\n",
    "best_model = cv.best_estimator_"
   ]
  },
  {
   "cell_type": "markdown",
   "id": "50435f08",
   "metadata": {},
   "source": [
    "casual:-{'max_features': 8}\n",
    "0.9251333336304605\n",
    "RandomForestRegressor(max_features=8, random_state=2021)\n",
    "\n",
    "registered:-{'max_features': 8}\n",
    "0.9549932327697807\n",
    "RandomForestRegressor(max_features=8, random_state=2021)\n"
   ]
  },
  {
   "cell_type": "code",
   "execution_count": 16,
   "id": "78dada18",
   "metadata": {},
   "outputs": [],
   "source": [
    "model_rf_casual = RandomForestRegressor(max_features=8,random_state=2021)\n",
    "model_rf_casual.fit( X , y )\n",
    "y_pred_casual = model_rf_casual.predict(df2)"
   ]
  },
  {
   "cell_type": "code",
   "execution_count": 17,
   "id": "6c19d650",
   "metadata": {},
   "outputs": [],
   "source": [
    "model_rf_registered = RandomForestRegressor(max_features=8,random_state=2021)\n",
    "model_rf_registered.fit( X1 , y1 )\n",
    "y_pred_registered = model_rf_registered.predict(df2)"
   ]
  },
  {
   "cell_type": "code",
   "execution_count": 18,
   "id": "e0010b16",
   "metadata": {},
   "outputs": [],
   "source": [
    "testData=pd.read_csv(\"C:/Users/User/Desktop/cdac advance modules/pml lecture/class  practice/program_dataset/test.csv\")\n",
    "datetime=testData['datetime']"
   ]
  },
  {
   "cell_type": "code",
   "execution_count": 19,
   "id": "0150b0a6",
   "metadata": {},
   "outputs": [],
   "source": [
    "import numpy as np\n",
    "count=np.add(y_pred_casual,y_pred_registered)"
   ]
  },
  {
   "cell_type": "code",
   "execution_count": 20,
   "id": "c765a020",
   "metadata": {},
   "outputs": [],
   "source": [
    "submit=pd.DataFrame({'datetime':datetime,'count':count})\n",
    "submit.to_csv(\"./submit_randomforest_WMF.csv\",index=False)"
   ]
  },
  {
   "cell_type": "code",
   "execution_count": null,
   "id": "c4dbe247",
   "metadata": {},
   "outputs": [],
   "source": []
  }
 ],
 "metadata": {
  "kernelspec": {
   "display_name": "Python 3",
   "language": "python",
   "name": "python3"
  },
  "language_info": {
   "codemirror_mode": {
    "name": "ipython",
    "version": 3
   },
   "file_extension": ".py",
   "mimetype": "text/x-python",
   "name": "python",
   "nbconvert_exporter": "python",
   "pygments_lexer": "ipython3",
   "version": "3.8.8"
  }
 },
 "nbformat": 4,
 "nbformat_minor": 5
}
