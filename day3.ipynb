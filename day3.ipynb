{
 "cells": [
  {
   "cell_type": "code",
   "execution_count": 11,
   "id": "6cf4677f",
   "metadata": {},
   "outputs": [],
   "source": [
    "import pandas as pd\n",
    "import numpy as np\n",
    "\n",
    "df=pd.read_csv(\"C:/Users/User/Desktop/cdac advance modules/pml lecture/class  practice/program_dataset/train.csv\",index_col=0)\n",
    "df2=pd.read_csv(\"C:/Users/User/Desktop/cdac advance modules/pml lecture/class  practice/program_dataset/test.csv\",index_col=0)"
   ]
  },
  {
   "cell_type": "code",
   "execution_count": 12,
   "id": "d9dcfcb4",
   "metadata": {},
   "outputs": [],
   "source": [
    "df.drop(['casual','registered'],axis=1,inplace=True)"
   ]
  },
  {
   "cell_type": "code",
   "execution_count": 13,
   "id": "d7e5c141",
   "metadata": {},
   "outputs": [],
   "source": [
    "X=df.drop('count',axis=1)\n",
    "y=df['count']"
   ]
  },
  {
   "cell_type": "code",
   "execution_count": 14,
   "id": "c3f542e7",
   "metadata": {},
   "outputs": [],
   "source": [
    "from sklearn.linear_model import LinearRegression\n",
    "model=LinearRegression()\n",
    "model.fit(X,y)\n",
    "y_pred=model.predict(df2)\n",
    "y_pred[y_pred<0]=0\n",
    "test=pd.read_csv(\"C:/Users/User/Desktop/cdac advance modules/pml lecture/class  practice/program_dataset/test.csv\")\n",
    "date=test[\"datetime\"]\n",
    "count=y_pred\n",
    "submit=pd.DataFrame({'datetime':date,'count':count})\n",
    "submit.to_csv(\"./submitnewfinal_LR.csv\",index=False)"
   ]
  },
  {
   "cell_type": "code",
   "execution_count": 15,
   "id": "7694d7ae",
   "metadata": {},
   "outputs": [],
   "source": [
    "from sklearn.linear_model import Ridge\n",
    "from sklearn.linear_model import Lasso\n",
    "from sklearn.linear_model import ElasticNet\n",
    "from sklearn.model_selection import GridSearchCV"
   ]
  },
  {
   "cell_type": "code",
   "execution_count": 16,
   "id": "e3dca4dd",
   "metadata": {},
   "outputs": [
    {
     "name": "stderr",
     "output_type": "stream",
     "text": [
      "C:\\Users\\Admin\\anaconda3\\lib\\site-packages\\sklearn\\linear_model\\_coordinate_descent.py:530: ConvergenceWarning: Objective did not converge. You might want to increase the number of iterations. Duality gap: 73936.49577608705, tolerance: 24122.170968101967\n",
      "  model = cd_fast.enet_coordinate_descent(\n"
     ]
    }
   ],
   "source": [
    "#CV lasso/Ridge/elastic\n",
    "lasso=Lasso()\n",
    "ridge=Ridge()\n",
    "elastic=ElasticNet()\n",
    "#put paramters of alpha,l1_ratio: give range accordingly end, no of samples\n",
    "paramter={\"alpha\":np.linspace(0.001,40)}\n",
    "\n",
    "cv_lasso=GridSearchCV(lasso,param_grid=paramter,scoring=\"r2\")\n",
    "cv_ridge=GridSearchCV(ridge,param_grid=paramter,scoring=\"r2\")\n",
    "cv_elastic=GridSearchCV(elastic,param_grid=paramter,scoring=\"r2\")\n",
    "\n",
    "cv_lasso.fit(X,y)\n",
    "cv_ridge.fit(X,y)\n",
    "cv_elastic.fit(X,y)\n",
    "\n",
    "\n",
    "y_pred_lasso=cv_lasso.predict(df2)\n",
    "y_pred_ridge=cv_ridge.predict(df2)\n",
    "y_pred_elastic=cv_elastic.predict(df2)\n",
    "\n",
    "y_pred_lasso[y_pred_lasso<0]=0\n",
    "y_pred_ridge[y_pred_ridge<0]=0\n",
    "y_pred_elastic[y_pred_elastic<0]=0\n"
   ]
  },
  {
   "cell_type": "code",
   "execution_count": 17,
   "id": "174a9f00",
   "metadata": {},
   "outputs": [],
   "source": [
    "submit2=pd.DataFrame({'datetime':date,'count':y_pred_lasso})\n",
    "submit2.to_csv(\"./submit1_Lasso.csv\",index=False)\n",
    "submit3=pd.DataFrame({'datetime':date,'count':y_pred_ridge})\n",
    "submit3.to_csv(\"./submit1_ridge.csv\",index=False)          \n",
    "submit4=pd.DataFrame({'datetime':date,'count':y_pred_elastic})\n",
    "submit4.to_csv(\"./submit1_elastic.csv\",index=False)"
   ]
  },
  {
   "cell_type": "code",
   "execution_count": 18,
   "id": "4194f89e",
   "metadata": {},
   "outputs": [
    {
     "name": "stdout",
     "output_type": "stream",
     "text": [
      "{'alpha': 3.2662244897959183}\n",
      "-0.06237137637820041\n",
      "Lasso(alpha=3.2662244897959183)\n",
      "[19.6088681  -0.         -0.          0.          1.90014783  5.63358236\n",
      " -2.93468525  0.75893293]\n",
      "142.62117803448967\n"
     ]
    }
   ],
   "source": [
    "print(cv_lasso.best_params_)\n",
    "\n",
    "print(cv_lasso.best_score_)\n",
    "\n",
    "print(cv_lasso.best_estimator_)\n",
    "\n",
    "best_model = cv_lasso.best_estimator_\n",
    "print(best_model.coef_)\n",
    "print(best_model.intercept_)"
   ]
  },
  {
   "cell_type": "code",
   "execution_count": 19,
   "id": "8775d558",
   "metadata": {},
   "outputs": [
    {
     "name": "stdout",
     "output_type": "stream",
     "text": [
      "{'alpha': 40.0}\n",
      "-0.06388863488071243\n",
      "Ridge(alpha=40.0)\n",
      "[22.67578926 -7.99999956 -1.02701719  5.86272629  1.85140314  5.62996537\n",
      " -3.05483808  0.77714843]\n",
      "135.81995243275995\n"
     ]
    }
   ],
   "source": [
    "print(cv_ridge.best_params_)\n",
    "\n",
    "print(cv_ridge.best_score_)\n",
    "\n",
    "print(cv_ridge.best_estimator_)\n",
    "\n",
    "best_model = cv_ridge.best_estimator_\n",
    "print(best_model.coef_)\n",
    "print(best_model.intercept_)"
   ]
  },
  {
   "cell_type": "code",
   "execution_count": 20,
   "id": "8cabba98",
   "metadata": {},
   "outputs": [
    {
     "name": "stdout",
     "output_type": "stream",
     "text": [
      "{'alpha': 1.633612244897959}\n",
      "-0.05122619907788952\n",
      "ElasticNet(alpha=1.633612244897959)\n",
      "[12.56495059 -0.         -0.          0.62295148  2.89674393  4.95942829\n",
      " -2.8634189   0.67565926]\n",
      "151.83455467140126\n"
     ]
    }
   ],
   "source": [
    "print(cv_elastic.best_params_)\n",
    "\n",
    "print(cv_elastic.best_score_)\n",
    "\n",
    "print(cv_elastic.best_estimator_)\n",
    "\n",
    "best_model = cv_elastic.best_estimator_\n",
    "print(best_model.coef_)\n",
    "print(best_model.intercept_)"
   ]
  },
  {
   "cell_type": "code",
   "execution_count": null,
   "id": "b88e568d",
   "metadata": {},
   "outputs": [],
   "source": []
  }
 ],
 "metadata": {
  "kernelspec": {
   "display_name": "Python 3",
   "language": "python",
   "name": "python3"
  },
  "language_info": {
   "codemirror_mode": {
    "name": "ipython",
    "version": 3
   },
   "file_extension": ".py",
   "mimetype": "text/x-python",
   "name": "python",
   "nbconvert_exporter": "python",
   "pygments_lexer": "ipython3",
   "version": "3.8.8"
  }
 },
 "nbformat": 4,
 "nbformat_minor": 5
}
