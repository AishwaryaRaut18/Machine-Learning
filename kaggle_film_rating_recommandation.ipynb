{
 "cells": [
  {
   "cell_type": "code",
   "execution_count": 5,
   "id": "54dfab8a",
   "metadata": {},
   "outputs": [],
   "source": [
    "import pandas as pd\n",
    "import numpy as np\n",
    "import surprise\n",
    "import os\n",
    "\n",
    "ratings = pd.read_csv(\"C:/Users/User/Desktop/cdac advance modules/pml lecture/class  practice/program_dataset/ratings_small.csv\")"
   ]
  },
  {
   "cell_type": "code",
   "execution_count": 16,
   "id": "7c5359c2",
   "metadata": {},
   "outputs": [],
   "source": [
    "ratings=ratings.drop('timestamp',axis=1)"
   ]
  },
  {
   "cell_type": "code",
   "execution_count": 17,
   "id": "80ec6373",
   "metadata": {},
   "outputs": [
    {
     "data": {
      "text/html": [
       "<div>\n",
       "<style scoped>\n",
       "    .dataframe tbody tr th:only-of-type {\n",
       "        vertical-align: middle;\n",
       "    }\n",
       "\n",
       "    .dataframe tbody tr th {\n",
       "        vertical-align: top;\n",
       "    }\n",
       "\n",
       "    .dataframe thead th {\n",
       "        text-align: right;\n",
       "    }\n",
       "</style>\n",
       "<table border=\"1\" class=\"dataframe\">\n",
       "  <thead>\n",
       "    <tr style=\"text-align: right;\">\n",
       "      <th></th>\n",
       "      <th>userId</th>\n",
       "      <th>movieId</th>\n",
       "      <th>rating</th>\n",
       "    </tr>\n",
       "  </thead>\n",
       "  <tbody>\n",
       "    <tr>\n",
       "      <th>0</th>\n",
       "      <td>1</td>\n",
       "      <td>31</td>\n",
       "      <td>2.5</td>\n",
       "    </tr>\n",
       "    <tr>\n",
       "      <th>1</th>\n",
       "      <td>1</td>\n",
       "      <td>1029</td>\n",
       "      <td>3.0</td>\n",
       "    </tr>\n",
       "    <tr>\n",
       "      <th>2</th>\n",
       "      <td>1</td>\n",
       "      <td>1061</td>\n",
       "      <td>3.0</td>\n",
       "    </tr>\n",
       "    <tr>\n",
       "      <th>3</th>\n",
       "      <td>1</td>\n",
       "      <td>1129</td>\n",
       "      <td>2.0</td>\n",
       "    </tr>\n",
       "    <tr>\n",
       "      <th>4</th>\n",
       "      <td>1</td>\n",
       "      <td>1172</td>\n",
       "      <td>4.0</td>\n",
       "    </tr>\n",
       "  </tbody>\n",
       "</table>\n",
       "</div>"
      ],
      "text/plain": [
       "   userId  movieId  rating\n",
       "0       1       31     2.5\n",
       "1       1     1029     3.0\n",
       "2       1     1061     3.0\n",
       "3       1     1129     2.0\n",
       "4       1     1172     4.0"
      ]
     },
     "execution_count": 17,
     "metadata": {},
     "output_type": "execute_result"
    }
   ],
   "source": [
    "ratings.head()"
   ]
  },
  {
   "cell_type": "code",
   "execution_count": 18,
   "id": "a5e6e658",
   "metadata": {},
   "outputs": [
    {
     "name": "stdout",
     "output_type": "stream",
     "text": [
      "Ratings range between 0.5 and 5.0\n"
     ]
    }
   ],
   "source": [
    "\n",
    "lowest_rating = ratings['rating'].min()\n",
    "highest_rating = ratings['rating'].max()\n",
    "\n",
    "print(\"Ratings range between {0} and {1}\".format(lowest_rating,highest_rating))"
   ]
  },
  {
   "cell_type": "code",
   "execution_count": 19,
   "id": "001831ab",
   "metadata": {},
   "outputs": [],
   "source": [
    "reader = surprise.Reader(rating_scale = (lowest_rating,highest_rating))\n",
    "data = surprise.Dataset.load_from_df(ratings,reader)"
   ]
  },
  {
   "cell_type": "code",
   "execution_count": 20,
   "id": "50b906f7",
   "metadata": {},
   "outputs": [],
   "source": [
    "similarity_options = {'name': 'cosine', 'user_based': True}"
   ]
  },
  {
   "cell_type": "code",
   "execution_count": 21,
   "id": "6ecf11d0",
   "metadata": {},
   "outputs": [
    {
     "name": "stdout",
     "output_type": "stream",
     "text": [
      "Computing the cosine similarity matrix...\n",
      "Done computing similarity matrix.\n"
     ]
    }
   ],
   "source": [
    "# Default k = 40\n",
    "algo = surprise.KNNBasic(sim_options = similarity_options)\n",
    "output = algo.fit(data.build_full_trainset())"
   ]
  },
  {
   "cell_type": "code",
   "execution_count": 33,
   "id": "bf3ccc2f",
   "metadata": {},
   "outputs": [
    {
     "name": "stdout",
     "output_type": "stream",
     "text": [
      "3.543608255669773\n"
     ]
    }
   ],
   "source": [
    "pred = algo.predict(uid='50',iid='6')\n",
    "score = pred.est\n",
    "print(score)"
   ]
  },
  {
   "cell_type": "code",
   "execution_count": 35,
   "id": "75e9b2d9",
   "metadata": {},
   "outputs": [],
   "source": [
    "iids = ratings['movieId'].unique()"
   ]
  },
  {
   "cell_type": "code",
   "execution_count": 30,
   "id": "aa7653f8",
   "metadata": {},
   "outputs": [
    {
     "name": "stdout",
     "output_type": "stream",
     "text": [
      "List of movieId that uid=100 has rated:\n",
      "15273       1\n",
      "15274       3\n",
      "15275       6\n",
      "15276       7\n",
      "15277      25\n",
      "15278      32\n",
      "15279      52\n",
      "15280      62\n",
      "15281      86\n",
      "15282      88\n",
      "15283      95\n",
      "15284     135\n",
      "15285     141\n",
      "15286     608\n",
      "15287     648\n",
      "15288     661\n",
      "15289     708\n",
      "15290     733\n",
      "15291     736\n",
      "15292     745\n",
      "15293     780\n",
      "15294     786\n",
      "15295     802\n",
      "15296    1073\n",
      "15297    1356\n",
      "Name: movieId, dtype: int64\n"
     ]
    }
   ],
   "source": [
    "iids100 = ratings.loc[ratings['userId'] == 100 ,'movieId']\n",
    "print(\"List of movieId that uid={0} has rated:\".format(100))\n",
    "print(iids100)"
   ]
  },
  {
   "cell_type": "code",
   "execution_count": 36,
   "id": "beb7780c",
   "metadata": {},
   "outputs": [
    {
     "name": "stdout",
     "output_type": "stream",
     "text": [
      "List of movieId which uid=100 did not rate(in all 9041) :\n",
      "[     2      4      5 ... 162542 162672 163949]\n"
     ]
    }
   ],
   "source": [
    "iids_to_predict = np.setdiff1d(iids,iids100)\n",
    "print(\"List of movieId which uid={0} did not rate(in all {1}) :\".format(100,len(iids_to_predict)))\n",
    "print(iids_to_predict)"
   ]
  },
  {
   "cell_type": "code",
   "execution_count": 37,
   "id": "cb8e395f",
   "metadata": {},
   "outputs": [
    {
     "data": {
      "text/plain": [
       "Prediction(uid=100, iid=10, r_ui=0.0, est=3.650420755975945, details={'actual_k': 40, 'was_impossible': False})"
      ]
     },
     "execution_count": 37,
     "metadata": {},
     "output_type": "execute_result"
    }
   ],
   "source": [
    "### ratings arbitrarily set to 0\n",
    "testset = [[100,iid,0.] for iid in iids_to_predict]\n",
    "predictions = algo.test(testset)\n",
    "predictions[5]"
   ]
  },
  {
   "cell_type": "code",
   "execution_count": 38,
   "id": "ca2e000a",
   "metadata": {},
   "outputs": [],
   "source": [
    "pred_ratings = np.array([pred.est for pred in predictions])"
   ]
  },
  {
   "cell_type": "code",
   "execution_count": 39,
   "id": "ec3e41bb",
   "metadata": {},
   "outputs": [],
   "source": [
    "# Finding the index of maximum predicted rating\n",
    "i_max = pred_ratings.argmax()"
   ]
  },
  {
   "cell_type": "code",
   "execution_count": 40,
   "id": "2667bc90",
   "metadata": {},
   "outputs": [
    {
     "name": "stdout",
     "output_type": "stream",
     "text": [
      "Top item to be recommended for user 50 is 53 with predicted rating as 5.0\n"
     ]
    }
   ],
   "source": [
    "# Recommending the item with maximum predicted rating\n",
    "iid_recommend_most = iids_to_predict[i_max] \n",
    "print(\"Top item to be recommended for user {0} is {1} with predicted rating as {2}\".format(50,iid_recommend_most,pred_ratings[i_max]))"
   ]
  },
  {
   "cell_type": "code",
   "execution_count": 41,
   "id": "19b018a0",
   "metadata": {},
   "outputs": [
    {
     "name": "stdout",
     "output_type": "stream",
     "text": [
      "[ 53  80 183 301 309 559 702 759 764 820]\n"
     ]
    }
   ],
   "source": [
    "# Getting top 10 items to be recommended for uid = 50\n",
    "import heapq\n",
    "i_sorted_10 = heapq.nlargest(10, \n",
    "                             range(len(pred_ratings)), \n",
    "                             pred_ratings.take)\n",
    "top_10_items = iids_to_predict[i_sorted_10]\n",
    "print(top_10_items)"
   ]
  },
  {
   "cell_type": "code",
   "execution_count": 42,
   "id": "9a4ea5f0",
   "metadata": {},
   "outputs": [],
   "source": [
    "############ Tuning ############\n",
    "\n",
    "from surprise.model_selection import GridSearchCV\n",
    "param_grid = {'k': np.arange(10,60,5)}"
   ]
  },
  {
   "cell_type": "code",
   "execution_count": 43,
   "id": "c2054eff",
   "metadata": {},
   "outputs": [],
   "source": [
    "from surprise.model_selection.split import KFold\n",
    "kfold = KFold(n_splits=5, random_state=2021, shuffle=True)\n",
    "gs = GridSearchCV(surprise.KNNBasic, param_grid, \n",
    "                  measures=['rmse', 'mae'], cv=kfold)"
   ]
  },
  {
   "cell_type": "code",
   "execution_count": 44,
   "id": "f2a76b0d",
   "metadata": {},
   "outputs": [
    {
     "name": "stdout",
     "output_type": "stream",
     "text": [
      "Computing the msd similarity matrix...\n",
      "Done computing similarity matrix.\n",
      "Computing the msd similarity matrix...\n",
      "Done computing similarity matrix.\n",
      "Computing the msd similarity matrix...\n",
      "Done computing similarity matrix.\n",
      "Computing the msd similarity matrix...\n",
      "Done computing similarity matrix.\n",
      "Computing the msd similarity matrix...\n",
      "Done computing similarity matrix.\n",
      "Computing the msd similarity matrix...\n",
      "Done computing similarity matrix.\n",
      "Computing the msd similarity matrix...\n",
      "Done computing similarity matrix.\n",
      "Computing the msd similarity matrix...\n",
      "Done computing similarity matrix.\n",
      "Computing the msd similarity matrix...\n",
      "Done computing similarity matrix.\n",
      "Computing the msd similarity matrix...\n",
      "Done computing similarity matrix.\n",
      "Computing the msd similarity matrix...\n",
      "Done computing similarity matrix.\n",
      "Computing the msd similarity matrix...\n",
      "Done computing similarity matrix.\n",
      "Computing the msd similarity matrix...\n",
      "Done computing similarity matrix.\n",
      "Computing the msd similarity matrix...\n",
      "Done computing similarity matrix.\n",
      "Computing the msd similarity matrix...\n",
      "Done computing similarity matrix.\n",
      "Computing the msd similarity matrix...\n",
      "Done computing similarity matrix.\n",
      "Computing the msd similarity matrix...\n",
      "Done computing similarity matrix.\n",
      "Computing the msd similarity matrix...\n",
      "Done computing similarity matrix.\n",
      "Computing the msd similarity matrix...\n",
      "Done computing similarity matrix.\n",
      "Computing the msd similarity matrix...\n",
      "Done computing similarity matrix.\n",
      "Computing the msd similarity matrix...\n",
      "Done computing similarity matrix.\n",
      "Computing the msd similarity matrix...\n",
      "Done computing similarity matrix.\n",
      "Computing the msd similarity matrix...\n",
      "Done computing similarity matrix.\n",
      "Computing the msd similarity matrix...\n",
      "Done computing similarity matrix.\n",
      "Computing the msd similarity matrix...\n",
      "Done computing similarity matrix.\n",
      "Computing the msd similarity matrix...\n",
      "Done computing similarity matrix.\n",
      "Computing the msd similarity matrix...\n",
      "Done computing similarity matrix.\n",
      "Computing the msd similarity matrix...\n",
      "Done computing similarity matrix.\n",
      "Computing the msd similarity matrix...\n",
      "Done computing similarity matrix.\n",
      "Computing the msd similarity matrix...\n",
      "Done computing similarity matrix.\n",
      "Computing the msd similarity matrix...\n",
      "Done computing similarity matrix.\n",
      "Computing the msd similarity matrix...\n",
      "Done computing similarity matrix.\n",
      "Computing the msd similarity matrix...\n",
      "Done computing similarity matrix.\n",
      "Computing the msd similarity matrix...\n",
      "Done computing similarity matrix.\n",
      "Computing the msd similarity matrix...\n",
      "Done computing similarity matrix.\n",
      "Computing the msd similarity matrix...\n",
      "Done computing similarity matrix.\n",
      "Computing the msd similarity matrix...\n",
      "Done computing similarity matrix.\n",
      "Computing the msd similarity matrix...\n",
      "Done computing similarity matrix.\n",
      "Computing the msd similarity matrix...\n",
      "Done computing similarity matrix.\n",
      "Computing the msd similarity matrix...\n",
      "Done computing similarity matrix.\n",
      "Computing the msd similarity matrix...\n",
      "Done computing similarity matrix.\n",
      "Computing the msd similarity matrix...\n",
      "Done computing similarity matrix.\n",
      "Computing the msd similarity matrix...\n",
      "Done computing similarity matrix.\n",
      "Computing the msd similarity matrix...\n",
      "Done computing similarity matrix.\n",
      "Computing the msd similarity matrix...\n",
      "Done computing similarity matrix.\n",
      "Computing the msd similarity matrix...\n",
      "Done computing similarity matrix.\n",
      "Computing the msd similarity matrix...\n",
      "Done computing similarity matrix.\n",
      "Computing the msd similarity matrix...\n",
      "Done computing similarity matrix.\n",
      "Computing the msd similarity matrix...\n",
      "Done computing similarity matrix.\n",
      "Computing the msd similarity matrix...\n",
      "Done computing similarity matrix.\n"
     ]
    }
   ],
   "source": [
    "gs.fit(data)"
   ]
  },
  {
   "cell_type": "code",
   "execution_count": 45,
   "id": "66cf7b07",
   "metadata": {},
   "outputs": [
    {
     "name": "stdout",
     "output_type": "stream",
     "text": [
      "0.9639033988203384\n"
     ]
    }
   ],
   "source": [
    "# best RMSE score\n",
    "print(gs.best_score['rmse'])"
   ]
  },
  {
   "cell_type": "code",
   "execution_count": 46,
   "id": "57676b05",
   "metadata": {},
   "outputs": [
    {
     "name": "stdout",
     "output_type": "stream",
     "text": [
      "{'k': 15}\n"
     ]
    }
   ],
   "source": [
    "# combination of parameters that gave the best RMSE score\n",
    "print(gs.best_params['rmse'])"
   ]
  },
  {
   "cell_type": "code",
   "execution_count": 47,
   "id": "2d0c2591",
   "metadata": {},
   "outputs": [],
   "source": [
    "# We can now use the algorithm that yields the best rmse:\n",
    "algo = gs.best_estimator['rmse']"
   ]
  },
  {
   "cell_type": "code",
   "execution_count": 48,
   "id": "d746ac99",
   "metadata": {},
   "outputs": [
    {
     "name": "stdout",
     "output_type": "stream",
     "text": [
      "Computing the msd similarity matrix...\n",
      "Done computing similarity matrix.\n"
     ]
    },
    {
     "data": {
      "text/plain": [
       "<surprise.prediction_algorithms.knns.KNNBasic at 0x23a43afb760>"
      ]
     },
     "execution_count": 48,
     "metadata": {},
     "output_type": "execute_result"
    }
   ],
   "source": [
    "algo.fit(data.build_full_trainset())"
   ]
  },
  {
   "cell_type": "code",
   "execution_count": 49,
   "id": "5902d39d",
   "metadata": {},
   "outputs": [
    {
     "name": "stdout",
     "output_type": "stream",
     "text": [
      "3.543608255669773\n"
     ]
    }
   ],
   "source": [
    "######################################\n",
    "\n",
    "pred = algo.predict(uid='66',iid='207')\n",
    "score = pred.est\n",
    "print(score)"
   ]
  },
  {
   "cell_type": "code",
   "execution_count": 52,
   "id": "7a5ce865",
   "metadata": {},
   "outputs": [
    {
     "name": "stdout",
     "output_type": "stream",
     "text": [
      "List of iid that uid=100 has rated:\n",
      "15273       1\n",
      "15274       3\n",
      "15275       6\n",
      "15276       7\n",
      "15277      25\n",
      "15278      32\n",
      "15279      52\n",
      "15280      62\n",
      "15281      86\n",
      "15282      88\n",
      "15283      95\n",
      "15284     135\n",
      "15285     141\n",
      "15286     608\n",
      "15287     648\n",
      "15288     661\n",
      "15289     708\n",
      "15290     733\n",
      "15291     736\n",
      "15292     745\n",
      "15293     780\n",
      "15294     786\n",
      "15295     802\n",
      "15296    1073\n",
      "15297    1356\n",
      "Name: movieId, dtype: int64\n"
     ]
    }
   ],
   "source": [
    "iids = ratings['movieId'].unique()\n",
    "iids50 = ratings.loc[ratings['userId'] == 100 ,'movieId']\n",
    "print(\"List of iid that uid={0} has rated:\".format(100))\n",
    "print(iids50)"
   ]
  },
  {
   "cell_type": "code",
   "execution_count": 53,
   "id": "42b065d7",
   "metadata": {},
   "outputs": [
    {
     "name": "stdout",
     "output_type": "stream",
     "text": [
      "List of iid which uid=66 did not rate(in all 9041) :\n",
      "[     2      4      5 ... 162542 162672 163949]\n"
     ]
    }
   ],
   "source": [
    "iids_to_predict = np.setdiff1d(iids,iids50)\n",
    "print(\"List of iid which uid={0} did not rate(in all {1}) :\".format(66,len(iids_to_predict)))\n",
    "print(iids_to_predict)"
   ]
  },
  {
   "cell_type": "code",
   "execution_count": 54,
   "id": "1fb6ae25",
   "metadata": {},
   "outputs": [
    {
     "data": {
      "text/plain": [
       "Prediction(uid=66, iid=10, r_ui=0.0, est=3.988561327862884, details={'actual_k': 15, 'was_impossible': False})"
      ]
     },
     "execution_count": 54,
     "metadata": {},
     "output_type": "execute_result"
    }
   ],
   "source": [
    "### ratings arbitrarily set to 0\n",
    "testset = [[66,iid,0.] for iid in iids_to_predict]\n",
    "predictions = algo.test(testset)\n",
    "predictions[5]"
   ]
  },
  {
   "cell_type": "code",
   "execution_count": 55,
   "id": "3fa97d2d",
   "metadata": {},
   "outputs": [],
   "source": [
    "pred_ratings = np.array([pred.est for pred in predictions])"
   ]
  },
  {
   "cell_type": "code",
   "execution_count": 56,
   "id": "df18121e",
   "metadata": {},
   "outputs": [],
   "source": [
    "# Finding the index of maximum predicted rating\n",
    "i_max = pred_ratings.argmax()"
   ]
  },
  {
   "cell_type": "code",
   "execution_count": 57,
   "id": "267bee35",
   "metadata": {},
   "outputs": [
    {
     "name": "stdout",
     "output_type": "stream",
     "text": [
      "Top item to be recommended for user 50 is 53 with predicted rating as 5.0\n"
     ]
    }
   ],
   "source": [
    "# Recommending the item with maximum predicted rating\n",
    "iid_recommend_most = iids_to_predict[i_max] \n",
    "print(\"Top item to be recommended for user {0} is {1} with predicted rating as {2}\".format(50,iid_recommend_most,pred_ratings[i_max]))"
   ]
  },
  {
   "cell_type": "code",
   "execution_count": 58,
   "id": "9cfa7fe1",
   "metadata": {},
   "outputs": [
    {
     "name": "stdout",
     "output_type": "stream",
     "text": [
      "[ 53 183 301 309 559 702 764 820 845 876]\n"
     ]
    }
   ],
   "source": [
    "# Getting top 10 items to be recommended for uid = 50\n",
    "import heapq\n",
    "i_sorted_10 = heapq.nlargest(10, range(len(pred_ratings)), pred_ratings.take)\n",
    "top_10_items = iids_to_predict[i_sorted_10]\n",
    "print(top_10_items)"
   ]
  },
  {
   "cell_type": "code",
   "execution_count": null,
   "id": "4e7d5bbf",
   "metadata": {},
   "outputs": [],
   "source": []
  }
 ],
 "metadata": {
  "kernelspec": {
   "display_name": "Python 3",
   "language": "python",
   "name": "python3"
  },
  "language_info": {
   "codemirror_mode": {
    "name": "ipython",
    "version": 3
   },
   "file_extension": ".py",
   "mimetype": "text/x-python",
   "name": "python",
   "nbconvert_exporter": "python",
   "pygments_lexer": "ipython3",
   "version": "3.8.8"
  }
 },
 "nbformat": 4,
 "nbformat_minor": 5
}
