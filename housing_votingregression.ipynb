{
 "cells": [
  {
   "cell_type": "code",
   "execution_count": 2,
   "id": "fe668b49",
   "metadata": {},
   "outputs": [],
   "source": [
    "import pandas as pd\n",
    "import numpy as np\n",
    "\n",
    "Housing = pd.read_csv(\"C:/Users/User/Desktop/cdac advance modules/pml lecture/class  practice/program_dataset/Housing.csv\")\n",
    "dum_Housing = pd.get_dummies(Housing.iloc[:,1:11], \n",
    "                             drop_first=True)\n",
    "\n",
    "from sklearn.model_selection import train_test_split \n",
    "from sklearn.tree import DecisionTreeRegressor\n",
    "from sklearn.linear_model import LinearRegression\n",
    "from sklearn.svm import SVR\n",
    "\n",
    "from sklearn.ensemble import VotingRegressor\n",
    "X = dum_Housing\n",
    "y = Housing.iloc[:,0]\n",
    "\n",
    "# Create training and test sets\n",
    "X_train, X_test, y_train, y_test = train_test_split(X, y, test_size = 0.4, \n",
    "                                                    random_state=42)\n",
    "\n",
    "dtr = DecisionTreeRegressor(max_depth=4)\n",
    "lr = LinearRegression()\n",
    "svr = SVR()\n"
   ]
  },
  {
   "cell_type": "code",
   "execution_count": 3,
   "id": "9e984ced",
   "metadata": {},
   "outputs": [
    {
     "name": "stdout",
     "output_type": "stream",
     "text": [
      "20242.18939939629\n",
      "14590.064545431174\n",
      "0.5059516056912421\n"
     ]
    }
   ],
   "source": [
    "\n",
    "# Average\n",
    "Voting = VotingRegressor(estimators=[('DT',dtr),\n",
    "                                     ('LR',lr),('SV',svr)])\n",
    "\n",
    "Voting.fit(X_train,y_train)\n",
    "y_pred = Voting.predict(X_test)\n",
    "\n",
    "from sklearn.metrics import mean_squared_error\n",
    "from sklearn.metrics import mean_absolute_error,r2_score\n",
    "print(mean_squared_error(y_test, y_pred) ** 0.5)\n",
    "print(mean_absolute_error(y_test, y_pred))\n",
    "print(r2_score(y_test, y_pred))\n"
   ]
  },
  {
   "cell_type": "code",
   "execution_count": 4,
   "id": "4e65e9f2",
   "metadata": {},
   "outputs": [
    {
     "name": "stdout",
     "output_type": "stream",
     "text": [
      "19261.533210406506\n",
      "13817.184512580112\n",
      "0.552661546887091\n"
     ]
    }
   ],
   "source": [
    "\n",
    "#OR Weighted Average\n",
    "Voting = VotingRegressor(estimators=[('DT',dtr),\n",
    "                                     ('LR',lr),('SV',svr)],\n",
    "                                     weights=np.array([0.2,0.5,\n",
    "                                                       0.3]))\n",
    "\n",
    "Voting.fit(X_train,y_train)\n",
    "y_pred = Voting.predict(X_test)\n",
    "\n",
    "from sklearn.metrics import mean_squared_error\n",
    "from sklearn.metrics import mean_absolute_error,r2_score\n",
    "print(mean_squared_error(y_test, y_pred) ** 0.5)\n",
    "print(mean_absolute_error(y_test, y_pred))\n",
    "print(r2_score(y_test, y_pred))\n"
   ]
  },
  {
   "cell_type": "code",
   "execution_count": null,
   "id": "092cd6a6",
   "metadata": {},
   "outputs": [],
   "source": []
  }
 ],
 "metadata": {
  "kernelspec": {
   "display_name": "Python 3",
   "language": "python",
   "name": "python3"
  },
  "language_info": {
   "codemirror_mode": {
    "name": "ipython",
    "version": 3
   },
   "file_extension": ".py",
   "mimetype": "text/x-python",
   "name": "python",
   "nbconvert_exporter": "python",
   "pygments_lexer": "ipython3",
   "version": "3.8.8"
  }
 },
 "nbformat": 4,
 "nbformat_minor": 5
}
