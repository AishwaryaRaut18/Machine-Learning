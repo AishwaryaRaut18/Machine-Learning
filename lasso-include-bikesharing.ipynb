{
 "cells": [
  {
   "cell_type": "code",
   "execution_count": 1,
   "metadata": {
    "execution": {
     "iopub.execute_input": "2021-07-24T12:55:10.011097Z",
     "iopub.status.busy": "2021-07-24T12:55:10.010494Z",
     "iopub.status.idle": "2021-07-24T12:55:10.017234Z",
     "shell.execute_reply": "2021-07-24T12:55:10.015836Z",
     "shell.execute_reply.started": "2021-07-24T12:55:10.011055Z"
    }
   },
   "outputs": [],
   "source": [
    "import pandas as pd\n",
    "import numpy as np"
   ]
  },
  {
   "cell_type": "code",
   "execution_count": 2,
   "metadata": {
    "execution": {
     "iopub.execute_input": "2021-07-24T12:41:02.054205Z",
     "iopub.status.busy": "2021-07-24T12:41:02.053531Z",
     "iopub.status.idle": "2021-07-24T12:41:02.203886Z",
     "shell.execute_reply": "2021-07-24T12:41:02.20271Z",
     "shell.execute_reply.started": "2021-07-24T12:41:02.054164Z"
    }
   },
   "outputs": [],
   "source": [
    "df_train = pd.read_csv(\"C:/Users/User/Desktop/cdac advance modules/pml lecture/class  practice/program_dataset/train.csv\",parse_dates = ['datetime'])"
   ]
  },
  {
   "cell_type": "code",
   "execution_count": 3,
   "metadata": {
    "execution": {
     "iopub.execute_input": "2021-07-24T12:41:56.90388Z",
     "iopub.status.busy": "2021-07-24T12:41:56.90349Z",
     "iopub.status.idle": "2021-07-24T12:41:56.92684Z",
     "shell.execute_reply": "2021-07-24T12:41:56.925829Z",
     "shell.execute_reply.started": "2021-07-24T12:41:56.903849Z"
    }
   },
   "outputs": [],
   "source": [
    "df_train['year'] = df_train['datetime'].dt.year\n",
    "df_train['month'] = df_train['datetime'].dt.month\n",
    "df_train['day'] = df_train['datetime'].dt.day\n",
    "df_train['hour'] = df_train['datetime'].dt.hour\n",
    "df_train['weekday'] = df_train['datetime'].dt.weekday"
   ]
  },
  {
   "cell_type": "code",
   "execution_count": 4,
   "metadata": {
    "execution": {
     "iopub.execute_input": "2021-07-24T12:42:10.749774Z",
     "iopub.status.busy": "2021-07-24T12:42:10.749348Z",
     "iopub.status.idle": "2021-07-24T12:42:10.759337Z",
     "shell.execute_reply": "2021-07-24T12:42:10.758139Z",
     "shell.execute_reply.started": "2021-07-24T12:42:10.749739Z"
    }
   },
   "outputs": [
    {
     "data": {
      "text/plain": [
       "Index(['datetime', 'season', 'holiday', 'workingday', 'weather', 'temp',\n",
       "       'atemp', 'humidity', 'windspeed', 'casual', 'registered', 'count',\n",
       "       'year', 'month', 'day', 'hour', 'weekday'],\n",
       "      dtype='object')"
      ]
     },
     "execution_count": 4,
     "metadata": {},
     "output_type": "execute_result"
    }
   ],
   "source": [
    "df_train.columns"
   ]
  },
  {
   "cell_type": "code",
   "execution_count": 5,
   "metadata": {
    "execution": {
     "iopub.execute_input": "2021-07-24T12:42:48.465418Z",
     "iopub.status.busy": "2021-07-24T12:42:48.464999Z",
     "iopub.status.idle": "2021-07-24T12:42:48.474928Z",
     "shell.execute_reply": "2021-07-24T12:42:48.473874Z",
     "shell.execute_reply.started": "2021-07-24T12:42:48.465384Z"
    }
   },
   "outputs": [],
   "source": [
    "df_train_reg = df_train.drop(columns = ['count','datetime','casual'],axis=1)"
   ]
  },
  {
   "cell_type": "code",
   "execution_count": 6,
   "metadata": {
    "execution": {
     "iopub.execute_input": "2021-07-24T12:43:11.704309Z",
     "iopub.status.busy": "2021-07-24T12:43:11.703916Z",
     "iopub.status.idle": "2021-07-24T12:43:11.712325Z",
     "shell.execute_reply": "2021-07-24T12:43:11.710794Z",
     "shell.execute_reply.started": "2021-07-24T12:43:11.704266Z"
    }
   },
   "outputs": [],
   "source": [
    "X = df_train_reg.drop(columns = ['registered'],axis=1)"
   ]
  },
  {
   "cell_type": "code",
   "execution_count": 7,
   "metadata": {
    "execution": {
     "iopub.execute_input": "2021-07-24T12:43:50.239461Z",
     "iopub.status.busy": "2021-07-24T12:43:50.239068Z",
     "iopub.status.idle": "2021-07-24T12:43:50.244763Z",
     "shell.execute_reply": "2021-07-24T12:43:50.243586Z",
     "shell.execute_reply.started": "2021-07-24T12:43:50.239428Z"
    }
   },
   "outputs": [],
   "source": [
    "y = df_train_reg.loc[:,'registered']"
   ]
  },
  {
   "cell_type": "code",
   "execution_count": 8,
   "metadata": {
    "execution": {
     "iopub.execute_input": "2021-07-24T12:44:11.402439Z",
     "iopub.status.busy": "2021-07-24T12:44:11.401987Z",
     "iopub.status.idle": "2021-07-24T12:44:11.571534Z",
     "shell.execute_reply": "2021-07-24T12:44:11.570363Z",
     "shell.execute_reply.started": "2021-07-24T12:44:11.402404Z"
    }
   },
   "outputs": [],
   "source": [
    "from sklearn.linear_model import Lasso"
   ]
  },
  {
   "cell_type": "code",
   "execution_count": 9,
   "metadata": {
    "execution": {
     "iopub.execute_input": "2021-07-24T12:44:29.532602Z",
     "iopub.status.busy": "2021-07-24T12:44:29.532178Z",
     "iopub.status.idle": "2021-07-24T12:44:29.706008Z",
     "shell.execute_reply": "2021-07-24T12:44:29.704777Z",
     "shell.execute_reply.started": "2021-07-24T12:44:29.532563Z"
    }
   },
   "outputs": [
    {
     "data": {
      "text/plain": [
       "Lasso(alpha=2)"
      ]
     },
     "execution_count": 9,
     "metadata": {},
     "output_type": "execute_result"
    }
   ],
   "source": [
    "clf = Lasso(alpha=2)\n",
    "clf.fit(X,y)"
   ]
  },
  {
   "cell_type": "code",
   "execution_count": 10,
   "metadata": {
    "execution": {
     "iopub.execute_input": "2021-07-24T12:45:57.294048Z",
     "iopub.status.busy": "2021-07-24T12:45:57.293353Z",
     "iopub.status.idle": "2021-07-24T12:45:57.328689Z",
     "shell.execute_reply": "2021-07-24T12:45:57.327223Z",
     "shell.execute_reply.started": "2021-07-24T12:45:57.293993Z"
    }
   },
   "outputs": [],
   "source": [
    "df_test = pd.read_csv(\"C:/Users/User/Desktop/cdac advance modules/pml lecture/class  practice/program_dataset/test.csv\",parse_dates=['datetime'])"
   ]
  },
  {
   "cell_type": "code",
   "execution_count": 11,
   "metadata": {
    "execution": {
     "iopub.execute_input": "2021-07-24T12:46:43.812423Z",
     "iopub.status.busy": "2021-07-24T12:46:43.811973Z",
     "iopub.status.idle": "2021-07-24T12:46:43.829165Z",
     "shell.execute_reply": "2021-07-24T12:46:43.827843Z",
     "shell.execute_reply.started": "2021-07-24T12:46:43.812389Z"
    }
   },
   "outputs": [],
   "source": [
    "df_test['year'] = df_test['datetime'].dt.year\n",
    "df_test['month'] = df_test['datetime'].dt.month\n",
    "df_test['day'] = df_test['datetime'].dt.day\n",
    "df_test['hour'] = df_test['datetime'].dt.hour\n",
    "df_test['weekday'] = df_test['datetime'].dt.weekday"
   ]
  },
  {
   "cell_type": "code",
   "execution_count": 12,
   "metadata": {
    "execution": {
     "iopub.execute_input": "2021-07-24T12:47:36.332107Z",
     "iopub.status.busy": "2021-07-24T12:47:36.331466Z",
     "iopub.status.idle": "2021-07-24T12:47:36.3398Z",
     "shell.execute_reply": "2021-07-24T12:47:36.338656Z",
     "shell.execute_reply.started": "2021-07-24T12:47:36.33206Z"
    }
   },
   "outputs": [],
   "source": [
    "df_test.drop(columns=['datetime'],inplace=True)"
   ]
  },
  {
   "cell_type": "code",
   "execution_count": 13,
   "metadata": {
    "execution": {
     "iopub.execute_input": "2021-07-24T12:47:53.171311Z",
     "iopub.status.busy": "2021-07-24T12:47:53.170938Z",
     "iopub.status.idle": "2021-07-24T12:47:53.184424Z",
     "shell.execute_reply": "2021-07-24T12:47:53.183024Z",
     "shell.execute_reply.started": "2021-07-24T12:47:53.171279Z"
    }
   },
   "outputs": [],
   "source": [
    "y_pred_reg = clf.predict(df_test)"
   ]
  },
  {
   "cell_type": "code",
   "execution_count": 14,
   "metadata": {
    "execution": {
     "iopub.execute_input": "2021-07-24T12:48:36.052179Z",
     "iopub.status.busy": "2021-07-24T12:48:36.051783Z",
     "iopub.status.idle": "2021-07-24T12:48:36.057277Z",
     "shell.execute_reply": "2021-07-24T12:48:36.05648Z",
     "shell.execute_reply.started": "2021-07-24T12:48:36.052146Z"
    }
   },
   "outputs": [],
   "source": [
    "y_pred_reg[y_pred_reg < 0] = 0"
   ]
  },
  {
   "cell_type": "code",
   "execution_count": 15,
   "metadata": {
    "execution": {
     "iopub.execute_input": "2021-07-24T12:49:21.173567Z",
     "iopub.status.busy": "2021-07-24T12:49:21.173034Z",
     "iopub.status.idle": "2021-07-24T12:49:21.207111Z",
     "shell.execute_reply": "2021-07-24T12:49:21.206362Z",
     "shell.execute_reply.started": "2021-07-24T12:49:21.173532Z"
    }
   },
   "outputs": [],
   "source": [
    "df_trn = pd.read_csv(\"train.csv\",parse_dates=['datetime'])"
   ]
  },
  {
   "cell_type": "code",
   "execution_count": 16,
   "metadata": {
    "execution": {
     "iopub.execute_input": "2021-07-24T12:50:06.410647Z",
     "iopub.status.busy": "2021-07-24T12:50:06.410283Z",
     "iopub.status.idle": "2021-07-24T12:50:06.428019Z",
     "shell.execute_reply": "2021-07-24T12:50:06.426309Z",
     "shell.execute_reply.started": "2021-07-24T12:50:06.410617Z"
    }
   },
   "outputs": [],
   "source": [
    "df_trn['year'] = df_trn['datetime'].dt.year\n",
    "df_trn['month'] = df_trn['datetime'].dt.month\n",
    "df_trn['day'] = df_trn['datetime'].dt.day\n",
    "df_trn['hour'] = df_trn['datetime'].dt.hour\n",
    "df_trn['weekday'] = df_trn['datetime'].dt.weekday"
   ]
  },
  {
   "cell_type": "code",
   "execution_count": 17,
   "metadata": {
    "execution": {
     "iopub.execute_input": "2021-07-24T12:50:45.015399Z",
     "iopub.status.busy": "2021-07-24T12:50:45.014848Z",
     "iopub.status.idle": "2021-07-24T12:50:45.024768Z",
     "shell.execute_reply": "2021-07-24T12:50:45.023626Z",
     "shell.execute_reply.started": "2021-07-24T12:50:45.015351Z"
    }
   },
   "outputs": [],
   "source": [
    "df_trn_cas = df_trn.drop(columns = ['count','datetime','registered'],axis=1)"
   ]
  },
  {
   "cell_type": "code",
   "execution_count": 18,
   "metadata": {
    "execution": {
     "iopub.execute_input": "2021-07-24T12:51:12.58618Z",
     "iopub.status.busy": "2021-07-24T12:51:12.585686Z",
     "iopub.status.idle": "2021-07-24T12:51:12.593291Z",
     "shell.execute_reply": "2021-07-24T12:51:12.59179Z",
     "shell.execute_reply.started": "2021-07-24T12:51:12.586135Z"
    }
   },
   "outputs": [],
   "source": [
    "X = df_trn_cas.drop(columns=['casual'],axis=1)"
   ]
  },
  {
   "cell_type": "code",
   "execution_count": 19,
   "metadata": {
    "execution": {
     "iopub.execute_input": "2021-07-24T12:51:27.735915Z",
     "iopub.status.busy": "2021-07-24T12:51:27.735564Z",
     "iopub.status.idle": "2021-07-24T12:51:27.7403Z",
     "shell.execute_reply": "2021-07-24T12:51:27.739221Z",
     "shell.execute_reply.started": "2021-07-24T12:51:27.735888Z"
    }
   },
   "outputs": [],
   "source": [
    "y = df_trn_cas.loc[:,'casual']"
   ]
  },
  {
   "cell_type": "code",
   "execution_count": 20,
   "metadata": {
    "execution": {
     "iopub.execute_input": "2021-07-24T12:51:43.304552Z",
     "iopub.status.busy": "2021-07-24T12:51:43.303905Z",
     "iopub.status.idle": "2021-07-24T12:51:43.309597Z",
     "shell.execute_reply": "2021-07-24T12:51:43.30859Z",
     "shell.execute_reply.started": "2021-07-24T12:51:43.304492Z"
    }
   },
   "outputs": [],
   "source": [
    "clf = Lasso(alpha=2)"
   ]
  },
  {
   "cell_type": "code",
   "execution_count": 21,
   "metadata": {
    "execution": {
     "iopub.execute_input": "2021-07-24T12:51:49.157776Z",
     "iopub.status.busy": "2021-07-24T12:51:49.157161Z",
     "iopub.status.idle": "2021-07-24T12:51:49.186633Z",
     "shell.execute_reply": "2021-07-24T12:51:49.185452Z",
     "shell.execute_reply.started": "2021-07-24T12:51:49.157722Z"
    }
   },
   "outputs": [
    {
     "data": {
      "text/plain": [
       "Lasso(alpha=2)"
      ]
     },
     "execution_count": 21,
     "metadata": {},
     "output_type": "execute_result"
    }
   ],
   "source": [
    "clf.fit(X,y)"
   ]
  },
  {
   "cell_type": "code",
   "execution_count": 22,
   "metadata": {
    "execution": {
     "iopub.execute_input": "2021-07-24T12:52:36.007129Z",
     "iopub.status.busy": "2021-07-24T12:52:36.006518Z",
     "iopub.status.idle": "2021-07-24T12:52:36.032259Z",
     "shell.execute_reply": "2021-07-24T12:52:36.031309Z",
     "shell.execute_reply.started": "2021-07-24T12:52:36.007074Z"
    }
   },
   "outputs": [],
   "source": [
    "df_tst = pd.read_csv(\"test.csv\",parse_dates=['datetime'])"
   ]
  },
  {
   "cell_type": "code",
   "execution_count": 23,
   "metadata": {
    "execution": {
     "iopub.execute_input": "2021-07-24T12:53:22.492045Z",
     "iopub.status.busy": "2021-07-24T12:53:22.49165Z",
     "iopub.status.idle": "2021-07-24T12:53:22.506476Z",
     "shell.execute_reply": "2021-07-24T12:53:22.505384Z",
     "shell.execute_reply.started": "2021-07-24T12:53:22.492011Z"
    }
   },
   "outputs": [],
   "source": [
    "df_tst['year'] = df_tst['datetime'].dt.year\n",
    "df_tst['month'] = df_tst['datetime'].dt.month\n",
    "df_tst['day'] = df_tst['datetime'].dt.day\n",
    "df_tst['hour'] = df_tst['datetime'].dt.hour\n",
    "df_tst['weekday'] = df_tst['datetime'].dt.weekday"
   ]
  },
  {
   "cell_type": "code",
   "execution_count": 24,
   "metadata": {
    "execution": {
     "iopub.execute_input": "2021-07-24T12:53:42.934047Z",
     "iopub.status.busy": "2021-07-24T12:53:42.933641Z",
     "iopub.status.idle": "2021-07-24T12:53:42.942282Z",
     "shell.execute_reply": "2021-07-24T12:53:42.940751Z",
     "shell.execute_reply.started": "2021-07-24T12:53:42.934015Z"
    }
   },
   "outputs": [],
   "source": [
    "df_tst.drop(columns=['datetime'],inplace=True)"
   ]
  },
  {
   "cell_type": "code",
   "execution_count": 25,
   "metadata": {
    "execution": {
     "iopub.execute_input": "2021-07-24T12:54:12.895959Z",
     "iopub.status.busy": "2021-07-24T12:54:12.895606Z",
     "iopub.status.idle": "2021-07-24T12:54:12.908422Z",
     "shell.execute_reply": "2021-07-24T12:54:12.90685Z",
     "shell.execute_reply.started": "2021-07-24T12:54:12.895931Z"
    }
   },
   "outputs": [],
   "source": [
    "y_pred_cas = clf.predict(df_tst)"
   ]
  },
  {
   "cell_type": "code",
   "execution_count": 26,
   "metadata": {
    "execution": {
     "iopub.execute_input": "2021-07-24T12:54:33.57344Z",
     "iopub.status.busy": "2021-07-24T12:54:33.573039Z",
     "iopub.status.idle": "2021-07-24T12:54:33.578218Z",
     "shell.execute_reply": "2021-07-24T12:54:33.576887Z",
     "shell.execute_reply.started": "2021-07-24T12:54:33.573407Z"
    }
   },
   "outputs": [],
   "source": [
    "y_pred_cas[y_pred_cas < 0]=0"
   ]
  },
  {
   "cell_type": "code",
   "execution_count": 27,
   "metadata": {
    "execution": {
     "iopub.execute_input": "2021-07-24T12:55:14.534886Z",
     "iopub.status.busy": "2021-07-24T12:55:14.534524Z",
     "iopub.status.idle": "2021-07-24T12:55:14.539745Z",
     "shell.execute_reply": "2021-07-24T12:55:14.53864Z",
     "shell.execute_reply.started": "2021-07-24T12:55:14.534855Z"
    }
   },
   "outputs": [],
   "source": [
    "y_pred_count = np.round(y_pred_reg + y_pred_cas)"
   ]
  },
  {
   "cell_type": "code",
   "execution_count": 28,
   "metadata": {
    "execution": {
     "iopub.execute_input": "2021-07-24T12:55:35.622111Z",
     "iopub.status.busy": "2021-07-24T12:55:35.621751Z",
     "iopub.status.idle": "2021-07-24T12:55:35.643707Z",
     "shell.execute_reply": "2021-07-24T12:55:35.64226Z",
     "shell.execute_reply.started": "2021-07-24T12:55:35.622081Z"
    }
   },
   "outputs": [],
   "source": [
    "testData = pd.read_csv(\"test.csv\")"
   ]
  },
  {
   "cell_type": "code",
   "execution_count": 29,
   "metadata": {
    "execution": {
     "iopub.execute_input": "2021-07-24T12:55:55.494542Z",
     "iopub.status.busy": "2021-07-24T12:55:55.494158Z",
     "iopub.status.idle": "2021-07-24T12:55:55.499943Z",
     "shell.execute_reply": "2021-07-24T12:55:55.498703Z",
     "shell.execute_reply.started": "2021-07-24T12:55:55.49451Z"
    }
   },
   "outputs": [],
   "source": [
    "datetime = testData['datetime']"
   ]
  },
  {
   "cell_type": "code",
   "execution_count": 30,
   "metadata": {
    "execution": {
     "iopub.execute_input": "2021-07-24T12:56:24.523363Z",
     "iopub.status.busy": "2021-07-24T12:56:24.522739Z",
     "iopub.status.idle": "2021-07-24T12:56:24.527398Z",
     "shell.execute_reply": "2021-07-24T12:56:24.526383Z",
     "shell.execute_reply.started": "2021-07-24T12:56:24.523316Z"
    }
   },
   "outputs": [],
   "source": [
    "count = y_pred_count"
   ]
  },
  {
   "cell_type": "code",
   "execution_count": 31,
   "metadata": {
    "execution": {
     "iopub.execute_input": "2021-07-24T12:57:03.815285Z",
     "iopub.status.busy": "2021-07-24T12:57:03.814881Z",
     "iopub.status.idle": "2021-07-24T12:57:03.82155Z",
     "shell.execute_reply": "2021-07-24T12:57:03.820428Z",
     "shell.execute_reply.started": "2021-07-24T12:57:03.815224Z"
    }
   },
   "outputs": [],
   "source": [
    "submit = pd.DataFrame({'datetime':datetime,'count':count})"
   ]
  },
  {
   "cell_type": "code",
   "execution_count": 32,
   "metadata": {
    "execution": {
     "iopub.execute_input": "2021-07-24T12:57:42.405291Z",
     "iopub.status.busy": "2021-07-24T12:57:42.404909Z",
     "iopub.status.idle": "2021-07-24T12:57:42.435218Z",
     "shell.execute_reply": "2021-07-24T12:57:42.434115Z",
     "shell.execute_reply.started": "2021-07-24T12:57:42.405256Z"
    }
   },
   "outputs": [],
   "source": [
    "submit.to_csv(\"./submit_LASSO_date.csv\",index=False)"
   ]
  },
  {
   "cell_type": "code",
   "execution_count": null,
   "metadata": {},
   "outputs": [],
   "source": []
  }
 ],
 "metadata": {
  "kernelspec": {
   "display_name": "Python 3",
   "language": "python",
   "name": "python3"
  },
  "language_info": {
   "codemirror_mode": {
    "name": "ipython",
    "version": 3
   },
   "file_extension": ".py",
   "mimetype": "text/x-python",
   "name": "python",
   "nbconvert_exporter": "python",
   "pygments_lexer": "ipython3",
   "version": "3.8.8"
  }
 },
 "nbformat": 4,
 "nbformat_minor": 4
}
