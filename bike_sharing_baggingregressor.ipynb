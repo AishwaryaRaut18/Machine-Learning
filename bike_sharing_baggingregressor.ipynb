{
 "cells": [
  {
   "cell_type": "code",
   "execution_count": 1,
   "id": "13d96e47",
   "metadata": {},
   "outputs": [],
   "source": [
    "import pandas as pd\n",
    "from sklearn.linear_model import LinearRegression\n",
    "from sklearn.tree import DecisionTreeRegressor"
   ]
  },
  {
   "cell_type": "code",
   "execution_count": 2,
   "id": "d771269e",
   "metadata": {},
   "outputs": [],
   "source": [
    "df=pd.read_csv(\"C:/Users/User/Desktop/cdac advance modules/pml lecture/class  practice/program_dataset/train.csv\", parse_dates=['datetime'])\n",
    "df1=pd.read_csv(\"C:/Users/User/Desktop/cdac advance modules/pml lecture/class  practice/program_dataset/train.csv\", parse_dates=['datetime'])"
   ]
  },
  {
   "cell_type": "code",
   "execution_count": 3,
   "id": "020d693b",
   "metadata": {},
   "outputs": [],
   "source": [
    "df['year'] = df['datetime'].dt.year\n",
    "\n",
    "df['month'] = df['datetime'].dt.month\n",
    "\n",
    "df['day'] = df['datetime'].dt.day\n",
    "\n",
    "df['hour'] = df['datetime'].dt.hour\n",
    "\n",
    "df['weekday']=df['datetime'].dt.weekday\n",
    "\n",
    "df1['year'] = df1['datetime'].dt.year\n",
    "\n",
    "df1['month'] = df1['datetime'].dt.month\n",
    "\n",
    "df1['day'] = df1['datetime'].dt.day\n",
    "\n",
    "df1['hour'] = df1['datetime'].dt.hour\n",
    "\n",
    "df1['weekday']=df1['datetime'].dt.weekday"
   ]
  },
  {
   "cell_type": "code",
   "execution_count": 4,
   "id": "2d032db1",
   "metadata": {},
   "outputs": [],
   "source": [
    "df.drop(['count','registered','datetime'],axis=1,inplace=True)\n",
    "df1.drop(['count','casual','datetime'],axis=1,inplace=True)"
   ]
  },
  {
   "cell_type": "code",
   "execution_count": 5,
   "id": "3b62a87d",
   "metadata": {},
   "outputs": [],
   "source": [
    "X=df.drop('casual',axis=1)\n",
    "X1=df1.drop('registered',axis=1)"
   ]
  },
  {
   "cell_type": "code",
   "execution_count": 6,
   "id": "413afd7a",
   "metadata": {},
   "outputs": [],
   "source": [
    "y=df['casual']\n",
    "y1=df1['registered']"
   ]
  },
  {
   "cell_type": "code",
   "execution_count": 7,
   "id": "98f4c18e",
   "metadata": {},
   "outputs": [],
   "source": [
    "from sklearn.ensemble import BaggingRegressor"
   ]
  },
  {
   "cell_type": "code",
   "execution_count": 8,
   "id": "78dada18",
   "metadata": {},
   "outputs": [],
   "source": [
    "# Default: Tree Regressor\n",
    "model_bg_casual_Tree = BaggingRegressor(random_state=2021,oob_score=True,\n",
    "                            max_features = X.shape[1],\n",
    "                            n_estimators=15,\n",
    "                            max_samples=X.shape[0])\n",
    "\n"
   ]
  },
  {
   "cell_type": "code",
   "execution_count": 9,
   "id": "6c19d650",
   "metadata": {},
   "outputs": [],
   "source": [
    "# Default: Tree Regressor\n",
    "model_bg_registered_Tree = BaggingRegressor(random_state=2021,oob_score=True,\n",
    "                            max_features = X1.shape[1],\n",
    "                            n_estimators=15,\n",
    "                            max_samples=X1.shape[0])\n",
    "\n"
   ]
  },
  {
   "cell_type": "code",
   "execution_count": 10,
   "id": "2f015e08",
   "metadata": {},
   "outputs": [],
   "source": [
    "# any other model bagging regressor\n",
    "from sklearn.linear_model import LinearRegression\n",
    "\n",
    "lr = LinearRegression()\n",
    "\n",
    "model_bg_casual_linear = BaggingRegressor(base_estimator = lr,\n",
    "                            random_state=2021,oob_score=True,\n",
    "                            max_features = X.shape[1],\n",
    "                            n_estimators=15,\n",
    "                            max_samples=X.shape[0])\n"
   ]
  },
  {
   "cell_type": "code",
   "execution_count": 11,
   "id": "e6ebd551",
   "metadata": {},
   "outputs": [],
   "source": [
    "model_bg_registered_linear = BaggingRegressor(base_estimator = lr,\n",
    "                            random_state=2021,oob_score=True,\n",
    "                            max_features = X1.shape[1],\n",
    "                            n_estimators=15,\n",
    "                            max_samples=X1.shape[0])"
   ]
  },
  {
   "cell_type": "code",
   "execution_count": 12,
   "id": "24584e9d",
   "metadata": {},
   "outputs": [
    {
     "name": "stdout",
     "output_type": "stream",
     "text": [
      "Out of Bag Score = 0.9084\n"
     ]
    },
    {
     "name": "stderr",
     "output_type": "stream",
     "text": [
      "C:\\Users\\Admin\\anaconda3\\lib\\site-packages\\sklearn\\ensemble\\_bagging.py:1069: UserWarning: Some inputs do not have OOB scores. This probably means too few estimators were used to compute any reliable oob estimates.\n",
      "  warn(\"Some inputs do not have OOB scores. \"\n"
     ]
    }
   ],
   "source": [
    "#### building the model ######\n",
    "model_bg_casual_Tree.fit(X, y)\n",
    "\n",
    "print(\"Out of Bag Score = \" + \"{:.4f}\".format(model_bg_casual_Tree.oob_score_))\n"
   ]
  },
  {
   "cell_type": "code",
   "execution_count": 13,
   "id": "42915441",
   "metadata": {},
   "outputs": [
    {
     "name": "stdout",
     "output_type": "stream",
     "text": [
      "Out of Bag Score = 0.9084\n"
     ]
    },
    {
     "name": "stderr",
     "output_type": "stream",
     "text": [
      "C:\\Users\\Admin\\anaconda3\\lib\\site-packages\\sklearn\\ensemble\\_bagging.py:1069: UserWarning: Some inputs do not have OOB scores. This probably means too few estimators were used to compute any reliable oob estimates.\n",
      "  warn(\"Some inputs do not have OOB scores. \"\n"
     ]
    }
   ],
   "source": [
    "#### building the model ######\n",
    "model_bg_registered_Tree.fit(X, y)\n",
    "\n",
    "print(\"Out of Bag Score = \" + \"{:.4f}\".format(model_bg_registered_Tree.oob_score_))\n"
   ]
  },
  {
   "cell_type": "code",
   "execution_count": 19,
   "id": "a963ebea",
   "metadata": {},
   "outputs": [
    {
     "name": "stdout",
     "output_type": "stream",
     "text": [
      "Out of Bag Score = 0.3307\n"
     ]
    },
    {
     "name": "stderr",
     "output_type": "stream",
     "text": [
      "C:\\Users\\Admin\\anaconda3\\lib\\site-packages\\sklearn\\ensemble\\_bagging.py:1069: UserWarning: Some inputs do not have OOB scores. This probably means too few estimators were used to compute any reliable oob estimates.\n",
      "  warn(\"Some inputs do not have OOB scores. \"\n"
     ]
    }
   ],
   "source": [
    "#### building the model ######\n",
    "model_bg_casual_linear.fit(X1, y1)\n",
    "\n",
    "print(\"Out of Bag Score = \" + \"{:.4f}\".format(model_bg_casual_linear.oob_score_))\n"
   ]
  },
  {
   "cell_type": "code",
   "execution_count": 20,
   "id": "24be8c66",
   "metadata": {},
   "outputs": [
    {
     "name": "stdout",
     "output_type": "stream",
     "text": [
      "Out of Bag Score = 0.4691\n"
     ]
    },
    {
     "name": "stderr",
     "output_type": "stream",
     "text": [
      "C:\\Users\\Admin\\anaconda3\\lib\\site-packages\\sklearn\\ensemble\\_bagging.py:1069: UserWarning: Some inputs do not have OOB scores. This probably means too few estimators were used to compute any reliable oob estimates.\n",
      "  warn(\"Some inputs do not have OOB scores. \"\n"
     ]
    }
   ],
   "source": [
    "#### building the model ######\n",
    "model_bg_registered_linear.fit(X, y)\n",
    "\n",
    "print(\"Out of Bag Score = \" + \"{:.4f}\".format(model_bg_registered_linear.oob_score_))\n"
   ]
  },
  {
   "cell_type": "code",
   "execution_count": 16,
   "id": "c14ccfb7",
   "metadata": {},
   "outputs": [],
   "source": [
    "df2=pd.read_csv(\"test.csv\", parse_dates=['datetime'])\n",
    "df3=pd.read_csv(\"test.csv\", parse_dates=['datetime'])"
   ]
  },
  {
   "cell_type": "code",
   "execution_count": 17,
   "id": "73d8390c",
   "metadata": {},
   "outputs": [],
   "source": [
    "df2['year'] = df2['datetime'].dt.year\n",
    "\n",
    "df2['month'] = df2['datetime'].dt.month\n",
    "\n",
    "df2['day'] = df2['datetime'].dt.day\n",
    "\n",
    "df2['hour'] = df2['datetime'].dt.hour\n",
    "\n",
    "df2['weekday']=df2['datetime'].dt.weekday\n",
    "\n",
    "df3['year'] = df3['datetime'].dt.year\n",
    "\n",
    "df3['month'] = df3['datetime'].dt.month\n",
    "\n",
    "df3['day'] = df3['datetime'].dt.day\n",
    "\n",
    "df3['hour'] = df3['datetime'].dt.hour\n",
    "\n",
    "df3['weekday']=df3['datetime'].dt.weekday"
   ]
  },
  {
   "cell_type": "code",
   "execution_count": 18,
   "id": "2ef80865",
   "metadata": {},
   "outputs": [],
   "source": [
    "df2.drop('datetime',axis=1,inplace=True)\n",
    "df3.drop('datetime',axis=1,inplace=True)"
   ]
  },
  {
   "cell_type": "code",
   "execution_count": 21,
   "id": "04024981",
   "metadata": {},
   "outputs": [],
   "source": [
    "y_pred_casual_Tree = model_bg_casual_Tree.predict(df2)\n",
    "y_pred_registered_Tree = model_bg_registered_Tree.predict(df2)\n",
    "y_pred_casual_linear = model_bg_casual_linear.predict(df3)\n",
    "y_pred_registered_linear = model_bg_registered_linear.predict(df3)"
   ]
  },
  {
   "cell_type": "code",
   "execution_count": 22,
   "id": "2379c8b7",
   "metadata": {},
   "outputs": [],
   "source": [
    "y_pred_casual_Tree[y_pred_casual_Tree<0]=0\n",
    "y_pred_registered_Tree[y_pred_registered_Tree<0]=0\n",
    "y_pred_casual_linear[y_pred_casual_linear<0]=0\n",
    "y_pred_registered_linear[y_pred_registered_linear<0]=0"
   ]
  },
  {
   "cell_type": "code",
   "execution_count": 23,
   "id": "e0010b16",
   "metadata": {},
   "outputs": [],
   "source": [
    "testData=pd.read_csv(\"C:/Users/User/Desktop/cdac advance modules/pml lecture/class  practice/program_dataset/test.csv\")\n",
    "datetime=testData['datetime']"
   ]
  },
  {
   "cell_type": "code",
   "execution_count": 25,
   "id": "0150b0a6",
   "metadata": {},
   "outputs": [],
   "source": [
    "import numpy as np\n",
    "count=np.add(y_pred_casual_Tree,y_pred_registered_Tree)\n",
    "count1=np.add(y_pred_casual_linear,y_pred_registered_linear)"
   ]
  },
  {
   "cell_type": "code",
   "execution_count": 26,
   "id": "c765a020",
   "metadata": {},
   "outputs": [],
   "source": [
    "submit=pd.DataFrame({'datetime':datetime,'count':count})\n",
    "submit.to_csv(\"./submitBAGGING_DT.csv\",index=False)"
   ]
  },
  {
   "cell_type": "code",
   "execution_count": 27,
   "id": "5606482a",
   "metadata": {},
   "outputs": [],
   "source": [
    "submit=pd.DataFrame({'datetime':datetime,'count':count1})\n",
    "submit.to_csv(\"./submitBAGGING_LR.csv\",index=False)"
   ]
  },
  {
   "cell_type": "code",
   "execution_count": null,
   "id": "c4dbe247",
   "metadata": {},
   "outputs": [],
   "source": []
  }
 ],
 "metadata": {
  "kernelspec": {
   "display_name": "Python 3",
   "language": "python",
   "name": "python3"
  },
  "language_info": {
   "codemirror_mode": {
    "name": "ipython",
    "version": 3
   },
   "file_extension": ".py",
   "mimetype": "text/x-python",
   "name": "python",
   "nbconvert_exporter": "python",
   "pygments_lexer": "ipython3",
   "version": "3.8.8"
  }
 },
 "nbformat": 4,
 "nbformat_minor": 5
}
