{
 "cells": [
  {
   "cell_type": "code",
   "execution_count": 1,
   "metadata": {},
   "outputs": [],
   "source": [
    "import pandas as pd\n",
    "import numpy as np\n",
    "import warnings\n",
    "warnings.filterwarnings(\"ignore\")"
   ]
  },
  {
   "cell_type": "code",
   "execution_count": 2,
   "metadata": {},
   "outputs": [],
   "source": [
    "df = pd.read_csv(\"C:/Users/User/Desktop/cdac advance modules/pml lecture/class  practice/program_dataset/concrete_data.csv\")"
   ]
  },
  {
   "cell_type": "code",
   "execution_count": 3,
   "metadata": {},
   "outputs": [],
   "source": [
    "from sklearn.model_selection import train_test_split \n",
    "from sklearn.metrics import confusion_matrix\n",
    "from sklearn.metrics import classification_report, accuracy_score,r2_score\n",
    "from sklearn.svm import SVR\n",
    "from sklearn.tree import DecisionTreeRegressor\n",
    "from sklearn.ensemble import RandomForestRegressor"
   ]
  },
  {
   "cell_type": "code",
   "execution_count": 4,
   "metadata": {},
   "outputs": [],
   "source": [
    "X = df.iloc[:,:-1]\n",
    "y = df.iloc[:,-1]"
   ]
  },
  {
   "cell_type": "code",
   "execution_count": 5,
   "metadata": {},
   "outputs": [],
   "source": [
    "X_train, X_test, y_train, y_test = train_test_split(X, y,test_size = 0.3, \n",
    "                                                    random_state=2021)"
   ]
  },
  {
   "cell_type": "code",
   "execution_count": 6,
   "metadata": {},
   "outputs": [],
   "source": [
    "svr=SVR()\n",
    "RandomForest = RandomForestRegressor(random_state=2021)\n",
    "DecisionTreeRegressor = DecisionTreeRegressor(random_state=2021)"
   ]
  },
  {
   "cell_type": "code",
   "execution_count": 7,
   "metadata": {},
   "outputs": [
    {
     "name": "stdout",
     "output_type": "stream",
     "text": [
      "R2 of  SVR 0.19557027243551306\n",
      "R2 of  RandomForestRegressor 0.9864429230297881\n",
      "R2 of  DecisionTreeRegressor 0.8089039458317093\n"
     ]
    }
   ],
   "source": [
    "for clf in(svr,RandomForest,DecisionTreeRegressor):\n",
    "    if clf==svr:\n",
    "        svr.fit(X_train, y_train)  \n",
    "        y_pred = svr.predict(X_test) \n",
    "        print(\"R2 of \",clf.__class__.__name__,(r2_score(y_test, y_pred)))\n",
    "    elif clf==RandomForest:\n",
    "        RandomForest.fit( X , y )\n",
    "        y_pred = RandomForest.predict(X_test)\n",
    "        print(\"R2 of \",clf.__class__.__name__,(r2_score(y_test, y_pred)))\n",
    "    elif clf==DecisionTreeRegressor:\n",
    "        DecisionTreeRegressor.fit(X_train,y_train)\n",
    "        y_pred = DecisionTreeRegressor.predict(X_test)\n",
    "        print(\"R2 of \",clf.__class__.__name__,(r2_score(y_test, y_pred)))\n",
    "    else:\n",
    "        print(\"classifier not found\")\n"
   ]
  },
  {
   "cell_type": "code",
   "execution_count": null,
   "metadata": {},
   "outputs": [],
   "source": []
  }
 ],
 "metadata": {
  "interpreter": {
   "hash": "d45c19a71cc60b8e5998e4b038d05be47147d94cb729eb1d80e2eacb6c7f0bce"
  },
  "kernelspec": {
   "display_name": "Python 3",
   "language": "python",
   "name": "python3"
  },
  "language_info": {
   "codemirror_mode": {
    "name": "ipython",
    "version": 3
   },
   "file_extension": ".py",
   "mimetype": "text/x-python",
   "name": "python",
   "nbconvert_exporter": "python",
   "pygments_lexer": "ipython3",
   "version": "3.8.8"
  }
 },
 "nbformat": 4,
 "nbformat_minor": 2
}
