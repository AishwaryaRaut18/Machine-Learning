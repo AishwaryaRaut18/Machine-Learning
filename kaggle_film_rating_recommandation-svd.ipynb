{
 "cells": [
  {
   "cell_type": "code",
   "execution_count": 1,
   "id": "54dfab8a",
   "metadata": {},
   "outputs": [],
   "source": [
    "import pandas as pd\n",
    "import numpy as np\n",
    "import surprise\n",
    "import os\n",
    "\n",
    "ratings = pd.read_csv(\"C:/Users/User/Desktop/cdac advance modules/pml lecture/class  practice/program_dataset/ratings_small.csv\")"
   ]
  },
  {
   "cell_type": "code",
   "execution_count": 2,
   "id": "26d3dbb4",
   "metadata": {},
   "outputs": [],
   "source": [
    "ratings=ratings.drop('timestamp',axis=1)"
   ]
  },
  {
   "cell_type": "code",
   "execution_count": 3,
   "id": "80ec6373",
   "metadata": {},
   "outputs": [
    {
     "data": {
      "text/html": [
       "<div>\n",
       "<style scoped>\n",
       "    .dataframe tbody tr th:only-of-type {\n",
       "        vertical-align: middle;\n",
       "    }\n",
       "\n",
       "    .dataframe tbody tr th {\n",
       "        vertical-align: top;\n",
       "    }\n",
       "\n",
       "    .dataframe thead th {\n",
       "        text-align: right;\n",
       "    }\n",
       "</style>\n",
       "<table border=\"1\" class=\"dataframe\">\n",
       "  <thead>\n",
       "    <tr style=\"text-align: right;\">\n",
       "      <th></th>\n",
       "      <th>userId</th>\n",
       "      <th>movieId</th>\n",
       "      <th>rating</th>\n",
       "    </tr>\n",
       "  </thead>\n",
       "  <tbody>\n",
       "    <tr>\n",
       "      <th>0</th>\n",
       "      <td>1</td>\n",
       "      <td>31</td>\n",
       "      <td>2.5</td>\n",
       "    </tr>\n",
       "    <tr>\n",
       "      <th>1</th>\n",
       "      <td>1</td>\n",
       "      <td>1029</td>\n",
       "      <td>3.0</td>\n",
       "    </tr>\n",
       "    <tr>\n",
       "      <th>2</th>\n",
       "      <td>1</td>\n",
       "      <td>1061</td>\n",
       "      <td>3.0</td>\n",
       "    </tr>\n",
       "    <tr>\n",
       "      <th>3</th>\n",
       "      <td>1</td>\n",
       "      <td>1129</td>\n",
       "      <td>2.0</td>\n",
       "    </tr>\n",
       "    <tr>\n",
       "      <th>4</th>\n",
       "      <td>1</td>\n",
       "      <td>1172</td>\n",
       "      <td>4.0</td>\n",
       "    </tr>\n",
       "  </tbody>\n",
       "</table>\n",
       "</div>"
      ],
      "text/plain": [
       "   userId  movieId  rating\n",
       "0       1       31     2.5\n",
       "1       1     1029     3.0\n",
       "2       1     1061     3.0\n",
       "3       1     1129     2.0\n",
       "4       1     1172     4.0"
      ]
     },
     "execution_count": 3,
     "metadata": {},
     "output_type": "execute_result"
    }
   ],
   "source": [
    "ratings.head()"
   ]
  },
  {
   "cell_type": "code",
   "execution_count": 4,
   "id": "a5e6e658",
   "metadata": {},
   "outputs": [
    {
     "name": "stdout",
     "output_type": "stream",
     "text": [
      "Ratings range between 0.5 and 5.0\n"
     ]
    }
   ],
   "source": [
    "\n",
    "lowest_rating = ratings['rating'].min()\n",
    "highest_rating = ratings['rating'].max()\n",
    "\n",
    "print(\"Ratings range between {0} and {1}\".format(lowest_rating,highest_rating))"
   ]
  },
  {
   "cell_type": "code",
   "execution_count": 5,
   "id": "001831ab",
   "metadata": {},
   "outputs": [],
   "source": [
    "reader = surprise.Reader(rating_scale = (lowest_rating,highest_rating))\n",
    "data = surprise.Dataset.load_from_df(ratings,reader)"
   ]
  },
  {
   "cell_type": "code",
   "execution_count": 6,
   "id": "50b906f7",
   "metadata": {},
   "outputs": [],
   "source": [
    "similarity_options = {'name': 'cosine', 'user_based': True}"
   ]
  },
  {
   "cell_type": "code",
   "execution_count": 11,
   "id": "6ecf11d0",
   "metadata": {},
   "outputs": [],
   "source": [
    "# Default k = 40\n",
    "algo = surprise.SVD()\n",
    "output = algo.fit(data.build_full_trainset())"
   ]
  },
  {
   "cell_type": "code",
   "execution_count": 12,
   "id": "bf3ccc2f",
   "metadata": {},
   "outputs": [
    {
     "name": "stdout",
     "output_type": "stream",
     "text": [
      "3.543608255669773\n"
     ]
    }
   ],
   "source": [
    "pred = algo.predict(uid='100',iid='6')\n",
    "score = pred.est\n",
    "print(score)"
   ]
  },
  {
   "cell_type": "code",
   "execution_count": 13,
   "id": "75e9b2d9",
   "metadata": {},
   "outputs": [],
   "source": [
    "iids = ratings['movieId'].unique()"
   ]
  },
  {
   "cell_type": "code",
   "execution_count": 14,
   "id": "aa7653f8",
   "metadata": {},
   "outputs": [
    {
     "name": "stdout",
     "output_type": "stream",
     "text": [
      "List of movieId that uid=100 has rated:\n",
      "15273       1\n",
      "15274       3\n",
      "15275       6\n",
      "15276       7\n",
      "15277      25\n",
      "15278      32\n",
      "15279      52\n",
      "15280      62\n",
      "15281      86\n",
      "15282      88\n",
      "15283      95\n",
      "15284     135\n",
      "15285     141\n",
      "15286     608\n",
      "15287     648\n",
      "15288     661\n",
      "15289     708\n",
      "15290     733\n",
      "15291     736\n",
      "15292     745\n",
      "15293     780\n",
      "15294     786\n",
      "15295     802\n",
      "15296    1073\n",
      "15297    1356\n",
      "Name: movieId, dtype: int64\n"
     ]
    }
   ],
   "source": [
    "iids100 = ratings.loc[ratings['userId'] == 100 ,'movieId']\n",
    "print(\"List of movieId that uid={0} has rated:\".format(100))\n",
    "print(iids100)"
   ]
  },
  {
   "cell_type": "code",
   "execution_count": 15,
   "id": "beb7780c",
   "metadata": {},
   "outputs": [
    {
     "name": "stdout",
     "output_type": "stream",
     "text": [
      "List of movieId which uid=100 did not rate(in all 9041) :\n",
      "[     2      4      5 ... 162542 162672 163949]\n"
     ]
    }
   ],
   "source": [
    "iids_to_predict = np.setdiff1d(iids,iids100)\n",
    "print(\"List of movieId which uid={0} did not rate(in all {1}) :\".format(100,len(iids_to_predict)))\n",
    "print(iids_to_predict)"
   ]
  },
  {
   "cell_type": "code",
   "execution_count": 16,
   "id": "cb8e395f",
   "metadata": {},
   "outputs": [
    {
     "data": {
      "text/plain": [
       "Prediction(uid=100, iid=10, r_ui=0.0, est=3.4093366978736537, details={'was_impossible': False})"
      ]
     },
     "execution_count": 16,
     "metadata": {},
     "output_type": "execute_result"
    }
   ],
   "source": [
    "### ratings arbitrarily set to 0\n",
    "testset = [[100,iid,0.] for iid in iids_to_predict]\n",
    "predictions = algo.test(testset)\n",
    "predictions[5]"
   ]
  },
  {
   "cell_type": "code",
   "execution_count": 17,
   "id": "ca2e000a",
   "metadata": {},
   "outputs": [],
   "source": [
    "pred_ratings = np.array([pred.est for pred in predictions])"
   ]
  },
  {
   "cell_type": "code",
   "execution_count": 18,
   "id": "ec3e41bb",
   "metadata": {},
   "outputs": [],
   "source": [
    "# Finding the index of maximum predicted rating\n",
    "i_max = pred_ratings.argmax()"
   ]
  },
  {
   "cell_type": "code",
   "execution_count": 19,
   "id": "2667bc90",
   "metadata": {},
   "outputs": [
    {
     "name": "stdout",
     "output_type": "stream",
     "text": [
      "Top item to be recommended for user 50 is 858 with predicted rating as 4.474165418227534\n"
     ]
    }
   ],
   "source": [
    "# Recommending the item with maximum predicted rating\n",
    "iid_recommend_most = iids_to_predict[i_max] \n",
    "print(\"Top item to be recommended for user {0} is {1} with predicted rating as {2}\".format(50,iid_recommend_most,pred_ratings[i_max]))"
   ]
  },
  {
   "cell_type": "code",
   "execution_count": 20,
   "id": "19b018a0",
   "metadata": {},
   "outputs": [
    {
     "name": "stdout",
     "output_type": "stream",
     "text": [
      "[ 858  318  969   50 1228 4973 2064 1945 1212 6016]\n"
     ]
    }
   ],
   "source": [
    "# Getting top 10 items to be recommended for uid = 50\n",
    "import heapq\n",
    "i_sorted_10 = heapq.nlargest(10, \n",
    "                             range(len(pred_ratings)), \n",
    "                             pred_ratings.take)\n",
    "top_10_items = iids_to_predict[i_sorted_10]\n",
    "print(top_10_items)"
   ]
  },
  {
   "cell_type": "code",
   "execution_count": 21,
   "id": "9a4ea5f0",
   "metadata": {},
   "outputs": [],
   "source": [
    "############ Tuning ############\n",
    "\n",
    "from surprise.model_selection import GridSearchCV\n",
    "param_grid = {'k': np.arange(10,60,5)}"
   ]
  },
  {
   "cell_type": "code",
   "execution_count": 22,
   "id": "c2054eff",
   "metadata": {},
   "outputs": [],
   "source": [
    "from surprise.model_selection.split import KFold\n",
    "kfold = KFold(n_splits=5, random_state=2021, shuffle=True)\n",
    "gs = GridSearchCV(surprise.SVD, param_grid, \n",
    "                  measures=['rmse', 'mae'], cv=kfold)"
   ]
  },
  {
   "cell_type": "code",
   "execution_count": 23,
   "id": "f2a76b0d",
   "metadata": {},
   "outputs": [
    {
     "ename": "TypeError",
     "evalue": "__init__() got an unexpected keyword argument 'k'",
     "output_type": "error",
     "traceback": [
      "\u001b[1;31m---------------------------------------------------------------------------\u001b[0m",
      "\u001b[1;31mEmpty\u001b[0m                                     Traceback (most recent call last)",
      "\u001b[1;32m~\\anaconda3\\lib\\site-packages\\joblib\\parallel.py\u001b[0m in \u001b[0;36mdispatch_one_batch\u001b[1;34m(self, iterator)\u001b[0m\n\u001b[0;32m    819\u001b[0m             \u001b[1;32mtry\u001b[0m\u001b[1;33m:\u001b[0m\u001b[1;33m\u001b[0m\u001b[1;33m\u001b[0m\u001b[0m\n\u001b[1;32m--> 820\u001b[1;33m                 \u001b[0mtasks\u001b[0m \u001b[1;33m=\u001b[0m \u001b[0mself\u001b[0m\u001b[1;33m.\u001b[0m\u001b[0m_ready_batches\u001b[0m\u001b[1;33m.\u001b[0m\u001b[0mget\u001b[0m\u001b[1;33m(\u001b[0m\u001b[0mblock\u001b[0m\u001b[1;33m=\u001b[0m\u001b[1;32mFalse\u001b[0m\u001b[1;33m)\u001b[0m\u001b[1;33m\u001b[0m\u001b[1;33m\u001b[0m\u001b[0m\n\u001b[0m\u001b[0;32m    821\u001b[0m             \u001b[1;32mexcept\u001b[0m \u001b[0mqueue\u001b[0m\u001b[1;33m.\u001b[0m\u001b[0mEmpty\u001b[0m\u001b[1;33m:\u001b[0m\u001b[1;33m\u001b[0m\u001b[1;33m\u001b[0m\u001b[0m\n",
      "\u001b[1;32m~\\anaconda3\\lib\\queue.py\u001b[0m in \u001b[0;36mget\u001b[1;34m(self, block, timeout)\u001b[0m\n\u001b[0;32m    166\u001b[0m                 \u001b[1;32mif\u001b[0m \u001b[1;32mnot\u001b[0m \u001b[0mself\u001b[0m\u001b[1;33m.\u001b[0m\u001b[0m_qsize\u001b[0m\u001b[1;33m(\u001b[0m\u001b[1;33m)\u001b[0m\u001b[1;33m:\u001b[0m\u001b[1;33m\u001b[0m\u001b[1;33m\u001b[0m\u001b[0m\n\u001b[1;32m--> 167\u001b[1;33m                     \u001b[1;32mraise\u001b[0m \u001b[0mEmpty\u001b[0m\u001b[1;33m\u001b[0m\u001b[1;33m\u001b[0m\u001b[0m\n\u001b[0m\u001b[0;32m    168\u001b[0m             \u001b[1;32melif\u001b[0m \u001b[0mtimeout\u001b[0m \u001b[1;32mis\u001b[0m \u001b[1;32mNone\u001b[0m\u001b[1;33m:\u001b[0m\u001b[1;33m\u001b[0m\u001b[1;33m\u001b[0m\u001b[0m\n",
      "\u001b[1;31mEmpty\u001b[0m: ",
      "\nDuring handling of the above exception, another exception occurred:\n",
      "\u001b[1;31mTypeError\u001b[0m                                 Traceback (most recent call last)",
      "\u001b[1;32m<ipython-input-23-47a605721ed8>\u001b[0m in \u001b[0;36m<module>\u001b[1;34m\u001b[0m\n\u001b[1;32m----> 1\u001b[1;33m \u001b[0mgs\u001b[0m\u001b[1;33m.\u001b[0m\u001b[0mfit\u001b[0m\u001b[1;33m(\u001b[0m\u001b[0mdata\u001b[0m\u001b[1;33m)\u001b[0m\u001b[1;33m\u001b[0m\u001b[1;33m\u001b[0m\u001b[0m\n\u001b[0m",
      "\u001b[1;32m~\\anaconda3\\lib\\site-packages\\surprise\\model_selection\\search.py\u001b[0m in \u001b[0;36mfit\u001b[1;34m(self, data)\u001b[0m\n\u001b[0;32m     86\u001b[0m                                                        cv.split(data))\n\u001b[0;32m     87\u001b[0m         )\n\u001b[1;32m---> 88\u001b[1;33m         out = Parallel(n_jobs=self.n_jobs,\n\u001b[0m\u001b[0;32m     89\u001b[0m                        \u001b[0mpre_dispatch\u001b[0m\u001b[1;33m=\u001b[0m\u001b[0mself\u001b[0m\u001b[1;33m.\u001b[0m\u001b[0mpre_dispatch\u001b[0m\u001b[1;33m,\u001b[0m\u001b[1;33m\u001b[0m\u001b[1;33m\u001b[0m\u001b[0m\n\u001b[0;32m     90\u001b[0m                        verbose=self.joblib_verbose)(delayed_list)\n",
      "\u001b[1;32m~\\anaconda3\\lib\\site-packages\\joblib\\parallel.py\u001b[0m in \u001b[0;36m__call__\u001b[1;34m(self, iterable)\u001b[0m\n\u001b[0;32m   1039\u001b[0m             \u001b[1;31m# remaining jobs.\u001b[0m\u001b[1;33m\u001b[0m\u001b[1;33m\u001b[0m\u001b[1;33m\u001b[0m\u001b[0m\n\u001b[0;32m   1040\u001b[0m             \u001b[0mself\u001b[0m\u001b[1;33m.\u001b[0m\u001b[0m_iterating\u001b[0m \u001b[1;33m=\u001b[0m \u001b[1;32mFalse\u001b[0m\u001b[1;33m\u001b[0m\u001b[1;33m\u001b[0m\u001b[0m\n\u001b[1;32m-> 1041\u001b[1;33m             \u001b[1;32mif\u001b[0m \u001b[0mself\u001b[0m\u001b[1;33m.\u001b[0m\u001b[0mdispatch_one_batch\u001b[0m\u001b[1;33m(\u001b[0m\u001b[0miterator\u001b[0m\u001b[1;33m)\u001b[0m\u001b[1;33m:\u001b[0m\u001b[1;33m\u001b[0m\u001b[1;33m\u001b[0m\u001b[0m\n\u001b[0m\u001b[0;32m   1042\u001b[0m                 \u001b[0mself\u001b[0m\u001b[1;33m.\u001b[0m\u001b[0m_iterating\u001b[0m \u001b[1;33m=\u001b[0m \u001b[0mself\u001b[0m\u001b[1;33m.\u001b[0m\u001b[0m_original_iterator\u001b[0m \u001b[1;32mis\u001b[0m \u001b[1;32mnot\u001b[0m \u001b[1;32mNone\u001b[0m\u001b[1;33m\u001b[0m\u001b[1;33m\u001b[0m\u001b[0m\n\u001b[0;32m   1043\u001b[0m \u001b[1;33m\u001b[0m\u001b[0m\n",
      "\u001b[1;32m~\\anaconda3\\lib\\site-packages\\joblib\\parallel.py\u001b[0m in \u001b[0;36mdispatch_one_batch\u001b[1;34m(self, iterator)\u001b[0m\n\u001b[0;32m    829\u001b[0m                 \u001b[0mbig_batch_size\u001b[0m \u001b[1;33m=\u001b[0m \u001b[0mbatch_size\u001b[0m \u001b[1;33m*\u001b[0m \u001b[0mn_jobs\u001b[0m\u001b[1;33m\u001b[0m\u001b[1;33m\u001b[0m\u001b[0m\n\u001b[0;32m    830\u001b[0m \u001b[1;33m\u001b[0m\u001b[0m\n\u001b[1;32m--> 831\u001b[1;33m                 \u001b[0mislice\u001b[0m \u001b[1;33m=\u001b[0m \u001b[0mlist\u001b[0m\u001b[1;33m(\u001b[0m\u001b[0mitertools\u001b[0m\u001b[1;33m.\u001b[0m\u001b[0mislice\u001b[0m\u001b[1;33m(\u001b[0m\u001b[0miterator\u001b[0m\u001b[1;33m,\u001b[0m \u001b[0mbig_batch_size\u001b[0m\u001b[1;33m)\u001b[0m\u001b[1;33m)\u001b[0m\u001b[1;33m\u001b[0m\u001b[1;33m\u001b[0m\u001b[0m\n\u001b[0m\u001b[0;32m    832\u001b[0m                 \u001b[1;32mif\u001b[0m \u001b[0mlen\u001b[0m\u001b[1;33m(\u001b[0m\u001b[0mislice\u001b[0m\u001b[1;33m)\u001b[0m \u001b[1;33m==\u001b[0m \u001b[1;36m0\u001b[0m\u001b[1;33m:\u001b[0m\u001b[1;33m\u001b[0m\u001b[1;33m\u001b[0m\u001b[0m\n\u001b[0;32m    833\u001b[0m                     \u001b[1;32mreturn\u001b[0m \u001b[1;32mFalse\u001b[0m\u001b[1;33m\u001b[0m\u001b[1;33m\u001b[0m\u001b[0m\n",
      "\u001b[1;32m~\\anaconda3\\lib\\site-packages\\surprise\\model_selection\\search.py\u001b[0m in \u001b[0;36m<genexpr>\u001b[1;34m(.0)\u001b[0m\n\u001b[0;32m     80\u001b[0m \u001b[1;33m\u001b[0m\u001b[0m\n\u001b[0;32m     81\u001b[0m         delayed_list = (\n\u001b[1;32m---> 82\u001b[1;33m             delayed(fit_and_score)(self.algo_class(**params), trainset,\n\u001b[0m\u001b[0;32m     83\u001b[0m                                    \u001b[0mtestset\u001b[0m\u001b[1;33m,\u001b[0m \u001b[0mself\u001b[0m\u001b[1;33m.\u001b[0m\u001b[0mmeasures\u001b[0m\u001b[1;33m,\u001b[0m\u001b[1;33m\u001b[0m\u001b[1;33m\u001b[0m\u001b[0m\n\u001b[0;32m     84\u001b[0m                                    self.return_train_measures)\n",
      "\u001b[1;32m~\\anaconda3\\lib\\site-packages\\surprise\\prediction_algorithms\\matrix_factorization.pyx\u001b[0m in \u001b[0;36msurprise.prediction_algorithms.matrix_factorization.SVD.__init__\u001b[1;34m()\u001b[0m\n",
      "\u001b[1;31mTypeError\u001b[0m: __init__() got an unexpected keyword argument 'k'"
     ]
    }
   ],
   "source": [
    "gs.fit(data)"
   ]
  },
  {
   "cell_type": "code",
   "execution_count": 45,
   "id": "66cf7b07",
   "metadata": {},
   "outputs": [
    {
     "name": "stdout",
     "output_type": "stream",
     "text": [
      "0.9639033988203384\n"
     ]
    }
   ],
   "source": [
    "# best RMSE score\n",
    "print(gs.best_score['rmse'])"
   ]
  },
  {
   "cell_type": "code",
   "execution_count": 46,
   "id": "57676b05",
   "metadata": {},
   "outputs": [
    {
     "name": "stdout",
     "output_type": "stream",
     "text": [
      "{'k': 15}\n"
     ]
    }
   ],
   "source": [
    "# combination of parameters that gave the best RMSE score\n",
    "print(gs.best_params['rmse'])"
   ]
  },
  {
   "cell_type": "code",
   "execution_count": 47,
   "id": "2d0c2591",
   "metadata": {},
   "outputs": [],
   "source": [
    "# We can now use the algorithm that yields the best rmse:\n",
    "algo = gs.best_estimator['rmse']"
   ]
  },
  {
   "cell_type": "code",
   "execution_count": 48,
   "id": "d746ac99",
   "metadata": {},
   "outputs": [
    {
     "name": "stdout",
     "output_type": "stream",
     "text": [
      "Computing the msd similarity matrix...\n",
      "Done computing similarity matrix.\n"
     ]
    },
    {
     "data": {
      "text/plain": [
       "<surprise.prediction_algorithms.knns.KNNBasic at 0x23a43afb760>"
      ]
     },
     "execution_count": 48,
     "metadata": {},
     "output_type": "execute_result"
    }
   ],
   "source": [
    "algo.fit(data.build_full_trainset())"
   ]
  },
  {
   "cell_type": "code",
   "execution_count": 49,
   "id": "5902d39d",
   "metadata": {},
   "outputs": [
    {
     "name": "stdout",
     "output_type": "stream",
     "text": [
      "3.543608255669773\n"
     ]
    }
   ],
   "source": [
    "######################################\n",
    "\n",
    "pred = algo.predict(uid='66',iid='207')\n",
    "score = pred.est\n",
    "print(score)"
   ]
  },
  {
   "cell_type": "code",
   "execution_count": 52,
   "id": "7a5ce865",
   "metadata": {},
   "outputs": [
    {
     "name": "stdout",
     "output_type": "stream",
     "text": [
      "List of iid that uid=100 has rated:\n",
      "15273       1\n",
      "15274       3\n",
      "15275       6\n",
      "15276       7\n",
      "15277      25\n",
      "15278      32\n",
      "15279      52\n",
      "15280      62\n",
      "15281      86\n",
      "15282      88\n",
      "15283      95\n",
      "15284     135\n",
      "15285     141\n",
      "15286     608\n",
      "15287     648\n",
      "15288     661\n",
      "15289     708\n",
      "15290     733\n",
      "15291     736\n",
      "15292     745\n",
      "15293     780\n",
      "15294     786\n",
      "15295     802\n",
      "15296    1073\n",
      "15297    1356\n",
      "Name: movieId, dtype: int64\n"
     ]
    }
   ],
   "source": [
    "iids = ratings['movieId'].unique()\n",
    "iids50 = ratings.loc[ratings['userId'] == 100 ,'movieId']\n",
    "print(\"List of iid that uid={0} has rated:\".format(100))\n",
    "print(iids50)"
   ]
  },
  {
   "cell_type": "code",
   "execution_count": 53,
   "id": "42b065d7",
   "metadata": {},
   "outputs": [
    {
     "name": "stdout",
     "output_type": "stream",
     "text": [
      "List of iid which uid=66 did not rate(in all 9041) :\n",
      "[     2      4      5 ... 162542 162672 163949]\n"
     ]
    }
   ],
   "source": [
    "iids_to_predict = np.setdiff1d(iids,iids50)\n",
    "print(\"List of iid which uid={0} did not rate(in all {1}) :\".format(66,len(iids_to_predict)))\n",
    "print(iids_to_predict)"
   ]
  },
  {
   "cell_type": "code",
   "execution_count": 54,
   "id": "1fb6ae25",
   "metadata": {},
   "outputs": [
    {
     "data": {
      "text/plain": [
       "Prediction(uid=66, iid=10, r_ui=0.0, est=3.988561327862884, details={'actual_k': 15, 'was_impossible': False})"
      ]
     },
     "execution_count": 54,
     "metadata": {},
     "output_type": "execute_result"
    }
   ],
   "source": [
    "### ratings arbitrarily set to 0\n",
    "testset = [[66,iid,0.] for iid in iids_to_predict]\n",
    "predictions = algo.test(testset)\n",
    "predictions[5]"
   ]
  },
  {
   "cell_type": "code",
   "execution_count": 55,
   "id": "3fa97d2d",
   "metadata": {},
   "outputs": [],
   "source": [
    "pred_ratings = np.array([pred.est for pred in predictions])"
   ]
  },
  {
   "cell_type": "code",
   "execution_count": 56,
   "id": "df18121e",
   "metadata": {},
   "outputs": [],
   "source": [
    "# Finding the index of maximum predicted rating\n",
    "i_max = pred_ratings.argmax()"
   ]
  },
  {
   "cell_type": "code",
   "execution_count": 57,
   "id": "267bee35",
   "metadata": {},
   "outputs": [
    {
     "name": "stdout",
     "output_type": "stream",
     "text": [
      "Top item to be recommended for user 50 is 53 with predicted rating as 5.0\n"
     ]
    }
   ],
   "source": [
    "# Recommending the item with maximum predicted rating\n",
    "iid_recommend_most = iids_to_predict[i_max] \n",
    "print(\"Top item to be recommended for user {0} is {1} with predicted rating as {2}\".format(50,iid_recommend_most,pred_ratings[i_max]))"
   ]
  },
  {
   "cell_type": "code",
   "execution_count": 58,
   "id": "9cfa7fe1",
   "metadata": {},
   "outputs": [
    {
     "name": "stdout",
     "output_type": "stream",
     "text": [
      "[ 53 183 301 309 559 702 764 820 845 876]\n"
     ]
    }
   ],
   "source": [
    "# Getting top 10 items to be recommended for uid = 50\n",
    "import heapq\n",
    "i_sorted_10 = heapq.nlargest(10, range(len(pred_ratings)), pred_ratings.take)\n",
    "top_10_items = iids_to_predict[i_sorted_10]\n",
    "print(top_10_items)"
   ]
  },
  {
   "cell_type": "code",
   "execution_count": null,
   "id": "1d17c0d4",
   "metadata": {},
   "outputs": [],
   "source": []
  }
 ],
 "metadata": {
  "kernelspec": {
   "display_name": "Python 3",
   "language": "python",
   "name": "python3"
  },
  "language_info": {
   "codemirror_mode": {
    "name": "ipython",
    "version": 3
   },
   "file_extension": ".py",
   "mimetype": "text/x-python",
   "name": "python",
   "nbconvert_exporter": "python",
   "pygments_lexer": "ipython3",
   "version": "3.8.8"
  }
 },
 "nbformat": 4,
 "nbformat_minor": 5
}
