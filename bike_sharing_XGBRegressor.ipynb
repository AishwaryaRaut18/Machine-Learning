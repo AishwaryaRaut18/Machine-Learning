{
 "cells": [
  {
   "cell_type": "code",
   "execution_count": 1,
   "id": "d771269e",
   "metadata": {},
   "outputs": [],
   "source": [
    "import pandas as pd"
   ]
  },
  {
   "cell_type": "code",
   "execution_count": 2,
   "id": "f4d6edb5",
   "metadata": {},
   "outputs": [],
   "source": [
    "df=pd.read_csv(\"C:/Users/User/Desktop/cdac advance modules/pml lecture/class  practice/program_dataset/train.csv\", parse_dates=['datetime'])\n",
    "df1=pd.read_csv(\"C:/Users/User/Desktop/cdac advance modules/pml lecture/class  practice/program_dataset/train.csv\", parse_dates=['datetime'])"
   ]
  },
  {
   "cell_type": "code",
   "execution_count": 3,
   "id": "020d693b",
   "metadata": {},
   "outputs": [],
   "source": [
    "df['year'] = df['datetime'].dt.year\n",
    "\n",
    "df['month'] = df['datetime'].dt.month\n",
    "\n",
    "df['day'] = df['datetime'].dt.day\n",
    "\n",
    "df['hour'] = df['datetime'].dt.hour\n",
    "\n",
    "df['weekday']=df['datetime'].dt.weekday\n",
    "\n",
    "df1['year'] = df1['datetime'].dt.year\n",
    "\n",
    "df1['month'] = df1['datetime'].dt.month\n",
    "\n",
    "df1['day'] = df1['datetime'].dt.day\n",
    "\n",
    "df1['hour'] = df1['datetime'].dt.hour\n",
    "\n",
    "df1['weekday']=df1['datetime'].dt.weekday"
   ]
  },
  {
   "cell_type": "code",
   "execution_count": 4,
   "id": "2d032db1",
   "metadata": {},
   "outputs": [],
   "source": [
    "df.drop(['count','registered','datetime'],axis=1,inplace=True)\n",
    "df1.drop(['count','casual','datetime'],axis=1,inplace=True)"
   ]
  },
  {
   "cell_type": "code",
   "execution_count": 5,
   "id": "3b62a87d",
   "metadata": {},
   "outputs": [],
   "source": [
    "X=df.drop('casual',axis=1)\n",
    "X1=df1.drop('registered',axis=1)"
   ]
  },
  {
   "cell_type": "code",
   "execution_count": 6,
   "id": "413afd7a",
   "metadata": {},
   "outputs": [],
   "source": [
    "y=df['casual']\n",
    "y1=df1['registered']"
   ]
  },
  {
   "cell_type": "code",
   "execution_count": 7,
   "id": "98f4c18e",
   "metadata": {},
   "outputs": [],
   "source": [
    "from sklearn.model_selection import train_test_split \n",
    "from xgboost import XGBRegressor"
   ]
  },
  {
   "cell_type": "code",
   "execution_count": 8,
   "id": "e8829f5f",
   "metadata": {},
   "outputs": [],
   "source": [
    "df2=pd.read_csv(\"test.csv\", parse_dates=['datetime'])"
   ]
  },
  {
   "cell_type": "code",
   "execution_count": 9,
   "id": "c30a3c99",
   "metadata": {},
   "outputs": [],
   "source": [
    "df2['year'] = df2['datetime'].dt.year\n",
    "\n",
    "df2['month'] = df2['datetime'].dt.month\n",
    "\n",
    "df2['day'] = df2['datetime'].dt.day\n",
    "\n",
    "df2['hour'] = df2['datetime'].dt.hour\n",
    "\n",
    "df2['weekday']=df2['datetime'].dt.weekday"
   ]
  },
  {
   "cell_type": "code",
   "execution_count": 10,
   "id": "8c45e8bb",
   "metadata": {},
   "outputs": [],
   "source": [
    "df2.drop('datetime',axis=1,inplace=True)"
   ]
  },
  {
   "cell_type": "code",
   "execution_count": 17,
   "id": "b69793ff",
   "metadata": {},
   "outputs": [
    {
     "name": "stdout",
     "output_type": "stream",
     "text": [
      "{'learning_rate': 0.1, 'max_depth': 8, 'n_estimators': 100}\n",
      "0.9621616090731233\n"
     ]
    }
   ],
   "source": [
    "lr_range = [0.001, 0.01, 0.1, 0.2,0.25, 0.3]\n",
    "n_est_range = [10,20,30,50,100]\n",
    "md_range = [2,4,6,8,10]\n",
    "\n",
    "parameters = dict(learning_rate=lr_range,\n",
    "                  n_estimators=n_est_range,\n",
    "                  max_depth=md_range)\n",
    "\n",
    "from sklearn.model_selection import GridSearchCV\n",
    "from sklearn.model_selection import KFold\n",
    "kfold = KFold(n_splits=5, random_state=42,shuffle=True)\n",
    "\n",
    "clf = XGBRegressor(random_state=1211)\n",
    "cv = GridSearchCV(clf, param_grid=parameters,\n",
    "                  cv=kfold,scoring='r2')\n",
    "\n",
    "cv.fit(X1,y1)\n",
    "\n",
    "print(cv.best_params_)\n",
    "\n",
    "print(cv.best_score_)"
   ]
  },
  {
   "cell_type": "markdown",
   "id": "50435f08",
   "metadata": {},
   "source": [
    "casual:-{'learning_rate': 0.1, 'max_depth': 8, 'n_estimators': 100}\n",
    "0.9359325736245537\n",
    "\n",
    "registered:-{'learning_rate': 0.1, 'max_depth': 8, 'n_estimators': 100}\n",
    "0.9621616090731233\n",
    "\n"
   ]
  },
  {
   "cell_type": "code",
   "execution_count": 24,
   "id": "78dada18",
   "metadata": {},
   "outputs": [],
   "source": [
    "clf = XGBRegressor(learning_rate= 0.1, max_depth=8, n_estimators= 100)\n",
    "clf.fit(X,y)\n",
    "y_pred_casual = clf.predict(df2)\n",
    "y_pred_casual[y_pred_casual<0]=0"
   ]
  },
  {
   "cell_type": "code",
   "execution_count": 26,
   "id": "6c19d650",
   "metadata": {},
   "outputs": [],
   "source": [
    "clf = XGBRegressor(learning_rate= 0.1, max_depth= 8, n_estimators= 100)\n",
    "clf.fit(X1,y1)\n",
    "y_pred_registered = clf.predict(df2)\n",
    "y_pred_registered[y_pred_registered<0]=0"
   ]
  },
  {
   "cell_type": "code",
   "execution_count": 27,
   "id": "e0010b16",
   "metadata": {},
   "outputs": [],
   "source": [
    "testData=pd.read_csv(\"C:/Users/User/Desktop/cdac advance modules/pml lecture/class  practice/program_dataset/test.csv\")\n",
    "datetime=testData['datetime']"
   ]
  },
  {
   "cell_type": "code",
   "execution_count": 28,
   "id": "0150b0a6",
   "metadata": {},
   "outputs": [],
   "source": [
    "import numpy as np\n",
    "count=np.add(y_pred_casual,y_pred_registered)"
   ]
  },
  {
   "cell_type": "code",
   "execution_count": 29,
   "id": "c765a020",
   "metadata": {},
   "outputs": [],
   "source": [
    "submit=pd.DataFrame({'datetime':datetime,'count':count})\n",
    "submit.to_csv(\"./submit_XSBRegressor.csv\",index=False)"
   ]
  },
  {
   "cell_type": "code",
   "execution_count": null,
   "id": "c4dbe247",
   "metadata": {},
   "outputs": [],
   "source": []
  }
 ],
 "metadata": {
  "kernelspec": {
   "display_name": "Python 3",
   "language": "python",
   "name": "python3"
  },
  "language_info": {
   "codemirror_mode": {
    "name": "ipython",
    "version": 3
   },
   "file_extension": ".py",
   "mimetype": "text/x-python",
   "name": "python",
   "nbconvert_exporter": "python",
   "pygments_lexer": "ipython3",
   "version": "3.8.8"
  }
 },
 "nbformat": 4,
 "nbformat_minor": 5
}
