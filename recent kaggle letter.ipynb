{
 "cells": [
  {
   "cell_type": "code",
   "execution_count": 1,
   "metadata": {
    "execution": {
     "iopub.execute_input": "2021-09-06T09:28:25.238932Z",
     "iopub.status.busy": "2021-09-06T09:28:25.238413Z",
     "iopub.status.idle": "2021-09-06T09:28:31.848295Z",
     "shell.execute_reply": "2021-09-06T09:28:31.847238Z",
     "shell.execute_reply.started": "2021-09-06T09:28:25.238808Z"
    }
   },
   "outputs": [],
   "source": [
    "import numpy as np\n",
    "import pandas as pd\n",
    "%matplotlib inline\n",
    "import matplotlib.image as mpimg\n",
    "import matplotlib.pyplot as plt\n",
    "import tensorflow as tf\n",
    "import math\n",
    "import seaborn as sns\n",
    "import random\n",
    "import cv2 as cv\n",
    "from tensorflow import keras\n",
    "from tensorflow.keras import layers\n",
    "from keras.models import Sequential\n",
    "from keras.layers import Dense, Flatten, Conv2D, MaxPool2D, Dropout, Activation\n",
    "from keras import optimizers\n",
    "from keras_preprocessing.image import ImageDataGenerator\n",
    "from keras.models import load_model\n",
    "import warnings\n",
    "warnings.simplefilter(action='ignore', category=FutureWarning)\n",
    "warnings.filterwarnings(\"ignore\", category=DeprecationWarning) \n",
    "#tf.compat.v1.set_random_seed(2021)"
   ]
  },
  {
   "cell_type": "code",
   "execution_count": 2,
   "metadata": {
    "execution": {
     "iopub.execute_input": "2021-09-06T09:31:34.133213Z",
     "iopub.status.busy": "2021-09-06T09:31:34.132887Z",
     "iopub.status.idle": "2021-09-06T09:31:34.182190Z",
     "shell.execute_reply": "2021-09-06T09:31:34.181266Z",
     "shell.execute_reply.started": "2021-09-06T09:31:34.133185Z"
    }
   },
   "outputs": [
    {
     "data": {
      "text/plain": [
       "(3410, 2)"
      ]
     },
     "execution_count": 2,
     "metadata": {},
     "output_type": "execute_result"
    }
   ],
   "source": [
    "DATAPATH = '../input/english-handwritten-characters-dataset'\n",
    "train_dir = pd.read_csv(DATAPATH + '/english.csv')\n",
    "train_dir.shape"
   ]
  },
  {
   "cell_type": "code",
   "execution_count": 3,
   "metadata": {
    "execution": {
     "iopub.execute_input": "2021-09-06T09:31:35.701185Z",
     "iopub.status.busy": "2021-09-06T09:31:35.700682Z",
     "iopub.status.idle": "2021-09-06T09:31:35.735022Z",
     "shell.execute_reply": "2021-09-06T09:31:35.733813Z",
     "shell.execute_reply.started": "2021-09-06T09:31:35.701138Z"
    }
   },
   "outputs": [
    {
     "data": {
      "text/html": [
       "<div>\n",
       "<style scoped>\n",
       "    .dataframe tbody tr th:only-of-type {\n",
       "        vertical-align: middle;\n",
       "    }\n",
       "\n",
       "    .dataframe tbody tr th {\n",
       "        vertical-align: top;\n",
       "    }\n",
       "\n",
       "    .dataframe thead th {\n",
       "        text-align: right;\n",
       "    }\n",
       "</style>\n",
       "<table border=\"1\" class=\"dataframe\">\n",
       "  <thead>\n",
       "    <tr style=\"text-align: right;\">\n",
       "      <th></th>\n",
       "      <th>image</th>\n",
       "      <th>label</th>\n",
       "    </tr>\n",
       "  </thead>\n",
       "  <tbody>\n",
       "    <tr>\n",
       "      <th>0</th>\n",
       "      <td>Img/img021-034.png</td>\n",
       "      <td>K</td>\n",
       "    </tr>\n",
       "    <tr>\n",
       "      <th>1</th>\n",
       "      <td>Img/img056-008.png</td>\n",
       "      <td>t</td>\n",
       "    </tr>\n",
       "    <tr>\n",
       "      <th>2</th>\n",
       "      <td>Img/img006-038.png</td>\n",
       "      <td>5</td>\n",
       "    </tr>\n",
       "    <tr>\n",
       "      <th>3</th>\n",
       "      <td>Img/img022-029.png</td>\n",
       "      <td>L</td>\n",
       "    </tr>\n",
       "    <tr>\n",
       "      <th>4</th>\n",
       "      <td>Img/img027-018.png</td>\n",
       "      <td>Q</td>\n",
       "    </tr>\n",
       "    <tr>\n",
       "      <th>...</th>\n",
       "      <td>...</td>\n",
       "      <td>...</td>\n",
       "    </tr>\n",
       "    <tr>\n",
       "      <th>295</th>\n",
       "      <td>Img/img010-015.png</td>\n",
       "      <td>9</td>\n",
       "    </tr>\n",
       "    <tr>\n",
       "      <th>296</th>\n",
       "      <td>Img/img025-046.png</td>\n",
       "      <td>O</td>\n",
       "    </tr>\n",
       "    <tr>\n",
       "      <th>297</th>\n",
       "      <td>Img/img008-018.png</td>\n",
       "      <td>7</td>\n",
       "    </tr>\n",
       "    <tr>\n",
       "      <th>298</th>\n",
       "      <td>Img/img054-033.png</td>\n",
       "      <td>r</td>\n",
       "    </tr>\n",
       "    <tr>\n",
       "      <th>299</th>\n",
       "      <td>Img/img036-004.png</td>\n",
       "      <td>Z</td>\n",
       "    </tr>\n",
       "  </tbody>\n",
       "</table>\n",
       "<p>300 rows × 2 columns</p>\n",
       "</div>"
      ],
      "text/plain": [
       "                  image label\n",
       "0    Img/img021-034.png     K\n",
       "1    Img/img056-008.png     t\n",
       "2    Img/img006-038.png     5\n",
       "3    Img/img022-029.png     L\n",
       "4    Img/img027-018.png     Q\n",
       "..                  ...   ...\n",
       "295  Img/img010-015.png     9\n",
       "296  Img/img025-046.png     O\n",
       "297  Img/img008-018.png     7\n",
       "298  Img/img054-033.png     r\n",
       "299  Img/img036-004.png     Z\n",
       "\n",
       "[300 rows x 2 columns]"
      ]
     },
     "execution_count": 3,
     "metadata": {},
     "output_type": "execute_result"
    }
   ],
   "source": [
    "rand = random.sample(range(len(train_dir)), 300)\n",
    "#Create validation set of data\n",
    "validation_dir = pd.DataFrame(train_dir.iloc[rand,:].values, columns = ['image','label'])\n",
    "#Drop Validation data from dataset\n",
    "train_dir.drop(rand, inplace = True)\n",
    "#Show Validation dataset\n",
    "validation_dir"
   ]
  },
  {
   "cell_type": "code",
   "execution_count": 4,
   "metadata": {
    "execution": {
     "iopub.execute_input": "2021-09-06T09:31:36.841731Z",
     "iopub.status.busy": "2021-09-06T09:31:36.841213Z",
     "iopub.status.idle": "2021-09-06T09:31:36.868619Z",
     "shell.execute_reply": "2021-09-06T09:31:36.867590Z",
     "shell.execute_reply.started": "2021-09-06T09:31:36.841690Z"
    }
   },
   "outputs": [
    {
     "data": {
      "text/html": [
       "<div>\n",
       "<style scoped>\n",
       "    .dataframe tbody tr th:only-of-type {\n",
       "        vertical-align: middle;\n",
       "    }\n",
       "\n",
       "    .dataframe tbody tr th {\n",
       "        vertical-align: top;\n",
       "    }\n",
       "\n",
       "    .dataframe thead th {\n",
       "        text-align: right;\n",
       "    }\n",
       "</style>\n",
       "<table border=\"1\" class=\"dataframe\">\n",
       "  <thead>\n",
       "    <tr style=\"text-align: right;\">\n",
       "      <th></th>\n",
       "      <th>image</th>\n",
       "      <th>label</th>\n",
       "    </tr>\n",
       "  </thead>\n",
       "  <tbody>\n",
       "    <tr>\n",
       "      <th>0</th>\n",
       "      <td>Img/img021-034.png</td>\n",
       "      <td>K</td>\n",
       "    </tr>\n",
       "    <tr>\n",
       "      <th>1</th>\n",
       "      <td>Img/img056-008.png</td>\n",
       "      <td>t</td>\n",
       "    </tr>\n",
       "    <tr>\n",
       "      <th>2</th>\n",
       "      <td>Img/img006-038.png</td>\n",
       "      <td>5</td>\n",
       "    </tr>\n",
       "    <tr>\n",
       "      <th>3</th>\n",
       "      <td>Img/img022-029.png</td>\n",
       "      <td>L</td>\n",
       "    </tr>\n",
       "    <tr>\n",
       "      <th>4</th>\n",
       "      <td>Img/img027-018.png</td>\n",
       "      <td>Q</td>\n",
       "    </tr>\n",
       "    <tr>\n",
       "      <th>...</th>\n",
       "      <td>...</td>\n",
       "      <td>...</td>\n",
       "    </tr>\n",
       "    <tr>\n",
       "      <th>293</th>\n",
       "      <td>Img/img062-037.png</td>\n",
       "      <td>z</td>\n",
       "    </tr>\n",
       "    <tr>\n",
       "      <th>294</th>\n",
       "      <td>Img/img018-007.png</td>\n",
       "      <td>H</td>\n",
       "    </tr>\n",
       "    <tr>\n",
       "      <th>297</th>\n",
       "      <td>Img/img008-018.png</td>\n",
       "      <td>7</td>\n",
       "    </tr>\n",
       "    <tr>\n",
       "      <th>298</th>\n",
       "      <td>Img/img054-033.png</td>\n",
       "      <td>r</td>\n",
       "    </tr>\n",
       "    <tr>\n",
       "      <th>299</th>\n",
       "      <td>Img/img036-004.png</td>\n",
       "      <td>Z</td>\n",
       "    </tr>\n",
       "  </tbody>\n",
       "</table>\n",
       "<p>285 rows × 2 columns</p>\n",
       "</div>"
      ],
      "text/plain": [
       "                  image label\n",
       "0    Img/img021-034.png     K\n",
       "1    Img/img056-008.png     t\n",
       "2    Img/img006-038.png     5\n",
       "3    Img/img022-029.png     L\n",
       "4    Img/img027-018.png     Q\n",
       "..                  ...   ...\n",
       "293  Img/img062-037.png     z\n",
       "294  Img/img018-007.png     H\n",
       "297  Img/img008-018.png     7\n",
       "298  Img/img054-033.png     r\n",
       "299  Img/img036-004.png     Z\n",
       "\n",
       "[285 rows x 2 columns]"
      ]
     },
     "execution_count": 4,
     "metadata": {},
     "output_type": "execute_result"
    }
   ],
   "source": [
    "#Pick randomly 15 values\n",
    "rand = random.sample(range(len(validation_dir)), 15)\n",
    "#Create test set of data\n",
    "test_dir = pd.DataFrame(validation_dir.iloc[rand,:].values, columns = ['image','label'])\n",
    "#Drop Test data from validation set\n",
    "validation_dir.drop(rand, inplace = True)\n",
    "#Show Validation dataset\n",
    "validation_dir"
   ]
  },
  {
   "cell_type": "code",
   "execution_count": 5,
   "metadata": {
    "execution": {
     "iopub.execute_input": "2021-09-06T09:31:37.884972Z",
     "iopub.status.busy": "2021-09-06T09:31:37.884474Z",
     "iopub.status.idle": "2021-09-06T09:31:37.909571Z",
     "shell.execute_reply": "2021-09-06T09:31:37.908603Z",
     "shell.execute_reply.started": "2021-09-06T09:31:37.884933Z"
    }
   },
   "outputs": [
    {
     "data": {
      "text/html": [
       "<div>\n",
       "<style scoped>\n",
       "    .dataframe tbody tr th:only-of-type {\n",
       "        vertical-align: middle;\n",
       "    }\n",
       "\n",
       "    .dataframe tbody tr th {\n",
       "        vertical-align: top;\n",
       "    }\n",
       "\n",
       "    .dataframe thead th {\n",
       "        text-align: right;\n",
       "    }\n",
       "</style>\n",
       "<table border=\"1\" class=\"dataframe\">\n",
       "  <thead>\n",
       "    <tr style=\"text-align: right;\">\n",
       "      <th></th>\n",
       "      <th>image</th>\n",
       "      <th>label</th>\n",
       "    </tr>\n",
       "  </thead>\n",
       "  <tbody>\n",
       "    <tr>\n",
       "      <th>0</th>\n",
       "      <td>Img/img008-008.png</td>\n",
       "      <td>7</td>\n",
       "    </tr>\n",
       "    <tr>\n",
       "      <th>1</th>\n",
       "      <td>Img/img022-019.png</td>\n",
       "      <td>L</td>\n",
       "    </tr>\n",
       "    <tr>\n",
       "      <th>2</th>\n",
       "      <td>Img/img008-016.png</td>\n",
       "      <td>7</td>\n",
       "    </tr>\n",
       "    <tr>\n",
       "      <th>3</th>\n",
       "      <td>Img/img017-023.png</td>\n",
       "      <td>G</td>\n",
       "    </tr>\n",
       "    <tr>\n",
       "      <th>4</th>\n",
       "      <td>Img/img061-024.png</td>\n",
       "      <td>y</td>\n",
       "    </tr>\n",
       "    <tr>\n",
       "      <th>5</th>\n",
       "      <td>Img/img010-015.png</td>\n",
       "      <td>9</td>\n",
       "    </tr>\n",
       "    <tr>\n",
       "      <th>6</th>\n",
       "      <td>Img/img039-037.png</td>\n",
       "      <td>c</td>\n",
       "    </tr>\n",
       "    <tr>\n",
       "      <th>7</th>\n",
       "      <td>Img/img061-007.png</td>\n",
       "      <td>y</td>\n",
       "    </tr>\n",
       "    <tr>\n",
       "      <th>8</th>\n",
       "      <td>Img/img005-007.png</td>\n",
       "      <td>4</td>\n",
       "    </tr>\n",
       "    <tr>\n",
       "      <th>9</th>\n",
       "      <td>Img/img025-046.png</td>\n",
       "      <td>O</td>\n",
       "    </tr>\n",
       "    <tr>\n",
       "      <th>10</th>\n",
       "      <td>Img/img062-041.png</td>\n",
       "      <td>z</td>\n",
       "    </tr>\n",
       "    <tr>\n",
       "      <th>11</th>\n",
       "      <td>Img/img006-010.png</td>\n",
       "      <td>5</td>\n",
       "    </tr>\n",
       "    <tr>\n",
       "      <th>12</th>\n",
       "      <td>Img/img042-017.png</td>\n",
       "      <td>f</td>\n",
       "    </tr>\n",
       "    <tr>\n",
       "      <th>13</th>\n",
       "      <td>Img/img011-015.png</td>\n",
       "      <td>A</td>\n",
       "    </tr>\n",
       "    <tr>\n",
       "      <th>14</th>\n",
       "      <td>Img/img036-030.png</td>\n",
       "      <td>Z</td>\n",
       "    </tr>\n",
       "  </tbody>\n",
       "</table>\n",
       "</div>"
      ],
      "text/plain": [
       "                 image label\n",
       "0   Img/img008-008.png     7\n",
       "1   Img/img022-019.png     L\n",
       "2   Img/img008-016.png     7\n",
       "3   Img/img017-023.png     G\n",
       "4   Img/img061-024.png     y\n",
       "5   Img/img010-015.png     9\n",
       "6   Img/img039-037.png     c\n",
       "7   Img/img061-007.png     y\n",
       "8   Img/img005-007.png     4\n",
       "9   Img/img025-046.png     O\n",
       "10  Img/img062-041.png     z\n",
       "11  Img/img006-010.png     5\n",
       "12  Img/img042-017.png     f\n",
       "13  Img/img011-015.png     A\n",
       "14  Img/img036-030.png     Z"
      ]
     },
     "execution_count": 5,
     "metadata": {},
     "output_type": "execute_result"
    }
   ],
   "source": [
    "test_dir['4', 'd', 'Q', 'y', '7', '9', 'Z', 'A', 'c', 'G', 'L', 'Z', 'y', '5', '7']"
   ]
  },
  {
   "cell_type": "code",
   "execution_count": 6,
   "metadata": {
    "execution": {
     "iopub.execute_input": "2021-09-06T09:31:39.122537Z",
     "iopub.status.busy": "2021-09-06T09:31:39.122110Z",
     "iopub.status.idle": "2021-09-06T09:31:46.221324Z",
     "shell.execute_reply": "2021-09-06T09:31:46.220307Z",
     "shell.execute_reply.started": "2021-09-06T09:31:39.122509Z"
    }
   },
   "outputs": [
    {
     "name": "stdout",
     "output_type": "stream",
     "text": [
      "Found 3110 validated image filenames belonging to 62 classes.\n",
      "Found 285 validated image filenames belonging to 62 classes.\n",
      "Found 15 validated image filenames belonging to 13 classes.\n"
     ]
    }
   ],
   "source": [
    "from tensorflow.keras.preprocessing.image import ImageDataGenerator\n",
    "\n",
    "# All images will be rescaled by 1./255.\n",
    "train_datagen = ImageDataGenerator( rescale = 1.0/255. )\n",
    "test_datagen  = ImageDataGenerator( rescale = 1.0/255. )\n",
    "test2_datagen  = ImageDataGenerator( rescale = 1.0/255. )\n",
    "# --------------------\n",
    "# Flow training images in batches of 20 using train_datagen generator\n",
    "# --------------------\n",
    "train_generator = train_datagen.flow_from_dataframe( \n",
    "                                            dataframe = train_dir, \n",
    "                                            directory = DATAPATH,\n",
    "                                            x_col = 'image',\n",
    "                                            y_col = 'label',\n",
    "                                            target_size = (150,150),\n",
    "                                            classe_mode = 'categorical')\n",
    "# --------------------\n",
    "# Flow validation images in batches of 20 using test_datagen generator\n",
    "# --------------------\n",
    "validation_generator =  test_datagen.flow_from_dataframe( \n",
    "                                            dataframe = validation_dir, \n",
    "                                            directory = DATAPATH,\n",
    "                                            x_col = 'image',\n",
    "                                            y_col = 'label',\n",
    "                                            target_size = (150,150),\n",
    "                                            classe_mode = 'categorical')\n",
    "\n",
    "\n",
    "test_generator =  test2_datagen.flow_from_dataframe( \n",
    "                                            dataframe = test_dir, \n",
    "                                            directory = DATAPATH,\n",
    "                                            x_col = 'image',\n",
    "                                            y_col = 'label',\n",
    "                                            target_size = (150,150),\n",
    "                                            classe_mode = 'categorical')\n"
   ]
  },
  {
   "cell_type": "code",
   "execution_count": 7,
   "metadata": {
    "execution": {
     "iopub.execute_input": "2021-09-06T09:31:48.226974Z",
     "iopub.status.busy": "2021-09-06T09:31:48.226569Z",
     "iopub.status.idle": "2021-09-06T09:31:50.926949Z",
     "shell.execute_reply": "2021-09-06T09:31:50.925906Z",
     "shell.execute_reply.started": "2021-09-06T09:31:48.226933Z"
    }
   },
   "outputs": [],
   "source": [
    "model = tf.keras.models.Sequential([\n",
    "    # Note the input shape is the desired size of the image 150x150 with 3 bytes color\n",
    "    tf.keras.layers.Conv2D(16, (3,3), activation='relu', input_shape=(150, 150, 3)),\n",
    "    tf.keras.layers.MaxPooling2D(2,2),\n",
    "    tf.keras.layers.Conv2D(32, (3,3), activation='relu'),\n",
    "    tf.keras.layers.MaxPooling2D(2,2), \n",
    "    tf.keras.layers.Conv2D(64, (3,3), activation='relu'), \n",
    "    tf.keras.layers.MaxPooling2D(2,2),\n",
    "    # Flatten the results to feed into a DNN\n",
    "    tf.keras.layers.Flatten(), \n",
    "    # 512 neuron hidden layer\n",
    "    tf.keras.layers.Dense(512, activation='relu'), \n",
    "    tf.keras.layers.Dropout(0.1),\n",
    "    tf.keras.layers.Dense(200, activation='relu'),\n",
    "    tf.keras.layers.Dropout(0.2),\n",
    "    # Only 1 output neuron. It will contain a value from 0-1 where 0 for 1 class ('Organic') \n",
    "    # and 1 for the other ('Recycled')\n",
    "    tf.keras.layers.Dense(62, activation='sigmoid')  \n",
    "])"
   ]
  },
  {
   "cell_type": "code",
   "execution_count": 8,
   "metadata": {
    "execution": {
     "iopub.execute_input": "2021-09-06T09:32:09.863746Z",
     "iopub.status.busy": "2021-09-06T09:32:09.863383Z",
     "iopub.status.idle": "2021-09-06T09:32:09.878195Z",
     "shell.execute_reply": "2021-09-06T09:32:09.877090Z",
     "shell.execute_reply.started": "2021-09-06T09:32:09.863712Z"
    }
   },
   "outputs": [
    {
     "name": "stdout",
     "output_type": "stream",
     "text": [
      "Model: \"sequential\"\n",
      "_________________________________________________________________\n",
      "Layer (type)                 Output Shape              Param #   \n",
      "=================================================================\n",
      "conv2d (Conv2D)              (None, 148, 148, 16)      448       \n",
      "_________________________________________________________________\n",
      "max_pooling2d (MaxPooling2D) (None, 74, 74, 16)        0         \n",
      "_________________________________________________________________\n",
      "conv2d_1 (Conv2D)            (None, 72, 72, 32)        4640      \n",
      "_________________________________________________________________\n",
      "max_pooling2d_1 (MaxPooling2 (None, 36, 36, 32)        0         \n",
      "_________________________________________________________________\n",
      "conv2d_2 (Conv2D)            (None, 34, 34, 64)        18496     \n",
      "_________________________________________________________________\n",
      "max_pooling2d_2 (MaxPooling2 (None, 17, 17, 64)        0         \n",
      "_________________________________________________________________\n",
      "flatten (Flatten)            (None, 18496)             0         \n",
      "_________________________________________________________________\n",
      "dense (Dense)                (None, 512)               9470464   \n",
      "_________________________________________________________________\n",
      "dropout (Dropout)            (None, 512)               0         \n",
      "_________________________________________________________________\n",
      "dense_1 (Dense)              (None, 200)               102600    \n",
      "_________________________________________________________________\n",
      "dropout_1 (Dropout)          (None, 200)               0         \n",
      "_________________________________________________________________\n",
      "dense_2 (Dense)              (None, 62)                12462     \n",
      "=================================================================\n",
      "Total params: 9,609,110\n",
      "Trainable params: 9,609,110\n",
      "Non-trainable params: 0\n",
      "_________________________________________________________________\n"
     ]
    }
   ],
   "source": [
    "model.summary()"
   ]
  },
  {
   "cell_type": "code",
   "execution_count": 9,
   "metadata": {
    "execution": {
     "iopub.execute_input": "2021-09-06T09:32:13.049445Z",
     "iopub.status.busy": "2021-09-06T09:32:13.049104Z",
     "iopub.status.idle": "2021-09-06T09:32:13.800438Z",
     "shell.execute_reply": "2021-09-06T09:32:13.799376Z",
     "shell.execute_reply.started": "2021-09-06T09:32:13.049417Z"
    }
   },
   "outputs": [
    {
     "data": {
      "image/png": "[encoded data removed]",
      "text/plain": [
       "<IPython.core.display.Image object>"
      ]
     },
     "execution_count": 9,
     "metadata": {},
     "output_type": "execute_result"
    }
   ],
   "source": [
    "from tensorflow import keras\n",
    "keras.utils.plot_model(model, \"my_cnn_model.png\")"
   ]
  },
  {
   "cell_type": "code",
   "execution_count": 10,
   "metadata": {
    "execution": {
     "iopub.execute_input": "2021-09-06T09:32:15.696131Z",
     "iopub.status.busy": "2021-09-06T09:32:15.695725Z",
     "iopub.status.idle": "2021-09-06T09:32:15.718000Z",
     "shell.execute_reply": "2021-09-06T09:32:15.716466Z",
     "shell.execute_reply.started": "2021-09-06T09:32:15.696098Z"
    }
   },
   "outputs": [],
   "source": [
    "from tensorflow.keras.optimizers import RMSprop\n",
    "\n",
    "model.compile(optimizer=RMSprop(lr=0.001),\n",
    "              loss='categorical_crossentropy',\n",
    "              metrics = ['acc'])"
   ]
  },
  {
   "cell_type": "code",
   "execution_count": 11,
   "metadata": {
    "execution": {
     "iopub.execute_input": "2021-09-06T09:32:17.659141Z",
     "iopub.status.busy": "2021-09-06T09:32:17.658728Z",
     "iopub.status.idle": "2021-09-06T09:54:51.552791Z",
     "shell.execute_reply": "2021-09-06T09:54:51.551413Z",
     "shell.execute_reply.started": "2021-09-06T09:32:17.659112Z"
    }
   },
   "outputs": [
    {
     "name": "stdout",
     "output_type": "stream",
     "text": [
      "Epoch 1/30\n",
      "98/98 [==============================] - 66s 593ms/step - loss: 4.8618 - acc: 0.0483 - val_loss: 2.5730 - val_acc: 0.3614\n",
      "Epoch 2/30\n",
      "98/98 [==============================] - 45s 462ms/step - loss: 2.3290 - acc: 0.3896 - val_loss: 1.7914 - val_acc: 0.5298\n",
      "Epoch 3/30\n",
      "98/98 [==============================] - 46s 466ms/step - loss: 1.3054 - acc: 0.6351 - val_loss: 1.4191 - val_acc: 0.6281\n",
      "Epoch 4/30\n",
      "98/98 [==============================] - 47s 477ms/step - loss: 0.7175 - acc: 0.7930 - val_loss: 1.3726 - val_acc: 0.6561\n",
      "Epoch 5/30\n",
      "98/98 [==============================] - 49s 501ms/step - loss: 0.4079 - acc: 0.8815 - val_loss: 1.4872 - val_acc: 0.6491\n",
      "Epoch 6/30\n",
      "98/98 [==============================] - 50s 510ms/step - loss: 0.2920 - acc: 0.9045 - val_loss: 1.6206 - val_acc: 0.6351\n",
      "Epoch 7/30\n",
      "98/98 [==============================] - 47s 480ms/step - loss: 0.1881 - acc: 0.9449 - val_loss: 1.5536 - val_acc: 0.6561\n",
      "Epoch 8/30\n",
      "98/98 [==============================] - 48s 489ms/step - loss: 0.1388 - acc: 0.9535 - val_loss: 1.4616 - val_acc: 0.6246\n",
      "Epoch 9/30\n",
      "98/98 [==============================] - 48s 494ms/step - loss: 0.1119 - acc: 0.9658 - val_loss: 1.7566 - val_acc: 0.6421\n",
      "Epoch 10/30\n",
      "98/98 [==============================] - 48s 486ms/step - loss: 0.0634 - acc: 0.9813 - val_loss: 1.7234 - val_acc: 0.6596\n",
      "Epoch 11/30\n",
      "98/98 [==============================] - 45s 458ms/step - loss: 0.0740 - acc: 0.9764 - val_loss: 2.3966 - val_acc: 0.6386\n",
      "Epoch 12/30\n",
      "98/98 [==============================] - 45s 460ms/step - loss: 0.0495 - acc: 0.9838 - val_loss: 2.0202 - val_acc: 0.6772\n",
      "Epoch 13/30\n",
      "98/98 [==============================] - 44s 454ms/step - loss: 0.0657 - acc: 0.9822 - val_loss: 2.1409 - val_acc: 0.6456\n",
      "Epoch 14/30\n",
      "98/98 [==============================] - 43s 442ms/step - loss: 0.0438 - acc: 0.9857 - val_loss: 2.3178 - val_acc: 0.6526\n",
      "Epoch 15/30\n",
      "98/98 [==============================] - 42s 426ms/step - loss: 0.0340 - acc: 0.9895 - val_loss: 2.4228 - val_acc: 0.6772\n",
      "Epoch 16/30\n",
      "98/98 [==============================] - 41s 423ms/step - loss: 0.0309 - acc: 0.9915 - val_loss: 2.2335 - val_acc: 0.6877\n",
      "Epoch 17/30\n",
      "98/98 [==============================] - 43s 435ms/step - loss: 0.0274 - acc: 0.9900 - val_loss: 2.2342 - val_acc: 0.6982\n",
      "Epoch 18/30\n",
      "98/98 [==============================] - 42s 431ms/step - loss: 0.0197 - acc: 0.9928 - val_loss: 2.3361 - val_acc: 0.6772\n",
      "Epoch 19/30\n",
      "98/98 [==============================] - 42s 432ms/step - loss: 0.0234 - acc: 0.9894 - val_loss: 2.0224 - val_acc: 0.6596\n",
      "Epoch 20/30\n",
      "98/98 [==============================] - 43s 435ms/step - loss: 0.0177 - acc: 0.9952 - val_loss: 2.5839 - val_acc: 0.6491\n",
      "Epoch 21/30\n",
      "98/98 [==============================] - 43s 435ms/step - loss: 0.0103 - acc: 0.9959 - val_loss: 2.7062 - val_acc: 0.6737\n",
      "Epoch 22/30\n",
      "98/98 [==============================] - 44s 447ms/step - loss: 0.0161 - acc: 0.9940 - val_loss: 2.7803 - val_acc: 0.6912\n",
      "Epoch 23/30\n",
      "98/98 [==============================] - 42s 430ms/step - loss: 0.0127 - acc: 0.9951 - val_loss: 2.9926 - val_acc: 0.6807\n",
      "Epoch 24/30\n",
      "98/98 [==============================] - 43s 442ms/step - loss: 0.0175 - acc: 0.9941 - val_loss: 3.1244 - val_acc: 0.6211\n",
      "Epoch 25/30\n",
      "98/98 [==============================] - 43s 443ms/step - loss: 0.0220 - acc: 0.9950 - val_loss: 2.6612 - val_acc: 0.6737\n",
      "Epoch 26/30\n",
      "98/98 [==============================] - 43s 442ms/step - loss: 0.0106 - acc: 0.9964 - val_loss: 2.8886 - val_acc: 0.6807\n",
      "Epoch 27/30\n",
      "98/98 [==============================] - 43s 438ms/step - loss: 0.0173 - acc: 0.9956 - val_loss: 2.3431 - val_acc: 0.6947\n",
      "Epoch 28/30\n",
      "98/98 [==============================] - 43s 436ms/step - loss: 0.0125 - acc: 0.9953 - val_loss: 2.6394 - val_acc: 0.6912\n",
      "Epoch 29/30\n",
      "98/98 [==============================] - 42s 430ms/step - loss: 0.0066 - acc: 0.9982 - val_loss: 3.2254 - val_acc: 0.6667\n",
      "Epoch 30/30\n",
      "98/98 [==============================] - 43s 435ms/step - loss: 0.0089 - acc: 0.9969 - val_loss: 3.4636 - val_acc: 0.6912\n"
     ]
    }
   ],
   "source": [
    "history = model.fit(train_generator,\n",
    "                              validation_data=validation_generator,\n",
    "                              epochs=30)"
   ]
  },
  {
   "cell_type": "code",
   "execution_count": 12,
   "metadata": {
    "execution": {
     "iopub.execute_input": "2021-09-06T09:57:56.366201Z",
     "iopub.status.busy": "2021-09-06T09:57:56.365663Z",
     "iopub.status.idle": "2021-09-06T09:57:56.984585Z",
     "shell.execute_reply": "2021-09-06T09:57:56.983286Z",
     "shell.execute_reply.started": "2021-09-06T09:57:56.366169Z"
    }
   },
   "outputs": [
    {
     "name": "stderr",
     "output_type": "stream",
     "text": [
      "/opt/conda/lib/python3.7/site-packages/tensorflow/python/keras/engine/training.py:1905: UserWarning: `Model.predict_generator` is deprecated and will be removed in a future version. Please use `Model.predict`, which supports generators.\n",
      "  warnings.warn('`Model.predict_generator` is deprecated and '\n"
     ]
    }
   ],
   "source": [
    "y_prob = model.predict_generator(test_generator)"
   ]
  },
  {
   "cell_type": "code",
   "execution_count": 13,
   "metadata": {
    "execution": {
     "iopub.execute_input": "2021-09-06T09:57:58.946136Z",
     "iopub.status.busy": "2021-09-06T09:57:58.945622Z",
     "iopub.status.idle": "2021-09-06T09:57:58.952089Z",
     "shell.execute_reply": "2021-09-06T09:57:58.950915Z",
     "shell.execute_reply.started": "2021-09-06T09:57:58.946095Z"
    }
   },
   "outputs": [],
   "source": [
    "cls = []\n",
    "classes = list(train_generator.class_indices.keys())"
   ]
  },
  {
   "cell_type": "code",
   "execution_count": 14,
   "metadata": {
    "execution": {
     "iopub.execute_input": "2021-09-06T09:58:00.788653Z",
     "iopub.status.busy": "2021-09-06T09:58:00.788257Z",
     "iopub.status.idle": "2021-09-06T09:58:00.795101Z",
     "shell.execute_reply": "2021-09-06T09:58:00.793548Z",
     "shell.execute_reply.started": "2021-09-06T09:58:00.788624Z"
    }
   },
   "outputs": [],
   "source": [
    "for i in y_prob:\n",
    "    ar = list(i)\n",
    "    cls.append(classes[ar.index(max(ar))])"
   ]
  },
  {
   "cell_type": "code",
   "execution_count": 15,
   "metadata": {
    "execution": {
     "iopub.execute_input": "2021-09-06T09:58:02.169838Z",
     "iopub.status.busy": "2021-09-06T09:58:02.169394Z",
     "iopub.status.idle": "2021-09-06T09:58:02.177938Z",
     "shell.execute_reply": "2021-09-06T09:58:02.176633Z",
     "shell.execute_reply.started": "2021-09-06T09:58:02.169807Z"
    }
   },
   "outputs": [
    {
     "data": {
      "text/plain": [
       "['A', '7', 'e', 'L', 'j', 'A', '7', 'a', 'G', '5', '9', 'y', 'y', 'Z', '2']"
      ]
     },
     "execution_count": 15,
     "metadata": {},
     "output_type": "execute_result"
    }
   ],
   "source": [
    "cls"
   ]
  },
  {
   "cell_type": "markdown",
   "metadata": {},
   "source": [
    "# INCEPTION V3"
   ]
  },
  {
   "cell_type": "code",
   "execution_count": 16,
   "metadata": {
    "execution": {
     "iopub.execute_input": "2021-09-06T09:58:05.491969Z",
     "iopub.status.busy": "2021-09-06T09:58:05.491518Z",
     "iopub.status.idle": "2021-09-06T09:58:05.498232Z",
     "shell.execute_reply": "2021-09-06T09:58:05.496754Z",
     "shell.execute_reply.started": "2021-09-06T09:58:05.491923Z"
    }
   },
   "outputs": [],
   "source": [
    "from tensorflow.keras.applications import InceptionV3"
   ]
  },
  {
   "cell_type": "code",
   "execution_count": 17,
   "metadata": {
    "execution": {
     "iopub.execute_input": "2021-09-06T09:58:06.898135Z",
     "iopub.status.busy": "2021-09-06T09:58:06.897759Z",
     "iopub.status.idle": "2021-09-06T09:58:12.438579Z",
     "shell.execute_reply": "2021-09-06T09:58:12.437558Z",
     "shell.execute_reply.started": "2021-09-06T09:58:06.898105Z"
    }
   },
   "outputs": [
    {
     "name": "stdout",
     "output_type": "stream",
     "text": [
      "Downloading data from https://storage.googleapis.com/tensorflow/keras-applications/inception_v3/inception_v3_weights_tf_dim_ordering_tf_kernels_notop.h5\n",
      "87916544/87910968 [==============================] - 2s 0us/step\n"
     ]
    }
   ],
   "source": [
    "from tensorflow.keras import models, layers, optimizers\n",
    "model_base = InceptionV3(weights='imagenet',include_top=False)\n",
    "\n",
    "x = model_base.output\n",
    "x = layers.GlobalAveragePooling2D()(x)\n",
    "x = layers.Dense(512,activation='relu')(x)\n",
    "predictions = layers.Dense(int(len(train_generator.class_indices.keys())) ,activation='softmax')(x)\n",
    "InceptionV3_model = models.Model(inputs= model_base.input, outputs=predictions)"
   ]
  },
  {
   "cell_type": "code",
   "execution_count": 19,
   "metadata": {
    "execution": {
     "iopub.execute_input": "2021-09-06T10:16:45.207113Z",
     "iopub.status.busy": "2021-09-06T10:16:45.206734Z",
     "iopub.status.idle": "2021-09-06T10:39:10.107812Z",
     "shell.execute_reply": "2021-09-06T10:39:10.106896Z",
     "shell.execute_reply.started": "2021-09-06T10:16:45.207082Z"
    }
   },
   "outputs": [
    {
     "name": "stdout",
     "output_type": "stream",
     "text": [
      "Epoch 1/30\n",
      "98/98 [==============================] - 55s 489ms/step - loss: 0.4857 - acc: 0.9364 - val_loss: 0.8051 - val_acc: 0.8035\n",
      "Epoch 2/30\n",
      "98/98 [==============================] - 45s 461ms/step - loss: 0.4436 - acc: 0.9418 - val_loss: 0.7576 - val_acc: 0.8105\n",
      "Epoch 3/30\n",
      "98/98 [==============================] - 46s 466ms/step - loss: 0.4055 - acc: 0.9573 - val_loss: 0.7464 - val_acc: 0.7895\n",
      "Epoch 4/30\n",
      "98/98 [==============================] - 45s 458ms/step - loss: 0.3621 - acc: 0.9473 - val_loss: 0.7076 - val_acc: 0.8140\n",
      "Epoch 5/30\n",
      "98/98 [==============================] - 45s 462ms/step - loss: 0.3109 - acc: 0.9631 - val_loss: 0.6895 - val_acc: 0.8105\n",
      "Epoch 6/30\n",
      "98/98 [==============================] - 47s 481ms/step - loss: 0.3244 - acc: 0.9593 - val_loss: 0.6723 - val_acc: 0.8140\n",
      "Epoch 7/30\n",
      "98/98 [==============================] - 47s 479ms/step - loss: 0.2819 - acc: 0.9659 - val_loss: 0.6505 - val_acc: 0.8246\n",
      "Epoch 8/30\n",
      "98/98 [==============================] - 45s 459ms/step - loss: 0.2682 - acc: 0.9632 - val_loss: 0.6562 - val_acc: 0.8246\n",
      "Epoch 9/30\n",
      "98/98 [==============================] - 44s 452ms/step - loss: 0.2275 - acc: 0.9817 - val_loss: 0.6464 - val_acc: 0.8175\n",
      "Epoch 10/30\n",
      "98/98 [==============================] - 46s 473ms/step - loss: 0.2111 - acc: 0.9766 - val_loss: 0.6216 - val_acc: 0.8351\n",
      "Epoch 11/30\n",
      "98/98 [==============================] - 46s 467ms/step - loss: 0.2341 - acc: 0.9775 - val_loss: 0.6076 - val_acc: 0.8386\n",
      "Epoch 12/30\n",
      "98/98 [==============================] - 43s 440ms/step - loss: 0.2030 - acc: 0.9800 - val_loss: 0.5846 - val_acc: 0.8351\n",
      "Epoch 13/30\n",
      "98/98 [==============================] - 44s 444ms/step - loss: 0.1659 - acc: 0.9856 - val_loss: 0.5924 - val_acc: 0.8281\n",
      "Epoch 14/30\n",
      "98/98 [==============================] - 44s 449ms/step - loss: 0.1668 - acc: 0.9879 - val_loss: 0.5881 - val_acc: 0.8351\n",
      "Epoch 15/30\n",
      "98/98 [==============================] - 44s 449ms/step - loss: 0.1594 - acc: 0.9846 - val_loss: 0.5787 - val_acc: 0.8281\n",
      "Epoch 16/30\n",
      "98/98 [==============================] - 45s 458ms/step - loss: 0.1373 - acc: 0.9890 - val_loss: 0.5802 - val_acc: 0.8351\n",
      "Epoch 17/30\n",
      "98/98 [==============================] - 44s 449ms/step - loss: 0.1304 - acc: 0.9913 - val_loss: 0.5713 - val_acc: 0.8456\n",
      "Epoch 18/30\n",
      "98/98 [==============================] - 44s 449ms/step - loss: 0.1258 - acc: 0.9940 - val_loss: 0.5615 - val_acc: 0.8351\n",
      "Epoch 19/30\n",
      "98/98 [==============================] - 46s 473ms/step - loss: 0.1183 - acc: 0.9902 - val_loss: 0.5592 - val_acc: 0.8421\n",
      "Epoch 20/30\n",
      "98/98 [==============================] - 44s 450ms/step - loss: 0.1071 - acc: 0.9918 - val_loss: 0.5607 - val_acc: 0.8351\n",
      "Epoch 21/30\n",
      "98/98 [==============================] - 45s 456ms/step - loss: 0.0966 - acc: 0.9961 - val_loss: 0.5517 - val_acc: 0.8491\n",
      "Epoch 22/30\n",
      "98/98 [==============================] - 44s 451ms/step - loss: 0.0988 - acc: 0.9945 - val_loss: 0.5509 - val_acc: 0.8386\n",
      "Epoch 23/30\n",
      "98/98 [==============================] - 43s 437ms/step - loss: 0.0958 - acc: 0.9926 - val_loss: 0.5469 - val_acc: 0.8351\n",
      "Epoch 24/30\n",
      "98/98 [==============================] - 43s 431ms/step - loss: 0.0938 - acc: 0.9940 - val_loss: 0.5456 - val_acc: 0.8561\n",
      "Epoch 25/30\n",
      "98/98 [==============================] - 45s 462ms/step - loss: 0.0884 - acc: 0.9968 - val_loss: 0.5440 - val_acc: 0.8491\n",
      "Epoch 26/30\n",
      "98/98 [==============================] - 42s 425ms/step - loss: 0.0933 - acc: 0.9928 - val_loss: 0.5362 - val_acc: 0.8561\n",
      "Epoch 27/30\n",
      "98/98 [==============================] - 42s 428ms/step - loss: 0.0817 - acc: 0.9942 - val_loss: 0.5518 - val_acc: 0.8421\n",
      "Epoch 28/30\n",
      "98/98 [==============================] - 43s 439ms/step - loss: 0.0785 - acc: 0.9938 - val_loss: 0.5480 - val_acc: 0.8386\n",
      "Epoch 29/30\n",
      "98/98 [==============================] - 43s 442ms/step - loss: 0.0730 - acc: 0.9956 - val_loss: 0.5283 - val_acc: 0.8526\n",
      "Epoch 30/30\n",
      "98/98 [==============================] - 44s 444ms/step - loss: 0.0729 - acc: 0.9950 - val_loss: 0.5428 - val_acc: 0.8386\n"
     ]
    }
   ],
   "source": [
    "InceptionV3_model.compile(loss='categorical_crossentropy', optimizer=optimizers.SGD(lr=1e-4, momentum=0.9) ,metrics=['acc'])\n",
    "history = InceptionV3_model.fit_generator(train_generator, epochs=30, shuffle=True, verbose=1, validation_data=validation_generator)"
   ]
  },
  {
   "cell_type": "code",
   "execution_count": 20,
   "metadata": {
    "execution": {
     "iopub.execute_input": "2021-09-06T10:39:29.352921Z",
     "iopub.status.busy": "2021-09-06T10:39:29.352449Z",
     "iopub.status.idle": "2021-09-06T10:39:31.376993Z",
     "shell.execute_reply": "2021-09-06T10:39:31.375853Z",
     "shell.execute_reply.started": "2021-09-06T10:39:29.352891Z"
    }
   },
   "outputs": [],
   "source": [
    "y_prob =InceptionV3_model.predict(test_generator)"
   ]
  },
  {
   "cell_type": "code",
   "execution_count": 21,
   "metadata": {
    "execution": {
     "iopub.execute_input": "2021-09-06T10:39:32.984608Z",
     "iopub.status.busy": "2021-09-06T10:39:32.984213Z",
     "iopub.status.idle": "2021-09-06T10:39:32.989046Z",
     "shell.execute_reply": "2021-09-06T10:39:32.987651Z",
     "shell.execute_reply.started": "2021-09-06T10:39:32.984579Z"
    }
   },
   "outputs": [],
   "source": [
    "cls = []\n",
    "classes = list(train_generator.class_indices.keys())"
   ]
  },
  {
   "cell_type": "code",
   "execution_count": 22,
   "metadata": {
    "execution": {
     "iopub.execute_input": "2021-09-06T10:39:35.571250Z",
     "iopub.status.busy": "2021-09-06T10:39:35.570828Z",
     "iopub.status.idle": "2021-09-06T10:39:35.577719Z",
     "shell.execute_reply": "2021-09-06T10:39:35.575834Z",
     "shell.execute_reply.started": "2021-09-06T10:39:35.571222Z"
    }
   },
   "outputs": [],
   "source": [
    "for i in y_prob:\n",
    "    ar = list(i)\n",
    "    cls.append(classes[ar.index(max(ar))])\n",
    "   "
   ]
  },
  {
   "cell_type": "code",
   "execution_count": 23,
   "metadata": {
    "execution": {
     "iopub.execute_input": "2021-09-06T10:39:38.478842Z",
     "iopub.status.busy": "2021-09-06T10:39:38.478373Z",
     "iopub.status.idle": "2021-09-06T10:39:38.486076Z",
     "shell.execute_reply": "2021-09-06T10:39:38.484420Z",
     "shell.execute_reply.started": "2021-09-06T10:39:38.478789Z"
    }
   },
   "outputs": [
    {
     "data": {
      "text/plain": [
       "['4', 'y', 'A', 'G', '5', 'Z', '9', 'n', '7', 'c', 'o', 'y', 'f', 'Z', 'L']"
      ]
     },
     "execution_count": 23,
     "metadata": {},
     "output_type": "execute_result"
    }
   ],
   "source": [
    "cls"
   ]
  },
  {
   "cell_type": "markdown",
   "metadata": {},
   "source": [
    "# ResNet50-SGD"
   ]
  },
  {
   "cell_type": "code",
   "execution_count": 24,
   "metadata": {
    "execution": {
     "iopub.execute_input": "2021-09-06T10:39:45.038252Z",
     "iopub.status.busy": "2021-09-06T10:39:45.037945Z",
     "iopub.status.idle": "2021-09-06T10:39:45.043998Z",
     "shell.execute_reply": "2021-09-06T10:39:45.041646Z",
     "shell.execute_reply.started": "2021-09-06T10:39:45.038226Z"
    }
   },
   "outputs": [],
   "source": [
    "from tensorflow.keras.applications import ResNet50"
   ]
  },
  {
   "cell_type": "code",
   "execution_count": 25,
   "metadata": {
    "execution": {
     "iopub.execute_input": "2021-09-06T10:40:01.433561Z",
     "iopub.status.busy": "2021-09-06T10:40:01.433178Z",
     "iopub.status.idle": "2021-09-06T10:40:05.158152Z",
     "shell.execute_reply": "2021-09-06T10:40:05.156908Z",
     "shell.execute_reply.started": "2021-09-06T10:40:01.433517Z"
    }
   },
   "outputs": [
    {
     "name": "stdout",
     "output_type": "stream",
     "text": [
      "Downloading data from https://storage.googleapis.com/tensorflow/keras-applications/resnet/resnet50_weights_tf_dim_ordering_tf_kernels_notop.h5\n",
      "94773248/94765736 [==============================] - 2s 0us/step\n"
     ]
    }
   ],
   "source": [
    "model_base = ResNet50(weights='imagenet',include_top=False)\n",
    "\n",
    "x = model_base.output\n",
    "x = layers.GlobalAveragePooling2D()(x)\n",
    "x = layers.Dense(512,activation='relu')(x)\n",
    "predictions = layers.Dense(int(len(train_generator.class_indices.keys())) ,activation='softmax')(x)\n",
    "Resnet50_model = models.Model(inputs= model_base.input, outputs=predictions)"
   ]
  },
  {
   "cell_type": "code",
   "execution_count": 26,
   "metadata": {
    "execution": {
     "iopub.execute_input": "2021-09-06T10:40:10.249688Z",
     "iopub.status.busy": "2021-09-06T10:40:10.249116Z",
     "iopub.status.idle": "2021-09-06T11:11:02.297516Z",
     "shell.execute_reply": "2021-09-06T11:11:02.296473Z",
     "shell.execute_reply.started": "2021-09-06T10:40:10.249624Z"
    }
   },
   "outputs": [
    {
     "name": "stdout",
     "output_type": "stream",
     "text": [
      "Epoch 1/40\n",
      "98/98 [==============================] - 53s 478ms/step - loss: 4.3673 - acc: 0.0229 - val_loss: 4.2647 - val_acc: 0.0070\n",
      "Epoch 2/40\n",
      "98/98 [==============================] - 46s 467ms/step - loss: 3.5775 - acc: 0.1662 - val_loss: 4.2556 - val_acc: 0.0211\n",
      "Epoch 3/40\n",
      "98/98 [==============================] - 46s 468ms/step - loss: 2.9517 - acc: 0.3982 - val_loss: 4.3382 - val_acc: 0.0175\n",
      "Epoch 4/40\n",
      "98/98 [==============================] - 47s 475ms/step - loss: 2.3764 - acc: 0.5668 - val_loss: 4.4359 - val_acc: 0.0175\n",
      "Epoch 5/40\n",
      "98/98 [==============================] - 47s 474ms/step - loss: 1.9078 - acc: 0.6892 - val_loss: 4.4992 - val_acc: 0.0140\n",
      "Epoch 6/40\n",
      "98/98 [==============================] - 47s 475ms/step - loss: 1.4502 - acc: 0.7920 - val_loss: 4.4646 - val_acc: 0.0246\n",
      "Epoch 7/40\n",
      "98/98 [==============================] - 48s 488ms/step - loss: 1.1196 - acc: 0.8472 - val_loss: 4.1883 - val_acc: 0.0246\n",
      "Epoch 8/40\n",
      "98/98 [==============================] - 46s 469ms/step - loss: 0.8996 - acc: 0.8805 - val_loss: 3.7199 - val_acc: 0.1053\n",
      "Epoch 9/40\n",
      "98/98 [==============================] - 45s 463ms/step - loss: 0.6794 - acc: 0.8974 - val_loss: 3.1698 - val_acc: 0.2281\n",
      "Epoch 10/40\n",
      "98/98 [==============================] - 46s 469ms/step - loss: 0.5536 - acc: 0.9243 - val_loss: 2.7309 - val_acc: 0.3684\n",
      "Epoch 11/40\n",
      "98/98 [==============================] - 46s 467ms/step - loss: 0.4454 - acc: 0.9422 - val_loss: 2.0739 - val_acc: 0.4842\n",
      "Epoch 12/40\n",
      "98/98 [==============================] - 49s 497ms/step - loss: 0.3928 - acc: 0.9488 - val_loss: 1.6127 - val_acc: 0.6211\n",
      "Epoch 13/40\n",
      "98/98 [==============================] - 45s 455ms/step - loss: 0.3113 - acc: 0.9671 - val_loss: 1.2210 - val_acc: 0.7123\n",
      "Epoch 14/40\n",
      "98/98 [==============================] - 45s 459ms/step - loss: 0.2816 - acc: 0.9708 - val_loss: 1.2462 - val_acc: 0.7123\n",
      "Epoch 15/40\n",
      "98/98 [==============================] - 45s 460ms/step - loss: 0.2319 - acc: 0.9737 - val_loss: 0.9410 - val_acc: 0.7684\n",
      "Epoch 16/40\n",
      "98/98 [==============================] - 45s 457ms/step - loss: 0.2090 - acc: 0.9777 - val_loss: 0.7684 - val_acc: 0.7719\n",
      "Epoch 17/40\n",
      "98/98 [==============================] - 44s 453ms/step - loss: 0.1800 - acc: 0.9857 - val_loss: 0.8526 - val_acc: 0.7719\n",
      "Epoch 18/40\n",
      "98/98 [==============================] - 44s 453ms/step - loss: 0.1519 - acc: 0.9897 - val_loss: 0.7065 - val_acc: 0.7860\n",
      "Epoch 19/40\n",
      "98/98 [==============================] - 44s 450ms/step - loss: 0.1374 - acc: 0.9909 - val_loss: 0.7633 - val_acc: 0.7719\n",
      "Epoch 20/40\n",
      "98/98 [==============================] - 46s 469ms/step - loss: 0.1158 - acc: 0.9952 - val_loss: 0.7350 - val_acc: 0.7789\n",
      "Epoch 21/40\n",
      "98/98 [==============================] - 48s 491ms/step - loss: 0.1115 - acc: 0.9936 - val_loss: 0.9759 - val_acc: 0.7614\n",
      "Epoch 22/40\n",
      "98/98 [==============================] - 47s 481ms/step - loss: 0.1001 - acc: 0.9942 - val_loss: 0.8036 - val_acc: 0.8000\n",
      "Epoch 23/40\n",
      "98/98 [==============================] - 49s 502ms/step - loss: 0.0931 - acc: 0.9962 - val_loss: 0.7181 - val_acc: 0.7965\n",
      "Epoch 24/40\n",
      "98/98 [==============================] - 47s 481ms/step - loss: 0.0831 - acc: 0.9967 - val_loss: 0.6531 - val_acc: 0.8000\n",
      "Epoch 25/40\n",
      "98/98 [==============================] - 46s 465ms/step - loss: 0.0770 - acc: 0.9973 - val_loss: 0.7274 - val_acc: 0.7860\n",
      "Epoch 26/40\n",
      "98/98 [==============================] - 45s 462ms/step - loss: 0.0688 - acc: 0.9992 - val_loss: 0.6789 - val_acc: 0.8070\n",
      "Epoch 27/40\n",
      "98/98 [==============================] - 44s 454ms/step - loss: 0.0683 - acc: 0.9979 - val_loss: 0.6581 - val_acc: 0.8000\n",
      "Epoch 28/40\n",
      "98/98 [==============================] - 45s 460ms/step - loss: 0.0580 - acc: 0.9995 - val_loss: 0.6590 - val_acc: 0.7860\n",
      "Epoch 29/40\n",
      "98/98 [==============================] - 45s 461ms/step - loss: 0.0559 - acc: 0.9998 - val_loss: 0.6631 - val_acc: 0.8070\n",
      "Epoch 30/40\n",
      "98/98 [==============================] - 46s 466ms/step - loss: 0.0517 - acc: 1.0000 - val_loss: 0.6729 - val_acc: 0.8035\n",
      "Epoch 31/40\n",
      "98/98 [==============================] - 51s 515ms/step - loss: 0.0485 - acc: 0.9996 - val_loss: 0.6707 - val_acc: 0.8070\n",
      "Epoch 32/40\n",
      "98/98 [==============================] - 48s 490ms/step - loss: 0.0482 - acc: 0.9990 - val_loss: 0.6623 - val_acc: 0.7965\n",
      "Epoch 33/40\n",
      "98/98 [==============================] - 46s 464ms/step - loss: 0.0465 - acc: 0.9988 - val_loss: 0.6565 - val_acc: 0.8175\n",
      "Epoch 34/40\n",
      "98/98 [==============================] - 45s 461ms/step - loss: 0.0365 - acc: 0.9997 - val_loss: 0.6950 - val_acc: 0.8035\n",
      "Epoch 35/40\n",
      "98/98 [==============================] - 45s 461ms/step - loss: 0.0376 - acc: 0.9996 - val_loss: 0.7088 - val_acc: 0.7895\n",
      "Epoch 36/40\n",
      "98/98 [==============================] - 46s 467ms/step - loss: 0.0344 - acc: 1.0000 - val_loss: 0.6472 - val_acc: 0.8070\n",
      "Epoch 37/40\n",
      "98/98 [==============================] - 47s 482ms/step - loss: 0.0340 - acc: 1.0000 - val_loss: 0.6536 - val_acc: 0.8035\n",
      "Epoch 38/40\n",
      "98/98 [==============================] - 47s 483ms/step - loss: 0.0343 - acc: 1.0000 - val_loss: 0.6575 - val_acc: 0.7895\n",
      "Epoch 39/40\n",
      "98/98 [==============================] - 45s 459ms/step - loss: 0.0324 - acc: 1.0000 - val_loss: 0.6315 - val_acc: 0.8070\n",
      "Epoch 40/40\n",
      "98/98 [==============================] - 44s 452ms/step - loss: 0.0289 - acc: 0.9997 - val_loss: 0.6417 - val_acc: 0.8035\n"
     ]
    }
   ],
   "source": [
    "Resnet50_model.compile(loss='categorical_crossentropy', optimizer=optimizers.SGD(lr=1e-4, momentum=0.9) ,metrics=['acc'])\n",
    "history = Resnet50_model.fit_generator(train_generator, epochs=40, shuffle=True, verbose=1, validation_data=validation_generator)"
   ]
  },
  {
   "cell_type": "code",
   "execution_count": 27,
   "metadata": {
    "execution": {
     "iopub.execute_input": "2021-09-06T11:11:19.823858Z",
     "iopub.status.busy": "2021-09-06T11:11:19.823455Z",
     "iopub.status.idle": "2021-09-06T11:11:21.343903Z",
     "shell.execute_reply": "2021-09-06T11:11:21.342834Z",
     "shell.execute_reply.started": "2021-09-06T11:11:19.823830Z"
    }
   },
   "outputs": [],
   "source": [
    "y_prob =Resnet50_model.predict(test_generator)"
   ]
  },
  {
   "cell_type": "code",
   "execution_count": 28,
   "metadata": {
    "execution": {
     "iopub.execute_input": "2021-09-06T11:11:22.872142Z",
     "iopub.status.busy": "2021-09-06T11:11:22.871790Z",
     "iopub.status.idle": "2021-09-06T11:11:22.878508Z",
     "shell.execute_reply": "2021-09-06T11:11:22.876919Z",
     "shell.execute_reply.started": "2021-09-06T11:11:22.872113Z"
    }
   },
   "outputs": [],
   "source": [
    "cls = []\n",
    "classes = list(train_generator.class_indices.keys())"
   ]
  },
  {
   "cell_type": "code",
   "execution_count": 29,
   "metadata": {
    "execution": {
     "iopub.execute_input": "2021-09-06T11:11:24.288662Z",
     "iopub.status.busy": "2021-09-06T11:11:24.288198Z",
     "iopub.status.idle": "2021-09-06T11:11:24.294611Z",
     "shell.execute_reply": "2021-09-06T11:11:24.292942Z",
     "shell.execute_reply.started": "2021-09-06T11:11:24.288632Z"
    }
   },
   "outputs": [],
   "source": [
    "for i in y_prob:\n",
    "    ar = list(i)\n",
    "    cls.append(classes[ar.index(max(ar))])"
   ]
  },
  {
   "cell_type": "code",
   "execution_count": 30,
   "metadata": {
    "execution": {
     "iopub.execute_input": "2021-09-06T11:11:25.714028Z",
     "iopub.status.busy": "2021-09-06T11:11:25.713615Z",
     "iopub.status.idle": "2021-09-06T11:11:25.721603Z",
     "shell.execute_reply": "2021-09-06T11:11:25.720346Z",
     "shell.execute_reply.started": "2021-09-06T11:11:25.713983Z"
    }
   },
   "outputs": [
    {
     "data": {
      "text/plain": [
       "['G', '9', 'L', '4', 'Z', 'c', 'o', '7', 'd', '5', 'd', '7', 'Z', 'A', 'y']"
      ]
     },
     "execution_count": 30,
     "metadata": {},
     "output_type": "execute_result"
    }
   ],
   "source": [
    "cls"
   ]
  },
  {
   "cell_type": "code",
   "execution_count": 31,
   "metadata": {
    "execution": {
     "iopub.execute_input": "2021-09-06T11:11:27.527241Z",
     "iopub.status.busy": "2021-09-06T11:11:27.526856Z",
     "iopub.status.idle": "2021-09-06T11:11:27.710986Z",
     "shell.execute_reply": "2021-09-06T11:11:27.709870Z",
     "shell.execute_reply.started": "2021-09-06T11:11:27.527209Z"
    }
   },
   "outputs": [],
   "source": [
    "model.save('./kaggle/resnet_sgd.h5')"
   ]
  },
  {
   "cell_type": "markdown",
   "metadata": {},
   "source": [
    "# ResNet50-RMSprop"
   ]
  },
  {
   "cell_type": "code",
   "execution_count": 33,
   "metadata": {
    "execution": {
     "iopub.execute_input": "2021-09-06T11:25:21.194544Z",
     "iopub.status.busy": "2021-09-06T11:25:21.194155Z",
     "iopub.status.idle": "2021-09-06T11:40:42.476927Z",
     "shell.execute_reply": "2021-09-06T11:40:42.475933Z",
     "shell.execute_reply.started": "2021-09-06T11:25:21.194514Z"
    }
   },
   "outputs": [
    {
     "name": "stdout",
     "output_type": "stream",
     "text": [
      "Epoch 1/20\n",
      "98/98 [==============================] - 58s 467ms/step - loss: 0.2257 - acc: 0.9287 - val_loss: 1.0902 - val_acc: 0.8000\n",
      "Epoch 2/20\n",
      "98/98 [==============================] - 45s 461ms/step - loss: 0.1228 - acc: 0.9590 - val_loss: 2.1385 - val_acc: 0.7263\n",
      "Epoch 3/20\n",
      "98/98 [==============================] - 44s 453ms/step - loss: 0.1132 - acc: 0.9602 - val_loss: 1.2905 - val_acc: 0.7895\n",
      "Epoch 4/20\n",
      "98/98 [==============================] - 46s 470ms/step - loss: 0.1069 - acc: 0.9628 - val_loss: 5.7632 - val_acc: 0.4316\n",
      "Epoch 5/20\n",
      "98/98 [==============================] - 46s 464ms/step - loss: 0.1230 - acc: 0.9550 - val_loss: 2.3304 - val_acc: 0.5439\n",
      "Epoch 6/20\n",
      "98/98 [==============================] - 45s 462ms/step - loss: 0.0956 - acc: 0.9649 - val_loss: 8.7304 - val_acc: 0.3684\n",
      "Epoch 7/20\n",
      "98/98 [==============================] - 46s 469ms/step - loss: 0.0903 - acc: 0.9632 - val_loss: 3.7277 - val_acc: 0.5789\n",
      "Epoch 8/20\n",
      "98/98 [==============================] - 44s 453ms/step - loss: 0.0954 - acc: 0.9723 - val_loss: 5.4542 - val_acc: 0.3860\n",
      "Epoch 9/20\n",
      "98/98 [==============================] - 45s 459ms/step - loss: 0.0786 - acc: 0.9760 - val_loss: 1.1429 - val_acc: 0.8175\n",
      "Epoch 10/20\n",
      "98/98 [==============================] - 48s 494ms/step - loss: 0.1117 - acc: 0.9668 - val_loss: 1.3608 - val_acc: 0.7544\n",
      "Epoch 11/20\n",
      "98/98 [==============================] - 44s 451ms/step - loss: 0.0813 - acc: 0.9745 - val_loss: 2.2822 - val_acc: 0.7088\n",
      "Epoch 12/20\n",
      "98/98 [==============================] - 47s 475ms/step - loss: 0.0688 - acc: 0.9728 - val_loss: 1.2331 - val_acc: 0.8140\n",
      "Epoch 13/20\n",
      "98/98 [==============================] - 47s 475ms/step - loss: 0.0901 - acc: 0.9736 - val_loss: 1.6540 - val_acc: 0.7754\n",
      "Epoch 14/20\n",
      "98/98 [==============================] - 45s 459ms/step - loss: 0.0677 - acc: 0.9826 - val_loss: 3.5918 - val_acc: 0.7544\n",
      "Epoch 15/20\n",
      "98/98 [==============================] - 45s 461ms/step - loss: 0.0782 - acc: 0.9773 - val_loss: 1.1037 - val_acc: 0.8175\n",
      "Epoch 16/20\n",
      "98/98 [==============================] - 45s 457ms/step - loss: 0.0724 - acc: 0.9779 - val_loss: 1.2605 - val_acc: 0.8175\n",
      "Epoch 17/20\n",
      "98/98 [==============================] - 46s 471ms/step - loss: 0.0750 - acc: 0.9799 - val_loss: 1.9964 - val_acc: 0.6632\n",
      "Epoch 18/20\n",
      "98/98 [==============================] - 44s 450ms/step - loss: 0.0516 - acc: 0.9854 - val_loss: 16.9604 - val_acc: 0.2421\n",
      "Epoch 19/20\n",
      "98/98 [==============================] - 45s 455ms/step - loss: 0.0875 - acc: 0.9783 - val_loss: 1.6689 - val_acc: 0.8175\n",
      "Epoch 20/20\n",
      "98/98 [==============================] - 45s 460ms/step - loss: 0.0522 - acc: 0.9815 - val_loss: 2.7069 - val_acc: 0.7018\n"
     ]
    }
   ],
   "source": [
    "Resnet50_model.compile(loss='categorical_crossentropy', optimizer=RMSprop(learning_rate=0.001) ,metrics=['acc'])\n",
    "history = Resnet50_model.fit_generator(train_generator, epochs=20, shuffle=True, verbose=1, validation_data=validation_generator)"
   ]
  },
  {
   "cell_type": "code",
   "execution_count": 34,
   "metadata": {
    "execution": {
     "iopub.execute_input": "2021-09-06T11:41:06.155724Z",
     "iopub.status.busy": "2021-09-06T11:41:06.155289Z",
     "iopub.status.idle": "2021-09-06T11:41:07.501289Z",
     "shell.execute_reply": "2021-09-06T11:41:07.500180Z",
     "shell.execute_reply.started": "2021-09-06T11:41:06.155695Z"
    }
   },
   "outputs": [],
   "source": [
    "y_prob =Resnet50_model.predict(test_generator)"
   ]
  },
  {
   "cell_type": "code",
   "execution_count": 35,
   "metadata": {
    "execution": {
     "iopub.execute_input": "2021-09-06T11:41:08.861791Z",
     "iopub.status.busy": "2021-09-06T11:41:08.861365Z",
     "iopub.status.idle": "2021-09-06T11:41:08.870377Z",
     "shell.execute_reply": "2021-09-06T11:41:08.869007Z",
     "shell.execute_reply.started": "2021-09-06T11:41:08.861740Z"
    }
   },
   "outputs": [],
   "source": [
    "cls = []\n",
    "classes = list(train_generator.class_indices.keys())"
   ]
  },
  {
   "cell_type": "code",
   "execution_count": 36,
   "metadata": {
    "execution": {
     "iopub.execute_input": "2021-09-06T11:41:10.109799Z",
     "iopub.status.busy": "2021-09-06T11:41:10.109404Z",
     "iopub.status.idle": "2021-09-06T11:41:10.115620Z",
     "shell.execute_reply": "2021-09-06T11:41:10.113836Z",
     "shell.execute_reply.started": "2021-09-06T11:41:10.109733Z"
    }
   },
   "outputs": [],
   "source": [
    "for i in y_prob:\n",
    "    ar = list(i)\n",
    "    cls.append(classes[ar.index(max(ar))])"
   ]
  },
  {
   "cell_type": "code",
   "execution_count": 37,
   "metadata": {
    "execution": {
     "iopub.execute_input": "2021-09-06T11:41:11.519686Z",
     "iopub.status.busy": "2021-09-06T11:41:11.519337Z",
     "iopub.status.idle": "2021-09-06T11:41:11.526309Z",
     "shell.execute_reply": "2021-09-06T11:41:11.525076Z",
     "shell.execute_reply.started": "2021-09-06T11:41:11.519657Z"
    }
   },
   "outputs": [
    {
     "data": {
      "text/plain": [
       "['7', 'c', '9', 'L', '5', 'b', 'y', 'Z', '4', '7', 'O', 'y', 'A', 'G', 'L']"
      ]
     },
     "execution_count": 37,
     "metadata": {},
     "output_type": "execute_result"
    }
   ],
   "source": [
    "cls"
   ]
  },
  {
   "cell_type": "code",
   "execution_count": 38,
   "metadata": {
    "execution": {
     "iopub.execute_input": "2021-09-06T11:43:32.964740Z",
     "iopub.status.busy": "2021-09-06T11:43:32.964313Z",
     "iopub.status.idle": "2021-09-06T11:43:33.148401Z",
     "shell.execute_reply": "2021-09-06T11:43:33.147114Z",
     "shell.execute_reply.started": "2021-09-06T11:43:32.964695Z"
    }
   },
   "outputs": [],
   "source": [
    "model.save('./kaggle/resnet_rmsprop.h5')"
   ]
  },
  {
   "cell_type": "markdown",
   "metadata": {},
   "source": [
    "# MobileNet"
   ]
  },
  {
   "cell_type": "code",
   "execution_count": 39,
   "metadata": {
    "execution": {
     "iopub.execute_input": "2021-09-06T11:44:06.103087Z",
     "iopub.status.busy": "2021-09-06T11:44:06.102581Z",
     "iopub.status.idle": "2021-09-06T11:44:06.108389Z",
     "shell.execute_reply": "2021-09-06T11:44:06.106689Z",
     "shell.execute_reply.started": "2021-09-06T11:44:06.103057Z"
    }
   },
   "outputs": [],
   "source": [
    "from tensorflow.keras.applications import MobileNet"
   ]
  },
  {
   "cell_type": "code",
   "execution_count": 40,
   "metadata": {
    "execution": {
     "iopub.execute_input": "2021-09-06T11:44:08.259237Z",
     "iopub.status.busy": "2021-09-06T11:44:08.258738Z",
     "iopub.status.idle": "2021-09-06T11:44:10.534413Z",
     "shell.execute_reply": "2021-09-06T11:44:10.533085Z",
     "shell.execute_reply.started": "2021-09-06T11:44:08.259196Z"
    }
   },
   "outputs": [
    {
     "name": "stdout",
     "output_type": "stream",
     "text": [
      "Downloading data from https://storage.googleapis.com/tensorflow/keras-applications/mobilenet/mobilenet_1_0_224_tf_no_top.h5\n",
      "17227776/17225924 [==============================] - 1s 0us/step\n"
     ]
    }
   ],
   "source": [
    "model_base = MobileNet(weights='imagenet',include_top=False)\n",
    "\n",
    "x = model_base.output\n",
    "x = layers.GlobalAveragePooling2D()(x)\n",
    "x = layers.Dense(512,activation='relu')(x)\n",
    "predictions = layers.Dense(int(len(train_generator.class_indices.keys())) ,activation='softmax')(x)\n",
    "MobileNet_model = models.Model(inputs= model_base.input, outputs=predictions)"
   ]
  },
  {
   "cell_type": "code",
   "execution_count": 41,
   "metadata": {
    "execution": {
     "iopub.execute_input": "2021-09-06T11:44:13.654102Z",
     "iopub.status.busy": "2021-09-06T11:44:13.653676Z",
     "iopub.status.idle": "2021-09-06T11:59:01.363539Z",
     "shell.execute_reply": "2021-09-06T11:59:01.362445Z",
     "shell.execute_reply.started": "2021-09-06T11:44:13.654065Z"
    }
   },
   "outputs": [
    {
     "name": "stdout",
     "output_type": "stream",
     "text": [
      "Epoch 1/20\n",
      "98/98 [==============================] - 49s 473ms/step - loss: 4.6030 - acc: 0.0218 - val_loss: 4.3767 - val_acc: 0.0281\n",
      "Epoch 2/20\n",
      "98/98 [==============================] - 44s 454ms/step - loss: 3.5240 - acc: 0.1621 - val_loss: 3.8071 - val_acc: 0.0877\n",
      "Epoch 3/20\n",
      "98/98 [==============================] - 44s 453ms/step - loss: 2.7317 - acc: 0.3954 - val_loss: 3.5427 - val_acc: 0.1298\n",
      "Epoch 4/20\n",
      "98/98 [==============================] - 45s 460ms/step - loss: 2.1231 - acc: 0.5773 - val_loss: 2.9558 - val_acc: 0.2877\n",
      "Epoch 5/20\n",
      "98/98 [==============================] - 44s 449ms/step - loss: 1.6406 - acc: 0.6944 - val_loss: 2.7006 - val_acc: 0.3789\n",
      "Epoch 6/20\n",
      "98/98 [==============================] - 43s 441ms/step - loss: 1.3094 - acc: 0.7598 - val_loss: 2.0898 - val_acc: 0.5579\n",
      "Epoch 7/20\n",
      "98/98 [==============================] - 45s 457ms/step - loss: 1.0374 - acc: 0.8412 - val_loss: 2.0224 - val_acc: 0.5158\n",
      "Epoch 8/20\n",
      "98/98 [==============================] - 44s 448ms/step - loss: 0.8748 - acc: 0.8457 - val_loss: 2.1361 - val_acc: 0.4772\n",
      "Epoch 9/20\n",
      "98/98 [==============================] - 45s 457ms/step - loss: 0.7688 - acc: 0.8676 - val_loss: 1.4885 - val_acc: 0.6596\n",
      "Epoch 10/20\n",
      "98/98 [==============================] - 44s 450ms/step - loss: 0.6723 - acc: 0.8883 - val_loss: 1.6936 - val_acc: 0.5965\n",
      "Epoch 11/20\n",
      "98/98 [==============================] - 44s 447ms/step - loss: 0.5519 - acc: 0.9122 - val_loss: 1.9499 - val_acc: 0.5158\n",
      "Epoch 12/20\n",
      "98/98 [==============================] - 44s 451ms/step - loss: 0.5339 - acc: 0.9127 - val_loss: 1.7001 - val_acc: 0.5719\n",
      "Epoch 13/20\n",
      "98/98 [==============================] - 44s 452ms/step - loss: 0.4651 - acc: 0.9297 - val_loss: 1.3838 - val_acc: 0.6842\n",
      "Epoch 14/20\n",
      "98/98 [==============================] - 44s 447ms/step - loss: 0.4069 - acc: 0.9364 - val_loss: 1.0005 - val_acc: 0.7544\n",
      "Epoch 15/20\n",
      "98/98 [==============================] - 44s 450ms/step - loss: 0.3815 - acc: 0.9323 - val_loss: 1.2402 - val_acc: 0.6737\n",
      "Epoch 16/20\n",
      "98/98 [==============================] - 43s 442ms/step - loss: 0.3241 - acc: 0.9533 - val_loss: 1.5171 - val_acc: 0.6351\n",
      "Epoch 17/20\n",
      "98/98 [==============================] - 43s 441ms/step - loss: 0.2983 - acc: 0.9674 - val_loss: 0.9836 - val_acc: 0.7719\n",
      "Epoch 18/20\n",
      "98/98 [==============================] - 44s 452ms/step - loss: 0.2839 - acc: 0.9620 - val_loss: 0.9555 - val_acc: 0.7825\n",
      "Epoch 19/20\n",
      "98/98 [==============================] - 44s 444ms/step - loss: 0.2579 - acc: 0.9652 - val_loss: 0.8301 - val_acc: 0.7860\n",
      "Epoch 20/20\n",
      "98/98 [==============================] - 44s 445ms/step - loss: 0.2298 - acc: 0.9719 - val_loss: 0.8761 - val_acc: 0.7719\n"
     ]
    }
   ],
   "source": [
    "MobileNet_model.compile(loss='categorical_crossentropy', optimizer=optimizers.SGD(lr=1e-4, momentum=0.9) ,metrics=['acc'])\n",
    "history = MobileNet_model.fit_generator(train_generator, epochs=20, shuffle=True, verbose=1, validation_data=validation_generator)"
   ]
  },
  {
   "cell_type": "code",
   "execution_count": 42,
   "metadata": {
    "execution": {
     "iopub.execute_input": "2021-09-06T11:59:10.125448Z",
     "iopub.status.busy": "2021-09-06T11:59:10.124996Z",
     "iopub.status.idle": "2021-09-06T11:59:11.049660Z",
     "shell.execute_reply": "2021-09-06T11:59:11.048499Z",
     "shell.execute_reply.started": "2021-09-06T11:59:10.125403Z"
    }
   },
   "outputs": [],
   "source": [
    "y_prob =MobileNet_model.predict(test_generator)"
   ]
  },
  {
   "cell_type": "code",
   "execution_count": 43,
   "metadata": {
    "execution": {
     "iopub.execute_input": "2021-09-06T11:59:12.376116Z",
     "iopub.status.busy": "2021-09-06T11:59:12.375671Z",
     "iopub.status.idle": "2021-09-06T11:59:12.381212Z",
     "shell.execute_reply": "2021-09-06T11:59:12.379768Z",
     "shell.execute_reply.started": "2021-09-06T11:59:12.376084Z"
    }
   },
   "outputs": [],
   "source": [
    "cls = []\n",
    "classes = list(train_generator.class_indices.keys())"
   ]
  },
  {
   "cell_type": "code",
   "execution_count": 44,
   "metadata": {
    "execution": {
     "iopub.execute_input": "2021-09-06T11:59:13.795764Z",
     "iopub.status.busy": "2021-09-06T11:59:13.795421Z",
     "iopub.status.idle": "2021-09-06T11:59:13.801583Z",
     "shell.execute_reply": "2021-09-06T11:59:13.800443Z",
     "shell.execute_reply.started": "2021-09-06T11:59:13.795720Z"
    }
   },
   "outputs": [],
   "source": [
    "for i in y_prob:\n",
    "    ar = list(i)\n",
    "    cls.append(classes[ar.index(max(ar))])"
   ]
  },
  {
   "cell_type": "code",
   "execution_count": 45,
   "metadata": {
    "execution": {
     "iopub.execute_input": "2021-09-06T11:59:15.431821Z",
     "iopub.status.busy": "2021-09-06T11:59:15.431401Z",
     "iopub.status.idle": "2021-09-06T11:59:15.438888Z",
     "shell.execute_reply": "2021-09-06T11:59:15.437674Z",
     "shell.execute_reply.started": "2021-09-06T11:59:15.431781Z"
    }
   },
   "outputs": [
    {
     "data": {
      "text/plain": [
       "['4', 'd', 'Q', 'y', '7', '9', 'Z', 'A', 'c', 'G', 'L', 'Z', 'y', '5', '7']"
      ]
     },
     "execution_count": 45,
     "metadata": {},
     "output_type": "execute_result"
    }
   ],
   "source": [
    "cls"
   ]
  },
  {
   "cell_type": "code",
   "execution_count": 46,
   "metadata": {
    "execution": {
     "iopub.execute_input": "2021-09-06T12:01:16.957337Z",
     "iopub.status.busy": "2021-09-06T12:01:16.956932Z",
     "iopub.status.idle": "2021-09-06T12:01:17.140484Z",
     "shell.execute_reply": "2021-09-06T12:01:17.139266Z",
     "shell.execute_reply.started": "2021-09-06T12:01:16.957307Z"
    }
   },
   "outputs": [],
   "source": [
    "model.save('./kaggle/mobilenet.h5')"
   ]
  },
  {
   "cell_type": "markdown",
   "metadata": {},
   "source": [
    "# svm,rf,xgbc"
   ]
  },
  {
   "cell_type": "code",
   "execution_count": 64,
   "metadata": {
    "execution": {
     "iopub.execute_input": "2021-09-06T12:22:05.611614Z",
     "iopub.status.busy": "2021-09-06T12:22:05.611267Z",
     "iopub.status.idle": "2021-09-06T12:22:05.617649Z",
     "shell.execute_reply": "2021-09-06T12:22:05.616327Z",
     "shell.execute_reply.started": "2021-09-06T12:22:05.611585Z"
    }
   },
   "outputs": [],
   "source": [
    "from sklearn import metrics\n",
    "import xgboost as xgb\n",
    "from sklearn.model_selection import cross_val_score \n",
    "from sklearn.model_selection import train_test_split\n",
    "from sklearn.metrics import confusion_matrix, classification_report\n",
    "from sklearn.metrics import accuracy_score\n",
    "from xgboost import XGBClassifier"
   ]
  },
  {
   "cell_type": "code",
   "execution_count": 55,
   "metadata": {
    "execution": {
     "iopub.execute_input": "2021-09-06T12:13:50.685466Z",
     "iopub.status.busy": "2021-09-06T12:13:50.684985Z",
     "iopub.status.idle": "2021-09-06T12:13:50.701255Z",
     "shell.execute_reply": "2021-09-06T12:13:50.700349Z",
     "shell.execute_reply.started": "2021-09-06T12:13:50.685437Z"
    }
   },
   "outputs": [],
   "source": [
    "english = pd.read_csv(\"../input/english-handwritten-characters-dataset/english.csv\")"
   ]
  },
  {
   "cell_type": "code",
   "execution_count": 56,
   "metadata": {
    "execution": {
     "iopub.execute_input": "2021-09-06T12:14:12.004106Z",
     "iopub.status.busy": "2021-09-06T12:14:12.003660Z",
     "iopub.status.idle": "2021-09-06T12:14:12.009334Z",
     "shell.execute_reply": "2021-09-06T12:14:12.008204Z",
     "shell.execute_reply.started": "2021-09-06T12:14:12.004076Z"
    }
   },
   "outputs": [],
   "source": [
    "X = english[\"image\"]\n",
    "Y = english[\"label\"]"
   ]
  },
  {
   "cell_type": "code",
   "execution_count": 70,
   "metadata": {
    "execution": {
     "iopub.execute_input": "2021-09-06T12:27:15.080811Z",
     "iopub.status.busy": "2021-09-06T12:27:15.080409Z",
     "iopub.status.idle": "2021-09-06T12:27:15.088418Z",
     "shell.execute_reply": "2021-09-06T12:27:15.087072Z",
     "shell.execute_reply.started": "2021-09-06T12:27:15.080743Z"
    }
   },
   "outputs": [],
   "source": [
    "X_train,X_test,Y_train,Y_test = train_test_split(X,Y,test_size=0.3)"
   ]
  },
  {
   "cell_type": "code",
   "execution_count": 71,
   "metadata": {
    "execution": {
     "iopub.execute_input": "2021-09-06T12:27:16.534394Z",
     "iopub.status.busy": "2021-09-06T12:27:16.533984Z",
     "iopub.status.idle": "2021-09-06T12:27:16.543642Z",
     "shell.execute_reply": "2021-09-06T12:27:16.542157Z",
     "shell.execute_reply.started": "2021-09-06T12:27:16.534362Z"
    }
   },
   "outputs": [
    {
     "data": {
      "text/plain": [
       "((2387,), (1023,), (2387,), (1023,))"
      ]
     },
     "execution_count": 71,
     "metadata": {},
     "output_type": "execute_result"
    }
   ],
   "source": [
    "X_train.shape,X_test.shape,Y_train.shape,Y_test.shape"
   ]
  },
  {
   "cell_type": "code",
   "execution_count": 75,
   "metadata": {
    "execution": {
     "iopub.execute_input": "2021-09-06T12:27:55.507379Z",
     "iopub.status.busy": "2021-09-06T12:27:55.506991Z",
     "iopub.status.idle": "2021-09-06T12:27:55.512604Z",
     "shell.execute_reply": "2021-09-06T12:27:55.511201Z",
     "shell.execute_reply.started": "2021-09-06T12:27:55.507346Z"
    }
   },
   "outputs": [],
   "source": [
    "import os \n",
    "os.mkdir(\"Train753\")\n",
    "os.mkdir(\"Test753\")"
   ]
  },
  {
   "cell_type": "code",
   "execution_count": 76,
   "metadata": {
    "execution": {
     "iopub.execute_input": "2021-09-06T12:28:24.395230Z",
     "iopub.status.busy": "2021-09-06T12:28:24.394844Z",
     "iopub.status.idle": "2021-09-06T12:28:24.435689Z",
     "shell.execute_reply": "2021-09-06T12:28:24.434482Z",
     "shell.execute_reply.started": "2021-09-06T12:28:24.395194Z"
    }
   },
   "outputs": [],
   "source": [
    "for image in english.values:\n",
    "    if not os.path.isdir(\"Train753/\"+image[1]):\n",
    "        os.mkdir(\"Train753/\"+image[1])\n",
    "    if not os.path.isdir(\"Test753/\"+image[1]):\n",
    "        os.mkdir(\"Test753/\"+image[1])"
   ]
  },
  {
   "cell_type": "code",
   "execution_count": 77,
   "metadata": {
    "execution": {
     "iopub.execute_input": "2021-09-06T12:28:45.833783Z",
     "iopub.status.busy": "2021-09-06T12:28:45.833383Z",
     "iopub.status.idle": "2021-09-06T12:28:46.224525Z",
     "shell.execute_reply": "2021-09-06T12:28:46.223239Z",
     "shell.execute_reply.started": "2021-09-06T12:28:45.833728Z"
    }
   },
   "outputs": [],
   "source": [
    "train_df = pd.DataFrame([X_train,Y_train]).T\n",
    "test_df = pd.DataFrame([X_test,Y_test]).T"
   ]
  },
  {
   "cell_type": "code",
   "execution_count": 78,
   "metadata": {
    "execution": {
     "iopub.execute_input": "2021-09-06T12:29:13.912471Z",
     "iopub.status.busy": "2021-09-06T12:29:13.912063Z",
     "iopub.status.idle": "2021-09-06T12:29:13.927664Z",
     "shell.execute_reply": "2021-09-06T12:29:13.926026Z",
     "shell.execute_reply.started": "2021-09-06T12:29:13.912439Z"
    }
   },
   "outputs": [
    {
     "data": {
      "text/html": [
       "<div>\n",
       "<style scoped>\n",
       "    .dataframe tbody tr th:only-of-type {\n",
       "        vertical-align: middle;\n",
       "    }\n",
       "\n",
       "    .dataframe tbody tr th {\n",
       "        vertical-align: top;\n",
       "    }\n",
       "\n",
       "    .dataframe thead th {\n",
       "        text-align: right;\n",
       "    }\n",
       "</style>\n",
       "<table border=\"1\" class=\"dataframe\">\n",
       "  <thead>\n",
       "    <tr style=\"text-align: right;\">\n",
       "      <th></th>\n",
       "      <th>image</th>\n",
       "      <th>label</th>\n",
       "    </tr>\n",
       "  </thead>\n",
       "  <tbody>\n",
       "    <tr>\n",
       "      <th>1752</th>\n",
       "      <td>Img/img032-048.png</td>\n",
       "      <td>V</td>\n",
       "    </tr>\n",
       "    <tr>\n",
       "      <th>321</th>\n",
       "      <td>Img/img006-047.png</td>\n",
       "      <td>5</td>\n",
       "    </tr>\n",
       "    <tr>\n",
       "      <th>1645</th>\n",
       "      <td>Img/img030-051.png</td>\n",
       "      <td>T</td>\n",
       "    </tr>\n",
       "    <tr>\n",
       "      <th>1757</th>\n",
       "      <td>Img/img032-053.png</td>\n",
       "      <td>V</td>\n",
       "    </tr>\n",
       "    <tr>\n",
       "      <th>2676</th>\n",
       "      <td>Img/img049-037.png</td>\n",
       "      <td>m</td>\n",
       "    </tr>\n",
       "  </tbody>\n",
       "</table>\n",
       "</div>"
      ],
      "text/plain": [
       "                   image label\n",
       "1752  Img/img032-048.png     V\n",
       "321   Img/img006-047.png     5\n",
       "1645  Img/img030-051.png     T\n",
       "1757  Img/img032-053.png     V\n",
       "2676  Img/img049-037.png     m"
      ]
     },
     "execution_count": 78,
     "metadata": {},
     "output_type": "execute_result"
    }
   ],
   "source": [
    "import glob\n",
    "import shutil\n",
    "for image in train_df.values:\n",
    "    img_pth = \"../input/english-handwritten-characters-dataset/\" + image[0]\n",
    "    shutil.copy(img_pth,\"Train753/\"+image[1])"
   ]
  },
  {
   "cell_type": "code",
   "execution_count": null,
   "metadata": {},
   "outputs": [],
   "source": []
  },
  {
   "cell_type": "code",
   "execution_count": 60,
   "metadata": {
    "execution": {
     "iopub.execute_input": "2021-09-06T12:17:28.522362Z",
     "iopub.status.busy": "2021-09-06T12:17:28.521979Z",
     "iopub.status.idle": "2021-09-06T12:17:28.555414Z",
     "shell.execute_reply": "2021-09-06T12:17:28.553260Z",
     "shell.execute_reply.started": "2021-09-06T12:17:28.522331Z"
    }
   },
   "outputs": [
    {
     "ename": "AttributeError",
     "evalue": "'Series' object has no attribute 'reshape'",
     "output_type": "error",
     "traceback": [
      "\u001b[0;31m---------------------------------------------------------------------------\u001b[0m",
      "\u001b[0;31mAttributeError\u001b[0m                            Traceback (most recent call last)",
      "\u001b[0;32m<ipython-input-60-b4b18895ec19>\u001b[0m in \u001b[0;36m<module>\u001b[0;34m\u001b[0m\n\u001b[1;32m      1\u001b[0m \u001b[0mRESHAPED\u001b[0m \u001b[0;34m=\u001b[0m \u001b[0;36m784\u001b[0m\u001b[0;34m\u001b[0m\u001b[0;34m\u001b[0m\u001b[0m\n\u001b[1;32m      2\u001b[0m \u001b[0;34m\u001b[0m\u001b[0m\n\u001b[0;32m----> 3\u001b[0;31m \u001b[0mX_train\u001b[0m \u001b[0;34m=\u001b[0m \u001b[0mX_train\u001b[0m\u001b[0;34m.\u001b[0m\u001b[0mreshape\u001b[0m\u001b[0;34m(\u001b[0m\u001b[0;36m2387\u001b[0m\u001b[0;34m,\u001b[0m \u001b[0mRESHAPED\u001b[0m\u001b[0;34m)\u001b[0m\u001b[0;34m\u001b[0m\u001b[0;34m\u001b[0m\u001b[0m\n\u001b[0m\u001b[1;32m      4\u001b[0m \u001b[0mX_test\u001b[0m \u001b[0;34m=\u001b[0m \u001b[0mX_test\u001b[0m\u001b[0;34m.\u001b[0m\u001b[0mreshape\u001b[0m\u001b[0;34m(\u001b[0m\u001b[0;36m1023\u001b[0m\u001b[0;34m,\u001b[0m \u001b[0mRESHAPED\u001b[0m\u001b[0;34m)\u001b[0m\u001b[0;34m\u001b[0m\u001b[0;34m\u001b[0m\u001b[0m\n\u001b[1;32m      5\u001b[0m \u001b[0mX_train\u001b[0m \u001b[0;34m=\u001b[0m \u001b[0mX_train\u001b[0m\u001b[0;34m.\u001b[0m\u001b[0mastype\u001b[0m\u001b[0;34m(\u001b[0m\u001b[0;34m'float32'\u001b[0m\u001b[0;34m)\u001b[0m\u001b[0;34m\u001b[0m\u001b[0;34m\u001b[0m\u001b[0m\n",
      "\u001b[0;32m/opt/conda/lib/python3.7/site-packages/pandas/core/generic.py\u001b[0m in \u001b[0;36m__getattr__\u001b[0;34m(self, name)\u001b[0m\n\u001b[1;32m   5463\u001b[0m             \u001b[0;32mif\u001b[0m \u001b[0mself\u001b[0m\u001b[0;34m.\u001b[0m\u001b[0m_info_axis\u001b[0m\u001b[0;34m.\u001b[0m\u001b[0m_can_hold_identifiers_and_holds_name\u001b[0m\u001b[0;34m(\u001b[0m\u001b[0mname\u001b[0m\u001b[0;34m)\u001b[0m\u001b[0;34m:\u001b[0m\u001b[0;34m\u001b[0m\u001b[0;34m\u001b[0m\u001b[0m\n\u001b[1;32m   5464\u001b[0m                 \u001b[0;32mreturn\u001b[0m \u001b[0mself\u001b[0m\u001b[0;34m[\u001b[0m\u001b[0mname\u001b[0m\u001b[0;34m]\u001b[0m\u001b[0;34m\u001b[0m\u001b[0;34m\u001b[0m\u001b[0m\n\u001b[0;32m-> 5465\u001b[0;31m             \u001b[0;32mreturn\u001b[0m \u001b[0mobject\u001b[0m\u001b[0;34m.\u001b[0m\u001b[0m__getattribute__\u001b[0m\u001b[0;34m(\u001b[0m\u001b[0mself\u001b[0m\u001b[0;34m,\u001b[0m \u001b[0mname\u001b[0m\u001b[0;34m)\u001b[0m\u001b[0;34m\u001b[0m\u001b[0;34m\u001b[0m\u001b[0m\n\u001b[0m\u001b[1;32m   5466\u001b[0m \u001b[0;34m\u001b[0m\u001b[0m\n\u001b[1;32m   5467\u001b[0m     \u001b[0;32mdef\u001b[0m \u001b[0m__setattr__\u001b[0m\u001b[0;34m(\u001b[0m\u001b[0mself\u001b[0m\u001b[0;34m,\u001b[0m \u001b[0mname\u001b[0m\u001b[0;34m:\u001b[0m \u001b[0mstr\u001b[0m\u001b[0;34m,\u001b[0m \u001b[0mvalue\u001b[0m\u001b[0;34m)\u001b[0m \u001b[0;34m->\u001b[0m \u001b[0;32mNone\u001b[0m\u001b[0;34m:\u001b[0m\u001b[0;34m\u001b[0m\u001b[0;34m\u001b[0m\u001b[0m\n",
      "\u001b[0;31mAttributeError\u001b[0m: 'Series' object has no attribute 'reshape'"
     ]
    }
   ],
   "source": [
    "RESHAPED = 784\n",
    "\n",
    "X_train = X_train.reshape(2387, RESHAPED)\n",
    "X_test = X_test.reshape(1023, RESHAPED)\n",
    "X_train = X_train.astype('float32')\n",
    "X_test = X_test.astype('float32')"
   ]
  },
  {
   "cell_type": "code",
   "execution_count": null,
   "metadata": {},
   "outputs": [],
   "source": []
  },
  {
   "cell_type": "code",
   "execution_count": 61,
   "metadata": {
    "execution": {
     "iopub.execute_input": "2021-09-06T12:20:55.688564Z",
     "iopub.status.busy": "2021-09-06T12:20:55.687962Z",
     "iopub.status.idle": "2021-09-06T12:20:55.701201Z",
     "shell.execute_reply": "2021-09-06T12:20:55.699927Z",
     "shell.execute_reply.started": "2021-09-06T12:20:55.688490Z"
    }
   },
   "outputs": [],
   "source": [
    "lr_range = [0.001,0.01,0.2,0.5,0.6,1]\n",
    "n_est_range = [30,70,100,120,150]\n",
    "depth_range = [3,4,5,6,7,8,9]"
   ]
  },
  {
   "cell_type": "code",
   "execution_count": 62,
   "metadata": {
    "execution": {
     "iopub.execute_input": "2021-09-06T12:20:57.089014Z",
     "iopub.status.busy": "2021-09-06T12:20:57.088612Z",
     "iopub.status.idle": "2021-09-06T12:20:57.094475Z",
     "shell.execute_reply": "2021-09-06T12:20:57.093031Z",
     "shell.execute_reply.started": "2021-09-06T12:20:57.088983Z"
    }
   },
   "outputs": [],
   "source": [
    "parameters = dict(learning_rate=lr_range,\n",
    "                  n_estimators=n_est_range,\n",
    "                  max_depth=depth_range)\n"
   ]
  },
  {
   "cell_type": "code",
   "execution_count": 65,
   "metadata": {
    "execution": {
     "iopub.execute_input": "2021-09-06T12:22:10.806686Z",
     "iopub.status.busy": "2021-09-06T12:22:10.806229Z",
     "iopub.status.idle": "2021-09-06T12:22:10.812932Z",
     "shell.execute_reply": "2021-09-06T12:22:10.811422Z",
     "shell.execute_reply.started": "2021-09-06T12:22:10.806653Z"
    }
   },
   "outputs": [],
   "source": [
    "from sklearn.model_selection import RandomizedSearchCV\n",
    "clf = XGBClassifier(random_state=2000)\n",
    "rcv = RandomizedSearchCV(clf, param_distributions=parameters,\n",
    "                  cv=kfold,scoring='roc_auc',n_iter=15,random_state=2020)"
   ]
  },
  {
   "cell_type": "code",
   "execution_count": 67,
   "metadata": {
    "execution": {
     "iopub.execute_input": "2021-09-06T12:22:25.624022Z",
     "iopub.status.busy": "2021-09-06T12:22:25.623610Z",
     "iopub.status.idle": "2021-09-06T12:22:30.243993Z",
     "shell.execute_reply": "2021-09-06T12:22:30.241919Z",
     "shell.execute_reply.started": "2021-09-06T12:22:25.623991Z"
    }
   },
   "outputs": [
    {
     "name": "stderr",
     "output_type": "stream",
     "text": [
      "/opt/conda/lib/python3.7/site-packages/xgboost/sklearn.py:1146: UserWarning: The use of label encoder in XGBClassifier is deprecated and will be removed in a future release. To remove this warning, do the following: 1) Pass option use_label_encoder=False when constructing XGBClassifier object; and 2) Encode your labels (y) as integers starting with 0, i.e. 0, 1, 2, ..., [num_class - 1].\n",
      "  warnings.warn(label_encoder_deprecation_msg, UserWarning)\n",
      "/opt/conda/lib/python3.7/site-packages/sklearn/model_selection/_validation.py:552: FitFailedWarning: Estimator fit failed. The score on this train-test partition for these parameters will be set to nan. Details: \n",
      "Traceback (most recent call last):\n",
      "  File \"/opt/conda/lib/python3.7/site-packages/sklearn/model_selection/_validation.py\", line 531, in _fit_and_score\n",
      "    estimator.fit(X_train, y_train, **fit_params)\n",
      "  File \"/opt/conda/lib/python3.7/site-packages/xgboost/core.py\", line 436, in inner_f\n",
      "    return f(**kwargs)\n",
      "  File \"/opt/conda/lib/python3.7/site-packages/xgboost/sklearn.py\", line 1156, in fit\n",
      "    raise ValueError(\"Please reshape the input data X into 2-dimensional matrix.\")\n",
      "ValueError: Please reshape the input data X into 2-dimensional matrix.\n",
      "\n",
      "  FitFailedWarning)\n"
     ]
    },
    {
     "ename": "ValueError",
     "evalue": "Please reshape the input data X into 2-dimensional matrix.",
     "output_type": "error",
     "traceback": [
      "\u001b[0;31m---------------------------------------------------------------------------\u001b[0m",
      "\u001b[0;31mValueError\u001b[0m                                Traceback (most recent call last)",
      "\u001b[0;32m<ipython-input-67-be3686ef6416>\u001b[0m in \u001b[0;36m<module>\u001b[0;34m\u001b[0m\n\u001b[0;32m----> 1\u001b[0;31m \u001b[0mrcv\u001b[0m\u001b[0;34m.\u001b[0m\u001b[0mfit\u001b[0m\u001b[0;34m(\u001b[0m\u001b[0mX\u001b[0m\u001b[0;34m,\u001b[0m\u001b[0mY\u001b[0m\u001b[0;34m)\u001b[0m\u001b[0;34m\u001b[0m\u001b[0;34m\u001b[0m\u001b[0m\n\u001b[0m\u001b[1;32m      2\u001b[0m \u001b[0mdf_rcv\u001b[0m \u001b[0;34m=\u001b[0m \u001b[0mpd\u001b[0m\u001b[0;34m.\u001b[0m\u001b[0mDataFrame\u001b[0m\u001b[0;34m(\u001b[0m\u001b[0mrcv\u001b[0m\u001b[0;34m.\u001b[0m\u001b[0mcv_results_\u001b[0m\u001b[0;34m)\u001b[0m\u001b[0;34m\u001b[0m\u001b[0;34m\u001b[0m\u001b[0m\n\u001b[1;32m      3\u001b[0m \u001b[0mprint\u001b[0m\u001b[0;34m(\u001b[0m\u001b[0mrcv\u001b[0m\u001b[0;34m.\u001b[0m\u001b[0mbest_params_\u001b[0m\u001b[0;34m)\u001b[0m\u001b[0;34m\u001b[0m\u001b[0;34m\u001b[0m\u001b[0m\n\u001b[1;32m      4\u001b[0m \u001b[0;34m\u001b[0m\u001b[0m\n\u001b[1;32m      5\u001b[0m \u001b[0mprint\u001b[0m\u001b[0;34m(\u001b[0m\u001b[0mrcv\u001b[0m\u001b[0;34m.\u001b[0m\u001b[0mbest_score_\u001b[0m\u001b[0;34m)\u001b[0m\u001b[0;34m\u001b[0m\u001b[0;34m\u001b[0m\u001b[0m\n",
      "\u001b[0;32m/opt/conda/lib/python3.7/site-packages/sklearn/utils/validation.py\u001b[0m in \u001b[0;36minner_f\u001b[0;34m(*args, **kwargs)\u001b[0m\n\u001b[1;32m     70\u001b[0m                           FutureWarning)\n\u001b[1;32m     71\u001b[0m         \u001b[0mkwargs\u001b[0m\u001b[0;34m.\u001b[0m\u001b[0mupdate\u001b[0m\u001b[0;34m(\u001b[0m\u001b[0;34m{\u001b[0m\u001b[0mk\u001b[0m\u001b[0;34m:\u001b[0m \u001b[0marg\u001b[0m \u001b[0;32mfor\u001b[0m \u001b[0mk\u001b[0m\u001b[0;34m,\u001b[0m \u001b[0marg\u001b[0m \u001b[0;32min\u001b[0m \u001b[0mzip\u001b[0m\u001b[0;34m(\u001b[0m\u001b[0msig\u001b[0m\u001b[0;34m.\u001b[0m\u001b[0mparameters\u001b[0m\u001b[0;34m,\u001b[0m \u001b[0margs\u001b[0m\u001b[0;34m)\u001b[0m\u001b[0;34m}\u001b[0m\u001b[0;34m)\u001b[0m\u001b[0;34m\u001b[0m\u001b[0;34m\u001b[0m\u001b[0m\n\u001b[0;32m---> 72\u001b[0;31m         \u001b[0;32mreturn\u001b[0m \u001b[0mf\u001b[0m\u001b[0;34m(\u001b[0m\u001b[0;34m**\u001b[0m\u001b[0mkwargs\u001b[0m\u001b[0;34m)\u001b[0m\u001b[0;34m\u001b[0m\u001b[0;34m\u001b[0m\u001b[0m\n\u001b[0m\u001b[1;32m     73\u001b[0m     \u001b[0;32mreturn\u001b[0m \u001b[0minner_f\u001b[0m\u001b[0;34m\u001b[0m\u001b[0;34m\u001b[0m\u001b[0m\n\u001b[1;32m     74\u001b[0m \u001b[0;34m\u001b[0m\u001b[0m\n",
      "\u001b[0;32m/opt/conda/lib/python3.7/site-packages/sklearn/model_selection/_search.py\u001b[0m in \u001b[0;36mfit\u001b[0;34m(self, X, y, groups, **fit_params)\u001b[0m\n\u001b[1;32m    763\u001b[0m             \u001b[0mrefit_start_time\u001b[0m \u001b[0;34m=\u001b[0m \u001b[0mtime\u001b[0m\u001b[0;34m.\u001b[0m\u001b[0mtime\u001b[0m\u001b[0;34m(\u001b[0m\u001b[0;34m)\u001b[0m\u001b[0;34m\u001b[0m\u001b[0;34m\u001b[0m\u001b[0m\n\u001b[1;32m    764\u001b[0m             \u001b[0;32mif\u001b[0m \u001b[0my\u001b[0m \u001b[0;32mis\u001b[0m \u001b[0;32mnot\u001b[0m \u001b[0;32mNone\u001b[0m\u001b[0;34m:\u001b[0m\u001b[0;34m\u001b[0m\u001b[0;34m\u001b[0m\u001b[0m\n\u001b[0;32m--> 765\u001b[0;31m                 \u001b[0mself\u001b[0m\u001b[0;34m.\u001b[0m\u001b[0mbest_estimator_\u001b[0m\u001b[0;34m.\u001b[0m\u001b[0mfit\u001b[0m\u001b[0;34m(\u001b[0m\u001b[0mX\u001b[0m\u001b[0;34m,\u001b[0m \u001b[0my\u001b[0m\u001b[0;34m,\u001b[0m \u001b[0;34m**\u001b[0m\u001b[0mfit_params\u001b[0m\u001b[0;34m)\u001b[0m\u001b[0;34m\u001b[0m\u001b[0;34m\u001b[0m\u001b[0m\n\u001b[0m\u001b[1;32m    766\u001b[0m             \u001b[0;32melse\u001b[0m\u001b[0;34m:\u001b[0m\u001b[0;34m\u001b[0m\u001b[0;34m\u001b[0m\u001b[0m\n\u001b[1;32m    767\u001b[0m                 \u001b[0mself\u001b[0m\u001b[0;34m.\u001b[0m\u001b[0mbest_estimator_\u001b[0m\u001b[0;34m.\u001b[0m\u001b[0mfit\u001b[0m\u001b[0;34m(\u001b[0m\u001b[0mX\u001b[0m\u001b[0;34m,\u001b[0m \u001b[0;34m**\u001b[0m\u001b[0mfit_params\u001b[0m\u001b[0;34m)\u001b[0m\u001b[0;34m\u001b[0m\u001b[0;34m\u001b[0m\u001b[0m\n",
      "\u001b[0;32m/opt/conda/lib/python3.7/site-packages/xgboost/core.py\u001b[0m in \u001b[0;36minner_f\u001b[0;34m(*args, **kwargs)\u001b[0m\n\u001b[1;32m    434\u001b[0m         \u001b[0;32mfor\u001b[0m \u001b[0mk\u001b[0m\u001b[0;34m,\u001b[0m \u001b[0marg\u001b[0m \u001b[0;32min\u001b[0m \u001b[0mzip\u001b[0m\u001b[0;34m(\u001b[0m\u001b[0msig\u001b[0m\u001b[0;34m.\u001b[0m\u001b[0mparameters\u001b[0m\u001b[0;34m,\u001b[0m \u001b[0margs\u001b[0m\u001b[0;34m)\u001b[0m\u001b[0;34m:\u001b[0m\u001b[0;34m\u001b[0m\u001b[0;34m\u001b[0m\u001b[0m\n\u001b[1;32m    435\u001b[0m             \u001b[0mkwargs\u001b[0m\u001b[0;34m[\u001b[0m\u001b[0mk\u001b[0m\u001b[0;34m]\u001b[0m \u001b[0;34m=\u001b[0m \u001b[0marg\u001b[0m\u001b[0;34m\u001b[0m\u001b[0;34m\u001b[0m\u001b[0m\n\u001b[0;32m--> 436\u001b[0;31m         \u001b[0;32mreturn\u001b[0m \u001b[0mf\u001b[0m\u001b[0;34m(\u001b[0m\u001b[0;34m**\u001b[0m\u001b[0mkwargs\u001b[0m\u001b[0;34m)\u001b[0m\u001b[0;34m\u001b[0m\u001b[0;34m\u001b[0m\u001b[0m\n\u001b[0m\u001b[1;32m    437\u001b[0m \u001b[0;34m\u001b[0m\u001b[0m\n\u001b[1;32m    438\u001b[0m     \u001b[0;32mreturn\u001b[0m \u001b[0minner_f\u001b[0m\u001b[0;34m\u001b[0m\u001b[0;34m\u001b[0m\u001b[0m\n",
      "\u001b[0;32m/opt/conda/lib/python3.7/site-packages/xgboost/sklearn.py\u001b[0m in \u001b[0;36mfit\u001b[0;34m(self, X, y, sample_weight, base_margin, eval_set, eval_metric, early_stopping_rounds, verbose, xgb_model, sample_weight_eval_set, base_margin_eval_set, feature_weights, callbacks)\u001b[0m\n\u001b[1;32m   1154\u001b[0m             \u001b[0;31m# Simply raise an error here since there might be many\u001b[0m\u001b[0;34m\u001b[0m\u001b[0;34m\u001b[0m\u001b[0;34m\u001b[0m\u001b[0m\n\u001b[1;32m   1155\u001b[0m             \u001b[0;31m# different ways of reshaping\u001b[0m\u001b[0;34m\u001b[0m\u001b[0;34m\u001b[0m\u001b[0;34m\u001b[0m\u001b[0m\n\u001b[0;32m-> 1156\u001b[0;31m             \u001b[0;32mraise\u001b[0m \u001b[0mValueError\u001b[0m\u001b[0;34m(\u001b[0m\u001b[0;34m\"Please reshape the input data X into 2-dimensional matrix.\"\u001b[0m\u001b[0;34m)\u001b[0m\u001b[0;34m\u001b[0m\u001b[0;34m\u001b[0m\u001b[0m\n\u001b[0m\u001b[1;32m   1157\u001b[0m \u001b[0;34m\u001b[0m\u001b[0m\n\u001b[1;32m   1158\u001b[0m         train_dmatrix, evals = _wrap_evaluation_matrices(\n",
      "\u001b[0;31mValueError\u001b[0m: Please reshape the input data X into 2-dimensional matrix."
     ]
    }
   ],
   "source": [
    "rcv.fit(X,Y)\n",
    "df_rcv = pd.DataFrame(rcv.cv_results_)\n",
    "print(rcv.best_params_)\n",
    "\n",
    "print(rcv.best_score_)"
   ]
  },
  {
   "cell_type": "code",
   "execution_count": null,
   "metadata": {},
   "outputs": [],
   "source": []
  }
 ],
 "metadata": {
  "kernelspec": {
   "display_name": "Python 3",
   "language": "python",
   "name": "python3"
  },
  "language_info": {
   "codemirror_mode": {
    "name": "ipython",
    "version": 3
   },
   "file_extension": ".py",
   "mimetype": "text/x-python",
   "name": "python",
   "nbconvert_exporter": "python",
   "pygments_lexer": "ipython3",
   "version": "3.8.8"
  }
 },
 "nbformat": 4,
 "nbformat_minor": 4
}
