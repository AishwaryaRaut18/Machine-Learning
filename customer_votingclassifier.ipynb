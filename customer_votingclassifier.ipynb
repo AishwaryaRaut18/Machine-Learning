{
 "cells": [
  {
   "cell_type": "code",
   "execution_count": 13,
   "id": "842afae0",
   "metadata": {},
   "outputs": [],
   "source": [
    "import pandas as pd\n",
    "import numpy as np\n",
    "\n",
    "from sklearn.model_selection import train_test_split \n",
    "from sklearn.metrics import confusion_matrix, classification_report\n",
    "from sklearn.metrics import accuracy_score\n",
    "\n",
    "from sklearn.linear_model import LogisticRegression\n",
    "from sklearn.discriminant_analysis import LinearDiscriminantAnalysis\n",
    "from sklearn.discriminant_analysis import QuadraticDiscriminantAnalysis\n",
    "\n",
    "from sklearn.ensemble import VotingClassifier\n",
    "from sklearn.metrics import roc_auc_score\n",
    "\n"
   ]
  },
  {
   "cell_type": "code",
   "execution_count": 15,
   "id": "97b36284",
   "metadata": {},
   "outputs": [],
   "source": [
    "lr = LogisticRegression()\n",
    "lda = LinearDiscriminantAnalysis()\n",
    "qda = QuadraticDiscriminantAnalysis()\n",
    "\n",
    "Voting = VotingClassifier(estimators=[('LR',lr),\n",
    "                                      ('LDA',lda),\n",
    "                                      ('QDA',qda)],voting='soft')\n",
    "\n"
   ]
  },
  {
   "cell_type": "code",
   "execution_count": 25,
   "id": "f3ff5634",
   "metadata": {},
   "outputs": [],
   "source": [
    "df=pd.read_csv(\"C:/Users/User/Desktop/cdac advance modules/pml lecture/class  practice/program_dataset/train1.csv\")\n",
    "df1=pd.read_csv(\"C:/Users/User/Desktop/cdac advance modules/pml lecture/class  practice/program_dataset/test1.csv\")\n",
    "\n",
    "X = df.iloc[:,1:-1]\n",
    "y = df.iloc[:,-1]\n",
    "test=df1.iloc[:,1:]\n",
    "\n",
    "# Create training and test sets\n",
    "X_train, X_test, y_train, y_test = train_test_split(X, y, test_size = 0.3, \n",
    "                                                    random_state=2018,\n",
    "                                                    stratify=y)\n"
   ]
  },
  {
   "cell_type": "code",
   "execution_count": 26,
   "id": "faf2309d",
   "metadata": {},
   "outputs": [
    {
     "name": "stderr",
     "output_type": "stream",
     "text": [
      "C:\\Users\\Admin\\anaconda3\\lib\\site-packages\\sklearn\\discriminant_analysis.py:808: UserWarning: Variables are collinear\n",
      "  warnings.warn(\"Variables are collinear\")\n"
     ]
    }
   ],
   "source": [
    "Voting.fit(X_train,y_train)\n",
    "y_pred = Voting.predict(test)\n",
    "y_probs = Voting.predict_proba(test)\n",
    "y_pred_prob = y_probs[:,1]"
   ]
  },
  {
   "cell_type": "code",
   "execution_count": 27,
   "id": "39c16b3a",
   "metadata": {},
   "outputs": [],
   "source": [
    "ID=df1['ID']"
   ]
  },
  {
   "cell_type": "code",
   "execution_count": 28,
   "id": "d66fdd2c",
   "metadata": {},
   "outputs": [],
   "source": [
    "submit=pd.DataFrame({'ID':ID,'TARGET':y_pred})\n",
    "submit.to_csv(\"./submitCUSTOMER-VR1.csv\",index=False)\n",
    "submit1=pd.DataFrame({'ID':ID,'TARGET':y_pred_prob})\n",
    "submit1.to_csv(\"./submitCUSTOMER-VR2.csv\",index=False)"
   ]
  },
  {
   "cell_type": "code",
   "execution_count": 29,
   "id": "c01299cc",
   "metadata": {},
   "outputs": [],
   "source": [
    "lr = LogisticRegression()\n",
    "lda = LinearDiscriminantAnalysis()\n",
    "qda = QuadraticDiscriminantAnalysis()\n",
    "\n",
    "Voting = VotingClassifier(estimators=[('LR',lr),\n",
    "                                      ('LDA',lda),\n",
    "                                      ('QDA',qda)],voting='soft',weights=np.array([0.33,0.4,0.27]))\n",
    "\n"
   ]
  },
  {
   "cell_type": "code",
   "execution_count": 30,
   "id": "e189d239",
   "metadata": {},
   "outputs": [
    {
     "name": "stderr",
     "output_type": "stream",
     "text": [
      "C:\\Users\\Admin\\anaconda3\\lib\\site-packages\\sklearn\\discriminant_analysis.py:808: UserWarning: Variables are collinear\n",
      "  warnings.warn(\"Variables are collinear\")\n"
     ]
    }
   ],
   "source": [
    "Voting.fit(X_train,y_train)\n",
    "y_pred = Voting.predict(test)\n",
    "y_probs = Voting.predict_proba(test)\n",
    "y_pred_prob = y_probs[:,1]"
   ]
  },
  {
   "cell_type": "code",
   "execution_count": 31,
   "id": "f8b085a4",
   "metadata": {},
   "outputs": [],
   "source": [
    "submit=pd.DataFrame({'ID':ID,'TARGET':y_pred})\n",
    "submit.to_csv(\"./submitCUSTOMER-WVR1.csv\",index=False)\n",
    "submit1=pd.DataFrame({'ID':ID,'TARGET':y_pred_prob})\n",
    "submit1.to_csv(\"./submitCUSTOMER-WVR2.csv\",index=False)"
   ]
  },
  {
   "cell_type": "code",
   "execution_count": null,
   "id": "9759c9d7",
   "metadata": {},
   "outputs": [],
   "source": []
  }
 ],
 "metadata": {
  "kernelspec": {
   "display_name": "Python 3",
   "language": "python",
   "name": "python3"
  },
  "language_info": {
   "codemirror_mode": {
    "name": "ipython",
    "version": 3
   },
   "file_extension": ".py",
   "mimetype": "text/x-python",
   "name": "python",
   "nbconvert_exporter": "python",
   "pygments_lexer": "ipython3",
   "version": "3.8.8"
  }
 },
 "nbformat": 4,
 "nbformat_minor": 5
}
