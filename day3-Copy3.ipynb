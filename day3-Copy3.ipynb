{
 "cells": [
  {
   "cell_type": "code",
   "execution_count": 1,
   "id": "6cf4677f",
   "metadata": {},
   "outputs": [],
   "source": [
    "import pandas as pd\n",
    "import numpy as np\n",
    "\n",
    "df=pd.read_csv(\"C:/Users/User/Desktop/cdac advance modules/pml lecture/class  practice/program_dataset/train.csv\", parse_dates=['datetime'])\n",
    "df2=pd.read_csv(\"C:/Users/User/Desktop/cdac advance modules/pml lecture/class  practice/program_dataset/test.csv\", parse_dates=['datetime'])"
   ]
  },
  {
   "cell_type": "code",
   "execution_count": 2,
   "id": "c7b375f7",
   "metadata": {},
   "outputs": [],
   "source": [
    "df['year'] = df['datetime'].dt.year\n",
    "\n",
    "df['month'] = df['datetime'].dt.month\n",
    "\n",
    "df['day'] = df['datetime'].dt.day\n",
    "\n",
    "df['hour'] = df['datetime'].dt.hour\n",
    "\n",
    "df['weekday']=df['datetime'].dt.weekday\n",
    "\n",
    "df2['year'] = df2['datetime'].dt.year\n",
    "\n",
    "df2['month'] = df2['datetime'].dt.month\n",
    "\n",
    "df2['day'] = df2['datetime'].dt.day\n",
    "\n",
    "df2['hour'] = df2['datetime'].dt.hour\n",
    "\n",
    "df2['weekday']=df2['datetime'].dt.weekday"
   ]
  },
  {
   "cell_type": "code",
   "execution_count": 3,
   "id": "d9dcfcb4",
   "metadata": {},
   "outputs": [],
   "source": [
    "df.drop(['casual','count','datetime'],axis=1,inplace=True)\n",
    "df2.drop('datetime',axis=1,inplace=True)"
   ]
  },
  {
   "cell_type": "code",
   "execution_count": 4,
   "id": "d7e5c141",
   "metadata": {},
   "outputs": [],
   "source": [
    "X=df.drop('registered',axis=1)\n",
    "y=df['registered']"
   ]
  },
  {
   "cell_type": "code",
   "execution_count": 5,
   "id": "c3f542e7",
   "metadata": {},
   "outputs": [],
   "source": [
    "from sklearn.linear_model import LinearRegression\n",
    "model=LinearRegression()\n",
    "model.fit(X,y)\n",
    "y_pred=model.predict(df2)\n",
    "y_pred[y_pred<0]=0\n",
    "test=pd.read_csv(\"C:/Users/User/Desktop/cdac advance modules/pml lecture/class  practice/program_dataset/test.csv\")\n",
    "date=test[\"datetime\"]\n",
    "count=y_pred\n",
    "submit=pd.DataFrame({'datetime':date,'count':count})\n",
    "submit.to_csv(\"./submit_LR.csv\",index=False)"
   ]
  },
  {
   "cell_type": "code",
   "execution_count": 6,
   "id": "7694d7ae",
   "metadata": {},
   "outputs": [],
   "source": [
    "from sklearn.linear_model import Ridge\n",
    "from sklearn.linear_model import Lasso\n",
    "from sklearn.linear_model import ElasticNet\n",
    "from sklearn.model_selection import GridSearchCV"
   ]
  },
  {
   "cell_type": "code",
   "execution_count": 7,
   "id": "e3dca4dd",
   "metadata": {},
   "outputs": [],
   "source": [
    "#CV lasso/Ridge/elastic\n",
    "lasso=Lasso()\n",
    "ridge=Ridge()\n",
    "elastic=ElasticNet()\n",
    "#put paramters of alpha,l1_ratio: give range accordingly end, no of samples\n",
    "paramter={\"alpha\":np.linspace(0.001,40)}\n",
    "\n",
    "cv_lasso=GridSearchCV(lasso,param_grid=paramter,scoring=\"r2\")\n",
    "cv_ridge=GridSearchCV(ridge,param_grid=paramter,scoring=\"r2\")\n",
    "cv_elastic=GridSearchCV(elastic,param_grid=paramter,scoring=\"r2\")\n",
    "\n",
    "cv_lasso.fit(X,y)\n",
    "cv_ridge.fit(X,y)\n",
    "cv_elastic.fit(X,y)\n",
    "\n",
    "\n",
    "y_pred_lasso=cv_lasso.predict(df2)\n",
    "y_pred_ridge=cv_ridge.predict(df2)\n",
    "y_pred_elastic=cv_elastic.predict(df2)\n",
    "\n",
    "y_pred_lasso[y_pred_lasso<0]=0\n",
    "y_pred_ridge[y_pred_ridge<0]=0\n",
    "y_pred_elastic[y_pred_elastic<0]=0\n"
   ]
  },
  {
   "cell_type": "code",
   "execution_count": 8,
   "id": "174a9f00",
   "metadata": {},
   "outputs": [],
   "source": [
    "submit2=pd.DataFrame({'datetime':date,'count':y_pred_lasso})\n",
    "submit2.to_csv(\"./submit_Lasso.csv\",index=False)\n",
    "submit3=pd.DataFrame({'datetime':date,'count':y_pred_ridge})\n",
    "submit3.to_csv(\"./submit_ridge.csv\",index=False)          \n",
    "submit4=pd.DataFrame({'datetime':date,'count':y_pred_elastic})\n",
    "submit4.to_csv(\"./submit_elastic.csv\",index=False)"
   ]
  },
  {
   "cell_type": "code",
   "execution_count": 9,
   "id": "4194f89e",
   "metadata": {},
   "outputs": [
    {
     "name": "stdout",
     "output_type": "stream",
     "text": [
      "{'alpha': 0.8173061224489796}\n",
      "0.18943374361530296\n",
      "Lasso(alpha=0.8173061224489796)\n",
      "[-0.         -0.         30.66094614 -3.95300861  0.6275826   3.13460357\n",
      " -1.32548587  0.52364084 69.57561231  6.82061021  0.28600015  6.56538827\n",
      " -0.68627993]\n",
      "-139943.75911653112\n"
     ]
    }
   ],
   "source": [
    "print(cv_lasso.best_params_)\n",
    "\n",
    "print(cv_lasso.best_score_)\n",
    "\n",
    "print(cv_lasso.best_estimator_)\n",
    "\n",
    "best_model = cv_lasso.best_estimator_\n",
    "print(best_model.coef_)\n",
    "print(best_model.intercept_)"
   ]
  },
  {
   "cell_type": "code",
   "execution_count": 10,
   "id": "8775d558",
   "metadata": {},
   "outputs": [
    {
     "name": "stdout",
     "output_type": "stream",
     "text": [
      "{'alpha': 40.0}\n",
      "0.1852202760518419\n",
      "Ridge(alpha=40.0)\n",
      "[-7.41728581  6.35189859 37.22050383 -6.50589362  0.33818334  3.39558039\n",
      " -1.28074625  0.57939014 71.92053634  9.20109522  0.31179922  6.60469425\n",
      "  0.2343701 ]\n",
      "-144665.8242116034\n"
     ]
    }
   ],
   "source": [
    "print(cv_ridge.best_params_)\n",
    "\n",
    "print(cv_ridge.best_score_)\n",
    "\n",
    "print(cv_ridge.best_estimator_)\n",
    "\n",
    "best_model = cv_ridge.best_estimator_\n",
    "print(best_model.coef_)\n",
    "print(best_model.intercept_)"
   ]
  },
  {
   "cell_type": "code",
   "execution_count": 11,
   "id": "8cabba98",
   "metadata": {},
   "outputs": [
    {
     "name": "stdout",
     "output_type": "stream",
     "text": [
      "{'alpha': 0.001}\n",
      "0.18416634166014115\n",
      "ElasticNet(alpha=0.001)\n",
      "[-7.90536828  9.16129418 39.06268298 -6.60094231  0.29257443  3.43521843\n",
      " -1.27570716  0.58541225 72.84785859  9.35636334  0.31292307  6.60870223\n",
      "  0.57994756]\n",
      "-146533.62650577302\n"
     ]
    }
   ],
   "source": [
    "print(cv_elastic.best_params_)\n",
    "\n",
    "print(cv_elastic.best_score_)\n",
    "\n",
    "print(cv_elastic.best_estimator_)\n",
    "\n",
    "best_model = cv_elastic.best_estimator_\n",
    "print(best_model.coef_)\n",
    "print(best_model.intercept_)"
   ]
  },
  {
   "cell_type": "code",
   "execution_count": null,
   "id": "b88e568d",
   "metadata": {},
   "outputs": [],
   "source": []
  }
 ],
 "metadata": {
  "kernelspec": {
   "display_name": "Python 3",
   "language": "python",
   "name": "python3"
  },
  "language_info": {
   "codemirror_mode": {
    "name": "ipython",
    "version": 3
   },
   "file_extension": ".py",
   "mimetype": "text/x-python",
   "name": "python",
   "nbconvert_exporter": "python",
   "pygments_lexer": "ipython3",
   "version": "3.8.8"
  }
 },
 "nbformat": 4,
 "nbformat_minor": 5
}
