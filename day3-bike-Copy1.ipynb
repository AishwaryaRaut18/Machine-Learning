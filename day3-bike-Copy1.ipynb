{
 "cells": [
  {
   "cell_type": "code",
   "execution_count": 1,
   "metadata": {},
   "outputs": [],
   "source": [
    "import pandas as pd\n",
    "from sklearn.linear_model import LinearRegression"
   ]
  },
  {
   "cell_type": "code",
   "execution_count": 2,
   "metadata": {},
   "outputs": [],
   "source": [
    "df=pd.read_csv(\"C:/Users/User/Desktop/cdac advance modules/pml lecture/class  practice/program_dataset/train.csv\", parse_dates=['datetime'])"
   ]
  },
  {
   "cell_type": "code",
   "execution_count": 3,
   "metadata": {},
   "outputs": [],
   "source": [
    "df['year'] = df['datetime'].dt.year\n",
    "\n",
    "df['month'] = df['datetime'].dt.month\n",
    "\n",
    "df['day'] = df['datetime'].dt.day\n",
    "\n",
    "df['hour'] = df['datetime'].dt.hour\n",
    "\n",
    "df['weekday']=df['datetime'].dt.weekday"
   ]
  },
  {
   "cell_type": "code",
   "execution_count": 4,
   "metadata": {},
   "outputs": [
    {
     "data": {
      "text/plain": [
       "Index(['datetime', 'season', 'holiday', 'workingday', 'weather', 'temp',\n",
       "       'atemp', 'humidity', 'windspeed', 'casual', 'registered', 'count',\n",
       "       'year', 'month', 'day', 'hour', 'weekday'],\n",
       "      dtype='object')"
      ]
     },
     "execution_count": 4,
     "metadata": {},
     "output_type": "execute_result"
    }
   ],
   "source": [
    "df.columns"
   ]
  },
  {
   "cell_type": "code",
   "execution_count": 5,
   "metadata": {},
   "outputs": [],
   "source": [
    "df.drop(['casual','registered','datetime'],axis=1,inplace=True)"
   ]
  },
  {
   "cell_type": "code",
   "execution_count": 6,
   "metadata": {},
   "outputs": [],
   "source": [
    "X=df.drop('count',axis=1)"
   ]
  },
  {
   "cell_type": "code",
   "execution_count": 7,
   "metadata": {},
   "outputs": [],
   "source": [
    "y=df['count']"
   ]
  },
  {
   "cell_type": "code",
   "execution_count": 8,
   "metadata": {},
   "outputs": [],
   "source": [
    "model=LinearRegression()"
   ]
  },
  {
   "cell_type": "code",
   "execution_count": 9,
   "metadata": {},
   "outputs": [
    {
     "data": {
      "text/plain": [
       "LinearRegression()"
      ]
     },
     "execution_count": 9,
     "metadata": {},
     "output_type": "execute_result"
    }
   ],
   "source": [
    "model.fit(X,y)"
   ]
  },
  {
   "cell_type": "code",
   "execution_count": null,
   "metadata": {},
   "outputs": [],
   "source": []
  },
  {
   "cell_type": "code",
   "execution_count": 10,
   "metadata": {},
   "outputs": [],
   "source": [
    "df1=pd.read_csv(\"test.csv\", parse_dates=['datetime'])"
   ]
  },
  {
   "cell_type": "code",
   "execution_count": 11,
   "metadata": {},
   "outputs": [],
   "source": [
    "df1['year'] = df1['datetime'].dt.year\n",
    "\n",
    "df1['month'] = df1['datetime'].dt.month\n",
    "\n",
    "df1['day'] = df1['datetime'].dt.day\n",
    "\n",
    "df1['hour'] = df1['datetime'].dt.hour\n",
    "\n",
    "df1['weekday']=df1['datetime'].dt.weekday"
   ]
  },
  {
   "cell_type": "code",
   "execution_count": 12,
   "metadata": {},
   "outputs": [],
   "source": [
    "df1.drop('datetime',axis=1,inplace=True)"
   ]
  },
  {
   "cell_type": "code",
   "execution_count": 13,
   "metadata": {},
   "outputs": [],
   "source": [
    "y_pre=model.predict(df1)"
   ]
  },
  {
   "cell_type": "code",
   "execution_count": 14,
   "metadata": {},
   "outputs": [
    {
     "data": {
      "text/plain": [
       "array([-29.12247846, -26.52165326, -18.74178838, ..., 316.73444113,\n",
       "       335.00605647, 324.48841532])"
      ]
     },
     "execution_count": 14,
     "metadata": {},
     "output_type": "execute_result"
    }
   ],
   "source": [
    "y_pre"
   ]
  },
  {
   "cell_type": "code",
   "execution_count": 15,
   "metadata": {},
   "outputs": [],
   "source": [
    "y_pre[y_pre<0]=0"
   ]
  },
  {
   "cell_type": "code",
   "execution_count": 16,
   "metadata": {},
   "outputs": [],
   "source": [
    "testData=pd.read_csv(\"C:/Users/User/Desktop/cdac advance modules/pml lecture/class  practice/program_dataset/test.csv\")"
   ]
  },
  {
   "cell_type": "code",
   "execution_count": 17,
   "metadata": {},
   "outputs": [],
   "source": [
    "datetime=testData['datetime']"
   ]
  },
  {
   "cell_type": "code",
   "execution_count": 18,
   "metadata": {},
   "outputs": [],
   "source": [
    "count=y_pre"
   ]
  },
  {
   "cell_type": "code",
   "execution_count": 19,
   "metadata": {},
   "outputs": [
    {
     "data": {
      "text/plain": [
       "array([  0.        ,   0.        ,   0.        , ..., 316.73444113,\n",
       "       335.00605647, 324.48841532])"
      ]
     },
     "execution_count": 19,
     "metadata": {},
     "output_type": "execute_result"
    }
   ],
   "source": [
    "count"
   ]
  },
  {
   "cell_type": "code",
   "execution_count": 23,
   "metadata": {},
   "outputs": [],
   "source": [
    "submit=pd.DataFrame({'datetime':datetime,'count':count})\n",
    "submit.to_csv(\"./submitnewfinal1_LR.csv\",index=False)"
   ]
  },
  {
   "cell_type": "code",
   "execution_count": 24,
   "metadata": {},
   "outputs": [],
   "source": [
    "from sklearn.model_selection import train_test_split \n",
    "from sklearn.linear_model import ElasticNet\n",
    "from sklearn.linear_model import Lasso\n",
    "from sklearn.linear_model import Ridge\n",
    "from sklearn.model_selection import KFold\n",
    "from sklearn.model_selection import GridSearchCV"
   ]
  },
  {
   "cell_type": "code",
   "execution_count": 25,
   "metadata": {},
   "outputs": [],
   "source": [
    "from sklearn.metrics import mean_squared_error,mean_absolute_error,r2_score\n"
   ]
  },
  {
   "cell_type": "markdown",
   "metadata": {},
   "source": [
    "# Lasso"
   ]
  },
  {
   "cell_type": "code",
   "execution_count": 26,
   "metadata": {},
   "outputs": [],
   "source": [
    "clf = Lasso()"
   ]
  },
  {
   "cell_type": "code",
   "execution_count": 27,
   "metadata": {},
   "outputs": [],
   "source": [
    "import numpy as np\n",
    "parameters2 = dict(alpha=np.linspace(0.001,40))"
   ]
  },
  {
   "cell_type": "code",
   "execution_count": null,
   "metadata": {},
   "outputs": [],
   "source": []
  },
  {
   "cell_type": "code",
   "execution_count": 28,
   "metadata": {},
   "outputs": [],
   "source": [
    "kfold = KFold(n_splits=5, random_state=2021,shuffle=True)\n",
    "cv_lasso = GridSearchCV(clf, param_grid=parameters2,\n",
    "                  cv=kfold,scoring='r2')"
   ]
  },
  {
   "cell_type": "code",
   "execution_count": 29,
   "metadata": {},
   "outputs": [
    {
     "data": {
      "text/plain": [
       "GridSearchCV(cv=KFold(n_splits=5, random_state=2021, shuffle=True),\n",
       "             estimator=Lasso(),\n",
       "             param_grid={'alpha': array([1.00000000e-03, 8.17306122e-01, 1.63361224e+00, 2.44991837e+00,\n",
       "       3.26622449e+00, 4.08253061e+00, 4.89883673e+00, 5.71514286e+00,\n",
       "       6.53144898e+00, 7.34775510e+00, 8.16406122e+00, 8.98036735e+00,\n",
       "       9.79667347e+00, 1.06129796e+01, 1.14292857e+01, 1.22455918e+01,...\n",
       "       1.95923469e+01, 2.04086531e+01, 2.12249592e+01, 2.20412653e+01,\n",
       "       2.28575714e+01, 2.36738776e+01, 2.44901837e+01, 2.53064898e+01,\n",
       "       2.61227959e+01, 2.69391020e+01, 2.77554082e+01, 2.85717143e+01,\n",
       "       2.93880204e+01, 3.02043265e+01, 3.10206327e+01, 3.18369388e+01,\n",
       "       3.26532449e+01, 3.34695510e+01, 3.42858571e+01, 3.51021633e+01,\n",
       "       3.59184694e+01, 3.67347755e+01, 3.75510816e+01, 3.83673878e+01,\n",
       "       3.91836939e+01, 4.00000000e+01])},\n",
       "             scoring='r2')"
      ]
     },
     "execution_count": 29,
     "metadata": {},
     "output_type": "execute_result"
    }
   ],
   "source": [
    "cv_lasso.fit(X,y)"
   ]
  },
  {
   "cell_type": "code",
   "execution_count": 30,
   "metadata": {},
   "outputs": [
    {
     "name": "stdout",
     "output_type": "stream",
     "text": [
      "{'alpha': 0.001}\n",
      "0.3879058542751365\n",
      "Lasso(alpha=0.001)\n",
      "[-7.6617778  -0.60113395  4.05604441 -4.85581296  1.56718284  4.75425751\n",
      " -2.03310428  0.61419794 82.7771448   9.90519861  0.38177773  7.7798193\n",
      "  1.1242733 ]\n",
      "-166479.26343515702\n"
     ]
    }
   ],
   "source": [
    "print(cv_lasso.best_params_)\n",
    "\n",
    "print(cv_lasso.best_score_)\n",
    "\n",
    "print(cv_lasso.best_estimator_)\n",
    "\n",
    "best_model = cv_lasso.best_estimator_\n",
    "print(best_model.coef_)\n",
    "print(best_model.intercept_)"
   ]
  },
  {
   "cell_type": "code",
   "execution_count": null,
   "metadata": {},
   "outputs": [],
   "source": []
  },
  {
   "cell_type": "markdown",
   "metadata": {},
   "source": [
    "# Ridge"
   ]
  },
  {
   "cell_type": "code",
   "execution_count": 31,
   "metadata": {},
   "outputs": [
    {
     "name": "stdout",
     "output_type": "stream",
     "text": [
      "{'alpha': 31.836938775510205}\n",
      "0.38791883174232666\n",
      "Ridge(alpha=31.836938775510205)\n",
      "[-7.25965615 -0.75145169  3.91540546 -4.78883558  1.57873487  4.74688671\n",
      " -2.03639251  0.61080833 81.81027981  9.77591295  0.38189352  7.77661579\n",
      "  1.09951436]\n",
      "-164534.27445155772\n"
     ]
    }
   ],
   "source": [
    "clf = Ridge(alpha=2.5)\n",
    "clf.fit(X,y) \n",
    "\n",
    "para=dict(alpha=np.linspace(0.001,40))\n",
    "kfold = KFold(n_splits=5, random_state=2021,shuffle=True)\n",
    "cv_ridge = GridSearchCV(clf, param_grid=para,cv=kfold,scoring='r2')\n",
    "cv_ridge.fit(X,y)\n",
    "\n",
    "print(cv_ridge.best_params_)\n",
    "\n",
    "print(cv_ridge.best_score_)\n",
    "\n",
    "print(cv_ridge.best_estimator_)\n",
    "best_model = cv_ridge.best_estimator_\n",
    "print(best_model.coef_)\n",
    "print(best_model.intercept_)"
   ]
  },
  {
   "cell_type": "markdown",
   "metadata": {},
   "source": [
    "# Elastic_net"
   ]
  },
  {
   "cell_type": "code",
   "execution_count": 32,
   "metadata": {},
   "outputs": [
    {
     "name": "stdout",
     "output_type": "stream",
     "text": [
      "{'alpha': 0.001}\n",
      "0.3879090342899568\n",
      "ElasticNet(alpha=0.001)\n",
      "[-7.5955791  -0.64183313  4.03081788 -4.84530897  1.568886    4.75324288\n",
      " -2.03365623  0.6136421  82.61164863  9.88391919  0.3818004   7.77928243\n",
      "  1.11966708]\n",
      "-166146.34062124553\n"
     ]
    }
   ],
   "source": [
    "clf = ElasticNet(alpha=2.5)\n",
    "clf.fit(X,y) \n",
    "\n",
    "para=dict(alpha=np.linspace(0.001,40))\n",
    "kfold = KFold(n_splits=5, random_state=2021,shuffle=True)\n",
    "cv_elastic = GridSearchCV(clf, param_grid=para,cv=kfold,scoring='r2')\n",
    "cv_elastic.fit(X,y)\n",
    "\n",
    "print(cv_elastic.best_params_)\n",
    "\n",
    "print(cv_elastic.best_score_)\n",
    "\n",
    "print(cv_elastic.best_estimator_)\n",
    "best_model = cv_elastic.best_estimator_\n",
    "print(best_model.coef_)\n",
    "print(best_model.intercept_)"
   ]
  },
  {
   "cell_type": "code",
   "execution_count": null,
   "metadata": {},
   "outputs": [],
   "source": []
  },
  {
   "cell_type": "code",
   "execution_count": 35,
   "metadata": {},
   "outputs": [],
   "source": [
    "y_pred_lasso=cv_lasso.predict(df1)\n",
    "y_pred_ridge=cv_ridge.predict(df1)\n",
    "y_pred_elastic=cv_elastic.predict(df1)\n",
    "\n",
    "y_pred_lasso[y_pred_lasso<0]=0\n",
    "y_pred_ridge[y_pred_ridge<0]=0\n",
    "y_pred_elastic[y_pred_elastic<0]=0\n",
    "\n",
    "submit2=pd.DataFrame({'datetime':datetime,'count':y_pred_lasso})\n",
    "submit2.to_csv(\"./submit2_Lasso.csv\",index=False)\n",
    "submit3=pd.DataFrame({'datetime':datetime,'count':y_pred_ridge})\n",
    "submit3.to_csv(\"./submit2_ridge.csv\",index=False)          \n",
    "submit4=pd.DataFrame({'datetime':datetime,'count':y_pred_elastic})\n",
    "submit4.to_csv(\"./submit2_elastic.csv\",index=False)"
   ]
  },
  {
   "cell_type": "code",
   "execution_count": null,
   "metadata": {},
   "outputs": [],
   "source": []
  }
 ],
 "metadata": {
  "kernelspec": {
   "display_name": "Python 3",
   "language": "python",
   "name": "python3"
  },
  "language_info": {
   "codemirror_mode": {
    "name": "ipython",
    "version": 3
   },
   "file_extension": ".py",
   "mimetype": "text/x-python",
   "name": "python",
   "nbconvert_exporter": "python",
   "pygments_lexer": "ipython3",
   "version": "3.8.8"
  }
 },
 "nbformat": 4,
 "nbformat_minor": 4
}
