{
 "cells": [
  {
   "cell_type": "code",
   "execution_count": 1,
   "metadata": {},
   "outputs": [],
   "source": [
    "import pandas as pd\n",
    "import numpy as np"
   ]
  },
  {
   "cell_type": "code",
   "execution_count": 2,
   "metadata": {},
   "outputs": [],
   "source": [
    "df = pd.read_csv(\"C:/Users/User/Desktop/cdac advance modules/pml lecture/class  practice/program_dataset/Concrete_Data.csv\")"
   ]
  },
  {
   "cell_type": "code",
   "execution_count": 3,
   "metadata": {},
   "outputs": [],
   "source": [
    "from sklearn.model_selection import train_test_split \n",
    "from sklearn.tree import DecisionTreeRegressor\n",
    "from sklearn.linear_model import LinearRegression\n",
    "from sklearn.svm import SVR\n",
    "from sklearn.ensemble import VotingRegressor,BaggingRegressor\n",
    "from sklearn.metrics import mean_squared_error\n",
    "from sklearn.metrics import mean_absolute_error,r2_score\n",
    "from sklearn.neighbors import KNeighborsRegressor\n",
    "from sklearn.linear_model import Lasso\n",
    "from sklearn.linear_model import Ridge\n",
    "from sklearn.linear_model import ElasticNet\n",
    "from xgboost import XGBRegressor\n",
    "from sklearn.ensemble import StackingRegressor\n",
    "from sklearn.ensemble import RandomForestRegressor"
   ]
  },
  {
   "cell_type": "code",
   "execution_count": 4,
   "metadata": {},
   "outputs": [],
   "source": [
    "X = df.iloc[:,:-1]\n",
    "y = df.iloc[:,-1]"
   ]
  },
  {
   "cell_type": "code",
   "execution_count": 5,
   "metadata": {},
   "outputs": [],
   "source": [
    "X_train, X_test, y_train, y_test = train_test_split(X, y, test_size = 0.4, \n",
    "                                                    random_state=2021)"
   ]
  },
  {
   "cell_type": "code",
   "execution_count": 6,
   "metadata": {},
   "outputs": [],
   "source": [
    "dtr = DecisionTreeRegressor(max_depth=4)\n",
    "lr = LinearRegression()\n",
    "svr = SVR()\n",
    "Voting = VotingRegressor(estimators=[('DT',dtr),\n",
    "                                     ('LR',lr),('SV',svr)])\n",
    "# OR Weighted Average\n",
    "\"\"\"Voting = VotingRegressor(estimators=[('DT',dtr),\n",
    "                                     ('LR',lr),('SV',svr)],\n",
    "                                     weights=np.array([0.2,0.5,\n",
    "                                                       0.3]))\"\"\"\n",
    "model_bg = BaggingRegressor(random_state=2021,oob_score=True,\n",
    "                            max_features = X_train.shape[1],\n",
    "                            n_estimators=15,\n",
    "                            max_samples=X_train.shape[0])                                                       \n"
   ]
  },
  {
   "cell_type": "code",
   "execution_count": 7,
   "metadata": {},
   "outputs": [
    {
     "name": "stdout",
     "output_type": "stream",
     "text": [
      "VotingRegressor MSE:  95.07786040006168\n",
      "VotingRegressor  RMSE :  9.75078768100617\n",
      "VotingRegressor  MAE :  7.812541591045104\n",
      "R2 of  VotingRegressor 0.6465882610572551\n",
      "Out of Bag Score = 0.6302\n",
      "BaggingRegressor MSE:  118.32357992848566\n",
      "BaggingRegressor  RMSE :  10.877664268053397\n",
      "BaggingRegressor  MAE :  8.522294228216982\n",
      "R2 of  BaggingRegressor 0.560182128999299\n"
     ]
    }
   ],
   "source": [
    "for clf in(Voting,model_bg):\n",
    "    if clf == Voting:\n",
    "        Voting.fit(X_train,y_train)\n",
    "        y_pred = Voting.predict(X_test)\n",
    "        print(clf.__class__.__name__,\"MSE: \",(mean_squared_error(y_test, y_pred)))\n",
    "        print(clf.__class__.__name__, \" RMSE : \",np.sqrt( mean_squared_error(y_test, y_pred)))\n",
    "        print(clf.__class__.__name__, \" MAE : \",mean_absolute_error(y_test, y_pred))\n",
    "        print(\"R2 of \",clf.__class__.__name__,(r2_score(y_test, y_pred))) \n",
    "    elif clf==model_bg:\n",
    "        model_bg = BaggingRegressor(base_estimator = lr,\n",
    "                            random_state=2021,oob_score=True,\n",
    "                            max_features = X_train.shape[1],\n",
    "                            n_estimators=15,\n",
    "                            max_samples=X_train.shape[0])\n",
    "        model_bg.fit( X_train , y_train )\n",
    "        print(\"Out of Bag Score = \" + \"{:.4f}\".format(model_bg.oob_score_))\n",
    "        y_pred = model_bg.predict(X_test)\n",
    "        print(clf.__class__.__name__,\"MSE: \",(mean_squared_error(y_test, y_pred)))\n",
    "        print(clf.__class__.__name__, \" RMSE : \",np.sqrt( mean_squared_error(y_test, y_pred)))\n",
    "        print(clf.__class__.__name__, \" MAE : \",mean_absolute_error(y_test, y_pred))\n",
    "        print(\"R2 of \",clf.__class__.__name__,(r2_score(y_test, y_pred))) \n",
    "        "
   ]
  },
  {
   "cell_type": "code",
   "execution_count": 8,
   "metadata": {},
   "outputs": [],
   "source": [
    "knnr = KNeighborsRegressor(n_neighbors=3)\n",
    "rid = Ridge(alpha=2.5)\n",
    "las = Lasso(alpha=2)\n",
    "els = ElasticNet(alpha=2, l1_ratio=0.6)\n",
    "xgbr = XGBRegressor(random_state=2021)\n",
    "svr=SVR()\n",
    "RandomForest = RandomForestRegressor(random_state=2021)\n",
    "DecisionTreeRegressor = DecisionTreeRegressor(random_state=2021)"
   ]
  },
  {
   "cell_type": "code",
   "execution_count": 9,
   "metadata": {},
   "outputs": [],
   "source": [
    "models_considered = [('KNN Regression', knnr),\n",
    "                     ('Ridge', rid),('Lasso', las),('ELASTIC',els)]\n",
    "######## With passthrough=False\n",
    "stack = StackingRegressor(estimators = models_considered,\n",
    "                           final_estimator=xgbr)\n",
    "######## With passthrough=True\n",
    "stack1 = StackingRegressor(estimators = models_considered,\n",
    "                           final_estimator=xgbr,\n",
    "                           passthrough=True)"
   ]
  },
  {
   "cell_type": "code",
   "execution_count": 10,
   "metadata": {},
   "outputs": [
    {
     "name": "stdout",
     "output_type": "stream",
     "text": [
      "KNeighborsRegressor MSE:  88.01086326860843\n",
      "KNeighborsRegressor  RMSE :  9.381410515941003\n",
      "KNeighborsRegressor  MAE :  7.255113268608414\n",
      "R2 of  KNeighborsRegressor 0.6728568343594017\n",
      "Ridge MSE:  118.3883086366549\n",
      "Ridge  RMSE :  10.880639164895365\n",
      "Ridge  MAE :  8.542771722896711\n",
      "R2 of  Ridge 0.5599415273995432\n",
      "Lasso MSE:  119.42477642317228\n",
      "Lasso  RMSE :  10.928164366588392\n",
      "Lasso  MAE :  8.588522016162388\n",
      "R2 of  Lasso 0.5560888967108639\n",
      "ElasticNet MSE:  119.43097514805865\n",
      "ElasticNet  RMSE :  10.928447975264312\n",
      "ElasticNet  MAE :  8.583499105065808\n",
      "R2 of  ElasticNet 0.5560658555724527\n",
      "XGBRegressor MSE:  23.61570755646404\n",
      "XGBRegressor  RMSE :  4.859599526346183\n",
      "XGBRegressor  MAE :  3.258410434074772\n",
      "R2 of  XGBRegressor 0.912218593910556\n",
      "StackingRegressor MSE:  104.19809012363963\n",
      "StackingRegressor  RMSE (With passthrough=False) :  10.207746574226832\n",
      "StackingRegressor  MAE (With passthrough=False):  7.831738611795369\n",
      "R2 (With passthrough=False) :  StackingRegressor 0.6126876638771686\n",
      "StackingRegressor MSE:  27.7440457824355\n",
      "StackingRegressor  RMSE (With passthrough=True):  5.2672616967866235\n",
      "StackingRegressor  MAE (With passthrough=True) :  3.7798316969454864\n",
      "R2 (With passthrough=True): StackingRegressor 0.8968732423718772\n",
      "SVR MSE:  215.0577305503116\n",
      "SVR  RMSE (With passthrough=True):  14.66484676191032\n",
      "SVR  MAE (With passthrough=True) :  11.786171137545272\n",
      "R2 of  SVR 0.20061383157906443\n",
      "RandomForestRegressor MSE:  3.235018870895737\n",
      "RandomForestRegressor  RMSE (With passthrough=True):  1.7986158208177023\n",
      "RandomForestRegressor  MAE (With passthrough=True) :  1.2229469596625089\n",
      "R2 of  RandomForestRegressor 0.9879751853915812\n",
      "DecisionTreeRegressor MSE:  59.60997305825243\n",
      "DecisionTreeRegressor  RMSE (With passthrough=True):  7.720749514020801\n",
      "DecisionTreeRegressor  MAE (With passthrough=True) :  5.191529126213592\n",
      "R2 of  DecisionTreeRegressor 0.7784251333780172\n"
     ]
    }
   ],
   "source": [
    "for clf in(knnr,rid,las,els,xgbr,stack,stack1,svr,RandomForest,DecisionTreeRegressor):      \n",
    "    if clf == knnr:\n",
    "        knnr.fit(X_train, y_train) \n",
    "        y_pred = knnr.predict(X_test) \n",
    "        print(clf.__class__.__name__,\"MSE: \",(mean_squared_error(y_test, y_pred)))\n",
    "        print(clf.__class__.__name__, \" RMSE : \",np.sqrt( mean_squared_error(y_test, y_pred)))\n",
    "        print(clf.__class__.__name__, \" MAE : \",mean_absolute_error(y_test, y_pred))\n",
    "        print(\"R2 of \",clf.__class__.__name__,(r2_score(y_test, y_pred))) \n",
    "    elif clf == rid:\n",
    "        rid.fit(X_train, y_train) \n",
    "        y_pred = rid.predict(X_test) \n",
    "        print(clf.__class__.__name__,\"MSE: \",(mean_squared_error(y_test, y_pred)))        \n",
    "        print(clf.__class__.__name__, \" RMSE : \",np.sqrt( mean_squared_error(y_test, y_pred)))\n",
    "        print(clf.__class__.__name__, \" MAE : \",mean_absolute_error(y_test, y_pred))\n",
    "        print(\"R2 of \",clf.__class__.__name__,(r2_score(y_test, y_pred)))\n",
    "    elif clf == las:\n",
    "        las.fit(X_train, y_train) \n",
    "        y_pred = las.predict(X_test)\n",
    "        print(clf.__class__.__name__,\"MSE: \",(mean_squared_error(y_test, y_pred)))\n",
    "        print(clf.__class__.__name__, \" RMSE : \",np.sqrt( mean_squared_error(y_test, y_pred)))\n",
    "        print(clf.__class__.__name__, \" MAE : \",mean_absolute_error(y_test, y_pred))\n",
    "        print(\"R2 of \",clf.__class__.__name__,(r2_score(y_test, y_pred)))\n",
    "    elif clf == els:\n",
    "        els.fit(X_train, y_train) \n",
    "        y_pred = els.predict(X_test)\n",
    "        print(clf.__class__.__name__,\"MSE: \",(mean_squared_error(y_test, y_pred)))\n",
    "        print(clf.__class__.__name__, \" RMSE : \",np.sqrt( mean_squared_error(y_test, y_pred)))\n",
    "        print(clf.__class__.__name__, \" MAE : \",mean_absolute_error(y_test, y_pred))\n",
    "        print(\"R2 of \",clf.__class__.__name__,(r2_score(y_test, y_pred)))\n",
    "    elif clf == xgbr:\n",
    "        xgbr.fit(X_train, y_train) \n",
    "        y_pred = xgbr.predict(X_test)\n",
    "        print(clf.__class__.__name__,\"MSE: \",(mean_squared_error(y_test, y_pred)))\n",
    "        print(clf.__class__.__name__, \" RMSE : \",np.sqrt( mean_squared_error(y_test, y_pred)))\n",
    "        print(clf.__class__.__name__, \" MAE : \",mean_absolute_error(y_test, y_pred))\n",
    "        print(\"R2 of \",clf.__class__.__name__,(r2_score(y_test, y_pred))) \n",
    "    elif clf == stack:\n",
    "        stack.fit(X_train, y_train) \n",
    "        y_pred = stack.predict(X_test)\n",
    "        print(clf.__class__.__name__,\"MSE: \",(mean_squared_error(y_test, y_pred)))\n",
    "        print(clf.__class__.__name__, \" RMSE (With passthrough=False) : \",np.sqrt( mean_squared_error(y_test, y_pred)))\n",
    "        print(clf.__class__.__name__, \" MAE (With passthrough=False): \",mean_absolute_error(y_test, y_pred))\n",
    "        print(\"R2 (With passthrough=False) : \",clf.__class__.__name__,(r2_score(y_test, y_pred)))\n",
    "    elif clf == stack1:\n",
    "        stack1.fit(X_train, y_train) \n",
    "        y_pred = stack1.predict(X_test)\n",
    "        print(clf.__class__.__name__,\"MSE: \",(mean_squared_error(y_test, y_pred)))\n",
    "        print(clf.__class__.__name__, \" RMSE (With passthrough=True): \",np.sqrt( mean_squared_error(y_test, y_pred)))\n",
    "        print(clf.__class__.__name__, \" MAE (With passthrough=True) : \",mean_absolute_error(y_test, y_pred))\n",
    "        print(\"R2 (With passthrough=True):\",clf.__class__.__name__,(r2_score(y_test, y_pred)))\n",
    "    elif clf==svr:\n",
    "        svr.fit(X_train, y_train)  \n",
    "        y_pred = svr.predict(X_test)\n",
    "        print(clf.__class__.__name__,\"MSE: \",(mean_squared_error(y_test, y_pred)))\n",
    "        print(clf.__class__.__name__, \" RMSE (With passthrough=True): \",np.sqrt( mean_squared_error(y_test, y_pred)))\n",
    "        print(clf.__class__.__name__, \" MAE (With passthrough=True) : \",mean_absolute_error(y_test, y_pred))\n",
    "        print(\"R2 of \",clf.__class__.__name__,(r2_score(y_test, y_pred)))\n",
    "    elif clf==RandomForest:\n",
    "        RandomForest.fit( X , y )\n",
    "        y_pred = RandomForest.predict(X_test)\n",
    "        print(clf.__class__.__name__,\"MSE: \",(mean_squared_error(y_test, y_pred)))\n",
    "        print(clf.__class__.__name__, \" RMSE (With passthrough=True): \",np.sqrt( mean_squared_error(y_test, y_pred)))\n",
    "        print(clf.__class__.__name__, \" MAE (With passthrough=True) : \",mean_absolute_error(y_test, y_pred))\n",
    "        print(\"R2 of \",clf.__class__.__name__,(r2_score(y_test, y_pred)))\n",
    "    elif clf==DecisionTreeRegressor:\n",
    "        DecisionTreeRegressor.fit(X_train,y_train)\n",
    "        y_pred = DecisionTreeRegressor.predict(X_test)\n",
    "        print(clf.__class__.__name__,\"MSE: \",(mean_squared_error(y_test, y_pred)))\n",
    "        print(clf.__class__.__name__, \" RMSE (With passthrough=True): \",np.sqrt( mean_squared_error(y_test, y_pred)))\n",
    "        print(clf.__class__.__name__, \" MAE (With passthrough=True) : \",mean_absolute_error(y_test, y_pred))\n",
    "        print(\"R2 of \",clf.__class__.__name__,(r2_score(y_test, y_pred)))\n",
    "    else:\n",
    "        print(\"classifier not found\")"
   ]
  },
  {
   "cell_type": "code",
   "execution_count": null,
   "metadata": {},
   "outputs": [],
   "source": []
  }
 ],
 "metadata": {
  "interpreter": {
   "hash": "0cde767c058b540a806f1609789ff075a5a6c57b32ef74a64bbf7a83c5276a5c"
  },
  "kernelspec": {
   "display_name": "Python 3",
   "language": "python",
   "name": "python3"
  },
  "language_info": {
   "codemirror_mode": {
    "name": "ipython",
    "version": 3
   },
   "file_extension": ".py",
   "mimetype": "text/x-python",
   "name": "python",
   "nbconvert_exporter": "python",
   "pygments_lexer": "ipython3",
   "version": "3.9.6"
  }
 },
 "nbformat": 4,
 "nbformat_minor": 2
}
