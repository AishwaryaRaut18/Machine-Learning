{
 "cells": [
  {
   "cell_type": "code",
   "execution_count": 1,
   "id": "653f32f4",
   "metadata": {},
   "outputs": [],
   "source": [
    "#pip install h2o"
   ]
  },
  {
   "cell_type": "code",
   "execution_count": 2,
   "id": "b850b960",
   "metadata": {},
   "outputs": [],
   "source": [
    "import h2o"
   ]
  },
  {
   "cell_type": "code",
   "execution_count": 3,
   "id": "aeea3fed",
   "metadata": {},
   "outputs": [
    {
     "name": "stdout",
     "output_type": "stream",
     "text": [
      "Checking whether there is an H2O instance running at http://localhost:54321 . connected.\n"
     ]
    },
    {
     "data": {
      "text/html": [
       "<div style=\"overflow:auto\"><table style=\"width:50%\"><tr><td>H2O_cluster_uptime:</td>\n",
       "<td>27 mins 16 secs</td></tr>\n",
       "<tr><td>H2O_cluster_timezone:</td>\n",
       "<td>Asia/Kolkata</td></tr>\n",
       "<tr><td>H2O_data_parsing_timezone:</td>\n",
       "<td>UTC</td></tr>\n",
       "<tr><td>H2O_cluster_version:</td>\n",
       "<td>3.32.1.4</td></tr>\n",
       "<tr><td>H2O_cluster_version_age:</td>\n",
       "<td>23 days </td></tr>\n",
       "<tr><td>H2O_cluster_name:</td>\n",
       "<td>H2O_from_python_ameyv_rdeami</td></tr>\n",
       "<tr><td>H2O_cluster_total_nodes:</td>\n",
       "<td>1</td></tr>\n",
       "<tr><td>H2O_cluster_free_memory:</td>\n",
       "<td>1.839 Gb</td></tr>\n",
       "<tr><td>H2O_cluster_total_cores:</td>\n",
       "<td>12</td></tr>\n",
       "<tr><td>H2O_cluster_allowed_cores:</td>\n",
       "<td>12</td></tr>\n",
       "<tr><td>H2O_cluster_status:</td>\n",
       "<td>locked, healthy</td></tr>\n",
       "<tr><td>H2O_connection_url:</td>\n",
       "<td>http://localhost:54321</td></tr>\n",
       "<tr><td>H2O_connection_proxy:</td>\n",
       "<td>{\"http\": null, \"https\": null}</td></tr>\n",
       "<tr><td>H2O_internal_security:</td>\n",
       "<td>False</td></tr>\n",
       "<tr><td>H2O_API_Extensions:</td>\n",
       "<td>Amazon S3, Algos, AutoML, Core V3, TargetEncoder, Core V4</td></tr>\n",
       "<tr><td>Python_version:</td>\n",
       "<td>3.8.8 final</td></tr></table></div>"
      ],
      "text/plain": [
       "--------------------------  ---------------------------------------------------------\n",
       "H2O_cluster_uptime:         27 mins 16 secs\n",
       "H2O_cluster_timezone:       Asia/Kolkata\n",
       "H2O_data_parsing_timezone:  UTC\n",
       "H2O_cluster_version:        3.32.1.4\n",
       "H2O_cluster_version_age:    23 days\n",
       "H2O_cluster_name:           H2O_from_python_ameyv_rdeami\n",
       "H2O_cluster_total_nodes:    1\n",
       "H2O_cluster_free_memory:    1.839 Gb\n",
       "H2O_cluster_total_cores:    12\n",
       "H2O_cluster_allowed_cores:  12\n",
       "H2O_cluster_status:         locked, healthy\n",
       "H2O_connection_url:         http://localhost:54321\n",
       "H2O_connection_proxy:       {\"http\": null, \"https\": null}\n",
       "H2O_internal_security:      False\n",
       "H2O_API_Extensions:         Amazon S3, Algos, AutoML, Core V3, TargetEncoder, Core V4\n",
       "Python_version:             3.8.8 final\n",
       "--------------------------  ---------------------------------------------------------"
      ]
     },
     "metadata": {},
     "output_type": "display_data"
    }
   ],
   "source": [
    "h2o.init()"
   ]
  },
  {
   "cell_type": "code",
   "execution_count": 4,
   "id": "c1938e2c",
   "metadata": {},
   "outputs": [
    {
     "name": "stdout",
     "output_type": "stream",
     "text": [
      "Parse progress: |█████████████████████████████████████████████████████████| 100%\n"
     ]
    },
    {
     "data": {
      "text/html": [
       "<table>\n",
       "<thead>\n",
       "<tr><th>       </th><th>subjid           </th><th>age  </th><th>menopause  </th><th>tumor-size  </th><th>inv-nodes  </th><th>node-caps  </th><th>deg-malig         </th><th>breast  </th><th>breast-quad  </th><th>irradiat  </th><th>Class               </th></tr>\n",
       "</thead>\n",
       "<tbody>\n",
       "<tr><td>type   </td><td>int              </td><td>enum </td><td>enum       </td><td>enum        </td><td>enum       </td><td>enum       </td><td>int               </td><td>enum    </td><td>enum         </td><td>enum      </td><td>enum                </td></tr>\n",
       "<tr><td>mins   </td><td>1.0              </td><td>     </td><td>           </td><td>            </td><td>           </td><td>           </td><td>1.0               </td><td>        </td><td>             </td><td>          </td><td>                    </td></tr>\n",
       "<tr><td>mean   </td><td>143.5            </td><td>     </td><td>           </td><td>            </td><td>           </td><td>           </td><td>2.0489510489510487</td><td>        </td><td>             </td><td>          </td><td>                    </td></tr>\n",
       "<tr><td>maxs   </td><td>286.0            </td><td>     </td><td>           </td><td>            </td><td>           </td><td>           </td><td>3.0               </td><td>        </td><td>             </td><td>          </td><td>                    </td></tr>\n",
       "<tr><td>sigma  </td><td>82.70530011230639</td><td>     </td><td>           </td><td>            </td><td>           </td><td>           </td><td>0.7382166403717153</td><td>        </td><td>             </td><td>          </td><td>                    </td></tr>\n",
       "<tr><td>zeros  </td><td>0                </td><td>     </td><td>           </td><td>            </td><td>           </td><td>           </td><td>0                 </td><td>        </td><td>             </td><td>          </td><td>                    </td></tr>\n",
       "<tr><td>missing</td><td>0                </td><td>0    </td><td>0          </td><td>0           </td><td>0          </td><td>0          </td><td>0                 </td><td>0       </td><td>0            </td><td>0         </td><td>0                   </td></tr>\n",
       "<tr><td>0      </td><td>1.0              </td><td>40-49</td><td>premeno    </td><td>15-19       </td><td>0-2        </td><td>yes        </td><td>3.0               </td><td>right   </td><td>left_up      </td><td>no        </td><td>recurrence-events   </td></tr>\n",
       "<tr><td>1      </td><td>2.0              </td><td>50-59</td><td>ge40       </td><td>15-19       </td><td>0-2        </td><td>no         </td><td>1.0               </td><td>right   </td><td>central      </td><td>no        </td><td>no-recurrence-events</td></tr>\n",
       "<tr><td>2      </td><td>3.0              </td><td>50-59</td><td>ge40       </td><td>35-39       </td><td>0-2        </td><td>no         </td><td>2.0               </td><td>left    </td><td>left_low     </td><td>no        </td><td>recurrence-events   </td></tr>\n",
       "<tr><td>3      </td><td>4.0              </td><td>40-49</td><td>premeno    </td><td>35-39       </td><td>0-2        </td><td>yes        </td><td>3.0               </td><td>right   </td><td>left_low     </td><td>yes       </td><td>no-recurrence-events</td></tr>\n",
       "<tr><td>4      </td><td>5.0              </td><td>40-49</td><td>premeno    </td><td>30-34       </td><td>3-5        </td><td>yes        </td><td>2.0               </td><td>left    </td><td>right_up     </td><td>no        </td><td>recurrence-events   </td></tr>\n",
       "<tr><td>5      </td><td>6.0              </td><td>50-59</td><td>premeno    </td><td>25-29       </td><td>3-5        </td><td>no         </td><td>2.0               </td><td>right   </td><td>left_up      </td><td>yes       </td><td>no-recurrence-events</td></tr>\n",
       "<tr><td>6      </td><td>7.0              </td><td>50-59</td><td>ge40       </td><td>40-44       </td><td>0-2        </td><td>no         </td><td>3.0               </td><td>left    </td><td>left_up      </td><td>no        </td><td>no-recurrence-events</td></tr>\n",
       "<tr><td>7      </td><td>8.0              </td><td>40-49</td><td>premeno    </td><td>10-14       </td><td>0-2        </td><td>no         </td><td>2.0               </td><td>left    </td><td>left_up      </td><td>no        </td><td>no-recurrence-events</td></tr>\n",
       "<tr><td>8      </td><td>9.0              </td><td>40-49</td><td>premeno    </td><td>0-4         </td><td>0-2        </td><td>no         </td><td>2.0               </td><td>right   </td><td>right_low    </td><td>no        </td><td>no-recurrence-events</td></tr>\n",
       "<tr><td>9      </td><td>10.0             </td><td>40-49</td><td>ge40       </td><td>40-44       </td><td>15-17      </td><td>yes        </td><td>2.0               </td><td>right   </td><td>left_up      </td><td>yes       </td><td>no-recurrence-events</td></tr>\n",
       "</tbody>\n",
       "</table>"
      ]
     },
     "metadata": {},
     "output_type": "display_data"
    }
   ],
   "source": [
    "df = h2o.import_file('C:/Users/User/Desktop/cdac advance modules/pml lecture/class  practice/program_dataset/Cancer.csv')\n",
    "df.summary()"
   ]
  },
  {
   "cell_type": "code",
   "execution_count": 5,
   "id": "7b2c4235",
   "metadata": {},
   "outputs": [],
   "source": [
    "y_col = 'Class'\n",
    "x_cols = df.col_names[2:10]"
   ]
  },
  {
   "cell_type": "code",
   "execution_count": 6,
   "id": "441b82ff",
   "metadata": {},
   "outputs": [
    {
     "name": "stdout",
     "output_type": "stream",
     "text": [
      "Response = Class\n",
      "Pridictors = ['menopause', 'tumor-size', 'inv-nodes', 'node-caps', 'deg-malig', 'breast', 'breast-quad', 'irradiat']\n"
     ]
    }
   ],
   "source": [
    "print(\"Response = \" + y_col)\n",
    "print(\"Pridictors = \" + str(x_cols))"
   ]
  },
  {
   "cell_type": "code",
   "execution_count": 7,
   "id": "209eb358",
   "metadata": {},
   "outputs": [
    {
     "data": {
      "text/plain": [
       "[['no-recurrence-events', 'recurrence-events']]"
      ]
     },
     "execution_count": 7,
     "metadata": {},
     "output_type": "execute_result"
    }
   ],
   "source": [
    "df['Class'] = df['Class'].asfactor()\n",
    "df['Class'].levels()"
   ]
  },
  {
   "cell_type": "code",
   "execution_count": 8,
   "id": "da4b9a7b",
   "metadata": {},
   "outputs": [
    {
     "name": "stdout",
     "output_type": "stream",
     "text": [
      "(286, 11)\n",
      "(228, 11)\n",
      "(58, 11)\n"
     ]
    }
   ],
   "source": [
    "train,  test = df.split_frame(ratios=[.8])\n",
    "print(df.shape)\n",
    "print(train.shape)\n",
    "#print(valid.shape)\n",
    "print(test.shape)"
   ]
  },
  {
   "cell_type": "code",
   "execution_count": 9,
   "id": "5e17df56",
   "metadata": {},
   "outputs": [
    {
     "name": "stdout",
     "output_type": "stream",
     "text": [
      "glm Model Build progress: |███████████████████████████████████████████████| 100%\n"
     ]
    }
   ],
   "source": [
    "from h2o.estimators.glm import H2OGeneralizedLinearEstimator\n",
    "glm_logistic = H2OGeneralizedLinearEstimator(family = \"binomial\")\n",
    "glm_logistic.train(x=x_cols, y=y_col, training_frame=train, \n",
    "                   validation_frame=test, model_id=\"glm_logistic\")"
   ]
  },
  {
   "cell_type": "code",
   "execution_count": 10,
   "id": "a2ddf107",
   "metadata": {},
   "outputs": [
    {
     "name": "stdout",
     "output_type": "stream",
     "text": [
      "glm prediction progress: |████████████████████████████████████████████████| 100%\n"
     ]
    }
   ],
   "source": [
    "y_pred = glm_logistic.predict(test_data=test)\n",
    "\n",
    "y_pred_df = y_pred.as_data_frame()"
   ]
  },
  {
   "cell_type": "code",
   "execution_count": 11,
   "id": "2d325221",
   "metadata": {},
   "outputs": [
    {
     "name": "stdout",
     "output_type": "stream",
     "text": [
      "0.7536764705882353\n",
      "\n",
      "Confusion Matrix (Act/Pred) for max f1 @ threshold = 0.3614913885186768: \n"
     ]
    },
    {
     "data": {
      "text/html": [
       "<div>\n",
       "<style scoped>\n",
       "    .dataframe tbody tr th:only-of-type {\n",
       "        vertical-align: middle;\n",
       "    }\n",
       "\n",
       "    .dataframe tbody tr th {\n",
       "        vertical-align: top;\n",
       "    }\n",
       "\n",
       "    .dataframe thead th {\n",
       "        text-align: right;\n",
       "    }\n",
       "</style>\n",
       "<table border=\"1\" class=\"dataframe\">\n",
       "  <thead>\n",
       "    <tr style=\"text-align: right;\">\n",
       "      <th></th>\n",
       "      <th></th>\n",
       "      <th>no-recurrence-events</th>\n",
       "      <th>recurrence-events</th>\n",
       "      <th>Error</th>\n",
       "      <th>Rate</th>\n",
       "    </tr>\n",
       "  </thead>\n",
       "  <tbody>\n",
       "    <tr>\n",
       "      <th>0</th>\n",
       "      <td>no-recurrence-events</td>\n",
       "      <td>137.0</td>\n",
       "      <td>23.0</td>\n",
       "      <td>0.1437</td>\n",
       "      <td>(23.0/160.0)</td>\n",
       "    </tr>\n",
       "    <tr>\n",
       "      <th>1</th>\n",
       "      <td>recurrence-events</td>\n",
       "      <td>27.0</td>\n",
       "      <td>41.0</td>\n",
       "      <td>0.3971</td>\n",
       "      <td>(27.0/68.0)</td>\n",
       "    </tr>\n",
       "    <tr>\n",
       "      <th>2</th>\n",
       "      <td>Total</td>\n",
       "      <td>164.0</td>\n",
       "      <td>64.0</td>\n",
       "      <td>0.2193</td>\n",
       "      <td>(50.0/228.0)</td>\n",
       "    </tr>\n",
       "  </tbody>\n",
       "</table>\n",
       "</div>"
      ],
      "text/plain": [
       "                         no-recurrence-events  recurrence-events   Error  \\\n",
       "0  no-recurrence-events                 137.0               23.0  0.1437   \n",
       "1     recurrence-events                  27.0               41.0  0.3971   \n",
       "2                 Total                 164.0               64.0  0.2193   \n",
       "\n",
       "            Rate  \n",
       "0   (23.0/160.0)  \n",
       "1    (27.0/68.0)  \n",
       "2   (50.0/228.0)  "
      ]
     },
     "metadata": {},
     "output_type": "display_data"
    },
    {
     "name": "stdout",
     "output_type": "stream",
     "text": [
      "\n"
     ]
    }
   ],
   "source": [
    "print(glm_logistic.auc() )\n",
    "print(glm_logistic.confusion_matrix() )"
   ]
  },
  {
   "cell_type": "code",
   "execution_count": 12,
   "id": "17fef27e",
   "metadata": {},
   "outputs": [],
   "source": [
    "# Naive Bayes"
   ]
  },
  {
   "cell_type": "code",
   "execution_count": 13,
   "id": "1c2ab9e2",
   "metadata": {},
   "outputs": [
    {
     "name": "stdout",
     "output_type": "stream",
     "text": [
      "naivebayes Model Build progress: |████████████████████████████████████████| 100%\n"
     ]
    }
   ],
   "source": [
    "from h2o.estimators.naive_bayes import H2ONaiveBayesEstimator\n",
    "model_nb = H2ONaiveBayesEstimator()\n",
    "model_nb.train(x=x_cols, y=y_col, training_frame=train, \n",
    "                   validation_frame=test, model_id=\"model_nb\")"
   ]
  },
  {
   "cell_type": "code",
   "execution_count": 14,
   "id": "4c3ea452",
   "metadata": {},
   "outputs": [
    {
     "name": "stdout",
     "output_type": "stream",
     "text": [
      "naivebayes prediction progress: |█████████████████████████████████████████| 100%\n"
     ]
    }
   ],
   "source": [
    "y_prednb = model_nb.predict(test_data=test)"
   ]
  },
  {
   "cell_type": "code",
   "execution_count": 15,
   "id": "5cc91a57",
   "metadata": {},
   "outputs": [],
   "source": [
    "y_prednb = y_prednb.as_data_frame()"
   ]
  },
  {
   "cell_type": "code",
   "execution_count": 16,
   "id": "9155b815",
   "metadata": {},
   "outputs": [
    {
     "name": "stdout",
     "output_type": "stream",
     "text": [
      "0.7782628676470588\n",
      "\n",
      "Confusion Matrix (Act/Pred) for max f1 @ threshold = 0.4685150490722178: \n"
     ]
    },
    {
     "data": {
      "text/html": [
       "<div>\n",
       "<style scoped>\n",
       "    .dataframe tbody tr th:only-of-type {\n",
       "        vertical-align: middle;\n",
       "    }\n",
       "\n",
       "    .dataframe tbody tr th {\n",
       "        vertical-align: top;\n",
       "    }\n",
       "\n",
       "    .dataframe thead th {\n",
       "        text-align: right;\n",
       "    }\n",
       "</style>\n",
       "<table border=\"1\" class=\"dataframe\">\n",
       "  <thead>\n",
       "    <tr style=\"text-align: right;\">\n",
       "      <th></th>\n",
       "      <th></th>\n",
       "      <th>no-recurrence-events</th>\n",
       "      <th>recurrence-events</th>\n",
       "      <th>Error</th>\n",
       "      <th>Rate</th>\n",
       "    </tr>\n",
       "  </thead>\n",
       "  <tbody>\n",
       "    <tr>\n",
       "      <th>0</th>\n",
       "      <td>no-recurrence-events</td>\n",
       "      <td>135.0</td>\n",
       "      <td>25.0</td>\n",
       "      <td>0.1562</td>\n",
       "      <td>(25.0/160.0)</td>\n",
       "    </tr>\n",
       "    <tr>\n",
       "      <th>1</th>\n",
       "      <td>recurrence-events</td>\n",
       "      <td>27.0</td>\n",
       "      <td>41.0</td>\n",
       "      <td>0.3971</td>\n",
       "      <td>(27.0/68.0)</td>\n",
       "    </tr>\n",
       "    <tr>\n",
       "      <th>2</th>\n",
       "      <td>Total</td>\n",
       "      <td>162.0</td>\n",
       "      <td>66.0</td>\n",
       "      <td>0.2281</td>\n",
       "      <td>(52.0/228.0)</td>\n",
       "    </tr>\n",
       "  </tbody>\n",
       "</table>\n",
       "</div>"
      ],
      "text/plain": [
       "                         no-recurrence-events  recurrence-events   Error  \\\n",
       "0  no-recurrence-events                 135.0               25.0  0.1562   \n",
       "1     recurrence-events                  27.0               41.0  0.3971   \n",
       "2                 Total                 162.0               66.0  0.2281   \n",
       "\n",
       "            Rate  \n",
       "0   (25.0/160.0)  \n",
       "1    (27.0/68.0)  \n",
       "2   (52.0/228.0)  "
      ]
     },
     "metadata": {},
     "output_type": "display_data"
    },
    {
     "name": "stdout",
     "output_type": "stream",
     "text": [
      "\n"
     ]
    }
   ],
   "source": [
    "print(model_nb.auc() )\n",
    "print(model_nb.confusion_matrix() )"
   ]
  },
  {
   "cell_type": "code",
   "execution_count": 20,
   "id": "47de0f6c",
   "metadata": {},
   "outputs": [],
   "source": [
    "from h2o.grid.grid_search import H2OGridSearch\n",
    "hyper_params = {'mtries':[3,4,5,6]}"
   ]
  },
  {
   "cell_type": "code",
   "execution_count": 21,
   "id": "cf4b9c95",
   "metadata": {},
   "outputs": [
    {
     "name": "stdout",
     "output_type": "stream",
     "text": [
      "drf Grid Build progress: |████████████████████████████████████████████████| 100%\n"
     ]
    }
   ],
   "source": [
    "from h2o.estimators.random_forest import H2ORandomForestEstimator\n",
    "model_rf = H2ORandomForestEstimator()\n",
    "gs = H2OGridSearch(model=model_rf,hyper_params=hyper_params)\n",
    "gs.train(x=x_cols, y=y_col, training_frame=train, \n",
    "                   validation_frame=test)"
   ]
  },
  {
   "cell_type": "code",
   "execution_count": 23,
   "id": "3b045bf5",
   "metadata": {},
   "outputs": [
    {
     "name": "stdout",
     "output_type": "stream",
     "text": [
      "drf prediction progress: |████████████████████████████████████████████████| 100%\n",
      "drf prediction progress: |████████████████████████████████████████████████| 100%\n",
      "drf prediction progress: |████████████████████████████████████████████████| 100%\n",
      "drf prediction progress: |████████████████████████████████████████████████| 100%\n"
     ]
    },
    {
     "ename": "AttributeError",
     "evalue": "'dict' object has no attribute 'as_data_frame'",
     "output_type": "error",
     "traceback": [
      "\u001b[1;31m---------------------------------------------------------------------------\u001b[0m",
      "\u001b[1;31mAttributeError\u001b[0m                            Traceback (most recent call last)",
      "\u001b[1;32m<ipython-input-23-ff91e14a5ebc>\u001b[0m in \u001b[0;36m<module>\u001b[1;34m\u001b[0m\n\u001b[0;32m      1\u001b[0m \u001b[0my_predrf\u001b[0m \u001b[1;33m=\u001b[0m \u001b[0mgs\u001b[0m\u001b[1;33m.\u001b[0m\u001b[0mpredict\u001b[0m\u001b[1;33m(\u001b[0m\u001b[0mtest_data\u001b[0m\u001b[1;33m=\u001b[0m\u001b[0mtest\u001b[0m\u001b[1;33m)\u001b[0m\u001b[1;33m\u001b[0m\u001b[1;33m\u001b[0m\u001b[0m\n\u001b[1;32m----> 2\u001b[1;33m \u001b[0my_predrf\u001b[0m \u001b[1;33m=\u001b[0m \u001b[0my_predrf\u001b[0m\u001b[1;33m.\u001b[0m\u001b[0mas_data_frame\u001b[0m\u001b[1;33m(\u001b[0m\u001b[1;33m)\u001b[0m\u001b[1;33m\u001b[0m\u001b[1;33m\u001b[0m\u001b[0m\n\u001b[0m",
      "\u001b[1;31mAttributeError\u001b[0m: 'dict' object has no attribute 'as_data_frame'"
     ]
    }
   ],
   "source": [
    "y_predrf = gs.predict(test_data=test)\n",
    "y_predrf = y_predrf.as_data_frame()"
   ]
  },
  {
   "cell_type": "code",
   "execution_count": 24,
   "id": "f2e47a63",
   "metadata": {},
   "outputs": [
    {
     "name": "stdout",
     "output_type": "stream",
     "text": [
      "{'Grid_DRF_py_5_sid_ad02_model_python_1627724537410_312_model_2': 0.6822610294117647, 'Grid_DRF_py_5_sid_ad02_model_python_1627724537410_312_model_1': 0.6747242647058823, 'Grid_DRF_py_5_sid_ad02_model_python_1627724537410_312_model_3': 0.6957261029411764, 'Grid_DRF_py_5_sid_ad02_model_python_1627724537410_312_model_4': 0.6714613970588236}\n",
      "\n",
      "Confusion Matrix (Act/Pred) for max f1 @ threshold = 0.5972222222222222: \n"
     ]
    },
    {
     "data": {
      "text/html": [
       "<div>\n",
       "<style scoped>\n",
       "    .dataframe tbody tr th:only-of-type {\n",
       "        vertical-align: middle;\n",
       "    }\n",
       "\n",
       "    .dataframe tbody tr th {\n",
       "        vertical-align: top;\n",
       "    }\n",
       "\n",
       "    .dataframe thead th {\n",
       "        text-align: right;\n",
       "    }\n",
       "</style>\n",
       "<table border=\"1\" class=\"dataframe\">\n",
       "  <thead>\n",
       "    <tr style=\"text-align: right;\">\n",
       "      <th></th>\n",
       "      <th></th>\n",
       "      <th>no-recurrence-events</th>\n",
       "      <th>recurrence-events</th>\n",
       "      <th>Error</th>\n",
       "      <th>Rate</th>\n",
       "    </tr>\n",
       "  </thead>\n",
       "  <tbody>\n",
       "    <tr>\n",
       "      <th>0</th>\n",
       "      <td>no-recurrence-events</td>\n",
       "      <td>145.0</td>\n",
       "      <td>15.0</td>\n",
       "      <td>0.0938</td>\n",
       "      <td>(15.0/160.0)</td>\n",
       "    </tr>\n",
       "    <tr>\n",
       "      <th>1</th>\n",
       "      <td>recurrence-events</td>\n",
       "      <td>39.0</td>\n",
       "      <td>29.0</td>\n",
       "      <td>0.5735</td>\n",
       "      <td>(39.0/68.0)</td>\n",
       "    </tr>\n",
       "    <tr>\n",
       "      <th>2</th>\n",
       "      <td>Total</td>\n",
       "      <td>184.0</td>\n",
       "      <td>44.0</td>\n",
       "      <td>0.2368</td>\n",
       "      <td>(54.0/228.0)</td>\n",
       "    </tr>\n",
       "  </tbody>\n",
       "</table>\n",
       "</div>"
      ],
      "text/plain": [
       "                         no-recurrence-events  recurrence-events   Error  \\\n",
       "0  no-recurrence-events                 145.0               15.0  0.0938   \n",
       "1     recurrence-events                  39.0               29.0  0.5735   \n",
       "2                 Total                 184.0               44.0  0.2368   \n",
       "\n",
       "            Rate  \n",
       "0   (15.0/160.0)  \n",
       "1    (39.0/68.0)  \n",
       "2   (54.0/228.0)  "
      ]
     },
     "metadata": {},
     "output_type": "display_data"
    },
    {
     "name": "stdout",
     "output_type": "stream",
     "text": [
      "\n",
      "Confusion Matrix (Act/Pred) for max f1 @ threshold = 0.21296299828423393: \n"
     ]
    },
    {
     "data": {
      "text/html": [
       "<div>\n",
       "<style scoped>\n",
       "    .dataframe tbody tr th:only-of-type {\n",
       "        vertical-align: middle;\n",
       "    }\n",
       "\n",
       "    .dataframe tbody tr th {\n",
       "        vertical-align: top;\n",
       "    }\n",
       "\n",
       "    .dataframe thead th {\n",
       "        text-align: right;\n",
       "    }\n",
       "</style>\n",
       "<table border=\"1\" class=\"dataframe\">\n",
       "  <thead>\n",
       "    <tr style=\"text-align: right;\">\n",
       "      <th></th>\n",
       "      <th></th>\n",
       "      <th>no-recurrence-events</th>\n",
       "      <th>recurrence-events</th>\n",
       "      <th>Error</th>\n",
       "      <th>Rate</th>\n",
       "    </tr>\n",
       "  </thead>\n",
       "  <tbody>\n",
       "    <tr>\n",
       "      <th>0</th>\n",
       "      <td>no-recurrence-events</td>\n",
       "      <td>91.0</td>\n",
       "      <td>69.0</td>\n",
       "      <td>0.4313</td>\n",
       "      <td>(69.0/160.0)</td>\n",
       "    </tr>\n",
       "    <tr>\n",
       "      <th>1</th>\n",
       "      <td>recurrence-events</td>\n",
       "      <td>21.0</td>\n",
       "      <td>47.0</td>\n",
       "      <td>0.3088</td>\n",
       "      <td>(21.0/68.0)</td>\n",
       "    </tr>\n",
       "    <tr>\n",
       "      <th>2</th>\n",
       "      <td>Total</td>\n",
       "      <td>112.0</td>\n",
       "      <td>116.0</td>\n",
       "      <td>0.3947</td>\n",
       "      <td>(90.0/228.0)</td>\n",
       "    </tr>\n",
       "  </tbody>\n",
       "</table>\n",
       "</div>"
      ],
      "text/plain": [
       "                         no-recurrence-events  recurrence-events   Error  \\\n",
       "0  no-recurrence-events                  91.0               69.0  0.4313   \n",
       "1     recurrence-events                  21.0               47.0  0.3088   \n",
       "2                 Total                 112.0              116.0  0.3947   \n",
       "\n",
       "            Rate  \n",
       "0   (69.0/160.0)  \n",
       "1    (21.0/68.0)  \n",
       "2   (90.0/228.0)  "
      ]
     },
     "metadata": {},
     "output_type": "display_data"
    },
    {
     "name": "stdout",
     "output_type": "stream",
     "text": [
      "\n",
      "Confusion Matrix (Act/Pred) for max f1 @ threshold = 0.1884057418159817: \n"
     ]
    },
    {
     "data": {
      "text/html": [
       "<div>\n",
       "<style scoped>\n",
       "    .dataframe tbody tr th:only-of-type {\n",
       "        vertical-align: middle;\n",
       "    }\n",
       "\n",
       "    .dataframe tbody tr th {\n",
       "        vertical-align: top;\n",
       "    }\n",
       "\n",
       "    .dataframe thead th {\n",
       "        text-align: right;\n",
       "    }\n",
       "</style>\n",
       "<table border=\"1\" class=\"dataframe\">\n",
       "  <thead>\n",
       "    <tr style=\"text-align: right;\">\n",
       "      <th></th>\n",
       "      <th></th>\n",
       "      <th>no-recurrence-events</th>\n",
       "      <th>recurrence-events</th>\n",
       "      <th>Error</th>\n",
       "      <th>Rate</th>\n",
       "    </tr>\n",
       "  </thead>\n",
       "  <tbody>\n",
       "    <tr>\n",
       "      <th>0</th>\n",
       "      <td>no-recurrence-events</td>\n",
       "      <td>85.0</td>\n",
       "      <td>75.0</td>\n",
       "      <td>0.4688</td>\n",
       "      <td>(75.0/160.0)</td>\n",
       "    </tr>\n",
       "    <tr>\n",
       "      <th>1</th>\n",
       "      <td>recurrence-events</td>\n",
       "      <td>16.0</td>\n",
       "      <td>52.0</td>\n",
       "      <td>0.2353</td>\n",
       "      <td>(16.0/68.0)</td>\n",
       "    </tr>\n",
       "    <tr>\n",
       "      <th>2</th>\n",
       "      <td>Total</td>\n",
       "      <td>101.0</td>\n",
       "      <td>127.0</td>\n",
       "      <td>0.3991</td>\n",
       "      <td>(91.0/228.0)</td>\n",
       "    </tr>\n",
       "  </tbody>\n",
       "</table>\n",
       "</div>"
      ],
      "text/plain": [
       "                         no-recurrence-events  recurrence-events   Error  \\\n",
       "0  no-recurrence-events                  85.0               75.0  0.4688   \n",
       "1     recurrence-events                  16.0               52.0  0.2353   \n",
       "2                 Total                 101.0              127.0  0.3991   \n",
       "\n",
       "            Rate  \n",
       "0   (75.0/160.0)  \n",
       "1    (16.0/68.0)  \n",
       "2   (91.0/228.0)  "
      ]
     },
     "metadata": {},
     "output_type": "display_data"
    },
    {
     "name": "stdout",
     "output_type": "stream",
     "text": [
      "\n",
      "Confusion Matrix (Act/Pred) for max f1 @ threshold = 0.15000000000000002: \n"
     ]
    },
    {
     "data": {
      "text/html": [
       "<div>\n",
       "<style scoped>\n",
       "    .dataframe tbody tr th:only-of-type {\n",
       "        vertical-align: middle;\n",
       "    }\n",
       "\n",
       "    .dataframe tbody tr th {\n",
       "        vertical-align: top;\n",
       "    }\n",
       "\n",
       "    .dataframe thead th {\n",
       "        text-align: right;\n",
       "    }\n",
       "</style>\n",
       "<table border=\"1\" class=\"dataframe\">\n",
       "  <thead>\n",
       "    <tr style=\"text-align: right;\">\n",
       "      <th></th>\n",
       "      <th></th>\n",
       "      <th>no-recurrence-events</th>\n",
       "      <th>recurrence-events</th>\n",
       "      <th>Error</th>\n",
       "      <th>Rate</th>\n",
       "    </tr>\n",
       "  </thead>\n",
       "  <tbody>\n",
       "    <tr>\n",
       "      <th>0</th>\n",
       "      <td>no-recurrence-events</td>\n",
       "      <td>74.0</td>\n",
       "      <td>86.0</td>\n",
       "      <td>0.5375</td>\n",
       "      <td>(86.0/160.0)</td>\n",
       "    </tr>\n",
       "    <tr>\n",
       "      <th>1</th>\n",
       "      <td>recurrence-events</td>\n",
       "      <td>15.0</td>\n",
       "      <td>53.0</td>\n",
       "      <td>0.2206</td>\n",
       "      <td>(15.0/68.0)</td>\n",
       "    </tr>\n",
       "    <tr>\n",
       "      <th>2</th>\n",
       "      <td>Total</td>\n",
       "      <td>89.0</td>\n",
       "      <td>139.0</td>\n",
       "      <td>0.443</td>\n",
       "      <td>(101.0/228.0)</td>\n",
       "    </tr>\n",
       "  </tbody>\n",
       "</table>\n",
       "</div>"
      ],
      "text/plain": [
       "                         no-recurrence-events  recurrence-events   Error  \\\n",
       "0  no-recurrence-events                  74.0               86.0  0.5375   \n",
       "1     recurrence-events                  15.0               53.0  0.2206   \n",
       "2                 Total                  89.0              139.0   0.443   \n",
       "\n",
       "             Rate  \n",
       "0    (86.0/160.0)  \n",
       "1     (15.0/68.0)  \n",
       "2   (101.0/228.0)  "
      ]
     },
     "metadata": {},
     "output_type": "display_data"
    },
    {
     "name": "stdout",
     "output_type": "stream",
     "text": [
      "{'Grid_DRF_py_5_sid_ad02_model_python_1627724537410_312_model_2': , 'Grid_DRF_py_5_sid_ad02_model_python_1627724537410_312_model_1': , 'Grid_DRF_py_5_sid_ad02_model_python_1627724537410_312_model_3': , 'Grid_DRF_py_5_sid_ad02_model_python_1627724537410_312_model_4': }\n"
     ]
    }
   ],
   "source": [
    "print(gs.auc() )\n",
    "print(gs.confusion_matrix() )"
   ]
  },
  {
   "cell_type": "code",
   "execution_count": null,
   "id": "40cadf9b",
   "metadata": {},
   "outputs": [],
   "source": []
  }
 ],
 "metadata": {
  "kernelspec": {
   "display_name": "Python 3",
   "language": "python",
   "name": "python3"
  },
  "language_info": {
   "codemirror_mode": {
    "name": "ipython",
    "version": 3
   },
   "file_extension": ".py",
   "mimetype": "text/x-python",
   "name": "python",
   "nbconvert_exporter": "python",
   "pygments_lexer": "ipython3",
   "version": "3.8.8"
  }
 },
 "nbformat": 4,
 "nbformat_minor": 5
}
