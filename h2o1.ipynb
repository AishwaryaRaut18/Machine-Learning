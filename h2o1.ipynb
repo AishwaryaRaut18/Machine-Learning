{
 "cells": [
  {
   "cell_type": "code",
   "execution_count": 1,
   "id": "21573d89",
   "metadata": {},
   "outputs": [],
   "source": [
    "import h2o"
   ]
  },
  {
   "cell_type": "code",
   "execution_count": 11,
   "id": "5cca820b",
   "metadata": {},
   "outputs": [
    {
     "name": "stdout",
     "output_type": "stream",
     "text": [
      "Checking whether there is an H2O instance running at http://localhost:54321 . connected.\n"
     ]
    },
    {
     "data": {
      "text/html": [
       "<div style=\"overflow:auto\"><table style=\"width:50%\"><tr><td>H2O_cluster_uptime:</td>\n",
       "<td>24 secs</td></tr>\n",
       "<tr><td>H2O_cluster_timezone:</td>\n",
       "<td>Asia/Kolkata</td></tr>\n",
       "<tr><td>H2O_data_parsing_timezone:</td>\n",
       "<td>UTC</td></tr>\n",
       "<tr><td>H2O_cluster_version:</td>\n",
       "<td>3.32.1.4</td></tr>\n",
       "<tr><td>H2O_cluster_version_age:</td>\n",
       "<td>23 days </td></tr>\n",
       "<tr><td>H2O_cluster_name:</td>\n",
       "<td>H2O_from_python_Admin_vbs6xn</td></tr>\n",
       "<tr><td>H2O_cluster_total_nodes:</td>\n",
       "<td>1</td></tr>\n",
       "<tr><td>H2O_cluster_free_memory:</td>\n",
       "<td>2.967 Gb</td></tr>\n",
       "<tr><td>H2O_cluster_total_cores:</td>\n",
       "<td>4</td></tr>\n",
       "<tr><td>H2O_cluster_allowed_cores:</td>\n",
       "<td>4</td></tr>\n",
       "<tr><td>H2O_cluster_status:</td>\n",
       "<td>locked, healthy</td></tr>\n",
       "<tr><td>H2O_connection_url:</td>\n",
       "<td>http://localhost:54321</td></tr>\n",
       "<tr><td>H2O_connection_proxy:</td>\n",
       "<td>{\"http\": null, \"https\": null}</td></tr>\n",
       "<tr><td>H2O_internal_security:</td>\n",
       "<td>False</td></tr>\n",
       "<tr><td>H2O_API_Extensions:</td>\n",
       "<td>Amazon S3, Algos, AutoML, Core V3, TargetEncoder, Core V4</td></tr>\n",
       "<tr><td>Python_version:</td>\n",
       "<td>3.8.8 final</td></tr></table></div>"
      ],
      "text/plain": [
       "--------------------------  ---------------------------------------------------------\n",
       "H2O_cluster_uptime:         24 secs\n",
       "H2O_cluster_timezone:       Asia/Kolkata\n",
       "H2O_data_parsing_timezone:  UTC\n",
       "H2O_cluster_version:        3.32.1.4\n",
       "H2O_cluster_version_age:    23 days\n",
       "H2O_cluster_name:           H2O_from_python_Admin_vbs6xn\n",
       "H2O_cluster_total_nodes:    1\n",
       "H2O_cluster_free_memory:    2.967 Gb\n",
       "H2O_cluster_total_cores:    4\n",
       "H2O_cluster_allowed_cores:  4\n",
       "H2O_cluster_status:         locked, healthy\n",
       "H2O_connection_url:         http://localhost:54321\n",
       "H2O_connection_proxy:       {\"http\": null, \"https\": null}\n",
       "H2O_internal_security:      False\n",
       "H2O_API_Extensions:         Amazon S3, Algos, AutoML, Core V3, TargetEncoder, Core V4\n",
       "Python_version:             3.8.8 final\n",
       "--------------------------  ---------------------------------------------------------"
      ]
     },
     "metadata": {},
     "output_type": "display_data"
    }
   ],
   "source": [
    "h2o.init()"
   ]
  },
  {
   "cell_type": "code",
   "execution_count": 12,
   "id": "4983312e",
   "metadata": {},
   "outputs": [
    {
     "name": "stdout",
     "output_type": "stream",
     "text": [
      "Parse progress: |█████████████████████████████████████████████████████████| 100%\n"
     ]
    },
    {
     "data": {
      "text/plain": [
       "['subjid',\n",
       " 'age',\n",
       " 'menopause',\n",
       " 'tumor-size',\n",
       " 'inv-nodes',\n",
       " 'node-caps',\n",
       " 'deg-malig',\n",
       " 'breast',\n",
       " 'breast-quad',\n",
       " 'irradiat',\n",
       " 'Class']"
      ]
     },
     "execution_count": 12,
     "metadata": {},
     "output_type": "execute_result"
    }
   ],
   "source": [
    "df = h2o.import_file(\"C:/Users/User/Desktop/cdac advance modules/pml lecture/class  practice/program_dataset/cancer.csv\")\n",
    "#df.summary()\n",
    "df.col_names"
   ]
  },
  {
   "cell_type": "code",
   "execution_count": 13,
   "id": "8ea08268",
   "metadata": {},
   "outputs": [],
   "source": [
    "y_col = 'Class'\n",
    "x_cols = df.col_names[:10]"
   ]
  },
  {
   "cell_type": "code",
   "execution_count": 14,
   "id": "29cbb3f6",
   "metadata": {},
   "outputs": [
    {
     "name": "stdout",
     "output_type": "stream",
     "text": [
      "Response = Class\n",
      "Pridictors = ['subjid', 'age', 'menopause', 'tumor-size', 'inv-nodes', 'node-caps', 'deg-malig', 'breast', 'breast-quad', 'irradiat']\n"
     ]
    }
   ],
   "source": [
    "#x.remove(y)\n",
    "#x.remove('ID')\n",
    "print(\"Response = \" + y_col)\n",
    "print(\"Pridictors = \" + str(x_cols))"
   ]
  },
  {
   "cell_type": "code",
   "execution_count": 15,
   "id": "6b604720",
   "metadata": {},
   "outputs": [
    {
     "data": {
      "text/plain": [
       "[['no-recurrence-events', 'recurrence-events']]"
      ]
     },
     "execution_count": 15,
     "metadata": {},
     "output_type": "execute_result"
    }
   ],
   "source": [
    "df['Class'] = df['Class'].asfactor()\n",
    "df['Class'].levels()"
   ]
  },
  {
   "cell_type": "code",
   "execution_count": 16,
   "id": "fb464b75",
   "metadata": {},
   "outputs": [
    {
     "name": "stdout",
     "output_type": "stream",
     "text": [
      "(286, 11)\n",
      "(229, 11)\n",
      "(57, 11)\n"
     ]
    }
   ],
   "source": [
    "train,  test = df.split_frame(ratios=[.8],seed=2021)\n",
    "print(df.shape)\n",
    "print(train.shape)\n",
    "#print(valid.shape)\n",
    "print(test.shape)"
   ]
  },
  {
   "cell_type": "code",
   "execution_count": 17,
   "id": "ef6f7331",
   "metadata": {},
   "outputs": [
    {
     "name": "stdout",
     "output_type": "stream",
     "text": [
      "glm Model Build progress: |███████████████████████████████████████████████| 100%\n"
     ]
    }
   ],
   "source": [
    "from h2o.estimators.glm import H2OGeneralizedLinearEstimator\n",
    "glm_logistic = H2OGeneralizedLinearEstimator(family = \"binomial\")\n",
    "glm_logistic.train(x=x_cols, y=y_col, training_frame=train, \n",
    "                   validation_frame=test, model_id=\"glm_logistic\")"
   ]
  },
  {
   "cell_type": "code",
   "execution_count": 18,
   "id": "4ef58a33",
   "metadata": {},
   "outputs": [
    {
     "name": "stdout",
     "output_type": "stream",
     "text": [
      "glm prediction progress: |████████████████████████████████████████████████| 100%\n"
     ]
    }
   ],
   "source": [
    "y_pred = glm_logistic.predict(test_data=test)\n",
    "\n",
    "y_pred_df = y_pred.as_data_frame()"
   ]
  },
  {
   "cell_type": "code",
   "execution_count": 19,
   "id": "4c5d58c6",
   "metadata": {},
   "outputs": [
    {
     "name": "stdout",
     "output_type": "stream",
     "text": [
      "0.7426470588235294\n",
      "\n",
      "Confusion Matrix (Act/Pred) for max f1 @ threshold = 0.4035952903357966: \n"
     ]
    },
    {
     "data": {
      "text/html": [
       "<div>\n",
       "<style scoped>\n",
       "    .dataframe tbody tr th:only-of-type {\n",
       "        vertical-align: middle;\n",
       "    }\n",
       "\n",
       "    .dataframe tbody tr th {\n",
       "        vertical-align: top;\n",
       "    }\n",
       "\n",
       "    .dataframe thead th {\n",
       "        text-align: right;\n",
       "    }\n",
       "</style>\n",
       "<table border=\"1\" class=\"dataframe\">\n",
       "  <thead>\n",
       "    <tr style=\"text-align: right;\">\n",
       "      <th></th>\n",
       "      <th></th>\n",
       "      <th>no-recurrence-events</th>\n",
       "      <th>recurrence-events</th>\n",
       "      <th>Error</th>\n",
       "      <th>Rate</th>\n",
       "    </tr>\n",
       "  </thead>\n",
       "  <tbody>\n",
       "    <tr>\n",
       "      <th>0</th>\n",
       "      <td>no-recurrence-events</td>\n",
       "      <td>135.0</td>\n",
       "      <td>26.0</td>\n",
       "      <td>0.1615</td>\n",
       "      <td>(26.0/161.0)</td>\n",
       "    </tr>\n",
       "    <tr>\n",
       "      <th>1</th>\n",
       "      <td>recurrence-events</td>\n",
       "      <td>29.0</td>\n",
       "      <td>39.0</td>\n",
       "      <td>0.4265</td>\n",
       "      <td>(29.0/68.0)</td>\n",
       "    </tr>\n",
       "    <tr>\n",
       "      <th>2</th>\n",
       "      <td>Total</td>\n",
       "      <td>164.0</td>\n",
       "      <td>65.0</td>\n",
       "      <td>0.2402</td>\n",
       "      <td>(55.0/229.0)</td>\n",
       "    </tr>\n",
       "  </tbody>\n",
       "</table>\n",
       "</div>"
      ],
      "text/plain": [
       "                         no-recurrence-events  recurrence-events   Error  \\\n",
       "0  no-recurrence-events                 135.0               26.0  0.1615   \n",
       "1     recurrence-events                  29.0               39.0  0.4265   \n",
       "2                 Total                 164.0               65.0  0.2402   \n",
       "\n",
       "            Rate  \n",
       "0   (26.0/161.0)  \n",
       "1    (29.0/68.0)  \n",
       "2   (55.0/229.0)  "
      ]
     },
     "metadata": {},
     "output_type": "display_data"
    },
    {
     "name": "stdout",
     "output_type": "stream",
     "text": [
      "\n"
     ]
    }
   ],
   "source": [
    "print(glm_logistic.auc() )\n",
    "print(glm_logistic.confusion_matrix() )"
   ]
  },
  {
   "cell_type": "code",
   "execution_count": null,
   "id": "4212512b",
   "metadata": {},
   "outputs": [],
   "source": []
  }
 ],
 "metadata": {
  "kernelspec": {
   "display_name": "Python 3",
   "language": "python",
   "name": "python3"
  },
  "language_info": {
   "codemirror_mode": {
    "name": "ipython",
    "version": 3
   },
   "file_extension": ".py",
   "mimetype": "text/x-python",
   "name": "python",
   "nbconvert_exporter": "python",
   "pygments_lexer": "ipython3",
   "version": "3.8.8"
  }
 },
 "nbformat": 4,
 "nbformat_minor": 5
}
